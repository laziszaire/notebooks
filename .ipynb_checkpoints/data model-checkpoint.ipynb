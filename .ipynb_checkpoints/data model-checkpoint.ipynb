{
 "cells": [
  {
   "cell_type": "markdown",
   "metadata": {},
   "source": [
    "# identity"
   ]
  },
  {
   "cell_type": "code",
   "execution_count": 18,
   "metadata": {
    "scrolled": true
   },
   "outputs": [
    {
     "name": "stdout",
     "output_type": "stream",
     "text": [
      "before value change Id is 2459813986888, after is 2459813986888\n",
      "Id is not change of list object when value change.\n",
      " Id is object's address in memory.\n"
     ]
    }
   ],
   "source": [
    "a = [1]\n",
    "_id0 = id(a)\n",
    "a[0] = 2\n",
    "_id1 = id(a)\n",
    "print('before value change Id is {}, after is {}'.format(_id0, _id1))\n",
    "if _id0 == _id1:\n",
    "    print('Id is not change of list object when value change.\\n Id is object\\'s address in memory.')"
   ]
  },
  {
   "cell_type": "markdown",
   "metadata": {},
   "source": [
    "# type\n",
    "- operations\n",
    "- domain: possible value"
   ]
  },
  {
   "cell_type": "code",
   "execution_count": 22,
   "metadata": {},
   "outputs": [
    {
     "name": "stdout",
     "output_type": "stream",
     "text": [
      "type of a is <class 'list'>\n"
     ]
    }
   ],
   "source": [
    "print('type of a is {}'.format(type(a)))"
   ]
  },
  {
   "cell_type": "markdown",
   "metadata": {},
   "source": [
    "- mapping\n",
    "- callable\n",
    "- module"
   ]
  },
  {
   "cell_type": "markdown",
   "metadata": {},
   "source": [
    "# value"
   ]
  },
  {
   "cell_type": "code",
   "execution_count": null,
   "metadata": {
    "collapsed": true
   },
   "outputs": [],
   "source": []
  }
 ],
 "metadata": {
  "kernelspec": {
   "display_name": "Python 3",
   "language": "python",
   "name": "python3"
  },
  "language_info": {
   "codemirror_mode": {
    "name": "ipython",
    "version": 3
   },
   "file_extension": ".py",
   "mimetype": "text/x-python",
   "name": "python",
   "nbconvert_exporter": "python",
   "pygments_lexer": "ipython3",
   "version": "3.6.1"
  }
 },
 "nbformat": 4,
 "nbformat_minor": 2
}
