{
 "cells": [
  {
   "cell_type": "code",
   "execution_count": 1,
   "metadata": {
    "collapsed": true
   },
   "outputs": [],
   "source": [
    "from pyteomics import mzxml, auxiliary\n",
    "import matplotlib.pyplot as plt\n",
    "import pandas as pd\n",
    "import glob\n",
    "import os\n",
    "import numpy as np\n",
    "from Chemometrics.import_common import *\n",
    "%matplotlib inline"
   ]
  },
  {
   "cell_type": "code",
   "execution_count": 2,
   "metadata": {
    "collapsed": true
   },
   "outputs": [],
   "source": [
    "import tensorflow as tf"
   ]
  },
  {
   "cell_type": "markdown",
   "metadata": {},
   "source": [
    "## build the graph"
   ]
  },
  {
   "cell_type": "code",
   "execution_count": 12,
   "metadata": {},
   "outputs": [],
   "source": [
    "#config\n",
    "n_window_features = 1\n",
    "embed_size = 10\n",
    "h_size =3\n",
    "n_classes = 3\n",
    "learning_rate = .01\n",
    "\n",
    "g = tf.Graph()\n",
    "with g.as_default():\n",
    "    \n",
    "    _init_xavier = tf.zeros_initializer() #tf.contrib.layers.xavier_initializer()#\n",
    "    _init_zero = tf.zeros_initializer()\n",
    "    pretrained_embeddings = tf.constant(np.random.randn(10,10), dtype=tf.float32)\n",
    "    \n",
    "    #parameters, variables\n",
    "    with tf.variable_scope('scope0') as scope:\n",
    "        W = tf.get_variable('W', shape=(n_window_features*embed_size, h_size), \n",
    "                            dtype=tf.float32,\n",
    "                            initializer=_init_xavier)\n",
    "        #升级tensorflow可以运行_W\n",
    "#       _W = tf.get_variable('W', shape=(n_window_features*embed_size, h_size), \n",
    "#                             dtype=tf.float32,\n",
    "#                             initializer=_init_xavier)\n",
    "        b1 = tf.get_variable('b1', shape=(h_size,),\n",
    "                           dtype=tf.float32,\n",
    "                           initializer=_init_zero)\n",
    "        U = tf.get_variable('U', shape=(h_size, n_classes), \n",
    "                            dtype=tf.float32, initializer=_init_xavier)\n",
    "        b2 = tf.get_variable('b2', shape=(n_classes,),\n",
    "                             dtype=tf.float32, initializer=_init_zero)\n",
    "        E = tf.get_variable('pretrained_embeddings', initializer=pretrained_embeddings)\n",
    "\n",
    "    \n",
    "    #prediction, the model process\n",
    "    x = tf.placeholder(dtype=tf.int32, shape=(None, n_window_features), name='input')\n",
    "    _e = tf.nn.embedding_lookup(E, x)\n",
    "    e = tf.reshape(_e, (-1, n_window_features*embed_size))\n",
    "    h = tf.nn.relu(tf.matmul(e, W) + b1)\n",
    "    dropout = tf.placeholder(tf.float32, name='dropout')\n",
    "    h_drop = tf.nn.dropout(h, dropout)\n",
    "    logits = tf.matmul(h_drop, U) + b2\n",
    "    labels = tf.placeholder(tf.int32, shape=(None,), name='labels')\n",
    "    loss = tf.nn.sparse_softmax_cross_entropy_with_logits(labels=labels,\n",
    "                                                         logits=logits)\n",
    "    loss = tf.reduce_mean(loss)\n",
    "    \n",
    "    #train\n",
    "    optimizer = tf.train.AdamOptimizer(learning_rate)\n",
    "    train_op = optimizer.minimize(loss)\n",
    "    \n",
    "    #init variables\n",
    "    init_op = tf.global_variables_initializer()"
   ]
  },
  {
   "cell_type": "markdown",
   "metadata": {},
   "source": [
    "## run the graphical model"
   ]
  },
  {
   "cell_type": "code",
   "execution_count": 4,
   "metadata": {},
   "outputs": [
    {
     "name": "stdout",
     "output_type": "stream",
     "text": [
      "1.0986123\n",
      "1.09199\n",
      "1.0854584\n",
      "1.0790185\n",
      "1.0726708\n",
      "1.0664163\n",
      "1.0602554\n",
      "1.0541887\n",
      "1.0482168\n",
      "1.0423398\n",
      "1.0365579\n",
      "1.0308712\n",
      "1.0252798\n",
      "1.0197836\n",
      "1.0143824\n",
      "1.0090759\n",
      "1.0038637\n",
      "0.99874544\n"
     ]
    }
   ],
   "source": [
    "#run\n",
    "feed_dict = {x: [[1],[2],[3],[4]],\n",
    "         labels: [1,1,2,2],\n",
    "         dropout: .5}\n",
    "with tf.Session(graph=g) as sess:\n",
    "    sess.run(init_op)\n",
    "    while True:\n",
    "        _, _loss = sess.run([train_op, loss], feed_dict=feed_dict)\n",
    "        print(_loss)\n",
    "        if _loss < 1:\n",
    "            break"
   ]
  }
 ],
 "metadata": {
  "kernelspec": {
   "display_name": "Python 3",
   "language": "python",
   "name": "python3"
  },
  "language_info": {
   "codemirror_mode": {
    "name": "ipython",
    "version": 3
   },
   "file_extension": ".py",
   "mimetype": "text/x-python",
   "name": "python",
   "nbconvert_exporter": "python",
   "pygments_lexer": "ipython3",
   "version": "3.6.6"
  }
 },
 "nbformat": 4,
 "nbformat_minor": 2
}
