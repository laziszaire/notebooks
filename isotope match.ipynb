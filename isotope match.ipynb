{
 "cells": [
  {
   "cell_type": "code",
   "execution_count": 2,
   "metadata": {
    "collapsed": true
   },
   "outputs": [],
   "source": [
    "from Chemometrics.import_common import *\n",
    "from Chemometrics.mass_utils import iso_dist\n",
    "%matplotlib inline\n",
    "plt.rcParams['font.sans-serif'] = 'SimHei'"
   ]
  },
  {
   "cell_type": "code",
   "execution_count": 3,
   "metadata": {},
   "outputs": [],
   "source": [
    "import os\n",
    "datafile = 'data050.mzXML'"
   ]
  },
  {
   "cell_type": "code",
   "execution_count": 50,
   "metadata": {
    "collapsed": true
   },
   "outputs": [],
   "source": [
    "from pyteomics import mzxml, auxiliary, mass"
   ]
  },
  {
   "cell_type": "code",
   "execution_count": 54,
   "metadata": {},
   "outputs": [
    {
     "data": {
      "text/plain": [
       "Composition({'C': 8, 'H': 3, 'O': 3})"
      ]
     },
     "execution_count": 54,
     "metadata": {},
     "output_type": "execute_result"
    }
   ],
   "source": [
    "mass.Composition('C2H1O') + mass.Composition('C3H1O')*2"
   ]
  },
  {
   "cell_type": "code",
   "execution_count": 5,
   "metadata": {},
   "outputs": [],
   "source": [
    "def updateROIs(ROIs, spectrum, intensity_threshold=500, _threshold=.0001):\n",
    "    \"\"\"\n",
    "    centwave\n",
    "    \"\"\"\n",
    "    if not ROIs:\n",
    "        ROIs = {'m/z': spectrum['m/z array'].copy(), \n",
    "                'intensity': spectrum['intensity array'].copy()}\n",
    "        return ROIs\n",
    "    contin_ = [False for mz in ROIs['m/z']] #todo\n",
    "    new_mz =[True for mz in spectrum['m/z array']]\n",
    "    for mz_id in range(len(ROIs['m/z'])):\n",
    "        for _mz1_id in range(len(spectrum['m/z array'])):\n",
    "            _mz = ROIs['m/z'][mz_id]\n",
    "            _int = ROIs['intensity'][mz_id]\n",
    "            _mz1 = spectrum['m/z array'][_mz1_id]\n",
    "            _int1 = spectrum['intensity array'][_mz1_id]\n",
    "            if (abs(_mz - _mz1) < _threshold) and new_mz[_mz1_id]:\n",
    "                intens_ = _int1 + _int\n",
    "                ROIs['intensity'][mz_id] = intens_\n",
    "                w = _int1/intens_\n",
    "                ROIs['m/z'][mz_id] = w*_int1 + (1-w)*_int\n",
    "                contin_[mz_id] = True\n",
    "                new_mz[_mz1_id] = False\n",
    "    _strong = ROIs['intensity'] > intensity_threshold\n",
    "    _keep = np.logical_or(contin_, _strong)\n",
    "    ROIs['m/z'] = np.hstack([ROIs['m/z'][_keep], spectrum['m/z array'][new_mz]])\n",
    "    ROIs['intensity'] = np.hstack([ROIs['intensity'][_keep], spectrum['intensity array'][new_mz]])\n",
    "    return ROIs"
   ]
  },
  {
   "cell_type": "code",
   "execution_count": 49,
   "metadata": {},
   "outputs": [
    {
     "name": "stdout",
     "output_type": "stream",
     "text": [
      "Wall time: 21min 15s\n"
     ]
    }
   ],
   "source": [
    "%%time\n",
    "ROIs = {}\n",
    "with mzxml.read(datafile) as reader:\n",
    "    for spectrum in reader:\n",
    "        if spectrum['msLevel'] == 1:\n",
    "            ROIs = updateROIs(ROIs, spectrum)"
   ]
  }
 ],
 "metadata": {
  "kernelspec": {
   "display_name": "Python 3",
   "language": "python",
   "name": "python3"
  },
  "language_info": {
   "codemirror_mode": {
    "name": "ipython",
    "version": 3
   },
   "file_extension": ".py",
   "mimetype": "text/x-python",
   "name": "python",
   "nbconvert_exporter": "python",
   "pygments_lexer": "ipython3",
   "version": "3.6.1"
  }
 },
 "nbformat": 4,
 "nbformat_minor": 2
}
