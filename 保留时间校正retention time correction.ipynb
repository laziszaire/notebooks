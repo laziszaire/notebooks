{
 "cells": [
  {
   "cell_type": "code",
   "execution_count": 55,
   "metadata": {},
   "outputs": [],
   "source": [
    "import xarray\n",
    "import xarray as xr\n",
    "from Chemometrics.import_common import *\n",
    "%matplotlib inline"
   ]
  },
  {
   "cell_type": "code",
   "execution_count": 226,
   "metadata": {},
   "outputs": [],
   "source": [
    "def get_peaks(file):\n",
    "    # 获取netcdf中各峰信息\n",
    "    \n",
    "    ds = xr.open_dataset(file)\n",
    "    peaks = [ds[var] for var in ds.data_vars if ds[var].dims==('peak_number',)]\n",
    "    _df = xr.merge(peaks).to_dataframe()\n",
    "    to_drop = ['peak_start_detection_code',\n",
    "               'peak_stop_detection_code',\n",
    "               'manually_reintegrated_peaks',\n",
    "              'peak_start_time',\n",
    "                 'peak_end_time',\n",
    "                 'baseline_start_time',\n",
    "                 'baseline_stop_time',\n",
    "                 'peak_area',\n",
    "                 'peak_height',\n",
    "                 'peak_area_percent',\n",
    "                 'peak_height_percent',\n",
    "                 'peak_area_square_root',\n",
    "                 'baseline_stop_value',\n",
    "                 'migration_time']\n",
    "    df = _df.drop(to_drop, axis=1)\n",
    "    return df"
   ]
  },
  {
   "cell_type": "code",
   "execution_count": 224,
   "metadata": {
    "collapsed": true
   },
   "outputs": [],
   "source": [
    "import glob"
   ]
  },
  {
   "cell_type": "code",
   "execution_count": 227,
   "metadata": {},
   "outputs": [],
   "source": [
    "files = glob.glob('./data/data-典型区分酒样/GC-data-V2-20180120.AIA/*.cdf')\n",
    "peaks = [get_peaks(file) for file in files]"
   ]
  },
  {
   "cell_type": "code",
   "execution_count": 228,
   "metadata": {},
   "outputs": [],
   "source": [
    "ps0,ps1 = peaks[0],peaks[1]\n",
    "p11 = ps1.loc[1]"
   ]
  },
  {
   "cell_type": "code",
   "execution_count": 229,
   "metadata": {},
   "outputs": [
    {
     "data": {
      "text/plain": [
       "peak_number\n",
       "3     0.048546\n",
       "1     0.059019\n",
       "4     0.078624\n",
       "0     0.088270\n",
       "5     0.113547\n",
       "7     0.122271\n",
       "6     0.143301\n",
       "2     0.199729\n",
       "8     0.205914\n",
       "13    0.285535\n",
       "9     0.295758\n",
       "15    0.345429\n",
       "12    0.361740\n",
       "10    0.384455\n",
       "14    0.428712\n",
       "17    0.488929\n",
       "16    0.509641\n",
       "19    0.714790\n",
       "11    0.767622\n",
       "51    0.811498\n",
       "47    0.858355\n",
       "36    0.867603\n",
       "18    0.911059\n",
       "46    0.960842\n",
       "41    1.051903\n",
       "39    1.055699\n",
       "22    1.116932\n",
       "58    1.132582\n",
       "55    1.166597\n",
       "57    1.178604\n",
       "37    1.192482\n",
       "21    1.224637\n",
       "42    1.249025\n",
       "20    1.268126\n",
       "48    1.316504\n",
       "24    1.322317\n",
       "26    1.436550\n",
       "54    1.451604\n",
       "34    1.468345\n",
       "35    1.514726\n",
       "27    1.544764\n",
       "28    1.621179\n",
       "49    1.635201\n",
       "50    1.658167\n",
       "38    1.660803\n",
       "44    1.672590\n",
       "52    1.694270\n",
       "29    1.715605\n",
       "45    1.748839\n",
       "40    1.827127\n",
       "25    1.827556\n",
       "33    1.866816\n",
       "30    2.080425\n",
       "31    2.101362\n",
       "53    2.120581\n",
       "56    2.189309\n",
       "32    2.322154\n",
       "43    2.463038\n",
       "23    3.901691\n",
       "dtype: float32"
      ]
     },
     "execution_count": 229,
     "metadata": {},
     "output_type": "execute_result"
    }
   ],
   "source": [
    "((ps0.loc[1]/ps1-1)**2).sum(axis=1).sort_values()"
   ]
  },
  {
   "cell_type": "code",
   "execution_count": 247,
   "metadata": {},
   "outputs": [
    {
     "data": {
      "text/plain": [
       "(peak_retention_time     737.353577\n",
       " peak_width                1.857719\n",
       " peak_asymmetry            1.558417\n",
       " baseline_start_value      3.720483\n",
       " Name: 8, dtype: float32, peak_retention_time     836.910950\n",
       " peak_width                2.829083\n",
       " peak_asymmetry            1.247230\n",
       " baseline_start_value      3.183123\n",
       " Name: 8, dtype: float32)"
      ]
     },
     "execution_count": 247,
     "metadata": {},
     "output_type": "execute_result"
    }
   ],
   "source": [
    "ps0.loc[8],ps1.loc[8]"
   ]
  },
  {
   "cell_type": "code",
   "execution_count": 249,
   "metadata": {},
   "outputs": [
    {
     "data": {
      "text/plain": [
       "[(0.21446537971496582, 0, 0),\n",
       " (0.297052264213562, 1, 1),\n",
       " (0.12613797187805176, 2, 2),\n",
       " (0.12864422798156738, 3, 3),\n",
       " (0.07571572065353394, 4, 4),\n",
       " (0.29796653985977173, 5, 5),\n",
       " (0.2985681891441345, 6, 6),\n",
       " (0.16260164976119995, 7, 7),\n",
       " (1.3564571738243103, 8, 8),\n",
       " (0.14062410593032837, 9, 8),\n",
       " (0.1259908676147461, 10, 8),\n",
       " (0.10113978385925293, 11, 10),\n",
       " (0.06545060873031616, 12, 11),\n",
       " (0.26271820068359375, 13, 12),\n",
       " (0.24694955348968506, 14, 13),\n",
       " (0.20267468690872192, 15, 14),\n",
       " (0.06297677755355835, 16, 15),\n",
       " (0.27911096811294556, 17, 17),\n",
       " (0.18786609172821045, 18, 17),\n",
       " (0.1332722306251526, 19, 18),\n",
       " (0.1433820128440857, 20, 19),\n",
       " (0.4585524797439575, 21, 20),\n",
       " (0.09728682041168213, 22, 21),\n",
       " (0.2591487169265747, 23, 22),\n",
       " (0.2442120909690857, 24, 23),\n",
       " (0.2242199182510376, 25, 24),\n",
       " (0.10804051160812378, 26, 24),\n",
       " (0.2573772668838501, 27, 24),\n",
       " (0.2691463232040405, 28, 24),\n",
       " (0.13452225923538208, 29, 27),\n",
       " (0.2135244607925415, 30, 28),\n",
       " (0.1617719531059265, 31, 29),\n",
       " (0.24895447492599487, 32, 29),\n",
       " (0.41346365213394165, 33, 36),\n",
       " (0.4375388026237488, 34, 33),\n",
       " (0.2973203659057617, 35, 34),\n",
       " (0.24997568130493164, 36, 34),\n",
       " (0.10400718450546265, 37, 35),\n",
       " (0.4500401020050049, 38, 36),\n",
       " (0.14103859663009644, 39, 37),\n",
       " (0.1287737488746643, 40, 38),\n",
       " (0.14113497734069824, 41, 39),\n",
       " (0.17590957880020142, 42, 40),\n",
       " (0.3520820736885071, 43, 41),\n",
       " (0.2203141450881958, 44, 42),\n",
       " (0.18961858749389648, 45, 44),\n",
       " (0.29279768466949463, 46, 44),\n",
       " (0.2588391900062561, 47, 45),\n",
       " (0.275459885597229, 48, 46),\n",
       " (0.2857503890991211, 49, 48),\n",
       " (0.23004883527755737, 50, 49),\n",
       " (0.41124409437179565, 51, 50),\n",
       " (0.16286033391952515, 52, 52),\n",
       " (0.3650687336921692, 53, 50),\n",
       " (0.15390056371688843, 54, 54),\n",
       " (0.4915310740470886, 55, 55),\n",
       " (0.23557990789413452, 56, 55),\n",
       " (0.16382962465286255, 57, 56),\n",
       " (0.2703966498374939, 58, 57)]"
      ]
     },
     "execution_count": 249,
     "metadata": {},
     "output_type": "execute_result"
    }
   ],
   "source": [
    "w = [3,1,1,1] #what are the fucking weights?\n",
    "[((abs(ps0.loc[i]/ps1-1)).dot([5,1,1,1]).min(),i,(abs(ps0.loc[i]/ps1-1)).dot([5,1,1,1]).idxmin())for i in range(len(ps0))]"
   ]
  },
  {
   "cell_type": "code",
   "execution_count": 179,
   "metadata": {},
   "outputs": [
    {
     "data": {
      "text/plain": [
       "peak_retention_time     2251.886963\n",
       "peak_width                 1.903203\n",
       "peak_height                1.424932\n",
       "peak_asymmetry             1.139033\n",
       "baseline_start_value       4.554455\n",
       "Name: 58, dtype: float32"
      ]
     },
     "execution_count": 179,
     "metadata": {},
     "output_type": "execute_result"
    }
   ],
   "source": [
    "ps0.iloc[-1]"
   ]
  },
  {
   "cell_type": "code",
   "execution_count": 211,
   "metadata": {},
   "outputs": [
    {
     "data": {
      "text/html": [
       "<div>\n",
       "<style>\n",
       "    .dataframe thead tr:only-child th {\n",
       "        text-align: right;\n",
       "    }\n",
       "\n",
       "    .dataframe thead th {\n",
       "        text-align: left;\n",
       "    }\n",
       "\n",
       "    .dataframe tbody tr th {\n",
       "        vertical-align: top;\n",
       "    }\n",
       "</style>\n",
       "<table border=\"1\" class=\"dataframe\">\n",
       "  <thead>\n",
       "    <tr style=\"text-align: right;\">\n",
       "      <th></th>\n",
       "      <th>peak_retention_time</th>\n",
       "      <th>peak_width</th>\n",
       "      <th>peak_height</th>\n",
       "      <th>peak_asymmetry</th>\n",
       "      <th>baseline_start_value</th>\n",
       "    </tr>\n",
       "  </thead>\n",
       "  <tbody>\n",
       "    <tr>\n",
       "      <th>peak_retention_time</th>\n",
       "      <td>1.000000</td>\n",
       "      <td>-0.606166</td>\n",
       "      <td>-0.080743</td>\n",
       "      <td>0.209054</td>\n",
       "      <td>0.808170</td>\n",
       "    </tr>\n",
       "    <tr>\n",
       "      <th>peak_width</th>\n",
       "      <td>-0.606166</td>\n",
       "      <td>1.000000</td>\n",
       "      <td>-0.061752</td>\n",
       "      <td>-0.018245</td>\n",
       "      <td>-0.246329</td>\n",
       "    </tr>\n",
       "    <tr>\n",
       "      <th>peak_height</th>\n",
       "      <td>-0.080743</td>\n",
       "      <td>-0.061752</td>\n",
       "      <td>1.000000</td>\n",
       "      <td>-0.049248</td>\n",
       "      <td>-0.112936</td>\n",
       "    </tr>\n",
       "    <tr>\n",
       "      <th>peak_asymmetry</th>\n",
       "      <td>0.209054</td>\n",
       "      <td>-0.018245</td>\n",
       "      <td>-0.049248</td>\n",
       "      <td>1.000000</td>\n",
       "      <td>0.053670</td>\n",
       "    </tr>\n",
       "    <tr>\n",
       "      <th>baseline_start_value</th>\n",
       "      <td>0.808170</td>\n",
       "      <td>-0.246329</td>\n",
       "      <td>-0.112936</td>\n",
       "      <td>0.053670</td>\n",
       "      <td>1.000000</td>\n",
       "    </tr>\n",
       "  </tbody>\n",
       "</table>\n",
       "</div>"
      ],
      "text/plain": [
       "                      peak_retention_time  peak_width  peak_height  \\\n",
       "peak_retention_time              1.000000   -0.606166    -0.080743   \n",
       "peak_width                      -0.606166    1.000000    -0.061752   \n",
       "peak_height                     -0.080743   -0.061752     1.000000   \n",
       "peak_asymmetry                   0.209054   -0.018245    -0.049248   \n",
       "baseline_start_value             0.808170   -0.246329    -0.112936   \n",
       "\n",
       "                      peak_asymmetry  baseline_start_value  \n",
       "peak_retention_time         0.209054              0.808170  \n",
       "peak_width                 -0.018245             -0.246329  \n",
       "peak_height                -0.049248             -0.112936  \n",
       "peak_asymmetry              1.000000              0.053670  \n",
       "baseline_start_value        0.053670              1.000000  "
      ]
     },
     "execution_count": 211,
     "metadata": {},
     "output_type": "execute_result"
    }
   ],
   "source": [
    "#相关系数\n",
    "ps1.corr()"
   ]
  },
  {
   "cell_type": "code",
   "execution_count": 212,
   "metadata": {},
   "outputs": [
    {
     "data": {
      "text/plain": [
       "<matplotlib.axes._subplots.AxesSubplot at 0x203133c65c0>"
      ]
     },
     "execution_count": 212,
     "metadata": {},
     "output_type": "execute_result"
    },
    {
     "data": {
      "image/png": "[encoded data removed]",
      "text/plain": [
       "<matplotlib.figure.Figure at 0x203131a6128>"
      ]
     },
     "metadata": {},
     "output_type": "display_data"
    }
   ],
   "source": [
    "sns.heatmap(ps1.corr().abs())\n",
    "#基线高度和保留时间相关性较大0.8\n",
    "#峰宽和保留时间相关性也较大0.6"
   ]
  }
 ],
 "metadata": {
  "kernelspec": {
   "display_name": "Python 3",
   "language": "python",
   "name": "python3"
  },
  "language_info": {
   "codemirror_mode": {
    "name": "ipython",
    "version": 3
   },
   "file_extension": ".py",
   "mimetype": "text/x-python",
   "name": "python",
   "nbconvert_exporter": "python",
   "pygments_lexer": "ipython3",
   "version": "3.6.1"
  }
 },
 "nbformat": 4,
 "nbformat_minor": 2
}
