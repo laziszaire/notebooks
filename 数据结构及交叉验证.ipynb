{
 "cells": [
  {
   "cell_type": "code",
   "execution_count": 1,
   "metadata": {
    "collapsed": true
   },
   "outputs": [],
   "source": [
    "from Chemometrics.import_common import *\n",
    "%matplotlib inline\n",
    "plt.rcParams['font.sans-serif'] = 'SimHei'"
   ]
  },
  {
   "cell_type": "code",
   "execution_count": 2,
   "metadata": {
    "collapsed": true
   },
   "outputs": [],
   "source": [
    "y = pload('./data/零部件气味等级.p')"
   ]
  },
  {
   "cell_type": "code",
   "execution_count": 3,
   "metadata": {
    "collapsed": true
   },
   "outputs": [],
   "source": [
    "np.random.seed(1)"
   ]
  },
  {
   "cell_type": "code",
   "execution_count": 4,
   "metadata": {
    "collapsed": true
   },
   "outputs": [],
   "source": [
    "def rename(a):\n",
    "    #drop 序号\n",
    "    a = a.loc[:,['英文名称', 'CAS 编号', '中文名称','浓度值（ug/m3）']]\n",
    "    #暂不考虑 缺失值\n",
    "    a.columns=['EnglishName','CAS','Name','Concentration']\n",
    "    return a\n",
    "def complete_columns(a):\n",
    "    #随机生成数据不全compound\n",
    "    \n",
    "    _columns = ['MatchingDegree','Odt','Npt','SmellType','Pleasantness']\n",
    "    _a = pd.DataFrame(np.random.randn(len(a),len(_columns)),index=a.index,columns=_columns)\n",
    "    _a.loc[:,'MatchingDegree'] = int(2)\n",
    "    _a.loc[:,'MatchingDegree'] = _a.loc[:,'MatchingDegree'].apply(int)\n",
    "    carpart = pd.concat([a,_a],axis=1)\n",
    "    carpart.drop_duplicates('CAS',inplace=True)\n",
    "    return carpart"
   ]
  },
  {
   "cell_type": "code",
   "execution_count": 5,
   "metadata": {
    "collapsed": true
   },
   "outputs": [],
   "source": [
    "def gen_TrainData(y,dfs):\n",
    "    TrainData = []\n",
    "    CarPartCompound = {}\n",
    "    for name in y.index:\n",
    "        a =  dfs[name]\n",
    "        CarPartCompound['Name'] = name\n",
    "        CarPartCompound['Id'] = np.random.randint(1000)\n",
    "        CarPartCompound['Level'] = y.loc[name]\n",
    "        CarPartCompound['Compounds'] = a.to_dict(orient='records')\n",
    "        TrainData.append(CarPartCompound.copy())\n",
    "    return TrainData\n",
    "def gen_TrainParams(y,dfs,do_fmt=True):\n",
    "    TrainParams = {}\n",
    "    representative = gen_representative(dfs)\n",
    "    cp = common_pattern(representative)\n",
    "    TrainParams['CommonPattern'] = cp.to_dict(orient='records')\n",
    "    if do_fmt:  # 是否对齐,默认对齐\n",
    "        dfs = fmt(cp, dfs)\n",
    "    TrainParams['TrainData'] = gen_TrainData(y,dfs)\n",
    "    TrainParams['Preprocessing'] = '针对变量均一化'\n",
    "    TrainParams['CrossValidation'] = 'K重交叉验证'\n",
    "    TrainParams['CrossValidationK'] =  np.random.randint(10,20)\n",
    "    TrainParams['NumberSimulation'] =  np.random.randint(2,10)\n",
    "    TrainParams['NumberLatentVariable'] =  np.random.randint(1,10)\n",
    "    TrainParams['NumberNeighbors'] =  np.random.randint(1,10)\n",
    "    TrainParams['ModelName'] =  'model'+str(np.random.randint(10))\n",
    "    return TrainParams\n",
    "\n",
    "def carpart(y,dfs):\n",
    "    TrainData = []\n",
    "    CarPartCompound = {}\n",
    "    for name in y.index:\n",
    "        a =  dfs[name]\n",
    "        CarPartCompound['Id'] = np.random.randint(1000)\n",
    "        CarPartCompound['Name'] = name\n",
    "        CarPartCompound['Compounds'] = a.to_dict(orient='records')\n",
    "        TrainData.append(CarPartCompound)\n",
    "    return TrainData"
   ]
  },
  {
   "cell_type": "code",
   "execution_count": 6,
   "metadata": {
    "collapsed": true
   },
   "outputs": [],
   "source": [
    "def common_pattern(rps):\n",
    "    a = pd.concat(rps).reset_index(drop=True)\n",
    "    cp = a.drop_duplicates('CAS').set_index('CAS')\n",
    "    v = a.groupby('CAS').mean().Concentration\n",
    "    cp.Concentration = v\n",
    "    return cp"
   ]
  },
  {
   "cell_type": "code",
   "execution_count": 7,
   "metadata": {
    "collapsed": true
   },
   "outputs": [],
   "source": [
    "def gen_representative(dfs):\n",
    "    np.random.seed(1)\n",
    "    representative = {key:dfs[key]for key in np.random.choice(list(dfs),min(len(dfs),5))}\n",
    "    return representative"
   ]
  },
  {
   "cell_type": "code",
   "execution_count": 8,
   "metadata": {
    "collapsed": true
   },
   "outputs": [],
   "source": [
    "#CAS号对齐\n",
    "def fmt(cp,dfs):\n",
    "    # rename\n",
    "    a = {a:fill_withcp(dfs[a].drop_duplicates('CAS').set_index('CAS').loc[cp.index,:].fillna(0).reset_index(),cp) for a in dfs}\n",
    "    return a\n",
    "def fill_withcp(a,cp):\n",
    "    cols = ['Concentration','Pleasantness']\n",
    "    for c in cols:\n",
    "        if c not in cols:\n",
    "            a.loc[:,c] = cp.loc[:,c]\n",
    "    return a"
   ]
  },
  {
   "cell_type": "code",
   "execution_count": 9,
   "metadata": {
    "collapsed": true
   },
   "outputs": [],
   "source": [
    "#生成对齐后的数据"
   ]
  },
  {
   "cell_type": "code",
   "execution_count": 10,
   "metadata": {
    "collapsed": true,
    "scrolled": true
   },
   "outputs": [],
   "source": [
    "dfs = pd.read_excel('./中汽中心/data/15种零部件全谱数据.xlsx',sheetname=None)\n",
    "dfs = dfs.copy()\n",
    "dfs = {a:complete_columns(rename(dfs[a])) for a in dfs}\n",
    "TrainParams = gen_TrainParams(y,dfs,False)"
   ]
  },
  {
   "cell_type": "code",
   "execution_count": 11,
   "metadata": {},
   "outputs": [
    {
     "data": {
      "text/plain": [
       "(50, 9)"
      ]
     },
     "execution_count": 11,
     "metadata": {},
     "output_type": "execute_result"
    }
   ],
   "source": [
    "#读取格式化后的数据\n",
    "import json\n",
    "TrainParams = gen_TrainParams(y,dfs,False)\n",
    "pd.read_json(json.dumps(TrainParams['TrainData'][1]['Compounds']),orient='records').shape\n",
    "#共有模式会删掉化合物"
   ]
  },
  {
   "cell_type": "code",
   "execution_count": 12,
   "metadata": {},
   "outputs": [
    {
     "data": {
      "text/plain": [
       "35"
      ]
     },
     "execution_count": 12,
     "metadata": {},
     "output_type": "execute_result"
    }
   ],
   "source": [
    "TrainParams = gen_TrainParams(y,dfs,True)\n",
    "sum(pd.read_json(json.dumps(TrainParams['TrainData'][1]['Compounds']),orient='records').Concentration>0)"
   ]
  },
  {
   "cell_type": "code",
   "execution_count": 13,
   "metadata": {
    "collapsed": true
   },
   "outputs": [],
   "source": [
    "import dicttoxml\n",
    "xml = dicttoxml.dicttoxml(TrainParams,attr_type=False)"
   ]
  },
  {
   "cell_type": "code",
   "execution_count": 14,
   "metadata": {
    "collapsed": true
   },
   "outputs": [],
   "source": [
    "with open(\"./data/car_trainparams.xml\",'w',encoding='utf8') as f:\n",
    "    f.write(xml.decode('utf-8'))"
   ]
  },
  {
   "cell_type": "code",
   "execution_count": 15,
   "metadata": {
    "collapsed": true
   },
   "outputs": [],
   "source": [
    "try: TrainParams.pop('CommonPattern',None)\n",
    "except: pass"
   ]
  },
  {
   "cell_type": "code",
   "execution_count": 16,
   "metadata": {
    "collapsed": true
   },
   "outputs": [],
   "source": [
    "with open('./data/trainparams.json','w',encoding='utf8') as f:\n",
    "    json.dump(TrainParams,f,ensure_ascii=False)"
   ]
  },
  {
   "cell_type": "code",
   "execution_count": 17,
   "metadata": {
    "collapsed": true
   },
   "outputs": [],
   "source": [
    "yada_api = {'TrainData':TrainParams['TrainData']}"
   ]
  },
  {
   "cell_type": "code",
   "execution_count": 18,
   "metadata": {},
   "outputs": [
    {
     "data": {
      "text/plain": [
       "dict_keys(['Name', 'Id', 'Level', 'Compounds'])"
      ]
     },
     "execution_count": 18,
     "metadata": {},
     "output_type": "execute_result"
    }
   ],
   "source": [
    "yada_api['TrainData'][0].keys()"
   ]
  },
  {
   "cell_type": "code",
   "execution_count": 19,
   "metadata": {
    "collapsed": true
   },
   "outputs": [],
   "source": [
    "from copy import deepcopy\n",
    "traindata  = []\n",
    "keys = ['CAS', 'MatchingDegree', 'Name', 'Concentration', 'Odt', 'Npt', 'CharacterAndSmell', 'HealthHazard', 'TouchLimit', 'MainFunction', 'EnglishName']\n",
    "for i in range(15):\n",
    "    carpartcmp = {k: yada_api['TrainData'][i][k] for k in yada_api['TrainData'][i] if k != 'Name'}\n",
    "    carpartcmp['Compounds'] = [{k:(cmp[k] if (k in cmp.keys()) & (k not in ['EnglishName','Name']) else k) for k in keys} for cmp in carpartcmp['Compounds'] if cmp['Name'] !=0]\n",
    "    carpartcmp['Id'] = str(i)\n",
    "    traindata.append({'Id':str(np.random.randint(1,1000)),'Name':yada_api['TrainData'][i]['Name'],'CarPartCompound':[deepcopy(carpartcmp)]})"
   ]
  },
  {
   "cell_type": "code",
   "execution_count": 20,
   "metadata": {
    "collapsed": true
   },
   "outputs": [],
   "source": [
    "TrainParams = {'TrainData': traindata}"
   ]
  },
  {
   "cell_type": "code",
   "execution_count": 21,
   "metadata": {
    "collapsed": true
   },
   "outputs": [],
   "source": [
    "# context manager\n",
    "with open('parts_15_data_long.json','w',encoding='utf-8') as f:\n",
    "    json.dump(TrainParams,f,ensure_ascii=False)"
   ]
  },
  {
   "cell_type": "code",
   "execution_count": 22,
   "metadata": {},
   "outputs": [
    {
     "data": {
      "text/plain": [
       "dict_keys(['Id', 'Name', 'CarPartCompound'])"
      ]
     },
     "execution_count": 22,
     "metadata": {},
     "output_type": "execute_result"
    }
   ],
   "source": [
    "TrainParams['TrainData'][0].keys()"
   ]
  },
  {
   "cell_type": "code",
   "execution_count": 23,
   "metadata": {},
   "outputs": [
    {
     "data": {
      "text/plain": [
       "dict_keys(['Id', 'Level', 'Compounds'])"
      ]
     },
     "execution_count": 23,
     "metadata": {},
     "output_type": "execute_result"
    }
   ],
   "source": [
    "carpartcmp.keys()"
   ]
  },
  {
   "cell_type": "code",
   "execution_count": 24,
   "metadata": {},
   "outputs": [
    {
     "data": {
      "text/plain": [
       "dict_keys(['CAS', 'MatchingDegree', 'Name', 'Concentration', 'Odt', 'Npt', 'CharacterAndSmell', 'HealthHazard', 'TouchLimit', 'MainFunction', 'EnglishName'])"
      ]
     },
     "execution_count": 24,
     "metadata": {},
     "output_type": "execute_result"
    }
   ],
   "source": [
    "carpartcmp['Compounds'][0].keys()"
   ]
  },
  {
   "cell_type": "code",
   "execution_count": 26,
   "metadata": {},
   "outputs": [
    {
     "data": {
      "text/plain": [
       "dict"
      ]
     },
     "execution_count": 26,
     "metadata": {},
     "output_type": "execute_result"
    }
   ],
   "source": []
  }
 ],
 "metadata": {
  "kernelspec": {
   "display_name": "Python 3",
   "language": "python",
   "name": "python3"
  },
  "language_info": {
   "codemirror_mode": {
    "name": "ipython",
    "version": 3
   },
   "file_extension": ".py",
   "mimetype": "text/x-python",
   "name": "python",
   "nbconvert_exporter": "python",
   "pygments_lexer": "ipython3",
   "version": "3.6.1"
  }
 },
 "nbformat": 4,
 "nbformat_minor": 2
}
