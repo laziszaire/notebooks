{
 "cells": [
  {
   "cell_type": "code",
   "execution_count": 1,
   "metadata": {},
   "outputs": [
    {
     "name": "stderr",
     "output_type": "stream",
     "text": [
      "C:\\ProgramData\\Anaconda3\\lib\\site-packages\\statsmodels\\compat\\pandas.py:56: FutureWarning: The pandas.core.datetools module is deprecated and will be removed in a future version. Please use the pandas.tseries module instead.\n",
      "  from pandas.core import datetools\n"
     ]
    }
   ],
   "source": [
    "import pandas as pd\n",
    "import numpy as np\n",
    "import matplotlib.pyplot as plt\n",
    "import statsmodels.api as sm\n",
    "import os\n",
    "import warnings\n",
    "warnings.filterwarnings('ignore')\n",
    "%matplotlib inline"
   ]
  },
  {
   "cell_type": "code",
   "execution_count": 2,
   "metadata": {
    "collapsed": true
   },
   "outputs": [],
   "source": [
    "# MultiIndex\n",
    "# df = pd.read_excel('./给林师兄/part1.xlsx',sheet_name=0,index_col =[0,1])\n",
    "#pivot\n",
    "# unstack\n",
    "#去掉QC样本\n",
    "df = pd.read_excel('./给林师兄/part1.xlsx',sheet_name=0)\n",
    "mask = df.loc[:,'Sample Name'].isin(['QC'])\n",
    "df1 = df.loc[~mask]\n",
    "dfQC = df.loc[mask]\n",
    "sample_name = df.loc[:,'Sample Name']\n",
    "Component_name = df.loc[:,'Component Name']\n",
    "QCgrp = ((sample_name =='QC')& (Component_name==1)).cumsum()\n",
    "#bug 如果没有component 1\n",
    "df.loc[:,'QCgrp'] = QCgrp"
   ]
  },
  {
   "cell_type": "code",
   "execution_count": 3,
   "metadata": {},
   "outputs": [
    {
     "data": {
      "text/html": [
       "<div>\n",
       "<style>\n",
       "    .dataframe thead tr:only-child th {\n",
       "        text-align: right;\n",
       "    }\n",
       "\n",
       "    .dataframe thead th {\n",
       "        text-align: left;\n",
       "    }\n",
       "\n",
       "    .dataframe tbody tr th {\n",
       "        vertical-align: top;\n",
       "    }\n",
       "</style>\n",
       "<table border=\"1\" class=\"dataframe\">\n",
       "  <thead>\n",
       "    <tr style=\"text-align: right;\">\n",
       "      <th></th>\n",
       "      <th>Sample Name</th>\n",
       "      <th>Component Name</th>\n",
       "      <th>Area</th>\n",
       "      <th>QCgrp</th>\n",
       "    </tr>\n",
       "  </thead>\n",
       "  <tbody>\n",
       "    <tr>\n",
       "      <th>0</th>\n",
       "      <td>QC</td>\n",
       "      <td>1</td>\n",
       "      <td>2468.0</td>\n",
       "      <td>1</td>\n",
       "    </tr>\n",
       "    <tr>\n",
       "      <th>1</th>\n",
       "      <td>QC</td>\n",
       "      <td>2</td>\n",
       "      <td>131000.0</td>\n",
       "      <td>1</td>\n",
       "    </tr>\n",
       "    <tr>\n",
       "      <th>2</th>\n",
       "      <td>QC</td>\n",
       "      <td>3</td>\n",
       "      <td>5057.0</td>\n",
       "      <td>1</td>\n",
       "    </tr>\n",
       "    <tr>\n",
       "      <th>3</th>\n",
       "      <td>QC</td>\n",
       "      <td>4</td>\n",
       "      <td>6648.0</td>\n",
       "      <td>1</td>\n",
       "    </tr>\n",
       "    <tr>\n",
       "      <th>4</th>\n",
       "      <td>QC</td>\n",
       "      <td>5</td>\n",
       "      <td>3875000.0</td>\n",
       "      <td>1</td>\n",
       "    </tr>\n",
       "  </tbody>\n",
       "</table>\n",
       "</div>"
      ],
      "text/plain": [
       "  Sample Name Component Name       Area  QCgrp\n",
       "0          QC              1     2468.0      1\n",
       "1          QC              2   131000.0      1\n",
       "2          QC              3     5057.0      1\n",
       "3          QC              4     6648.0      1\n",
       "4          QC              5  3875000.0      1"
      ]
     },
     "execution_count": 3,
     "metadata": {},
     "output_type": "execute_result"
    }
   ],
   "source": [
    "df.head()"
   ]
  },
  {
   "cell_type": "code",
   "execution_count": 4,
   "metadata": {},
   "outputs": [
    {
     "data": {
      "text/html": [
       "<div>\n",
       "<style>\n",
       "    .dataframe thead tr:only-child th {\n",
       "        text-align: right;\n",
       "    }\n",
       "\n",
       "    .dataframe thead th {\n",
       "        text-align: left;\n",
       "    }\n",
       "\n",
       "    .dataframe tbody tr th {\n",
       "        vertical-align: top;\n",
       "    }\n",
       "</style>\n",
       "<table border=\"1\" class=\"dataframe\">\n",
       "  <thead>\n",
       "    <tr style=\"text-align: right;\">\n",
       "      <th>Component Name</th>\n",
       "      <th>1</th>\n",
       "      <th>2</th>\n",
       "      <th>3</th>\n",
       "      <th>4</th>\n",
       "      <th>5</th>\n",
       "      <th>6</th>\n",
       "      <th>7</th>\n",
       "      <th>8</th>\n",
       "      <th>9</th>\n",
       "      <th>10</th>\n",
       "      <th>...</th>\n",
       "      <th>230</th>\n",
       "      <th>56?</th>\n",
       "      <th>IS-1</th>\n",
       "      <th>IS-2</th>\n",
       "      <th>IS-3</th>\n",
       "      <th>IS-4</th>\n",
       "      <th>IS-5</th>\n",
       "      <th>IS-6</th>\n",
       "      <th>IS-7</th>\n",
       "      <th>IS-8</th>\n",
       "    </tr>\n",
       "    <tr>\n",
       "      <th>Sample Name</th>\n",
       "      <th></th>\n",
       "      <th></th>\n",
       "      <th></th>\n",
       "      <th></th>\n",
       "      <th></th>\n",
       "      <th></th>\n",
       "      <th></th>\n",
       "      <th></th>\n",
       "      <th></th>\n",
       "      <th></th>\n",
       "      <th></th>\n",
       "      <th></th>\n",
       "      <th></th>\n",
       "      <th></th>\n",
       "      <th></th>\n",
       "      <th></th>\n",
       "      <th></th>\n",
       "      <th></th>\n",
       "      <th></th>\n",
       "      <th></th>\n",
       "      <th></th>\n",
       "    </tr>\n",
       "  </thead>\n",
       "  <tbody>\n",
       "    <tr>\n",
       "      <th>ST-P</th>\n",
       "      <td>535.5</td>\n",
       "      <td>83640.0</td>\n",
       "      <td>4603.0</td>\n",
       "      <td>5672.0</td>\n",
       "      <td>2731000.0</td>\n",
       "      <td>11800000.0</td>\n",
       "      <td>14030000.0</td>\n",
       "      <td>3116000.0</td>\n",
       "      <td>22300.0</td>\n",
       "      <td>288800.0</td>\n",
       "      <td>...</td>\n",
       "      <td>217.0</td>\n",
       "      <td>5173.0</td>\n",
       "      <td>2503000.0</td>\n",
       "      <td>914800.0</td>\n",
       "      <td>2312.0</td>\n",
       "      <td>6563.0</td>\n",
       "      <td>2163000.0</td>\n",
       "      <td>173800.0</td>\n",
       "      <td>3323000.0</td>\n",
       "      <td>691300.0</td>\n",
       "    </tr>\n",
       "    <tr>\n",
       "      <th>QC</th>\n",
       "      <td>1582.0</td>\n",
       "      <td>63760.0</td>\n",
       "      <td>2620.0</td>\n",
       "      <td>2948.0</td>\n",
       "      <td>2109000.0</td>\n",
       "      <td>8589000.0</td>\n",
       "      <td>10480000.0</td>\n",
       "      <td>2576000.0</td>\n",
       "      <td>13100.0</td>\n",
       "      <td>203500.0</td>\n",
       "      <td>...</td>\n",
       "      <td>731.8</td>\n",
       "      <td>2023.0</td>\n",
       "      <td>2046000.0</td>\n",
       "      <td>678900.0</td>\n",
       "      <td>8252.0</td>\n",
       "      <td>13520.0</td>\n",
       "      <td>1568000.0</td>\n",
       "      <td>144000.0</td>\n",
       "      <td>1092000.0</td>\n",
       "      <td>409500.0</td>\n",
       "    </tr>\n",
       "    <tr>\n",
       "      <th>QC</th>\n",
       "      <td>2468.0</td>\n",
       "      <td>131000.0</td>\n",
       "      <td>5057.0</td>\n",
       "      <td>6648.0</td>\n",
       "      <td>3875000.0</td>\n",
       "      <td>14550000.0</td>\n",
       "      <td>17930000.0</td>\n",
       "      <td>4608000.0</td>\n",
       "      <td>30710.0</td>\n",
       "      <td>389700.0</td>\n",
       "      <td>...</td>\n",
       "      <td>5342.0</td>\n",
       "      <td>NaN</td>\n",
       "      <td>3864000.0</td>\n",
       "      <td>1001000.0</td>\n",
       "      <td>13280.0</td>\n",
       "      <td>19100.0</td>\n",
       "      <td>2945000.0</td>\n",
       "      <td>296900.0</td>\n",
       "      <td>4557000.0</td>\n",
       "      <td>644100.0</td>\n",
       "    </tr>\n",
       "    <tr>\n",
       "      <th>QC</th>\n",
       "      <td>2698.0</td>\n",
       "      <td>184600.0</td>\n",
       "      <td>5780.0</td>\n",
       "      <td>5345.0</td>\n",
       "      <td>3591000.0</td>\n",
       "      <td>13470000.0</td>\n",
       "      <td>16530000.0</td>\n",
       "      <td>4548000.0</td>\n",
       "      <td>35430.0</td>\n",
       "      <td>351200.0</td>\n",
       "      <td>...</td>\n",
       "      <td>6340.0</td>\n",
       "      <td>2728.0</td>\n",
       "      <td>3550000.0</td>\n",
       "      <td>955800.0</td>\n",
       "      <td>12580.0</td>\n",
       "      <td>20390.0</td>\n",
       "      <td>2614000.0</td>\n",
       "      <td>214300.0</td>\n",
       "      <td>4283000.0</td>\n",
       "      <td>678000.0</td>\n",
       "    </tr>\n",
       "    <tr>\n",
       "      <th>QC</th>\n",
       "      <td>3272.0</td>\n",
       "      <td>186900.0</td>\n",
       "      <td>6138.0</td>\n",
       "      <td>5345.0</td>\n",
       "      <td>3649000.0</td>\n",
       "      <td>14470000.0</td>\n",
       "      <td>17590000.0</td>\n",
       "      <td>4420000.0</td>\n",
       "      <td>35290.0</td>\n",
       "      <td>371500.0</td>\n",
       "      <td>...</td>\n",
       "      <td>3775.0</td>\n",
       "      <td>4955.0</td>\n",
       "      <td>3402000.0</td>\n",
       "      <td>938500.0</td>\n",
       "      <td>12640.0</td>\n",
       "      <td>17170.0</td>\n",
       "      <td>2822000.0</td>\n",
       "      <td>224800.0</td>\n",
       "      <td>4755000.0</td>\n",
       "      <td>665500.0</td>\n",
       "    </tr>\n",
       "  </tbody>\n",
       "</table>\n",
       "<p>5 rows × 211 columns</p>\n",
       "</div>"
      ],
      "text/plain": [
       "Component Name       1         2       3       4          5           6  \\\n",
       "Sample Name                                                               \n",
       "ST-P             535.5   83640.0  4603.0  5672.0  2731000.0  11800000.0   \n",
       "QC              1582.0   63760.0  2620.0  2948.0  2109000.0   8589000.0   \n",
       "QC              2468.0  131000.0  5057.0  6648.0  3875000.0  14550000.0   \n",
       "QC              2698.0  184600.0  5780.0  5345.0  3591000.0  13470000.0   \n",
       "QC              3272.0  186900.0  6138.0  5345.0  3649000.0  14470000.0   \n",
       "\n",
       "Component Name           7          8        9        10    ...        230  \\\n",
       "Sample Name                                                 ...              \n",
       "ST-P            14030000.0  3116000.0  22300.0  288800.0    ...      217.0   \n",
       "QC              10480000.0  2576000.0  13100.0  203500.0    ...      731.8   \n",
       "QC              17930000.0  4608000.0  30710.0  389700.0    ...     5342.0   \n",
       "QC              16530000.0  4548000.0  35430.0  351200.0    ...     6340.0   \n",
       "QC              17590000.0  4420000.0  35290.0  371500.0    ...     3775.0   \n",
       "\n",
       "Component Name     56?       IS-1       IS-2     IS-3     IS-4       IS-5  \\\n",
       "Sample Name                                                                 \n",
       "ST-P            5173.0  2503000.0   914800.0   2312.0   6563.0  2163000.0   \n",
       "QC              2023.0  2046000.0   678900.0   8252.0  13520.0  1568000.0   \n",
       "QC                 NaN  3864000.0  1001000.0  13280.0  19100.0  2945000.0   \n",
       "QC              2728.0  3550000.0   955800.0  12580.0  20390.0  2614000.0   \n",
       "QC              4955.0  3402000.0   938500.0  12640.0  17170.0  2822000.0   \n",
       "\n",
       "Component Name      IS-6       IS-7      IS-8  \n",
       "Sample Name                                    \n",
       "ST-P            173800.0  3323000.0  691300.0  \n",
       "QC              144000.0  1092000.0  409500.0  \n",
       "QC              296900.0  4557000.0  644100.0  \n",
       "QC              214300.0  4283000.0  678000.0  \n",
       "QC              224800.0  4755000.0  665500.0  \n",
       "\n",
       "[5 rows x 211 columns]"
      ]
     },
     "execution_count": 4,
     "metadata": {},
     "output_type": "execute_result"
    }
   ],
   "source": [
    "a = df.set_index(['Sample Name','QCgrp','Component Name']).dropna().unstack('Component Name')\n",
    "a.columns = a.columns.droplevel(0)\n",
    "a.index = a.index.droplevel(1).map(str)\n",
    "a.sort_index(ascending=False).head()"
   ]
  },
  {
   "cell_type": "code",
   "execution_count": 44,
   "metadata": {
    "collapsed": true
   },
   "outputs": [],
   "source": [
    "from Chemometrics.import_common import *"
   ]
  },
  {
   "cell_type": "code",
   "execution_count": 46,
   "metadata": {
    "collapsed": true
   },
   "outputs": [],
   "source": [
    "psave(df,'QC_sample.p')"
   ]
  },
  {
   "cell_type": "markdown",
   "metadata": {},
   "source": [
    "- QC没有编号的区分  \n",
    "    容易bug"
   ]
  },
  {
   "cell_type": "markdown",
   "metadata": {},
   "source": [
    "# 数据校正"
   ]
  },
  {
   "cell_type": "code",
   "execution_count": 6,
   "metadata": {
    "collapsed": true
   },
   "outputs": [],
   "source": [
    "#校正峰面积\n",
    "#QC 校正\n",
    "# 自变量x 是时间还是进样编号?"
   ]
  },
  {
   "cell_type": "code",
   "execution_count": 26,
   "metadata": {
    "collapsed": true
   },
   "outputs": [],
   "source": [
    "a = df[df['Component Name']==1].reset_index(drop=True)"
   ]
  },
  {
   "cell_type": "code",
   "execution_count": 36,
   "metadata": {
    "collapsed": true
   },
   "outputs": [],
   "source": [
    "a = df[df['Component Name']==1].reset_index(drop=True)\n",
    "qc = a[a['Sample Name']=='QC']\n",
    "sample = a[a['Sample Name']!='QC']"
   ]
  },
  {
   "cell_type": "code",
   "execution_count": 42,
   "metadata": {},
   "outputs": [
    {
     "data": {
      "text/plain": [
       "<matplotlib.legend.Legend at 0x2b8b51ff550>"
      ]
     },
     "execution_count": 42,
     "metadata": {},
     "output_type": "execute_result"
    },
    {
     "data": {
      "image/png": "[encoded data removed]",
      "text/plain": [
       "<matplotlib.figure.Figure at 0x2b8b5186550>"
      ]
     },
     "metadata": {},
     "output_type": "display_data"
    }
   ],
   "source": [
    "plt.plot(qc.index,qc.Area,'o-',label='QC')\n",
    "plt.plot(sample.index,sample.Area,'o',label='Sample')\n",
    "plt.legend()"
   ]
  },
  {
   "cell_type": "markdown",
   "metadata": {},
   "source": [
    " ### Loess分段拟合"
   ]
  },
  {
   "cell_type": "code",
   "execution_count": null,
   "metadata": {
    "collapsed": true
   },
   "outputs": [],
   "source": []
  },
  {
   "cell_type": "markdown",
   "metadata": {},
   "source": [
    "# 拟合"
   ]
  },
  {
   "cell_type": "code",
   "execution_count": 46,
   "metadata": {},
   "outputs": [
    {
     "data": {
      "text/html": [
       "<div>\n",
       "<style>\n",
       "    .dataframe thead tr:only-child th {\n",
       "        text-align: right;\n",
       "    }\n",
       "\n",
       "    .dataframe thead th {\n",
       "        text-align: left;\n",
       "    }\n",
       "\n",
       "    .dataframe tbody tr th {\n",
       "        vertical-align: top;\n",
       "    }\n",
       "</style>\n",
       "<table border=\"1\" class=\"dataframe\">\n",
       "  <thead>\n",
       "    <tr style=\"text-align: right;\">\n",
       "      <th></th>\n",
       "      <th>Sample Name</th>\n",
       "      <th>Used</th>\n",
       "      <th>Component Name</th>\n",
       "      <th>Actual Concentration</th>\n",
       "      <th>Area Ratio</th>\n",
       "    </tr>\n",
       "  </thead>\n",
       "  <tbody>\n",
       "    <tr>\n",
       "      <th>4</th>\n",
       "      <td>0.5P</td>\n",
       "      <td>True</td>\n",
       "      <td>1</td>\n",
       "      <td>0.25</td>\n",
       "      <td>0.000</td>\n",
       "    </tr>\n",
       "    <tr>\n",
       "      <th>1963</th>\n",
       "      <td>0.5P</td>\n",
       "      <td>True</td>\n",
       "      <td>103</td>\n",
       "      <td>0.25</td>\n",
       "      <td>0.078</td>\n",
       "    </tr>\n",
       "    <tr>\n",
       "      <th>1962</th>\n",
       "      <td>0.5P</td>\n",
       "      <td>True</td>\n",
       "      <td>103</td>\n",
       "      <td>0.25</td>\n",
       "      <td>0.080</td>\n",
       "    </tr>\n",
       "    <tr>\n",
       "      <th>1941</th>\n",
       "      <td>0.5P</td>\n",
       "      <td>True</td>\n",
       "      <td>102</td>\n",
       "      <td>0.25</td>\n",
       "      <td>0.023</td>\n",
       "    </tr>\n",
       "    <tr>\n",
       "      <th>1984</th>\n",
       "      <td>0.5P</td>\n",
       "      <td>True</td>\n",
       "      <td>105</td>\n",
       "      <td>0.25</td>\n",
       "      <td>0.012</td>\n",
       "    </tr>\n",
       "  </tbody>\n",
       "</table>\n",
       "</div>"
      ],
      "text/plain": [
       "     Sample Name  Used Component Name  Actual Concentration  Area Ratio\n",
       "4           0.5P  True              1                  0.25       0.000\n",
       "1963        0.5P  True            103                  0.25       0.078\n",
       "1962        0.5P  True            103                  0.25       0.080\n",
       "1941        0.5P  True            102                  0.25       0.023\n",
       "1984        0.5P  True            105                  0.25       0.012"
      ]
     },
     "execution_count": 46,
     "metadata": {},
     "output_type": "execute_result"
    }
   ],
   "source": [
    "a = pd.read_excel('./给林师兄/part2.xlsx',sheet_name=1)\n",
    "# Area Ratio\n",
    "dfna = a.loc[a.Used].sort_values('Sample Name').dropna()\n",
    "dfna.head()"
   ]
  },
  {
   "cell_type": "markdown",
   "metadata": {},
   "source": [
    "##  Area Ratio \n",
    "缺失值"
   ]
  },
  {
   "cell_type": "code",
   "execution_count": 49,
   "metadata": {
    "collapsed": true
   },
   "outputs": [],
   "source": [
    "def olsfit(dfi):\n",
    "    #OLS拟合\n",
    "    # regression Area Ratio on Actual Concentration\n",
    "    # 用浓度对峰面积回归\n",
    "    x = dfi.loc[:,'Actual Concentration']\n",
    "    x = sm.add_constant(x)\n",
    "    y = dfi.loc[:,'Area Ratio']\n",
    "    results = sm.OLS(y,x).fit()# w = X'*y/(X'*X)\n",
    "    a = results.params\n",
    "    a.loc['rsquared'] = results.rsquared\n",
    "    a.loc['线性方程'] = 'y = {1}x+{0}'.format(*results.params.round(4))\n",
    "    a.loc['model'] = results\n",
    "    return a"
   ]
  },
  {
   "cell_type": "markdown",
   "metadata": {},
   "source": [
    "# x y 反了？"
   ]
  },
  {
   "cell_type": "code",
   "execution_count": 48,
   "metadata": {},
   "outputs": [
    {
     "data": {
      "text/html": [
       "<div>\n",
       "<style>\n",
       "    .dataframe thead tr:only-child th {\n",
       "        text-align: right;\n",
       "    }\n",
       "\n",
       "    .dataframe thead th {\n",
       "        text-align: left;\n",
       "    }\n",
       "\n",
       "    .dataframe tbody tr th {\n",
       "        vertical-align: top;\n",
       "    }\n",
       "</style>\n",
       "<table border=\"1\" class=\"dataframe\">\n",
       "  <thead>\n",
       "    <tr style=\"text-align: right;\">\n",
       "      <th></th>\n",
       "      <th>const</th>\n",
       "      <th>Actual Concentration</th>\n",
       "      <th>rsquared</th>\n",
       "      <th>线性方程</th>\n",
       "      <th>model</th>\n",
       "    </tr>\n",
       "    <tr>\n",
       "      <th>Component Name</th>\n",
       "      <th></th>\n",
       "      <th></th>\n",
       "      <th></th>\n",
       "      <th></th>\n",
       "      <th></th>\n",
       "    </tr>\n",
       "  </thead>\n",
       "  <tbody>\n",
       "    <tr>\n",
       "      <th>1</th>\n",
       "      <td>0.000108</td>\n",
       "      <td>0.001059</td>\n",
       "      <td>0.840830</td>\n",
       "      <td>y = 0.0011x+0.0001</td>\n",
       "      <td>&lt;statsmodels.regression.linear_model.Regressio...</td>\n",
       "    </tr>\n",
       "    <tr>\n",
       "      <th>2</th>\n",
       "      <td>0.007605</td>\n",
       "      <td>0.046809</td>\n",
       "      <td>0.977913</td>\n",
       "      <td>y = 0.0468x+0.0076</td>\n",
       "      <td>&lt;statsmodels.regression.linear_model.Regressio...</td>\n",
       "    </tr>\n",
       "    <tr>\n",
       "      <th>3</th>\n",
       "      <td>0.000489</td>\n",
       "      <td>0.001709</td>\n",
       "      <td>0.919868</td>\n",
       "      <td>y = 0.0017x+0.0005</td>\n",
       "      <td>&lt;statsmodels.regression.linear_model.Regressio...</td>\n",
       "    </tr>\n",
       "    <tr>\n",
       "      <th>4</th>\n",
       "      <td>0.001429</td>\n",
       "      <td>0.000847</td>\n",
       "      <td>0.912026</td>\n",
       "      <td>y = 0.0008x+0.0014</td>\n",
       "      <td>&lt;statsmodels.regression.linear_model.Regressio...</td>\n",
       "    </tr>\n",
       "    <tr>\n",
       "      <th>5</th>\n",
       "      <td>0.089932</td>\n",
       "      <td>1.248525</td>\n",
       "      <td>0.899965</td>\n",
       "      <td>y = 1.2485x+0.0899</td>\n",
       "      <td>&lt;statsmodels.regression.linear_model.Regressio...</td>\n",
       "    </tr>\n",
       "  </tbody>\n",
       "</table>\n",
       "</div>"
      ],
      "text/plain": [
       "                   const  Actual Concentration  rsquared                线性方程  \\\n",
       "Component Name                                                                 \n",
       "1               0.000108              0.001059  0.840830  y = 0.0011x+0.0001   \n",
       "2               0.007605              0.046809  0.977913  y = 0.0468x+0.0076   \n",
       "3               0.000489              0.001709  0.919868  y = 0.0017x+0.0005   \n",
       "4               0.001429              0.000847  0.912026  y = 0.0008x+0.0014   \n",
       "5               0.089932              1.248525  0.899965  y = 1.2485x+0.0899   \n",
       "\n",
       "                                                            model  \n",
       "Component Name                                                     \n",
       "1               <statsmodels.regression.linear_model.Regressio...  \n",
       "2               <statsmodels.regression.linear_model.Regressio...  \n",
       "3               <statsmodels.regression.linear_model.Regressio...  \n",
       "4               <statsmodels.regression.linear_model.Regressio...  \n",
       "5               <statsmodels.regression.linear_model.Regressio...  "
      ]
     },
     "execution_count": 48,
     "metadata": {},
     "output_type": "execute_result"
    }
   ],
   "source": [
    "res = dfna.drop(['Sample Name','Used'],axis=1).groupby('Component Name').apply(olsfit)\n",
    "res.head()"
   ]
  },
  {
   "cell_type": "markdown",
   "metadata": {},
   "source": [
    "#画图\n",
    "~~~\n",
    "mask = dfna.loc[:,'Component Name'] ==1\n",
    "dfi = dfna.loc[mask]\n",
    "from statsmodels.sandbox.regression.predstd import wls_prediction_std\n",
    "x = dfi.loc[:,'Actual Concentration']\n",
    "x = sm.add_constant(x)\n",
    "y = dfi.loc[:,'Area Ratio']\n",
    "results = sm.OLS(y,x).fit()\n",
    "prstd, iv_l, iv_u = wls_prediction_std(results)\n",
    "res = results\n",
    "fig, ax = plt.subplots(figsize=(8,6))\n",
    "x = dfi.loc[:,'Actual Concentration']\n",
    "y = results.predict()\n",
    "y_true = dfi.loc[:,'Area Ratio']\n",
    "ax.plot(x, y, 'o', label=\"data\")\n",
    "ax.plot(x, y_true, 'bo', label=\"True\")\n",
    "ax.plot(x, res.fittedvalues, 'r--.', label=\"OLS\")\n",
    "ax.plot(x, iv_u, 'r--')\n",
    "ax.plot(x, iv_l, 'r--')\n",
    "ax.legend(loc='best');\n",
    "~~~"
   ]
  },
  {
   "cell_type": "markdown",
   "metadata": {
    "collapsed": true
   },
   "source": [
    " predict"
   ]
  },
  {
   "cell_type": "code",
   "execution_count": 3,
   "metadata": {
    "collapsed": true
   },
   "outputs": [],
   "source": [
    "A = pd.read_excel('./给林师兄/part2.xlsx',sheet_name=1)"
   ]
  },
  {
   "cell_type": "markdown",
   "metadata": {},
   "source": [
    "# grouping"
   ]
  },
  {
   "cell_type": "markdown",
   "metadata": {},
   "source": [
    "GroupBy  \n",
    "    keys"
   ]
  },
  {
   "cell_type": "markdown",
   "metadata": {},
   "source": [
    "# keys\n",
    "    1. python function apply to axis\n",
    "    2. list or numpy array, the length as the selected axis\n",
    "    3. a dict or series mapping of {label:group name}\n",
    "    4. a dataframe objects. df.groupby(df['A']) --> df.groupby('A')\n",
    "    5. a list of any of the above things"
   ]
  },
  {
   "cell_type": "markdown",
   "metadata": {},
   "source": [
    "group keys is sorted. within group origin order is preserved \n",
    "speedup  \n",
    "pd.Grouper  \n",
    "groups. a dict{keys:index}  \n",
    "get_group  "
   ]
  },
  {
   "cell_type": "code",
   "execution_count": 25,
   "metadata": {},
   "outputs": [
    {
     "data": {
      "text/html": [
       "<div>\n",
       "<style>\n",
       "    .dataframe thead tr:only-child th {\n",
       "        text-align: right;\n",
       "    }\n",
       "\n",
       "    .dataframe thead th {\n",
       "        text-align: left;\n",
       "    }\n",
       "\n",
       "    .dataframe tbody tr th {\n",
       "        vertical-align: top;\n",
       "    }\n",
       "</style>\n",
       "<table border=\"1\" class=\"dataframe\">\n",
       "  <thead>\n",
       "    <tr style=\"text-align: right;\">\n",
       "      <th></th>\n",
       "      <th>Sample Name</th>\n",
       "      <th>Used</th>\n",
       "      <th>Component Name</th>\n",
       "      <th>Actual Concentration</th>\n",
       "      <th>Area Ratio</th>\n",
       "    </tr>\n",
       "  </thead>\n",
       "  <tbody>\n",
       "    <tr>\n",
       "      <th>0</th>\n",
       "      <td>0.1P</td>\n",
       "      <td>False</td>\n",
       "      <td>1</td>\n",
       "      <td>0.05</td>\n",
       "      <td>0.0</td>\n",
       "    </tr>\n",
       "    <tr>\n",
       "      <th>1</th>\n",
       "      <td>0.1P</td>\n",
       "      <td>False</td>\n",
       "      <td>1</td>\n",
       "      <td>0.05</td>\n",
       "      <td>0.0</td>\n",
       "    </tr>\n",
       "    <tr>\n",
       "      <th>2</th>\n",
       "      <td>0.25P</td>\n",
       "      <td>False</td>\n",
       "      <td>1</td>\n",
       "      <td>0.10</td>\n",
       "      <td>0.0</td>\n",
       "    </tr>\n",
       "    <tr>\n",
       "      <th>3</th>\n",
       "      <td>0.25P</td>\n",
       "      <td>False</td>\n",
       "      <td>1</td>\n",
       "      <td>0.10</td>\n",
       "      <td>0.0</td>\n",
       "    </tr>\n",
       "    <tr>\n",
       "      <th>4</th>\n",
       "      <td>0.5P</td>\n",
       "      <td>True</td>\n",
       "      <td>1</td>\n",
       "      <td>0.25</td>\n",
       "      <td>0.0</td>\n",
       "    </tr>\n",
       "  </tbody>\n",
       "</table>\n",
       "</div>"
      ],
      "text/plain": [
       "  Sample Name   Used Component Name  Actual Concentration  Area Ratio\n",
       "0        0.1P  False              1                  0.05         0.0\n",
       "1        0.1P  False              1                  0.05         0.0\n",
       "2       0.25P  False              1                  0.10         0.0\n",
       "3       0.25P  False              1                  0.10         0.0\n",
       "4        0.5P   True              1                  0.25         0.0"
      ]
     },
     "execution_count": 25,
     "metadata": {},
     "output_type": "execute_result"
    }
   ],
   "source": [
    "A.head()"
   ]
  },
  {
   "cell_type": "code",
   "execution_count": 24,
   "metadata": {
    "collapsed": true
   },
   "outputs": [],
   "source": [
    "grp = A.groupby('Sample Name',sort=False)"
   ]
  },
  {
   "cell_type": "markdown",
   "metadata": {},
   "source": [
    "# Aggregation\n",
    "- window\n",
    "- resample"
   ]
  },
  {
   "cell_type": "code",
   "execution_count": 38,
   "metadata": {},
   "outputs": [
    {
     "data": {
      "text/html": [
       "<div>\n",
       "<style>\n",
       "    .dataframe thead tr:only-child th {\n",
       "        text-align: right;\n",
       "    }\n",
       "\n",
       "    .dataframe thead th {\n",
       "        text-align: left;\n",
       "    }\n",
       "\n",
       "    .dataframe tbody tr th {\n",
       "        vertical-align: top;\n",
       "    }\n",
       "</style>\n",
       "<table border=\"1\" class=\"dataframe\">\n",
       "  <thead>\n",
       "    <tr>\n",
       "      <th></th>\n",
       "      <th colspan=\"2\" halign=\"left\">Used</th>\n",
       "      <th colspan=\"2\" halign=\"left\">Actual Concentration</th>\n",
       "      <th colspan=\"2\" halign=\"left\">Area Ratio</th>\n",
       "    </tr>\n",
       "    <tr>\n",
       "      <th></th>\n",
       "      <th>sum</th>\n",
       "      <th>mean</th>\n",
       "      <th>sum</th>\n",
       "      <th>mean</th>\n",
       "      <th>sum</th>\n",
       "      <th>mean</th>\n",
       "    </tr>\n",
       "    <tr>\n",
       "      <th>Sample Name</th>\n",
       "      <th></th>\n",
       "      <th></th>\n",
       "      <th></th>\n",
       "      <th></th>\n",
       "      <th></th>\n",
       "      <th></th>\n",
       "    </tr>\n",
       "  </thead>\n",
       "  <tbody>\n",
       "    <tr>\n",
       "      <th>0.1P</th>\n",
       "      <td>16.0</td>\n",
       "      <td>0.038095</td>\n",
       "      <td>36.2</td>\n",
       "      <td>0.08619</td>\n",
       "      <td>39.873</td>\n",
       "      <td>0.106045</td>\n",
       "    </tr>\n",
       "  </tbody>\n",
       "</table>\n",
       "</div>"
      ],
      "text/plain": [
       "             Used           Actual Concentration          Area Ratio          \n",
       "              sum      mean                  sum     mean        sum      mean\n",
       "Sample Name                                                                   \n",
       "0.1P         16.0  0.038095                 36.2  0.08619     39.873  0.106045"
      ]
     },
     "execution_count": 38,
     "metadata": {},
     "output_type": "execute_result"
    }
   ],
   "source": [
    "grp.agg([sum,np.mean]).head(1)"
   ]
  },
  {
   "cell_type": "code",
   "execution_count": 42,
   "metadata": {},
   "outputs": [
    {
     "data": {
      "text/html": [
       "<div>\n",
       "<style>\n",
       "    .dataframe thead tr:only-child th {\n",
       "        text-align: right;\n",
       "    }\n",
       "\n",
       "    .dataframe thead th {\n",
       "        text-align: left;\n",
       "    }\n",
       "\n",
       "    .dataframe tbody tr th {\n",
       "        vertical-align: top;\n",
       "    }\n",
       "</style>\n",
       "<table border=\"1\" class=\"dataframe\">\n",
       "  <thead>\n",
       "    <tr>\n",
       "      <th></th>\n",
       "      <th>Used</th>\n",
       "      <th colspan=\"2\" halign=\"left\">Actual Concentration</th>\n",
       "    </tr>\n",
       "    <tr>\n",
       "      <th></th>\n",
       "      <th>sum</th>\n",
       "      <th>mean</th>\n",
       "      <th>sum</th>\n",
       "    </tr>\n",
       "    <tr>\n",
       "      <th>Sample Name</th>\n",
       "      <th></th>\n",
       "      <th></th>\n",
       "      <th></th>\n",
       "    </tr>\n",
       "  </thead>\n",
       "  <tbody>\n",
       "    <tr>\n",
       "      <th>0.1P</th>\n",
       "      <td>16.0</td>\n",
       "      <td>0.08619</td>\n",
       "      <td>36.2</td>\n",
       "    </tr>\n",
       "  </tbody>\n",
       "</table>\n",
       "</div>"
      ],
      "text/plain": [
       "             Used Actual Concentration      \n",
       "              sum                 mean   sum\n",
       "Sample Name                                 \n",
       "0.1P         16.0              0.08619  36.2"
      ]
     },
     "execution_count": 42,
     "metadata": {},
     "output_type": "execute_result"
    }
   ],
   "source": [
    "#apply different functions to different columns\n",
    "grp.aggregate({'Used':sum,'Actual Concentration':[np.mean,sum]}).head(1)"
   ]
  },
  {
   "cell_type": "markdown",
   "metadata": {},
   "source": [
    "cython优化:sum,mean,std,sem"
   ]
  },
  {
   "cell_type": "markdown",
   "metadata": {},
   "source": [
    "# Transformation"
   ]
  },
  {
   "cell_type": "markdown",
   "metadata": {},
   "source": [
    "same size  \n",
    "- broadcastable  \n",
    "group chunk  \n",
    "zscore"
   ]
  },
  {
   "cell_type": "code",
   "execution_count": 49,
   "metadata": {},
   "outputs": [
    {
     "data": {
      "text/plain": [
       "<matplotlib.axes._subplots.AxesSubplot at 0x17906c8e240>"
      ]
     },
     "execution_count": 49,
     "metadata": {},
     "output_type": "execute_result"
    },
    {
     "data": {
      "image/png": "[encoded data removed]",
      "text/plain": [
       "<matplotlib.figure.Figure at 0x17906d90208>"
      ]
     },
     "metadata": {},
     "output_type": "display_data"
    }
   ],
   "source": [
    "zscore = lambda x:(x-x.mean())/x.std()\n",
    "grp.transform(zscore).plot()"
   ]
  },
  {
   "cell_type": "markdown",
   "metadata": {},
   "source": [
    "- rolling, expanding, resample"
   ]
  },
  {
   "cell_type": "markdown",
   "metadata": {},
   "source": [
    "- resample"
   ]
  },
  {
   "cell_type": "markdown",
   "metadata": {},
   "source": [
    "# Filtration "
   ]
  },
  {
   "cell_type": "markdown",
   "metadata": {},
   "source": [
    "dropna = False  \n",
    "groupby dispacth method"
   ]
  },
  {
   "cell_type": "markdown",
   "metadata": {},
   "source": [
    "# Dispatching to instance methods"
   ]
  },
  {
   "cell_type": "markdown",
   "metadata": {},
   "source": [
    "# Apply  \n",
    "flexible"
   ]
  },
  {
   "cell_type": "markdown",
   "metadata": {},
   "source": [
    "- nuisance\n",
    "- ordered factors\n",
    "- grouper function"
   ]
  },
  {
   "cell_type": "markdown",
   "metadata": {},
   "source": [
    "- Plotting"
   ]
  },
  {
   "cell_type": "markdown",
   "metadata": {},
   "source": [
    "- piping function calls\n",
    "- unstack\n",
    "- stack"
   ]
  }
 ],
 "metadata": {
  "kernelspec": {
   "display_name": "Python 3",
   "language": "python",
   "name": "python3"
  },
  "language_info": {
   "codemirror_mode": {
    "name": "ipython",
    "version": 3
   },
   "file_extension": ".py",
   "mimetype": "text/x-python",
   "name": "python",
   "nbconvert_exporter": "python",
   "pygments_lexer": "ipython3",
   "version": "3.6.1"
  }
 },
 "nbformat": 4,
 "nbformat_minor": 2
}
