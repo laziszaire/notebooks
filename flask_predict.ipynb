{
 "cells": [
  {
   "cell_type": "code",
   "execution_count": 4,
   "metadata": {
    "collapsed": true
   },
   "outputs": [],
   "source": [
    "from sklearn.datasets import load_iris\n",
    "import pandas as pd\n",
    "import requests\n",
    "import json"
   ]
  },
  {
   "cell_type": "markdown",
   "metadata": {},
   "source": [
    "---\n",
    "# train"
   ]
  },
  {
   "cell_type": "code",
   "execution_count": 14,
   "metadata": {},
   "outputs": [],
   "source": [
    "iris = load_iris()\n",
    "observations = pd.DataFrame(iris.data, columns=iris.feature_names)\n",
    "labels = pd.Series(iris.target)\n",
    "algorithm = 'KNeighborClassifier'\n",
    "model_name = 'test_flask_train_KNNmodel'"
   ]
  },
  {
   "cell_type": "code",
   "execution_count": 105,
   "metadata": {},
   "outputs": [
    {
     "data": {
      "text/plain": [
       "array([1, 1, 1, 1, 1, 2, 1, 1, 1, 1, 2, 1, 1, 1, 2, 2, 2, 1, 2, 2, 2, 2, 1,\n",
       "       2, 1, 1, 1, 2, 2, 1, 1, 2, 2, 2, 1, 1, 2, 1, 1, 1, 1, 1, 1, 2, 2, 1,\n",
       "       2, 1, 2, 1, 2, 2, 2, 2, 2, 2, 2, 1, 2, 2, 1, 2, 2, 2, 2, 2, 2, 2, 2,\n",
       "       2, 2, 2, 2, 2, 2, 2, 2, 2, 2, 2, 2, 2, 2, 2, 2, 2, 2, 2, 2, 2, 2, 2,\n",
       "       2, 1, 2, 2, 2, 2, 2, 2, 2, 2, 2, 2, 2, 2, 2, 2, 2, 2, 2, 2, 2, 2, 2,\n",
       "       2, 2, 2, 2, 2, 2, 2, 2, 2, 2, 2, 2, 2, 2, 2, 2, 2, 2, 2, 2, 2, 2, 2,\n",
       "       2, 2, 2, 2, 2, 2, 2, 2, 2, 2, 2, 2], dtype=int64)"
      ]
     },
     "execution_count": 105,
     "metadata": {},
     "output_type": "execute_result"
    }
   ],
   "source": [
    "# 调用API train\n",
    "header = {'Content-Type': 'application/json',\n",
    "                'Accept': 'application/json'}\n",
    "data = json.dumps({'observations':observations.to_json(orient='index'),\n",
    "            'labels':labels.to_json(orient='index'),\n",
    "            'model_name':model_name})\n",
    "\n",
    "response = requests.post(\"http://localhost:9999/train\",\n",
    "                     data=data,\n",
    "                     headers=header)\n",
    "pickle.loads(response.content).predict(observations)"
   ]
  },
  {
   "cell_type": "markdown",
   "metadata": {},
   "source": [
    "--- \n",
    "#  predict\n"
   ]
  },
  {
   "cell_type": "code",
   "execution_count": 131,
   "metadata": {},
   "outputs": [
    {
     "data": {
      "text/plain": [
       "0      1\n",
       "1      1\n",
       "10     2\n",
       "100    2\n",
       "101    2\n",
       "dtype: int64"
      ]
     },
     "execution_count": 131,
     "metadata": {},
     "output_type": "execute_result"
    }
   ],
   "source": [
    "# 调用API predict\n",
    "header = {'Content-Type': 'application/json',\n",
    "                'Accept': 'application/json'}\n",
    "data = pd.DataFrame(iris.data, columns=iris.feature_names)\\\n",
    "    .to_json(orient='index')\n",
    "response = requests.post(\"http://localhost:9999/predict\",\n",
    "                     data=data,\n",
    "                     headers=header)\n",
    "preds = pd.read_json(response.json()['predictions'], orient='index', typ='series')\n",
    "preds.head()"
   ]
  },
  {
   "cell_type": "code",
   "execution_count": 148,
   "metadata": {},
   "outputs": [],
   "source": [
    "level = list(map(lambda x: x['Level'], train_param['parts']))\n",
    "compounds = list(map(lambda x: x['Compounds'], train_param['parts']))"
   ]
  }
 ],
 "metadata": {
  "kernelspec": {
   "display_name": "Python 3",
   "language": "python",
   "name": "python3"
  },
  "language_info": {
   "codemirror_mode": {
    "name": "ipython",
    "version": 3
   },
   "file_extension": ".py",
   "mimetype": "text/x-python",
   "name": "python",
   "nbconvert_exporter": "python",
   "pygments_lexer": "ipython3",
   "version": "3.6.1"
  }
 },
 "nbformat": 4,
 "nbformat_minor": 2
}
