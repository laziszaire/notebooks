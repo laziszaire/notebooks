{
 "cells": [
  {
   "cell_type": "code",
   "execution_count": null,
   "metadata": {},
   "outputs": [],
   "source": []
  },
  {
   "cell_type": "code",
   "execution_count": 15,
   "metadata": {},
   "outputs": [],
   "source": [
    "from sklearn.datasets import make_blobs\n",
    "from sklearn.base import BaseEstimator, ClassifierMixin\n",
    "import numpy as np\n",
    "from sklearn.metrics import accuracy_score\n",
    "import matplotlib.pyplot as plt\n",
    "%matplotlib inline"
   ]
  },
  {
   "cell_type": "code",
   "execution_count": 14,
   "metadata": {},
   "outputs": [
    {
     "data": {
      "text/plain": [
       "<matplotlib.collections.PathCollection at 0x23b15e6d710>"
      ]
     },
     "execution_count": 14,
     "metadata": {},
     "output_type": "execute_result"
    },
    {
     "data": {
      "image/png": "[encoded data removed]",
      "text/plain": [
       "<matplotlib.figure.Figure at 0x23b15cdf4e0>"
      ]
     },
     "metadata": {},
     "output_type": "display_data"
    }
   ],
   "source": [
    "X,y = make_blobs(n_samples=50, n_features=2, centers=2, random_state=1)\n",
    "y[y==0] = -1\n",
    "plt.scatter(X[y==-1, 0], X[y==-1, 1])\n",
    "plt.scatter(X[y==1, 0], X[y==1, 1])"
   ]
  },
  {
   "cell_type": "code",
   "execution_count": null,
   "metadata": {},
   "outputs": [],
   "source": [
    "class linear_SVM(BaseEstimator, ClassifierMixin):\n",
    "    def __init__(self, penalty='l1', C=1.):\n",
    "        self.penalty = 'l1'\n",
    "        self.C = C\n",
    "        \n",
    "    def fit(self, X, y,, learning_rate=.01):\n",
    "        self.X_ = X\n",
    "        self.y_ = y\n",
    "        self.classes_ = np.unique(y)\n",
    "        self.lr = learning_rate\n",
    "        self.coef_ = np.random.randn(X.shape[1])\n",
    "        self.intercept_ = 1\n",
    "        self.isfitted = True\n",
    "    \n",
    "    def predict(self, X, y=None):\n",
    "        y_pred = np.sign(self.coef_.dot(X) + self.intercept_)\n",
    "        return y_pred\n",
    "    \n",
    "    def score(self, X, y_true):\n",
    "        y_pred = self.predict(X)\n",
    "        return accuracy_score(y_true, y_pred)\n",
    "    "
   ]
  }
 ],
 "metadata": {
  "kernelspec": {
   "display_name": "Python 3",
   "language": "python",
   "name": "python3"
  },
  "language_info": {
   "codemirror_mode": {
    "name": "ipython",
    "version": 3
   },
   "file_extension": ".py",
   "mimetype": "text/x-python",
   "name": "python",
   "nbconvert_exporter": "python",
   "pygments_lexer": "ipython3",
   "version": "3.6.0"
  }
 },
 "nbformat": 4,
 "nbformat_minor": 2
}
