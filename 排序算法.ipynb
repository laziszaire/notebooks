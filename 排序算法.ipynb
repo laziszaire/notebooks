{
 "cells": [
  {
   "cell_type": "markdown",
   "metadata": {},
   "source": [
    "# 排序/sort\n",
    "以升序为例"
   ]
  },
  {
   "cell_type": "markdown",
   "metadata": {},
   "source": [
    "## 数据"
   ]
  },
  {
   "cell_type": "code",
   "execution_count": 1,
   "metadata": {
    "collapsed": true
   },
   "outputs": [],
   "source": [
    "import numpy as np\n",
    "from numpy.random import shuffle"
   ]
  },
  {
   "cell_type": "code",
   "execution_count": 2,
   "metadata": {},
   "outputs": [],
   "source": [
    "def data(numel=5):\n",
    "    a = np.arange(numel)\n",
    "    shuffle(a)\n",
    "    return list(a)\n",
    "x = data(1e3)\n",
    "x[:10]\n",
    "def test_sorted(x):\n",
    "    assert np.all(np.diff(x) >= 0)"
   ]
  },
  {
   "cell_type": "markdown",
   "metadata": {},
   "source": [
    "## 冒泡法/bubble sort\n",
    "1. 找出最大的元素，并放在最后  \n",
    "  两两比较，如果前者比后者大，则将其交换位置\n",
    "2. 对剩余元素重复1步"
   ]
  },
  {
   "cell_type": "code",
   "execution_count": 3,
   "metadata": {
    "collapsed": true
   },
   "outputs": [],
   "source": [
    "def bubble_sort(x):\n",
    "    x = list(x)\n",
    "    _len = len(x)\n",
    "    for i in range(_len):\n",
    "        #print(x) #i为已经是排序好的最大的元素的个数\n",
    "        for j in range(_len-1-i): \n",
    "            if x[j] > x[j+1]:     #找出生于元素中最大的放在最后\n",
    "                x[j], x[j+1] = x[j+1], x[j]\n",
    "    return x"
   ]
  },
  {
   "cell_type": "code",
   "execution_count": 4,
   "metadata": {},
   "outputs": [
    {
     "name": "stdout",
     "output_type": "stream",
     "text": [
      "Wall time: 160 ms\n"
     ]
    }
   ],
   "source": [
    "%%time\n",
    "_ = bubble_sort(x)"
   ]
  },
  {
   "cell_type": "markdown",
   "metadata": {},
   "source": [
    "## 插入排序/Insertion Sort\n",
    "\n",
    "1. 排序好的部分+没排序好的部分\n",
    "2. 取第一个没排序的元素，从后向前和排序好的比较，如果排序的元素比没排序的元素大，则将其挪到下一个位置。当遇到第一个不大于它的元素时，将其插入到这个元素的后面"
   ]
  },
  {
   "cell_type": "code",
   "execution_count": 5,
   "metadata": {
    "collapsed": true
   },
   "outputs": [],
   "source": [
    "def insertion_sort(x):\n",
    "    x = list(x)\n",
    "    _len = len(x)\n",
    "    for i in range(1, _len):#i为没排序部分开始的序号\n",
    "        j = i               #j为待排序元素的序号\n",
    "        while j > 0 and (x[j]<x[j-1]):\n",
    "            x[j], x[j-1] = x[j-1], x[j]\n",
    "            j -= 1\n",
    "    return x"
   ]
  },
  {
   "cell_type": "code",
   "execution_count": 6,
   "metadata": {},
   "outputs": [
    {
     "name": "stdout",
     "output_type": "stream",
     "text": [
      "Wall time: 75.8 ms\n"
     ]
    }
   ],
   "source": [
    "%%time\n",
    "_ = insertion_sort(x)"
   ]
  },
  {
   "cell_type": "markdown",
   "metadata": {},
   "source": [
    "## 合并排序/Merge Sort\n",
    "怎么合并两个排序好的序列？  \n",
    "C += min(min(A),min(B))"
   ]
  },
  {
   "cell_type": "code",
   "execution_count": 7,
   "metadata": {
    "collapsed": true
   },
   "outputs": [],
   "source": [
    "def merge_sort(x):\n",
    "    x = list(x)\n",
    "    new_x = []\n",
    "    _len = len(x)\n",
    "    if _len == 1:\n",
    "        return x\n",
    "    mid = _len//2\n",
    "    left, right = x[:mid], x[mid:]\n",
    "    sleft, sright = merge_sort(left), merge_sort(right)\n",
    "    while (len(sleft) > 0) and (len(sright) > 0):\n",
    "        _min = sleft.pop(0) if sleft[0] < sright[0] else sright.pop(0)\n",
    "        new_x.append(_min)\n",
    "    new_x += sleft + sright\n",
    "    return new_x"
   ]
  },
  {
   "cell_type": "code",
   "execution_count": 8,
   "metadata": {},
   "outputs": [
    {
     "name": "stdout",
     "output_type": "stream",
     "text": [
      "Wall time: 9.98 ms\n"
     ]
    }
   ],
   "source": [
    "%%time\n",
    "_ = merge_sort(x)\n",
    "test_sorted(_)"
   ]
  },
  {
   "cell_type": "markdown",
   "metadata": {},
   "source": [
    "## 快速排序/Quick Sort"
   ]
  },
  {
   "cell_type": "markdown",
   "metadata": {},
   "source": [
    "怎么合并两个排序好的序列 + pivot中枢？  \n",
    "C = left + pivot + right"
   ]
  },
  {
   "cell_type": "code",
   "execution_count": 9,
   "metadata": {
    "collapsed": true
   },
   "outputs": [],
   "source": [
    "def quick_sort(x):\n",
    "    x = list(x)\n",
    "    _len = len(x)\n",
    "    if _len <= 1:\n",
    "        return x\n",
    "    mid = _len//2\n",
    "    pivot = x[mid]\n",
    "    left, right = [], []\n",
    "    for i in range(_len):\n",
    "        if i != mid:\n",
    "            if x[i] <= pivot: left.append(x[i])\n",
    "            else: right.append(x[i])\n",
    "    sleft, sright = quick_sort(left), quick_sort(right)\n",
    "    sleft.append(pivot)\n",
    "    _sorted = sleft + sright\n",
    "    return _sorted"
   ]
  },
  {
   "cell_type": "code",
   "execution_count": 10,
   "metadata": {},
   "outputs": [
    {
     "name": "stdout",
     "output_type": "stream",
     "text": [
      "Wall time: 12 ms\n"
     ]
    }
   ],
   "source": [
    "%%time\n",
    "_ = quick_sort(x)\n",
    "test_sorted(_)"
   ]
  },
  {
   "cell_type": "markdown",
   "metadata": {},
   "source": [
    "## 堆排序/ Heap sort\n",
    "堆是用数组表示的树。父节点的索引为i, 左右子节点的索引分别为2i+1，2i+2 \n",
    "1. 堆的性质： 子节点的值总是小于（或大于）其父节点。"
   ]
  },
  {
   "cell_type": "code",
   "execution_count": 11,
   "metadata": {
    "collapsed": true
   },
   "outputs": [],
   "source": [
    "import heapq\n",
    "def heap_sort(x):\n",
    "    x = list(x)\n",
    "    heapq.heapify(x)\n",
    "    x_sorted = [heapq.heappop(x) for _ in range(len(x))]\n",
    "    return x_sorted"
   ]
  },
  {
   "cell_type": "code",
   "execution_count": 12,
   "metadata": {},
   "outputs": [
    {
     "name": "stdout",
     "output_type": "stream",
     "text": [
      "Wall time: 2.99 ms\n"
     ]
    }
   ],
   "source": [
    "%%time\n",
    "_ = heap_sort(x)\n",
    "test_sorted(_)"
   ]
  },
  {
   "cell_type": "code",
   "execution_count": 13,
   "metadata": {
    "collapsed": true
   },
   "outputs": [],
   "source": [
    "def heapify(x):\n",
    "    x = list(x)\n",
    "    x_len = len(x)\n",
    "    last = x_len - 1\n",
    "    parent_of_last = (last - 1)//2 \n",
    "    for start in range(parent_of_last, -1, -1):\n",
    "        x = adjust(x, start, last)\n",
    "    return x\n",
    "\n",
    "def adjust(x, start, end):\n",
    "    #最大堆调整: 如果子节点比父节点大，父子交换位置\n",
    "    #原位调整\n",
    "    parent = start\n",
    "    while True:\n",
    "        left_child = parent*2 + 1\n",
    "        if left_child > end:  #没有子节点\n",
    "            break\n",
    "\n",
    "        # 最大子节点    \n",
    "        right_child = left_child + 1\n",
    "        right_child = right_child if right_child <= end else left_child\n",
    "        max_child =  left_child if x[left_child] > x[right_child] else right_child\n",
    "\n",
    "        if x[parent] < x[max_child]:\n",
    "            x[parent], x[max_child] = x[max_child], x[parent]\n",
    "            parent = max_child\n",
    "        else:\n",
    "            break\n",
    "    return x\n",
    "\n",
    "def my_heap_sort(x):\n",
    "    \"\"\"\n",
    "    heap sort\n",
    "    \"\"\"\n",
    "    x = list(x)\n",
    "    x_heap = heapify(x)\n",
    "    #因为range是包含start, 步长是1，所以last是坐标是从0开始的，所以是len-1\n",
    "    last = len(x_heap)-1\n",
    "    for _max in range(last, 0, -1):\n",
    "        #把最大元素和最小的交换\n",
    "        x_heap[0], x_heap[_max] = x_heap[_max], x_heap[0]\n",
    "        adjust(x_heap, 0, _max - 1)\n",
    "    return x_heap"
   ]
  },
  {
   "cell_type": "code",
   "execution_count": 14,
   "metadata": {},
   "outputs": [
    {
     "name": "stdout",
     "output_type": "stream",
     "text": [
      "Wall time: 2.99 ms\n"
     ]
    }
   ],
   "source": [
    "%%time\n",
    "_ = my_heap_sort(x)\n",
    "test_sorted(_)"
   ]
  },
  {
   "cell_type": "markdown",
   "metadata": {},
   "source": [
    "todo: 算法复杂度分析"
   ]
  },
  {
   "cell_type": "markdown",
   "metadata": {},
   "source": [
    "## References\n",
    "[1] [Basic Sorting Algorithms Implemented In Python](https://danishmujeeb.com/blog/2014/01/basic-sorting-algorithms-implemented-in-python/)"
   ]
  }
 ],
 "metadata": {
  "kernelspec": {
   "display_name": "Python 3",
   "language": "python",
   "name": "python3"
  },
  "language_info": {
   "codemirror_mode": {
    "name": "ipython",
    "version": 3
   },
   "file_extension": ".py",
   "mimetype": "text/x-python",
   "name": "python",
   "nbconvert_exporter": "python",
   "pygments_lexer": "ipython3",
   "version": "3.6.6"
  }
 },
 "nbformat": 4,
 "nbformat_minor": 2
}
