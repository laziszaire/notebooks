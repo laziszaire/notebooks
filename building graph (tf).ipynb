{
 "cells": [
  {
   "cell_type": "markdown",
   "metadata": {},
   "source": [
    "# building graph"
   ]
  },
  {
   "cell_type": "markdown",
   "metadata": {},
   "source": [
    "##  tensorflow name_scope\n",
    "A context manager for use when defining a Python op: name the op  \n",
    "tensor can be thought as an option\n",
    "- relative\n",
    "- absolute \n",
    "\n",
    "This context manager validates that the given values are from the same graph, makes that graph the default graph, and pushes a name scope in that graph (see tf.Graph.name_scope for more details on that)."
   ]
  },
  {
   "cell_type": "code",
   "execution_count": 26,
   "metadata": {
    "collapsed": true
   },
   "outputs": [],
   "source": [
    "import tensorflow as tf"
   ]
  },
  {
   "cell_type": "code",
   "execution_count": 44,
   "metadata": {},
   "outputs": [
    {
     "data": {
      "text/plain": [
       "''"
      ]
     },
     "execution_count": 44,
     "metadata": {},
     "output_type": "execute_result"
    }
   ],
   "source": [
    "g = tf.Graph()\n",
    "with g.as_default():\n",
    "    a = tf.constant(1, name='a')\n",
    "    b = tf.constant(1, name='a')\n",
    "    with g.name_scope('first') as scope:\n",
    "        c = tf.constant(1, name='a')\n",
    "        with g.name_scope('second'):\n",
    "            d = tf.constant(1, name='a')\n",
    "            with g.name_scope(scope):\n",
    "                e = tf.constant(1, name='a')\n",
    "                with g.name_scope(None): \n",
    "                    f = tf.constant(1, name='a')\n",
    "                    with g.name_scope(False): # 0, False, ''\n",
    "                        _g = tf.constant(1, name='a')"
   ]
  },
  {
   "cell_type": "markdown",
   "metadata": {},
   "source": [
    "## Variable_scope\n",
    "A context manager for defining ops that creates variables (layers).  \n",
    "\n",
    "This context manager   \n",
    "- validates that the (optional) values are from the same graph,\n",
    "- ensures that graph is the default graph\n",
    "- pushes a name scope and a variable scope."
   ]
  },
  {
   "cell_type": "code",
   "execution_count": 61,
   "metadata": {
    "collapsed": true
   },
   "outputs": [],
   "source": [
    "with tf.Graph().as_default():\n",
    "    with tf.variable_scope(\"foo\"):\n",
    "        v = tf.get_variable(\"v\", [1])\n",
    "        #v2 = tf.get_variable('v', [2]) ValueError\n",
    "    with tf.variable_scope(\"foo\", reuse=True):\n",
    "        v1 = tf.get_variable(\"v\", [1])\n",
    "    assert v1 == v"
   ]
  },
  {
   "cell_type": "code",
   "execution_count": null,
   "metadata": {
    "collapsed": true
   },
   "outputs": [],
   "source": [
    "g"
   ]
  },
  {
   "cell_type": "markdown",
   "metadata": {},
   "source": [
    "- 如果reuse=True, 允许变量tf variable的name相同，并指向同一个object"
   ]
  }
 ],
 "metadata": {
  "kernelspec": {
   "display_name": "Python 3",
   "language": "python",
   "name": "python3"
  },
  "language_info": {
   "codemirror_mode": {
    "name": "ipython",
    "version": 3
   },
   "file_extension": ".py",
   "mimetype": "text/x-python",
   "name": "python",
   "nbconvert_exporter": "python",
   "pygments_lexer": "ipython3",
   "version": "3.6.6"
  }
 },
 "nbformat": 4,
 "nbformat_minor": 2
}
