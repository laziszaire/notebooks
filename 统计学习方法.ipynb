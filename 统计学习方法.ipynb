{
 "cells": [
  {
   "cell_type": "markdown",
   "metadata": {},
   "source": [
    "kd树"
   ]
  },
  {
   "cell_type": "code",
   "execution_count": 1,
   "metadata": {},
   "outputs": [],
   "source": [
    "import numpy as np\n",
    "class TreeNode:\n",
    "    \"\"\"\n",
    "    \"\"\"\n",
    "    def __init__(self, index, parent=None, left=None, right=None):\n",
    "        \"\"\"\n",
    "        data: n*m, n个样本，m个特征\n",
    "        \"\"\"\n",
    "        self.index = index\n",
    "        self.parent = None\n",
    "        self.left = left\n",
    "        self.right = right\n",
    "\n",
    "class KDtree(TreeNode):\n",
    "    \n",
    "    def __init__(self, data, index, left=None, right=None)\n",
    "        super().__init__(index, left, right)#为什么没有self\n",
    "        self.data = data\n",
    "\n",
    "    def split(self, data, feature_id):\n",
    "        split_var = data[:, feature_id]\n",
    "        split_val = np.median(split_var)\n",
    "        self.left = split_var(split_var <= split_val)\n",
    "        self.right = ~self.left"
   ]
  },
  {
   "cell_type": "markdown",
   "metadata": {},
   "source": [
    "## Bayesian classifier\n",
    "joint distribution\n",
    "- model: p(X, C) = p(X|C)p(C), a bayes networks  \n",
    "\n",
    "- classify:   \n",
    "$c^* = argmax P(c|a) = argmax \\frac{P(a|c)P(c)}{P(a)} = argmax P(a|c) $  \n",
    "p(c)是常数1/K, 所以省略；  \n",
    "p(a)是一个正规化项，对每个分子是一样的 "
   ]
  }
 ],
 "metadata": {
  "kernelspec": {
   "display_name": "Python 3",
   "language": "python",
   "name": "python3"
  },
  "language_info": {
   "codemirror_mode": {
    "name": "ipython",
    "version": 3
   },
   "file_extension": ".py",
   "mimetype": "text/x-python",
   "name": "python",
   "nbconvert_exporter": "python",
   "pygments_lexer": "ipython3",
   "version": "3.6.0"
  }
 },
 "nbformat": 4,
 "nbformat_minor": 2
}
