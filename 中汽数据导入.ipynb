{
 "cells": [
  {
   "cell_type": "code",
   "execution_count": 1,
   "metadata": {
    "collapsed": true
   },
   "outputs": [],
   "source": [
    "import xarray as xr\n",
    "import matplotlib as plt\n",
    "from Chemometrics.import_common import *\n",
    "%matplotlib inline\n",
    "plt.rcParams['font.sans-serif'] = 'SimHei'"
   ]
  },
  {
   "cell_type": "code",
   "execution_count": 3,
   "metadata": {
    "collapsed": true
   },
   "outputs": [],
   "source": [
    "xls = pd.ExcelFile(\"cc11-20180428.xlsx\")\n",
    "df = xls.parse(0)\n",
    "scan_idx = df.index[df.iloc[:,0] == 'Scan']"
   ]
  },
  {
   "cell_type": "code",
   "execution_count": 4,
   "metadata": {
    "collapsed": true
   },
   "outputs": [],
   "source": [
    "def parse_scan(scan):\n",
    "    \"\"\"\n",
    "    解析scan\n",
    "    \"\"\"\n",
    "    _scan = pd.Series(scan.iloc[1].values,index=scan.iloc[0]).to_dict()\n",
    "    formulas = []\n",
    "    for f in scan.index[scan.iloc[:,2]=='CAS #:']: # CAS #:\n",
    "        _formula = {'Formula:': scan.loc[f-1 ,'Unnamed: 1'],\n",
    "                    'NET FIT=': scan.loc[f, 'Unnamed: 1'],\n",
    "                    'CAS #:': scan.loc[f, 'Unnamed: 3'],\n",
    "                    'id': scan.loc[f-2, 'Unknown Identification Report'],\n",
    "                    'Name': scan.loc[f-2, 'Unnamed: 1']}\n",
    "        _formula.update(_scan)\n",
    "        formulas.append(_formula.copy())\n",
    "    return formulas"
   ]
  },
  {
   "cell_type": "code",
   "execution_count": 5,
   "metadata": {},
   "outputs": [
    {
     "data": {
      "text/html": [
       "<div>\n",
       "<style>\n",
       "    .dataframe thead tr:only-child th {\n",
       "        text-align: right;\n",
       "    }\n",
       "\n",
       "    .dataframe thead th {\n",
       "        text-align: left;\n",
       "    }\n",
       "\n",
       "    .dataframe tbody tr th {\n",
       "        vertical-align: top;\n",
       "    }\n",
       "</style>\n",
       "<table border=\"1\" class=\"dataframe\">\n",
       "  <thead>\n",
       "    <tr style=\"text-align: right;\">\n",
       "      <th></th>\n",
       "      <th>%Area</th>\n",
       "      <th>Area</th>\n",
       "      <th>CAS #:</th>\n",
       "      <th>Formula:</th>\n",
       "      <th>Hits</th>\n",
       "      <th>NET FIT=</th>\n",
       "      <th>Name</th>\n",
       "      <th>RT</th>\n",
       "      <th>Scan</th>\n",
       "      <th>id</th>\n",
       "    </tr>\n",
       "  </thead>\n",
       "  <tbody>\n",
       "    <tr>\n",
       "      <th>0</th>\n",
       "      <td>0.018</td>\n",
       "      <td>2506729</td>\n",
       "      <td>75-21-8</td>\n",
       "      <td>C2H4O</td>\n",
       "      <td>1</td>\n",
       "      <td>89</td>\n",
       "      <td>Ethylene oxide</td>\n",
       "      <td>1m20s</td>\n",
       "      <td>63</td>\n",
       "      <td>1</td>\n",
       "    </tr>\n",
       "    <tr>\n",
       "      <th>1</th>\n",
       "      <td>0.004</td>\n",
       "      <td>1984432</td>\n",
       "      <td>107-02-8</td>\n",
       "      <td>C3H4O</td>\n",
       "      <td>7</td>\n",
       "      <td>81</td>\n",
       "      <td>2-Propenal</td>\n",
       "      <td>1m56s</td>\n",
       "      <td>97</td>\n",
       "      <td>1</td>\n",
       "    </tr>\n",
       "    <tr>\n",
       "      <th>2</th>\n",
       "      <td>0.004</td>\n",
       "      <td>1984432</td>\n",
       "      <td>71-36-3</td>\n",
       "      <td>C4H10O</td>\n",
       "      <td>7</td>\n",
       "      <td>75</td>\n",
       "      <td>1-Butanol</td>\n",
       "      <td>1m56s</td>\n",
       "      <td>97</td>\n",
       "      <td>2</td>\n",
       "    </tr>\n",
       "    <tr>\n",
       "      <th>3</th>\n",
       "      <td>0.004</td>\n",
       "      <td>1984432</td>\n",
       "      <td>106-98-9</td>\n",
       "      <td>C4H8</td>\n",
       "      <td>7</td>\n",
       "      <td>71</td>\n",
       "      <td>1-Butene</td>\n",
       "      <td>1m56s</td>\n",
       "      <td>97</td>\n",
       "      <td>3</td>\n",
       "    </tr>\n",
       "    <tr>\n",
       "      <th>4</th>\n",
       "      <td>0.004</td>\n",
       "      <td>1984432</td>\n",
       "      <td>590-18-1</td>\n",
       "      <td>C4H8</td>\n",
       "      <td>7</td>\n",
       "      <td>71</td>\n",
       "      <td>2-Butene, (Z)-</td>\n",
       "      <td>1m56s</td>\n",
       "      <td>97</td>\n",
       "      <td>4</td>\n",
       "    </tr>\n",
       "  </tbody>\n",
       "</table>\n",
       "</div>"
      ],
      "text/plain": [
       "   %Area     Area    CAS #: Formula:  Hits  NET FIT=            Name     RT  \\\n",
       "0  0.018  2506729   75-21-8    C2H4O     1        89  Ethylene oxide  1m20s   \n",
       "1  0.004  1984432  107-02-8    C3H4O     7        81      2-Propenal  1m56s   \n",
       "2  0.004  1984432   71-36-3   C4H10O     7        75       1-Butanol  1m56s   \n",
       "3  0.004  1984432  106-98-9     C4H8     7        71        1-Butene  1m56s   \n",
       "4  0.004  1984432  590-18-1     C4H8     7        71  2-Butene, (Z)-  1m56s   \n",
       "\n",
       "   Scan  id  \n",
       "0    63   1  \n",
       "1    97   1  \n",
       "2    97   2  \n",
       "3    97   3  \n",
       "4    97   4  "
      ]
     },
     "execution_count": 5,
     "metadata": {},
     "output_type": "execute_result"
    }
   ],
   "source": [
    "a = df.set_index('Unknown Identification Report').dropna(axis=0, how='all').reset_index()\n",
    "scan_idx = (a.iloc[:,0] == 'Scan').cumsum()\n",
    "scans = [a.loc[scan_idx == _sidx] for _sidx in scan_idx.unique() if _sidx > 0]\n",
    "pscans = [parse_scan(_ss) for _ss in scans]\n",
    "_a = []\n",
    "for _ in pscans:\n",
    "    _a += _\n",
    "res_ = pd.DataFrame(_a)\n",
    "res_.head()"
   ]
  },
  {
   "cell_type": "code",
   "execution_count": 6,
   "metadata": {
    "collapsed": true
   },
   "outputs": [],
   "source": [
    "def get_factor_(xls_):\n",
    "    \"\"\"\n",
    "    获取校正因子\n",
    "    \"\"\"\n",
    "    Toluene_c = xls_.loc[(xls_ == 'Toluene').any(axis=1),xls_.isin(['ppb']).any(axis=0)]\n",
    "    Toluene_area = xls_.loc[(xls_ == 'Toluene').any(axis=1),xls_.isin(['area']).any(axis=0)]\n",
    "    factor_ = (Toluene_area.values/Toluene_c.values)[0]\n",
    "    return factor_"
   ]
  },
  {
   "cell_type": "code",
   "execution_count": 7,
   "metadata": {
    "collapsed": true
   },
   "outputs": [],
   "source": [
    "# 计算校正因子\n",
    "xls_ = pd.ExcelFile(\"cc11-20180428-定量.xlsx\").parse(0)\n",
    "factor_ = get_factor_(xls_)\n",
    "res_.loc[:,'ppb'] = (res_.Area/factor_).astype(np.float)"
   ]
  },
  {
   "cell_type": "code",
   "execution_count": 9,
   "metadata": {},
   "outputs": [
    {
     "data": {
      "text/html": [
       "<div>\n",
       "<style>\n",
       "    .dataframe thead tr:only-child th {\n",
       "        text-align: right;\n",
       "    }\n",
       "\n",
       "    .dataframe thead th {\n",
       "        text-align: left;\n",
       "    }\n",
       "\n",
       "    .dataframe tbody tr th {\n",
       "        vertical-align: top;\n",
       "    }\n",
       "</style>\n",
       "<table border=\"1\" class=\"dataframe\">\n",
       "  <thead>\n",
       "    <tr style=\"text-align: right;\">\n",
       "      <th></th>\n",
       "      <th>CAS #:</th>\n",
       "      <th>Formula:</th>\n",
       "      <th>Name</th>\n",
       "      <th>%Area</th>\n",
       "      <th>Area</th>\n",
       "      <th>ppb</th>\n",
       "    </tr>\n",
       "  </thead>\n",
       "  <tbody>\n",
       "    <tr>\n",
       "      <th>23</th>\n",
       "      <td>110-80-5</td>\n",
       "      <td>C4H10O2</td>\n",
       "      <td>Ethanol, 2-ethoxy-</td>\n",
       "      <td>3.550</td>\n",
       "      <td>2846883584</td>\n",
       "      <td>10652.911533</td>\n",
       "    </tr>\n",
       "    <tr>\n",
       "      <th>55</th>\n",
       "      <td>6975-98-0</td>\n",
       "      <td>C11H24</td>\n",
       "      <td>Decane, 2-methyl-</td>\n",
       "      <td>3.407</td>\n",
       "      <td>402182842</td>\n",
       "      <td>1504.950276</td>\n",
       "    </tr>\n",
       "    <tr>\n",
       "      <th>44</th>\n",
       "      <td>611-14-3</td>\n",
       "      <td>C9H12</td>\n",
       "      <td>Benzene, 1-ethyl-2-methyl-</td>\n",
       "      <td>0.186</td>\n",
       "      <td>295793138</td>\n",
       "      <td>1106.844744</td>\n",
       "    </tr>\n",
       "    <tr>\n",
       "      <th>46</th>\n",
       "      <td>620-14-4</td>\n",
       "      <td>C9H12</td>\n",
       "      <td>Benzene, 1-ethyl-3-methyl-</td>\n",
       "      <td>0.186</td>\n",
       "      <td>295793138</td>\n",
       "      <td>1106.844744</td>\n",
       "    </tr>\n",
       "    <tr>\n",
       "      <th>47</th>\n",
       "      <td>622-96-8</td>\n",
       "      <td>C9H12</td>\n",
       "      <td>Benzene, 1-ethyl-4-methyl-</td>\n",
       "      <td>0.186</td>\n",
       "      <td>295793138</td>\n",
       "      <td>1106.844744</td>\n",
       "    </tr>\n",
       "  </tbody>\n",
       "</table>\n",
       "</div>"
      ],
      "text/plain": [
       "       CAS #: Formula:                        Name  %Area        Area  \\\n",
       "23   110-80-5  C4H10O2          Ethanol, 2-ethoxy-  3.550  2846883584   \n",
       "55  6975-98-0   C11H24           Decane, 2-methyl-  3.407   402182842   \n",
       "44   611-14-3    C9H12  Benzene, 1-ethyl-2-methyl-  0.186   295793138   \n",
       "46   620-14-4    C9H12  Benzene, 1-ethyl-3-methyl-  0.186   295793138   \n",
       "47   622-96-8    C9H12  Benzene, 1-ethyl-4-methyl-  0.186   295793138   \n",
       "\n",
       "             ppb  \n",
       "23  10652.911533  \n",
       "55   1504.950276  \n",
       "44   1106.844744  \n",
       "46   1106.844744  \n",
       "47   1106.844744  "
      ]
     },
     "execution_count": 9,
     "metadata": {},
     "output_type": "execute_result"
    }
   ],
   "source": [
    "grp_ = res_.groupby('CAS #:')\n",
    "_out = pd.concat([grp_.first().loc[:, ['Formula:', 'Name']], grp_.sum().loc[:,['%Area', 'Area','ppb']]], axis=1).reset_index()\n",
    "_out.sort_values(by = 'Area', ascending=False, inplace=True)\n",
    "_out.head()"
   ]
  },
  {
   "cell_type": "code",
   "execution_count": 10,
   "metadata": {
    "collapsed": true
   },
   "outputs": [],
   "source": [
    "_out.to_excel('数据导入-浓度.xlsx')"
   ]
  }
 ],
 "metadata": {
  "kernelspec": {
   "display_name": "Python 3",
   "language": "python",
   "name": "python3"
  },
  "language_info": {
   "codemirror_mode": {
    "name": "ipython",
    "version": 3
   },
   "file_extension": ".py",
   "mimetype": "text/x-python",
   "name": "python",
   "nbconvert_exporter": "python",
   "pygments_lexer": "ipython3",
   "version": "3.6.1"
  }
 },
 "nbformat": 4,
 "nbformat_minor": 2
}
