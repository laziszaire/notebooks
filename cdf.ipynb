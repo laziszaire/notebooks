{
 "cells": [
  {
   "cell_type": "code",
   "execution_count": 1,
   "metadata": {
    "collapsed": true
   },
   "outputs": [],
   "source": [
    "import xarray as xr\n",
    "from functools import partial\n",
    "import codecs\n",
    "import numpy as np\n",
    "import chardet\n",
    "import matplotlib.pyplot as plt\n",
    "import seaborn as sns\n",
    "\n",
    "%matplotlib inline"
   ]
  },
  {
   "cell_type": "code",
   "execution_count": 3,
   "metadata": {},
   "outputs": [],
   "source": [
    "_a = xr.open_dataset('../s069_2017-6-2 1_50_27_020 - 570nm.cdf')"
   ]
  },
  {
   "cell_type": "code",
   "execution_count": 4,
   "metadata": {},
   "outputs": [
    {
     "data": {
      "text/plain": [
       "[<matplotlib.lines.Line2D at 0x1d8745feb00>]"
      ]
     },
     "execution_count": 4,
     "metadata": {},
     "output_type": "execute_result"
    },
    {
     "data": {
      "image/png": "[encoded data removed]",
      "text/plain": [
       "<matplotlib.figure.Figure at 0x1d8745f6668>"
      ]
     },
     "metadata": {},
     "output_type": "display_data"
    }
   ],
   "source": [
    "rt = np.arange(_a.actual_delay_time, \n",
    "          _a.actual_delay_time + _a.actual_run_time_length,\n",
    "          _a.actual_sampling_interval)/60\n",
    "plt.plot(rt, _a.ordinate_values)"
   ]
  },
  {
   "cell_type": "code",
   "execution_count": 10,
   "metadata": {},
   "outputs": [
    {
     "data": {
      "text/plain": [
       "<xarray.Dataset>\n",
       "Dimensions:                      (peak_number: 7, point_number: 3601)\n",
       "Dimensions without coordinates: peak_number, point_number\n",
       "Data variables:\n",
       "    detector_maximum_value       float32 0.01808908\n",
       "    detector_minimum_value       float32 -0.000698328\n",
       "    actual_run_time_length       float32 1800.0\n",
       "    actual_sampling_interval     float32 0.5\n",
       "    actual_delay_time            float32 0.0\n",
       "    ordinate_values              (point_number) float32 -1.8062592e-05 ...\n",
       "    peak_retention_time          (peak_number) float32 329.984 417.474 ...\n",
       "    peak_amount                  (peak_number) float32 0.0 0.0 0.0 0.0 0.0 ...\n",
       "    peak_start_time              (peak_number) float32 321.0 408.0 504.0 ...\n",
       "    peak_end_time                (peak_number) float32 344.5 433.5 546.5 ...\n",
       "    peak_width                   (peak_number) float32 23.5 25.5 42.5 86.5 ...\n",
       "    peak_area                    (peak_number) float32 12507.816 16955.777 ...\n",
       "    peak_area_percent            (peak_number) float32 1.6511309 2.238297 ...\n",
       "    peak_height                  (peak_number) float32 1574.709 1996.1355 ...\n",
       "    peak_height_percent          (peak_number) float32 3.4049191 4.3161497 ...\n",
       "    baseline_start_time          (peak_number) float32 321.0 408.0 504.0 ...\n",
       "    baseline_start_value         (peak_number) float32 4.1131974e-05 ...\n",
       "    baseline_stop_time           (peak_number) float32 344.5 433.5 546.5 ...\n",
       "    baseline_stop_value          (peak_number) float32 7.00903e-05 ...\n",
       "    retention_index              (peak_number) float32 0.0 0.0 0.0 0.0 0.0 ...\n",
       "    migration_time               (peak_number) float32 0.0 0.0 0.0 0.0 0.0 ...\n",
       "    peak_asymmetry               (peak_number) float32 1.2372284 1.2653538 ...\n",
       "    peak_efficiency              (peak_number) float32 10371.193 14370.657 ...\n",
       "    mass_on_column               (peak_number) float32 0.0 0.0 0.0 0.0 0.0 ...\n",
       "    peak_name                    (peak_number) |S128 b'RT5.497' b'' ...\n",
       "    peak_amount_unit             (peak_number) |S128 b'' b'' b'' b'' b'' b'' b''\n",
       "    peak_start_detection_code    (peak_number) |S128 b'   ' b'   ' b'   ' ...\n",
       "    peak_stop_detection_code     (peak_number) |S128 b'   ' b'   ' b'   ' ...\n",
       "    manually_reintegrated_peaks  (peak_number) |S128 b'' b'' b'' b'' b'' b'' b''\n",
       "Attributes:\n",
       "    dataset_completeness:                C1+C2\n",
       "    aia_template_revision:               1.0.1\n",
       "    netcdf_revision:                     VERSION of Mar  2 2010 19:37:31 $\n",
       "    languages:                           English\n",
       "    administrative_comments:             \n",
       "    dataset_origin:                      Shimadzu Corporation\n",
       "    dataset_owner:                       \n",
       "    dataset_date_time_stamp:             20151204063654+0800\n",
       "    injection_date_time_stamp:           20151204063654+0800\n",
       "    experiment_title:                    \n",
       "    operator_name:                       Admin\n",
       "    separation_experiment_type:          \n",
       "    company_method_name:                 \n",
       "    company_method_id:                   \n",
       "    pre_experiment_program_name:         \n",
       "    post_experiment_program_name:        \n",
       "    source_file_reference:               E:\\LC solution DATA\\��\\�ϲ�\\7619-1-1.lcd\n",
       "    sample_id_comments:                  \n",
       "    sample_id:                           \n",
       "    sample_name:                         7619\n",
       "    sample_type:                         Unknown\n",
       "    sample_injection_volume:             10.0\n",
       "    sample_amount:                       1.0\n",
       "    detection_method_table_name:         \n",
       "    detection_method_comments:           \n",
       "    detection_method_name:               E:\\LC solution DATA\\��\\ZC\\20151211.lcm\n",
       "    detector_name:                       LC-2010 Detector\n",
       "    detector_unit:                       Volts\n",
       "    raw_data_table_name:                 E:\\LC solution DATA\\��\\�ϲ�\\7619-1-1.lcd\n",
       "    retention_unit:                      Seconds\n",
       "    peak_processing_results_table_name:  \n",
       "    peak_processing_results_comments:    \n",
       "    peak_processing_method_name:         E:\\LC solution DATA\\��\\ZC\\20151211.lcm\n",
       "    peak_processing_date_time_stamp:     "
      ]
     },
     "execution_count": 10,
     "metadata": {},
     "output_type": "execute_result"
    }
   ],
   "source": [
    "xr.open_dataset('../1(1).CDF')"
   ]
  },
  {
   "cell_type": "code",
   "execution_count": 11,
   "metadata": {},
   "outputs": [
    {
     "data": {
      "text/plain": [
       "<xarray.Dataset>\n",
       "Dimensions:                      (peak_number: 36, point_number: 41625)\n",
       "Dimensions without coordinates: peak_number, point_number\n",
       "Data variables:\n",
       "    detector_maximum_value       float32 12122.732\n",
       "    detector_minimum_value       float32 -12122.732\n",
       "    actual_run_time_length       float32 6660.0\n",
       "    actual_sampling_interval     float32 0.16\n",
       "    actual_delay_time            float32 0.0\n",
       "    ordinate_values              (point_number) float32 40.338257 40.338257 ...\n",
       "    raw_data_retention           (point_number) float32 9.96921e+36 ...\n",
       "    peak_retention_time          (peak_number) float32 3.264 4.693333 ...\n",
       "    peak_name                    (peak_number) |S32 b'\\xc1\\xd7\\xcb\\xe1\\xcb\\xbf\\xb0\\xb1\\xcb\\xe1\\x00\\x00\\x8c\\xf8\\x12\\x00\\x84\\xf8\\x12\\x00\\x88\\xf8\\x12\\x00\\xe9&1\\x08\\xac\\x1c\\n@' ...\n",
       "    peak_amount                  (peak_number) float32 627.76575 169.21393 ...\n",
       "    peak_start_time              (peak_number) float32 2.88 4.32 5.4613333 ...\n",
       "    peak_end_time                (peak_number) float32 4.32 5.4613333 ...\n",
       "    peak_width                   (peak_number) float32 0.39466667 0.768 ...\n",
       "    peak_area                    (peak_number) float32 7282.3315 2887.9622 ...\n",
       "    peak_area_percent            (peak_number) float32 2.6158066 1.0373533 ...\n",
       "    peak_height                  (peak_number) float32 224.97806 63.871704 ...\n",
       "    peak_height_percent          (peak_number) float32 3.5274835 1.0014594 ...\n",
       "    baseline_start_time          (peak_number) float32 2.88 4.32 5.4613333 ...\n",
       "    baseline_start_value         (peak_number) float32 43.11004 45.04364 ...\n",
       "    baseline_stop_time           (peak_number) float32 4.32 5.4613333 ...\n",
       "    baseline_stop_value          (peak_number) float32 45.04364 46.57549 ...\n",
       "    peak_start_detection_code    (peak_number) |S2 b'-' b'-' b'-' b'-' b'-' ...\n",
       "    peak_stop_detection_code     (peak_number) |S2 b'-' b'-' b'-' b'-' b'-' ...\n",
       "    retention_index              (peak_number) float32 0.0 0.0 0.0 0.0 0.0 ...\n",
       "    migration_time               (peak_number) float32 0.0 0.0 0.0 0.0 0.0 ...\n",
       "    peak_asymmetry               (peak_number) float32 5.2105265 2.057143 ...\n",
       "    peak_efficiency              (peak_number) float32 124.00938 271.72012 ...\n",
       "    mass_on_column               (peak_number) float32 0.0 0.0 0.0 0.0 0.0 ...\n",
       "    manually_reintegrated_peaks  (peak_number) int16 0 0 0 0 0 0 0 0 0 0 0 0 ...\n",
       "Attributes:\n",
       "    dataset_completeness:                C1+C2\n",
       "    aia_template_revision:               1.0\n",
       "    netcdf_revision:                     3.5\n",
       "    languages:                           English\n",
       "    administrative_comments:             -\n",
       "    dataset_origin:                      -\n",
       "    dataset_owner:                       -\n",
       "    dataset_date_time_stamp:             20180724111214+0800\n",
       "    injection_date_time_stamp:           20170602034128-1600\n",
       "    experiment_title:                    -\n",
       "    operator_name:                       Administrator\n",
       "    separation_experiment_type:          -\n",
       "    company_method_name:                 -\n",
       "    company_method_id:                   -\n",
       "    pre_experiment_program_name:         -\n",
       "    post_experiment_program_name:        -\n",
       "    source_file_reference:               D:\\Amino Data\\�㾫���ϵİ��������\\Data\\s...\n",
       "    sample_id:                           s069\n",
       "    sample_name:                         \n",
       "    sample_type:                         control\n",
       "    sample_injection_volume:             0.050000\n",
       "    sample_amount:                       0.000000\n",
       "    detection_method_table_name:         -\n",
       "    detector_method_comments:            -\n",
       "    detection_method_name:               D:\\Amino Data\\Common\\met_Li\\PH_C4(Li...\n",
       "    detector_name:                        \n",
       "    detector_unit:                       mV\n",
       "    retention_unit:                      Seconds\n",
       "    peak_processing_results_table_name:  -\n",
       "    peak_processing_results_comments:    -\n",
       "    peak_processing_method_name:         D:\\Amino Data\\Common\\met_Li\\PH_C4(Li...\n",
       "    peak_processing_date_time_stamp:     20171206154855+0800\n",
       "    peak_amount_unit:                    ul"
      ]
     },
     "execution_count": 11,
     "metadata": {},
     "output_type": "execute_result"
    }
   ],
   "source": [
    "_a"
   ]
  }
 ],
 "metadata": {
  "kernelspec": {
   "display_name": "Python 3",
   "language": "python",
   "name": "python3"
  },
  "language_info": {
   "codemirror_mode": {
    "name": "ipython",
    "version": 3
   },
   "file_extension": ".py",
   "mimetype": "text/x-python",
   "name": "python",
   "nbconvert_exporter": "python",
   "pygments_lexer": "ipython3",
   "version": "3.6.1"
  }
 },
 "nbformat": 4,
 "nbformat_minor": 2
}
