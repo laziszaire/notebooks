{
 "cells": [
  {
   "cell_type": "code",
   "execution_count": 1,
   "metadata": {
    "collapsed": true
   },
   "outputs": [],
   "source": [
    "from pyteomics.mass import calculate_mass,Composition\n",
    "import pandas as pd"
   ]
  },
  {
   "cell_type": "code",
   "execution_count": 2,
   "metadata": {
    "collapsed": true
   },
   "outputs": [],
   "source": [
    "def _domz(df):\n",
    "    df.loc[:, 'mz']= [_mz(f) for f in df.formula]\n",
    "    df.loc[:, 'MW']= [calculate_mass(f) for f in df.formula]\n",
    "    return df"
   ]
  },
  {
   "cell_type": "code",
   "execution_count": 3,
   "metadata": {
    "collapsed": true
   },
   "outputs": [],
   "source": [
    "# dfs = pd.read_excel('./分子量计算(1).xlsx', \n",
    "#                     sheetname=None, \n",
    "#                     header=None, \n",
    "#                     names=['grp', 'formula'], \n",
    "#                     skiprows=1)\n",
    "# result = {df: _domz(dfs[df]) for df in dfs}\n",
    "# excel_writer = pd.ExcelWriter('_分子量计算.xlsx')\n",
    "# for cat in result:\n",
    "#     result[cat].to_excel(excel_writer, sheet_name=cat, index=False)"
   ]
  },
  {
   "cell_type": "code",
   "execution_count": 4,
   "metadata": {
    "collapsed": true
   },
   "outputs": [],
   "source": [
    "def run(df):\n",
    "    composistion = df.formula.apply(Composition)\n",
    "    mass = composistion.apply(calculate_mass)\n",
    "    charge = composistion.apply(charge_)\n",
    "    df.loc[:, 'MW'] = mass\n",
    "    df.loc[:, 'mz'] = mass/charge\n",
    "    return df"
   ]
  },
  {
   "cell_type": "code",
   "execution_count": 5,
   "metadata": {
    "collapsed": true
   },
   "outputs": [],
   "source": [
    "def charge_(composition):\n",
    "    \"\"\"\n",
    "    电荷数计算\n",
    "    \"\"\"\n",
    "    _z = composition['Na'] if composition['Na'] > 0 else 1\n",
    "    return _z"
   ]
  },
  {
   "cell_type": "code",
   "execution_count": 8,
   "metadata": {
    "collapsed": true
   },
   "outputs": [],
   "source": [
    "dfs = pd.read_excel('./_分子量计算(1).xlsx', \n",
    "                    sheetname=None)\n",
    "result = {df: run(dfs[df]) for df in dfs}\n",
    "excel_writer = pd.ExcelWriter('分子量计算_.xlsx')\n",
    "for cat in result:\n",
    "    result[cat].to_excel(excel_writer, sheet_name=cat, index=False)"
   ]
  },
  {
   "cell_type": "code",
   "execution_count": 31,
   "metadata": {},
   "outputs": [],
   "source": [
    "df = pd.read_excel('二级库分子量计算.xlsx',skiprows=1, header=None)\n",
    "df.loc[:, 2] = [calculate_mass(f) for f in df.loc[:,1]]\n",
    "df.loc[:, 3] = df.loc[:, 2]/2\n",
    "df.columns = ['名称','分子式','分子量','1/2分子量']\n",
    "df.to_excel('二级分子量计算.xlsx', index=False)"
   ]
  }
 ],
 "metadata": {
  "kernelspec": {
   "display_name": "Python 3",
   "language": "python",
   "name": "python3"
  },
  "language_info": {
   "codemirror_mode": {
    "name": "ipython",
    "version": 3
   },
   "file_extension": ".py",
   "mimetype": "text/x-python",
   "name": "python",
   "nbconvert_exporter": "python",
   "pygments_lexer": "ipython3",
   "version": "3.6.1"
  }
 },
 "nbformat": 4,
 "nbformat_minor": 2
}
