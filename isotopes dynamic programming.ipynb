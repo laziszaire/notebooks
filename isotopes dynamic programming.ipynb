{
 "cells": [
  {
   "cell_type": "code",
   "execution_count": 1,
   "metadata": {
    "collapsed": true
   },
   "outputs": [],
   "source": [
    "from pyteomics.mass.mass import nist_mass\n",
    "import os\n",
    "import pandas as pd\n",
    "import heapq\n",
    "from Chemometrics.import_common import *\n",
    "%matplotlib inline"
   ]
  },
  {
   "cell_type": "markdown",
   "metadata": {},
   "source": [
    "# 状态定义 {state: value}\n",
    "    状态转移"
   ]
  },
  {
   "cell_type": "code",
   "execution_count": 2,
   "metadata": {
    "collapsed": true
   },
   "outputs": [],
   "source": [
    "def topk_dict(_dict, k=5):\n",
    "    \"\"\"\n",
    "    _dict中key最大的k个\n",
    "    \"\"\"\n",
    "    dict_ = {m: _dict[m] for m in \n",
    "             heapq.nlargest(k, _dict, key=_dict.get)}\n",
    "    return dict_"
   ]
  },
  {
   "cell_type": "code",
   "execution_count": 3,
   "metadata": {
    "collapsed": true
   },
   "outputs": [],
   "source": [
    "def filter_nist(isotopes, threshold=1e-4):\n",
    "    \"\"\"\n",
    "    过滤prob小于threshold（1e-4）的元素同位素\n",
    "    \"\"\"\n",
    "    \n",
    "    _isotopes ={isotopes[m] for m in  isotopes if m > 0 and isotopes[m][1]>threshold}\n",
    "    return _isotopes"
   ]
  },
  {
   "cell_type": "code",
   "execution_count": 4,
   "metadata": {
    "collapsed": true
   },
   "outputs": [],
   "source": [
    "def iso_dist(composition, k=100, ethresshold=1e-5):\n",
    "    \"\"\"\n",
    "    计算同位素分布\n",
    "    \"\"\"\n",
    "    _nist_mass = {el: filter_nist(nist_mass[el], threshold=ethresshold) \n",
    "                  for el in nist_mass if el in composition}\n",
    "    # state: value = {mass: prob}\n",
    "    new_states = {0: 1}\n",
    "    for e in composition: #元素组\n",
    "        isotopes = _nist_mass[e]\n",
    "        for ei in range(composition[e]): #元素组内\n",
    "            # 开始状态转移\n",
    "            if k is not None:\n",
    "                states = topk_dict(new_states, k=k)\n",
    "            else:\n",
    "                states = new_states\n",
    "            new_states = {}\n",
    "            for state in states:\n",
    "                for _mass, _prob in isotopes: #同位素\n",
    "                    if state + _mass in new_states:\n",
    "                        new_states[state + _mass] += states[state] * _prob #状态转移\n",
    "                    else:\n",
    "                        new_states[state + _mass] = states[state] * _prob #状态转移\n",
    "    states = topk_dict(new_states, k=k)\n",
    "    return states"
   ]
  },
  {
   "cell_type": "code",
   "execution_count": 5,
   "metadata": {},
   "outputs": [
    {
     "name": "stdout",
     "output_type": "stream",
     "text": [
      "0.9997811175987615\n",
      "Wall time: 41.1 ms\n"
     ]
    }
   ],
   "source": [
    "%%time\n",
    "_composition = {'C':40, 'H':100, 'O': 5, 'S': 3}\n",
    "a = iso_dist(_composition)\n",
    "print(sum(a.values()))"
   ]
  },
  {
   "cell_type": "code",
   "execution_count": 7,
   "metadata": {
    "collapsed": true
   },
   "outputs": [],
   "source": [
    "_nist_mass = {el: filter_nist(nist_mass[el], threshold=1e-5) \n",
    "                  for el in nist_mass if el in _composition}"
   ]
  },
  {
   "cell_type": "code",
   "execution_count": 45,
   "metadata": {
    "collapsed": true
   },
   "outputs": [],
   "source": [
    "compositions = pd.read_excel('./isotopes/TW80分子式(1).xlsx').to_dict(orient='record')"
   ]
  },
  {
   "cell_type": "code",
   "execution_count": 94,
   "metadata": {},
   "outputs": [
    {
     "name": "stdout",
     "output_type": "stream",
     "text": [
      "F的长度为(100,),占比为0.9986821838961887\n"
     ]
    },
    {
     "data": {
      "text/plain": [
       "<matplotlib.axes._subplots.AxesSubplot at 0x215056785c0>"
      ]
     },
     "execution_count": 94,
     "metadata": {},
     "output_type": "execute_result"
    },
    {
     "data": {
      "image/png": "[encoded data removed]",
      "text/plain": [
       "<matplotlib.figure.Figure at 0x2150597fb70>"
      ]
     },
     "metadata": {},
     "output_type": "display_data"
    }
   ],
   "source": [
    "F = pd.Series(iso_dist(compositions[-1]))\n",
    "print('F的长度为{},占比为{}'.format(F.shape, F.sum()))\n",
    "_F = F.groupby(F.index.values.round(5)).sum().sort_values(ascending=False)\n",
    "_F.head(10).plot.bar()"
   ]
  }
 ],
 "metadata": {
  "kernelspec": {
   "display_name": "Python 3",
   "language": "python",
   "name": "python3"
  },
  "language_info": {
   "codemirror_mode": {
    "name": "ipython",
    "version": 3
   },
   "file_extension": ".py",
   "mimetype": "text/x-python",
   "name": "python",
   "nbconvert_exporter": "python",
   "pygments_lexer": "ipython3",
   "version": "3.6.1"
  }
 },
 "nbformat": 4,
 "nbformat_minor": 2
}
