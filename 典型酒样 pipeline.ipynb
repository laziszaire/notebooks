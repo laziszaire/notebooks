{
 "cells": [
  {
   "cell_type": "code",
   "execution_count": 1,
   "metadata": {
    "collapsed": true
   },
   "outputs": [],
   "source": [
    "from Chemometrics.basic import *\n",
    "%matplotlib inline\n",
    "plt.rcParams['font.sans-serif'] = 'SimHei'"
   ]
  },
  {
   "cell_type": "code",
   "execution_count": 3,
   "metadata": {
    "collapsed": true
   },
   "outputs": [],
   "source": [
    "# load the data:X,y\n",
    "with open('./洋河典型.csv') as f:\n",
    "    df =pd.read_csv(f,delimiter='\\t')\n",
    "d = df.dropna(axis=1,how='all').dropna(axis=0)\n",
    "from sklearn.preprocessing import LabelEncoder\n",
    "y = d['分类名称']\n",
    "X = d.loc[:,'1':]\n",
    "psave(dict(X=X,y=y),'./data/洋河典型.p')"
   ]
  },
  {
   "cell_type": "code",
   "execution_count": 33,
   "metadata": {
    "collapsed": true
   },
   "outputs": [],
   "source": [
    "#split the data\n",
    "from sklearn.model_selection import train_test_split\n",
    "X_train, X_test, y_train, y_test = train_test_split(X,y,random_state=1,stratify=y)"
   ]
  },
  {
   "cell_type": "code",
   "execution_count": 40,
   "metadata": {
    "collapsed": true
   },
   "outputs": [],
   "source": [
    "# build pipeline\n",
    "pipe_steps = [('preprocessing',None),\n",
    "              ('f_select',None),\n",
    "              ('clf',SVC())]\n",
    "from sklearn.pipeline import Pipeline\n",
    "from tempfile import mkdtemp\n",
    "from shutil import rmtree\n",
    "cachedir = mkdtemp()\n",
    "pipe = Pipeline(pipe_steps,memory=cachedir)"
   ]
  },
  {
   "cell_type": "code",
   "execution_count": 41,
   "metadata": {
    "collapsed": true
   },
   "outputs": [],
   "source": [
    "# build parameter grid\n",
    "from sklearn.preprocessing import StandardScaler,MinMaxScaler\n",
    "from sklearn.feature_selection import f_classif,mutual_info_classif,chi2,SelectKBest\n",
    "from sklearn.tree import DecisionTreeClassifier\n",
    "from sklearn.ensemble import RandomForestClassifier\n",
    "from sklearn.svm import SVC\n",
    "\n",
    "np.random.seed(1)\n",
    "param_grid = dict(preprocessing = [None,StandardScaler(),MinMaxScaler()],\n",
    "                  f_select = [SelectKBest(f_classif,k=10)],\n",
    "                  f_select__k = range(5,30),\n",
    "                  f_select__score_func = [f_classif,mutual_info_classif],\n",
    "                  clf = [DecisionTreeClassifier(class_weight='balanced'),\n",
    "                         RandomForestClassifier(class_weight='balanced')],\n",
    "                  clf__min_samples_leaf = range(2,5))"
   ]
  },
  {
   "cell_type": "code",
   "execution_count": 42,
   "metadata": {},
   "outputs": [
    {
     "data": {
      "text/plain": [
       "GridSearchCV(cv=None, error_score='raise',\n",
       "       estimator=Pipeline(memory='C:\\\\Users\\\\litao\\\\AppData\\\\Local\\\\Temp\\\\tmp6zeq0q13',\n",
       "     steps=[('preprocessing', None), ('f_select', None), ('clf', SVC(C=1.0, cache_size=200, class_weight=None, coef0=0.0,\n",
       "  decision_function_shape='ovr', degree=3, gamma='auto', kernel='rbf',\n",
       "  max_iter=-1, probability=False, random_state=None, shrinking=True,\n",
       "  tol=0.001, verbose=False))]),\n",
       "       fit_params=None, iid=True, n_jobs=-1,\n",
       "       param_grid={'preprocessing': [None, StandardScaler(copy=True, with_mean=True, with_std=True), MinMaxScaler(copy=True, feature_range=(0, 1))], 'f_select': [SelectKBest(k=5,\n",
       "      score_func=<function mutual_info_classif at 0x000001B617802A60>)], 'f_select__k': range(5, 30), 'f_select__score_func': [<... random_state=None,\n",
       "            verbose=0, warm_start=False)], 'clf__min_samples_leaf': range(2, 5)},\n",
       "       pre_dispatch='2*n_jobs', refit=True, return_train_score='warn',\n",
       "       scoring=None, verbose=0)"
      ]
     },
     "execution_count": 42,
     "metadata": {},
     "output_type": "execute_result"
    }
   ],
   "source": [
    "#gridsearch CV\n",
    "from sklearn.model_selection import GridSearchCV\n",
    "grid_search = GridSearchCV(pipe,param_grid=param_grid,n_jobs=-1)\n",
    "grid_search.fit(X_train,y_train)"
   ]
  },
  {
   "cell_type": "code",
   "execution_count": 48,
   "metadata": {
    "collapsed": true
   },
   "outputs": [],
   "source": [
    "#plot_tree(grid_search.best_estimator_,X_train.columns)"
   ]
  },
  {
   "cell_type": "markdown",
   "metadata": {},
   "source": [
    "# model evaluation\n",
    "- train set"
   ]
  },
  {
   "cell_type": "code",
   "execution_count": 49,
   "metadata": {},
   "outputs": [
    {
     "data": {
      "text/plain": [
       "Pipeline(memory='C:\\\\Users\\\\litao\\\\AppData\\\\Local\\\\Temp\\\\tmp6zeq0q13',\n",
       "     steps=[('preprocessing', StandardScaler(copy=True, with_mean=True, with_std=True)), ('f_select', SelectKBest(k=5,\n",
       "      score_func=<function mutual_info_classif at 0x000001B617802A60>)), ('clf', DecisionTreeClassifier(class_weight='balanced', criterion='gini',\n",
       "            max_depth=None, max_feature...      min_weight_fraction_leaf=0.0, presort=False, random_state=None,\n",
       "            splitter='best'))])"
      ]
     },
     "execution_count": 49,
     "metadata": {},
     "output_type": "execute_result"
    }
   ],
   "source": [
    "# best model performance\n",
    "#train set\n",
    "best_model = grid_search.best_estimator_\n",
    "grid_search.best_estimator_"
   ]
  },
  {
   "cell_type": "markdown",
   "metadata": {},
   "source": [
    "- test set"
   ]
  },
  {
   "cell_type": "code",
   "execution_count": 53,
   "metadata": {},
   "outputs": [
    {
     "data": {
      "image/png": "[encoded data removed]",
      "text/plain": [
       "<matplotlib.figure.Figure at 0x1b618f2ad68>"
      ]
     },
     "metadata": {},
     "output_type": "display_data"
    }
   ],
   "source": [
    "test_preds = best_model.predict(X_test)\n",
    "cm = confusion_matrix(y_test,test_preds)\n",
    "plot_ConfusionMatrix(cm,best_model.classes_)"
   ]
  },
  {
   "cell_type": "code",
   "execution_count": 56,
   "metadata": {
    "collapsed": true
   },
   "outputs": [],
   "source": [
    "data = dict(best_model=best_model,\n",
    "            description='洋河酒典型酒样，pipeline gridsearchCV优化的最好结果')\n",
    "psave(data=data,file_name='洋河典型酒样bestmodel2018-2-8.p')"
   ]
  }
 ],
 "metadata": {
  "kernelspec": {
   "display_name": "Python 3",
   "language": "python",
   "name": "python3"
  },
  "language_info": {
   "codemirror_mode": {
    "name": "ipython",
    "version": 3
   },
   "file_extension": ".py",
   "mimetype": "text/x-python",
   "name": "python",
   "nbconvert_exporter": "python",
   "pygments_lexer": "ipython3",
   "version": "3.6.1"
  }
 },
 "nbformat": 4,
 "nbformat_minor": 2
}
