{
 "cells": [
  {
   "cell_type": "code",
   "execution_count": 1,
   "metadata": {},
   "outputs": [
    {
     "name": "stderr",
     "output_type": "stream",
     "text": [
      "/home/bill/anaconda3/lib/python3.6/site-packages/h5py/__init__.py:34: FutureWarning: Conversion of the second argument of issubdtype from `float` to `np.floating` is deprecated. In future, it will be treated as `np.float64 == np.dtype(float).type`.\n",
      "  from ._conv import register_converters as _register_converters\n"
     ]
    }
   ],
   "source": [
    "import tensorflow as tf\n",
    "import numpy as np"
   ]
  },
  {
   "cell_type": "markdown",
   "metadata": {},
   "source": [
    "# NER模型: 命名实体识别\n",
    "input: window  \n",
    "loss: softmax-CE"
   ]
  },
  {
   "cell_type": "markdown",
   "metadata": {},
   "source": [
    "## build the graph"
   ]
  },
  {
   "cell_type": "code",
   "execution_count": 2,
   "metadata": {
    "collapsed": true
   },
   "outputs": [],
   "source": [
    "#config\n",
    "n_window_features = 2\n",
    "embed_size = 10\n",
    "h_size =3\n",
    "n_classes = 3\n",
    "learning_rate = .01\n",
    "\n",
    "g = tf.Graph()\n",
    "with g.as_default():\n",
    "    #parameters\n",
    "    _init_xavier = tf.contrib.layers.xavier_initializer()\n",
    "    _init_zero = tf.zeros_initializer()\n",
    "    W = tf.get_variable('W', shape=(n_window_features*embed_size, h_size), \n",
    "                        dtype=tf.float32,\n",
    "                        initializer=_init_xavier)\n",
    "    b1 = tf.get_variable('b1', shape=(h_size,),\n",
    "                       dtype=tf.float32,\n",
    "                       initializer=_init_zero)\n",
    "    U = tf.get_variable('U', shape=(h_size, n_classes), \n",
    "                        dtype=tf.float32, initializer=_init_xavier)\n",
    "    b2 = tf.get_variable('b2', shape=(n_classes,),\n",
    "                         dtype=tf.float32, initializer=_init_zero)\n",
    "    pretrained_embeddings = tf.constant(np.random.randn(10,10), dtype=tf.float32)\n",
    "    E = tf.Variable(pretrained_embeddings)\n",
    "    \n",
    "    #predition\n",
    "    x = tf.placeholder(dtype=tf.int32, shape=(None, n_window_features), name='input')\n",
    "    _e = tf.nn.embedding_lookup(E, x)\n",
    "    e = tf.reshape(_e, (-1, n_window_features*embed_size))\n",
    "    h = tf.nn.relu(tf.matmul(e, W) + b1)\n",
    "    dropout = tf.placeholder(tf.float32, name='dropout')\n",
    "    h_drop = tf.nn.dropout(h, dropout)\n",
    "    logits = tf.matmul(h_drop, U) + b2\n",
    "    labels = tf.placeholder(tf.int32, shape=(None,), name='labels')\n",
    "    loss = tf.nn.sparse_softmax_cross_entropy_with_logits(labels=labels,\n",
    "                                                         logits=logits)\n",
    "    loss = tf.reduce_mean(loss)\n",
    "    #train\n",
    "    optimizer = tf.train.AdamOptimizer(learning_rate)\n",
    "    train_op = optimizer.minimize(loss)\n",
    "    \n",
    "    #init variables\n",
    "    init_op = tf.global_variables_initializer()\n",
    "    saver = tf.train.Saver()"
   ]
  },
  {
   "cell_type": "markdown",
   "metadata": {},
   "source": [
    "## run the graphical model"
   ]
  },
  {
   "cell_type": "code",
   "execution_count": 7,
   "metadata": {},
   "outputs": [
    {
     "name": "stdout",
     "output_type": "stream",
     "text": [
      "0.011966233\n"
     ]
    }
   ],
   "source": [
    "#run\n",
    "# x是一个中心词的window\n",
    "feed_dict = {x: [[1, 2], [3, 2], [4, 3], [4, 4]],\n",
    "         labels: [1, 1, 2, 2],\n",
    "         dropout: .5}\n",
    "\n",
    "#\n",
    "model_saved = './tensorflow-save/'\n",
    "with tf.Session(graph=g) as sess:\n",
    "    sess.run(init_op)\n",
    "    N_run = 0\n",
    "    while True:\n",
    "        _, _loss = sess.run([train_op,loss],feed_dict=feed_dict)\n",
    "        N_run += 1\n",
    "        if N_run%100 == 0:\n",
    "            print(f'{N_run}的loss为{_loss}')\n",
    "        if (_loss < .1) or (N_run > 1000):\n",
    "            print(_loss)\n",
    "            saver.save(sess, model_saved)\n",
    "            sess.close()\n",
    "            break"
   ]
  },
  {
   "cell_type": "markdown",
   "metadata": {},
   "source": [
    "# restore and predict"
   ]
  },
  {
   "cell_type": "code",
   "execution_count": 8,
   "metadata": {},
   "outputs": [
    {
     "name": "stdout",
     "output_type": "stream",
     "text": [
      "INFO:tensorflow:Restoring parameters from ./tensorflow-save/\n"
     ]
    },
    {
     "data": {
      "text/plain": [
       "array([1, 1, 2, 2])"
      ]
     },
     "execution_count": 8,
     "metadata": {},
     "output_type": "execute_result"
    }
   ],
   "source": [
    "feed_dict = {x: [[1, 2], [3, 2], [4, 3], [4, 4]], dropout: 1}\n",
    "with tf.Session(graph=g) as sess:\n",
    "    sess.run(init_op)\n",
    "    saver.restore(sess, model_saved)\n",
    "    _preds = sess.run(tf.argmax(logits, axis=1), feed_dict=feed_dict)\n",
    "_preds"
   ]
  }
 ],
 "metadata": {
  "kernelspec": {
   "display_name": "Python 3",
   "language": "python",
   "name": "python3"
  },
  "language_info": {
   "codemirror_mode": {
    "name": "ipython",
    "version": 3
   },
   "file_extension": ".py",
   "mimetype": "text/x-python",
   "name": "python",
   "nbconvert_exporter": "python",
   "pygments_lexer": "ipython3",
   "version": "3.6.3"
  }
 },
 "nbformat": 4,
 "nbformat_minor": 2
}
