{
 "cells": [
  {
   "cell_type": "code",
   "execution_count": 1,
   "metadata": {
    "collapsed": true
   },
   "outputs": [],
   "source": [
    "import pandas as pd\n",
    "import numpy as np\n",
    "import glob\n",
    "import os"
   ]
  },
  {
   "cell_type": "code",
   "execution_count": 28,
   "metadata": {
    "collapsed": true
   },
   "outputs": [],
   "source": [
    "c = np.diag(np.random.randn(10,))"
   ]
  },
  {
   "cell_type": "code",
   "execution_count": 83,
   "metadata": {
    "collapsed": false
   },
   "outputs": [
    {
     "data": {
      "text/plain": [
       "array([[-0.7718897 ,  0.40894122, -0.66395459,  0.74349265,  0.37151965,\n",
       "        -0.53131088, -0.26622435,  1.22679663, -0.92132766,  0.36683612,\n",
       "         0.90792269, -0.5561285 ,  1.04176995, -0.51271148, -1.00985685,\n",
       "        -0.39497697, -1.47077339,  0.09306963, -0.95224428,  0.27643105],\n",
       "       [ 0.54999788,  0.02936634,  0.1041145 , -0.69575209,  0.13404809,\n",
       "        -1.60664877,  0.50949091,  0.27899077,  1.55490515,  1.32289526,\n",
       "        -1.95202533,  0.40299383,  0.27679592,  1.16043608, -0.29528798,\n",
       "        -0.19541588, -0.13316736,  0.54861781, -0.15656827, -0.47037661],\n",
       "       [-0.42210492, -1.34734457, -1.5461121 ,  1.19571826, -0.65580438,\n",
       "        -1.4091347 ,  1.67055141, -0.24773935,  1.96474165, -0.27765444,\n",
       "        -1.18651985,  0.17444068,  1.0298039 ,  0.52913233, -2.80726561,\n",
       "        -0.42824716, -1.26423082,  0.92140315, -0.062955  ,  0.62277714],\n",
       "       [ 1.15768451, -0.01876553,  0.02849132,  2.22700897,  1.04379931,\n",
       "        -1.85754554,  0.60025944,  0.76286232,  1.7092701 , -0.26643593,\n",
       "        -0.39065206, -0.6764689 , -0.40986774,  0.92496169, -1.25144925,\n",
       "         0.18548268,  0.52337242,  0.42659471,  2.05528035,  1.00351189],\n",
       "       [-0.36351539, -0.80516479, -0.32201762, -0.66458739, -0.28154849,\n",
       "        -0.43396323,  0.21543343,  1.11623113,  2.2780403 ,  1.32507906,\n",
       "         0.51241852,  1.66054702, -1.29485071,  0.58707212,  0.75927454,\n",
       "        -1.83594007,  0.60858743, -0.607712  ,  2.26851749,  0.88074056],\n",
       "       [-0.21648576, -0.75135523,  0.82350227, -0.04474421, -2.68566795,\n",
       "         0.56258622,  1.95876253,  1.5661097 ,  0.19674412,  1.82797871,\n",
       "        -1.57323213,  0.08241051, -0.85359473, -1.27959568, -0.40866271,\n",
       "        -0.92760447,  0.40573772, -0.0535803 , -1.26504061, -1.19328841],\n",
       "       [-2.23240957,  0.48430139, -0.21376551,  0.52403291,  0.00756602,\n",
       "        -0.89132442,  0.24909498,  0.01943397,  0.31766561, -1.42726171,\n",
       "        -0.56536092, -0.51530461,  2.28303189, -0.21094928,  0.4441088 ,\n",
       "        -2.52349407, -0.37354255, -0.73931296, -0.2723738 , -0.09454555],\n",
       "       [ 0.45856231,  1.29048715, -0.92260577, -0.2535858 , -1.32666299,\n",
       "         0.81149285,  0.30427182,  1.14291554, -0.33805948, -0.13488873,\n",
       "         0.41976989, -0.51511971, -1.43744442, -0.70653785, -0.61552362,\n",
       "         1.7911578 ,  0.5864571 ,  1.61248467,  0.29516258,  0.18776579],\n",
       "       [-1.784621  , -0.86807828,  0.15767543,  0.51106283, -1.4449018 ,\n",
       "         0.99515808, -1.18020256,  0.43233072, -0.61810211, -0.65261604,\n",
       "         1.84817114, -1.07970492,  0.72229327, -0.32361342,  1.03651632,\n",
       "        -1.24189386, -0.29382406, -1.02994926, -1.35698516, -0.05032877],\n",
       "       [ 0.87459791,  0.00825601,  0.14614341, -1.18401229, -1.74086872,\n",
       "         1.17825462, -0.96275924, -0.81000104,  0.30175962,  0.04239755,\n",
       "        -0.33037042,  1.70798958,  0.05946453, -0.18369472, -1.49998328,\n",
       "         1.50298316, -0.21133267,  1.85504307,  0.11649088,  1.65062472]])"
      ]
     },
     "execution_count": 83,
     "metadata": {},
     "output_type": "execute_result"
    }
   ],
   "source": [
    "a = np.random.randn(10,20) #10个样本，20个组分"
   ]
  },
  {
   "cell_type": "code",
   "execution_count": 79,
   "metadata": {
    "collapsed": false
   },
   "outputs": [],
   "source": [
    "w = np.random.randn(20,10)#20个组分，10个属性,"
   ]
  },
  {
   "cell_type": "code",
   "execution_count": 77,
   "metadata": {
    "collapsed": true
   },
   "outputs": [],
   "source": [
    "Pw = np.random.randn(10) #每个属性的权重Pw"
   ]
  },
  {
   "cell_type": "code",
   "execution_count": 91,
   "metadata": {
    "collapsed": false
   },
   "outputs": [
    {
     "data": {
      "text/plain": [
       "(10, 20)"
      ]
     },
     "execution_count": 91,
     "metadata": {},
     "output_type": "execute_result"
    }
   ],
   "source": [
    "s=a*w.dot(Pw)\n",
    "s.shape"
   ]
  },
  {
   "cell_type": "code",
   "execution_count": 41,
   "metadata": {
    "collapsed": false
   },
   "outputs": [
    {
     "data": {
      "text/plain": [
       "array([[ 0.03182381,  0.5366284 ],\n",
       "       [-1.01943418, -0.1684098 ],\n",
       "       [ 0.39357045,  0.30604706],\n",
       "       [-1.90640518, -0.00660601],\n",
       "       [ 1.35358605,  1.73055968],\n",
       "       [-0.85357614,  0.52656621],\n",
       "       [ 0.44240537, -1.36129895],\n",
       "       [ 0.22365257, -0.10572088],\n",
       "       [-0.60936265, -0.56696292],\n",
       "       [-0.30409895,  0.02450244]])"
      ]
     },
     "execution_count": 41,
     "metadata": {},
     "output_type": "execute_result"
    }
   ],
   "source": [
    "c.dot(w)"
   ]
  },
  {
   "cell_type": "code",
   "execution_count": 46,
   "metadata": {
    "collapsed": false
   },
   "outputs": [
    {
     "data": {
      "text/plain": [
       "array([ 0.03182381, -1.01943418,  0.39357045, -1.90640518,  1.35358605,\n",
       "       -0.85357614,  0.44240537,  0.22365257, -0.60936265, -0.30409895])"
      ]
     },
     "execution_count": 46,
     "metadata": {},
     "output_type": "execute_result"
    }
   ],
   "source": [
    "c.dot(w).dot(Pws)"
   ]
  },
  {
   "cell_type": "code",
   "execution_count": 2,
   "metadata": {
    "collapsed": false
   },
   "outputs": [],
   "source": [
    "# 工作路径- 文件存放的文件夹\n",
    "tests = pd.read_excel('./tests.xlsx') #读表\n",
    "properties = pd.read_excel('./properties.xlsx')"
   ]
  },
  {
   "cell_type": "code",
   "execution_count": 3,
   "metadata": {
    "collapsed": false
   },
   "outputs": [],
   "source": [
    "path =r'./tests' #存放tests的文件夹\n",
    "allFiles = glob.glob(path + \"/*.xlsx\")\n",
    "parts = pd.DataFrame()\n",
    "list_ = []\n",
    "for file_ in allFiles:\n",
    "    df = pd.read_excel(file_,index_col=0, header=0)\n",
    "    list_.append(df)\n",
    "parts = pd.concat(list_,axis=1)\n",
    "parts.columns = list(map(lambda x:x[len(path+'/'):-len('.xlsx')],allFiles))\n",
    "parts.fillna(0,inplace=True)"
   ]
  },
  {
   "cell_type": "code",
   "execution_count": 4,
   "metadata": {
    "collapsed": false
   },
   "outputs": [],
   "source": [
    "parts.to_csv('./parts.xls')"
   ]
  },
  {
   "cell_type": "code",
   "execution_count": 5,
   "metadata": {
    "collapsed": false
   },
   "outputs": [
    {
     "data": {
      "text/html": [
       "<div>\n",
       "<table border=\"1\" class=\"dataframe\">\n",
       "  <thead>\n",
       "    <tr style=\"text-align: right;\">\n",
       "      <th></th>\n",
       "      <th>方向盘</th>\n",
       "      <th>方向盘1</th>\n",
       "      <th>方向盘2</th>\n",
       "      <th>方向盘3</th>\n",
       "      <th>顶棚</th>\n",
       "      <th>顶棚2</th>\n",
       "    </tr>\n",
       "  </thead>\n",
       "  <tbody>\n",
       "    <tr>\n",
       "      <th>A</th>\n",
       "      <td>0.0</td>\n",
       "      <td>0.0</td>\n",
       "      <td>0.0</td>\n",
       "      <td>0.0</td>\n",
       "      <td>0.0</td>\n",
       "      <td>2.0</td>\n",
       "    </tr>\n",
       "    <tr>\n",
       "      <th>C</th>\n",
       "      <td>0.3</td>\n",
       "      <td>0.3</td>\n",
       "      <td>0.3</td>\n",
       "      <td>0.3</td>\n",
       "      <td>2.0</td>\n",
       "      <td>2.0</td>\n",
       "    </tr>\n",
       "    <tr>\n",
       "      <th>D</th>\n",
       "      <td>0.4</td>\n",
       "      <td>0.0</td>\n",
       "      <td>0.0</td>\n",
       "      <td>1.0</td>\n",
       "      <td>0.0</td>\n",
       "      <td>0.0</td>\n",
       "    </tr>\n",
       "    <tr>\n",
       "      <th>E</th>\n",
       "      <td>0.2</td>\n",
       "      <td>0.2</td>\n",
       "      <td>0.2</td>\n",
       "      <td>0.2</td>\n",
       "      <td>0.0</td>\n",
       "      <td>0.0</td>\n",
       "    </tr>\n",
       "    <tr>\n",
       "      <th>G</th>\n",
       "      <td>0.0</td>\n",
       "      <td>0.0</td>\n",
       "      <td>0.0</td>\n",
       "      <td>0.0</td>\n",
       "      <td>5.0</td>\n",
       "      <td>5.0</td>\n",
       "    </tr>\n",
       "    <tr>\n",
       "      <th>M</th>\n",
       "      <td>0.0</td>\n",
       "      <td>0.0</td>\n",
       "      <td>0.0</td>\n",
       "      <td>0.0</td>\n",
       "      <td>4.0</td>\n",
       "      <td>4.0</td>\n",
       "    </tr>\n",
       "    <tr>\n",
       "      <th>S</th>\n",
       "      <td>0.0</td>\n",
       "      <td>0.2</td>\n",
       "      <td>0.2</td>\n",
       "      <td>0.2</td>\n",
       "      <td>1.0</td>\n",
       "      <td>1.0</td>\n",
       "    </tr>\n",
       "    <tr>\n",
       "      <th>W</th>\n",
       "      <td>0.0</td>\n",
       "      <td>0.0</td>\n",
       "      <td>2.0</td>\n",
       "      <td>2.0</td>\n",
       "      <td>0.0</td>\n",
       "      <td>0.0</td>\n",
       "    </tr>\n",
       "  </tbody>\n",
       "</table>\n",
       "</div>"
      ],
      "text/plain": [
       "   方向盘  方向盘1  方向盘2  方向盘3   顶棚  顶棚2\n",
       "A  0.0   0.0   0.0   0.0  0.0  2.0\n",
       "C  0.3   0.3   0.3   0.3  2.0  2.0\n",
       "D  0.4   0.0   0.0   1.0  0.0  0.0\n",
       "E  0.2   0.2   0.2   0.2  0.0  0.0\n",
       "G  0.0   0.0   0.0   0.0  5.0  5.0\n",
       "M  0.0   0.0   0.0   0.0  4.0  4.0\n",
       "S  0.0   0.2   0.2   0.2  1.0  1.0\n",
       "W  0.0   0.0   2.0   2.0  0.0  0.0"
      ]
     },
     "execution_count": 5,
     "metadata": {},
     "output_type": "execute_result"
    }
   ],
   "source": [
    "parts"
   ]
  },
  {
   "cell_type": "markdown",
   "metadata": {},
   "source": [
    "不同部位的空气得分Y?"
   ]
  },
  {
   "cell_type": "code",
   "execution_count": 6,
   "metadata": {
    "collapsed": true
   },
   "outputs": [],
   "source": [
    "scores = pd.read_excel('./scores.xlsx',index_col=0)"
   ]
  },
  {
   "cell_type": "code",
   "execution_count": 7,
   "metadata": {
    "collapsed": false
   },
   "outputs": [
    {
     "data": {
      "text/html": [
       "<div>\n",
       "<table border=\"1\" class=\"dataframe\">\n",
       "  <thead>\n",
       "    <tr style=\"text-align: right;\">\n",
       "      <th></th>\n",
       "      <th>得分</th>\n",
       "    </tr>\n",
       "    <tr>\n",
       "      <th>部位</th>\n",
       "      <th></th>\n",
       "    </tr>\n",
       "  </thead>\n",
       "  <tbody>\n",
       "    <tr>\n",
       "      <th>方向盘</th>\n",
       "      <td>50</td>\n",
       "    </tr>\n",
       "    <tr>\n",
       "      <th>顶棚</th>\n",
       "      <td>60</td>\n",
       "    </tr>\n",
       "    <tr>\n",
       "      <th>方向盘1</th>\n",
       "      <td>51</td>\n",
       "    </tr>\n",
       "    <tr>\n",
       "      <th>方向盘2</th>\n",
       "      <td>52</td>\n",
       "    </tr>\n",
       "    <tr>\n",
       "      <th>顶棚1</th>\n",
       "      <td>20</td>\n",
       "    </tr>\n",
       "    <tr>\n",
       "      <th>顶棚2</th>\n",
       "      <td>30</td>\n",
       "    </tr>\n",
       "    <tr>\n",
       "      <th>方向盘3</th>\n",
       "      <td>55</td>\n",
       "    </tr>\n",
       "  </tbody>\n",
       "</table>\n",
       "</div>"
      ],
      "text/plain": [
       "      得分\n",
       "部位      \n",
       "方向盘   50\n",
       "顶棚    60\n",
       "方向盘1  51\n",
       "方向盘2  52\n",
       "顶棚1   20\n",
       "顶棚2   30\n",
       "方向盘3  55"
      ]
     },
     "execution_count": 7,
     "metadata": {},
     "output_type": "execute_result"
    }
   ],
   "source": [
    "scores"
   ]
  },
  {
   "cell_type": "markdown",
   "metadata": {},
   "source": [
    "# 最小二乘拟合\n",
    "~~~\n",
    "parts*w = scores\n",
    "w = np.linalg.pinv(parts.dot(parts.T)).dot(parts.dot(scores))\n",
    "~~~"
   ]
  },
  {
   "cell_type": "code",
   "execution_count": 8,
   "metadata": {
    "collapsed": false
   },
   "outputs": [
    {
     "ename": "ValueError",
     "evalue": "matrices are not aligned",
     "output_type": "error",
     "traceback": [
      "\u001b[0;31m---------------------------------------------------------------------------\u001b[0m",
      "\u001b[0;31mValueError\u001b[0m                                Traceback (most recent call last)",
      "\u001b[0;32m<ipython-input-8-ab16932b0386>\u001b[0m in \u001b[0;36m<module>\u001b[0;34m()\u001b[0m\n\u001b[0;32m----> 1\u001b[0;31m \u001b[0mw\u001b[0m \u001b[0;34m=\u001b[0m \u001b[0mnp\u001b[0m\u001b[0;34m.\u001b[0m\u001b[0mlinalg\u001b[0m\u001b[0;34m.\u001b[0m\u001b[0mpinv\u001b[0m\u001b[0;34m(\u001b[0m\u001b[0mparts\u001b[0m\u001b[0;34m.\u001b[0m\u001b[0mdot\u001b[0m\u001b[0;34m(\u001b[0m\u001b[0mparts\u001b[0m\u001b[0;34m.\u001b[0m\u001b[0mT\u001b[0m\u001b[0;34m)\u001b[0m\u001b[0;34m)\u001b[0m\u001b[0;34m.\u001b[0m\u001b[0mdot\u001b[0m\u001b[0;34m(\u001b[0m\u001b[0mparts\u001b[0m\u001b[0;34m.\u001b[0m\u001b[0mdot\u001b[0m\u001b[0;34m(\u001b[0m\u001b[0mscores\u001b[0m\u001b[0;34m)\u001b[0m\u001b[0;34m)\u001b[0m\u001b[0;34m\u001b[0m\u001b[0m\n\u001b[0m",
      "\u001b[0;32m/home/tao/anaconda3/lib/python3.5/site-packages/pandas/core/frame.py\u001b[0m in \u001b[0;36mdot\u001b[0;34m(self, other)\u001b[0m\n\u001b[1;32m    744\u001b[0m             if (len(common) > len(self.columns) or\n\u001b[1;32m    745\u001b[0m                     len(common) > len(other.index)):\n\u001b[0;32m--> 746\u001b[0;31m                 \u001b[0;32mraise\u001b[0m \u001b[0mValueError\u001b[0m\u001b[0;34m(\u001b[0m\u001b[0;34m'matrices are not aligned'\u001b[0m\u001b[0;34m)\u001b[0m\u001b[0;34m\u001b[0m\u001b[0m\n\u001b[0m\u001b[1;32m    747\u001b[0m \u001b[0;34m\u001b[0m\u001b[0m\n\u001b[1;32m    748\u001b[0m             \u001b[0mleft\u001b[0m \u001b[0;34m=\u001b[0m \u001b[0mself\u001b[0m\u001b[0;34m.\u001b[0m\u001b[0mreindex\u001b[0m\u001b[0;34m(\u001b[0m\u001b[0mcolumns\u001b[0m\u001b[0;34m=\u001b[0m\u001b[0mcommon\u001b[0m\u001b[0;34m,\u001b[0m \u001b[0mcopy\u001b[0m\u001b[0;34m=\u001b[0m\u001b[0;32mFalse\u001b[0m\u001b[0;34m)\u001b[0m\u001b[0;34m\u001b[0m\u001b[0m\n",
      "\u001b[0;31mValueError\u001b[0m: matrices are not aligned"
     ]
    }
   ],
   "source": [
    "w = np.linalg.pinv(parts.dot(parts.T)).dot(parts.dot(scores))"
   ]
  },
  {
   "cell_type": "markdown",
   "metadata": {},
   "source": [
    "实验测试数据表tests.xlsx格式：\n",
    "- 从A1开始\n",
    "- 第一行表头\n",
    "- 每行为一个样本的测试结果:各成分浓度\n",
    "- 每列为一个成分的浓度，没有则为0\n",
    "---\n",
    "化合物属性信息表properties.xlsx格式：\n",
    "- 从A1开始\n",
    "- 第一行表头\n",
    "- 每行为一个化合物的属性信息\n",
    "- 每列为一种属性值"
   ]
  },
  {
   "cell_type": "code",
   "execution_count": null,
   "metadata": {
    "collapsed": true
   },
   "outputs": [],
   "source": [
    "def avg_properties(tests, properties):\n",
    "    #样品浓度-->样本属性\n",
    "    \n",
    "    tests.set_index(tests.columns[0],inplace=True)\n",
    "    properties.set_index(properties.columns[0],inplace=True)\n",
    "    properties = properties.loc[tests.columns,:]\n",
    "    tests = tests.T/tests.T.sum()\n",
    "    results = tests.T.dot(properties)\n",
    "    return results"
   ]
  },
  {
   "cell_type": "code",
   "execution_count": null,
   "metadata": {
    "collapsed": false
   },
   "outputs": [],
   "source": [
    "results = avg_properties(tests, properties)\n",
    "tofile = './results_tests.xls'\n",
    "results.to_excel(tofile) #写入数据到results_tests.xls"
   ]
  },
  {
   "cell_type": "markdown",
   "metadata": {},
   "source": [
    "最终结果为results_tests.xls：\n",
    "- 每行为一个样本的属性值"
   ]
  },
  {
   "cell_type": "code",
   "execution_count": null,
   "metadata": {
    "collapsed": false
   },
   "outputs": [],
   "source": [
    "properties"
   ]
  },
  {
   "cell_type": "code",
   "execution_count": null,
   "metadata": {
    "collapsed": false
   },
   "outputs": [],
   "source": [
    "tests"
   ]
  },
  {
   "cell_type": "code",
   "execution_count": null,
   "metadata": {
    "collapsed": false
   },
   "outputs": [],
   "source": [
    "results"
   ]
  },
  {
   "cell_type": "code",
   "execution_count": null,
   "metadata": {
    "collapsed": false
   },
   "outputs": [],
   "source": [
    "np.random.randn(10,1)"
   ]
  }
 ],
 "metadata": {
  "anaconda-cloud": {},
  "kernelspec": {
   "display_name": "Python [default]",
   "language": "python",
   "name": "python3"
  },
  "language_info": {
   "codemirror_mode": {
    "name": "ipython",
    "version": 3
   },
   "file_extension": ".py",
   "mimetype": "text/x-python",
   "name": "python",
   "nbconvert_exporter": "python",
   "pygments_lexer": "ipython3",
   "version": "3.5.2"
  }
 },
 "nbformat": 4,
 "nbformat_minor": 2
}
