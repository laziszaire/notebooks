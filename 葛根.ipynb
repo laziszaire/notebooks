{
 "cells": [
  {
   "cell_type": "code",
   "execution_count": 1,
   "metadata": {
    "collapsed": true
   },
   "outputs": [],
   "source": [
    "from Chemometrics.basic import read_spc\n",
    "import glob\n",
    "import pandas as pd \n",
    "from Chemometrics.basic import regstr,plot_ConfusionMatrix\n",
    "import numpy as np\n",
    "from sklearn.tree import DecisionTreeClassifier\n",
    "from sklearn.neighbors import KNeighborsClassifier\n",
    "from sklearn.model_selection import cross_val_score,GridSearchCV,cross_val_predict\n",
    "from sklearn.metrics import f1_score,confusion_matrix\n",
    "import matplotlib.pyplot as plt\n",
    "import seaborn as sns\n",
    "from utils import train_and_evaluate\n",
    "plt.rcParams['font.sans-serif']=['SimHei'] #用来正常显示中文标签\n",
    "plt.rcParams['axes.unicode_minus']=False #用来正常显示负号\n",
    "\n",
    "%matplotlib inline"
   ]
  },
  {
   "cell_type": "markdown",
   "metadata": {},
   "source": [
    "# 读取葛根红外数据.spc"
   ]
  },
  {
   "cell_type": "code",
   "execution_count": 2,
   "metadata": {
    "collapsed": true
   },
   "outputs": [],
   "source": [
    "allfiles = glob.glob('./文章合作2-葛根数据-NIR/data/*.spc')"
   ]
  },
  {
   "cell_type": "code",
   "execution_count": 3,
   "metadata": {
    "collapsed": true
   },
   "outputs": [],
   "source": [
    "# 吸光度\n",
    "a = [read_spc(f) for f in allfiles]\n",
    "gg = pd.concat(a,axis=1)\n",
    "# labels\n",
    "snames = [regstr(f,'(?<=\\\\\\\\).*(?=\\s\\.spc)') for f in allfiles]\n",
    "s= [regstr(f,'(?<=\\\\\\\\).*(?=-)')[:4] for f in allfiles]\n",
    "# location\n",
    "locations = [_[:2] for _ in s]\n",
    "gg.columns = snames\n",
    "# 类别\n",
    "names = list(np.unique(s))\n",
    "categories = ['柴葛','柴葛','粉葛','柴葛','粉葛','粉葛','粉葛','粉葛','粉葛','粉葛','柴葛','粉葛']\n",
    "# imbalance class\n",
    "name2categories = dict(zip(names,categories))\n",
    "cats = [name2categories[si] for si in s]\n",
    "labels = [l+c for l,c in zip(locations,cats)]"
   ]
  },
  {
   "cell_type": "markdown",
   "metadata": {},
   "source": [
    "~~~py\n",
    "from Chemometrics.basic import  psave\n",
    "psave({'IR':gg,'locations':locations,'categories':cats,'labels':labels},'葛根.p')\n",
    "~~~"
   ]
  },
  {
   "cell_type": "code",
   "execution_count": 4,
   "metadata": {},
   "outputs": [
    {
     "name": "stdout",
     "output_type": "stream",
     "text": [
      "120个样本,1557个光谱变量\n"
     ]
    },
    {
     "data": {
      "text/html": [
       "<div>\n",
       "<style>\n",
       "    .dataframe thead tr:only-child th {\n",
       "        text-align: right;\n",
       "    }\n",
       "\n",
       "    .dataframe thead th {\n",
       "        text-align: left;\n",
       "    }\n",
       "\n",
       "    .dataframe tbody tr th {\n",
       "        vertical-align: top;\n",
       "    }\n",
       "</style>\n",
       "<table border=\"1\" class=\"dataframe\">\n",
       "  <thead>\n",
       "    <tr style=\"text-align: right;\">\n",
       "      <th>Wavenumber (cm-1)</th>\n",
       "      <th>10001.0283203</th>\n",
       "      <th>9997.17138688</th>\n",
       "      <th>9993.31445344</th>\n",
       "      <th>9989.45752</th>\n",
       "      <th>9985.60058657</th>\n",
       "      <th>9981.74365313</th>\n",
       "      <th>9977.88671969</th>\n",
       "      <th>9974.02978625</th>\n",
       "      <th>9970.17285282</th>\n",
       "      <th>9966.31591938</th>\n",
       "      <th>...</th>\n",
       "      <th>4034.35229351</th>\n",
       "      <th>4030.49536007</th>\n",
       "      <th>4026.63842664</th>\n",
       "      <th>4022.7814932</th>\n",
       "      <th>4018.92455976</th>\n",
       "      <th>4015.06762633</th>\n",
       "      <th>4011.21069289</th>\n",
       "      <th>4007.35375945</th>\n",
       "      <th>4003.49682601</th>\n",
       "      <th>3999.63989258</th>\n",
       "    </tr>\n",
       "  </thead>\n",
       "  <tbody>\n",
       "    <tr>\n",
       "      <th>云南曲靖-01</th>\n",
       "      <td>0.308914</td>\n",
       "      <td>0.308805</td>\n",
       "      <td>0.308864</td>\n",
       "      <td>0.308807</td>\n",
       "      <td>0.308800</td>\n",
       "      <td>0.308688</td>\n",
       "      <td>0.308625</td>\n",
       "      <td>0.308547</td>\n",
       "      <td>0.308563</td>\n",
       "      <td>0.308531</td>\n",
       "      <td>...</td>\n",
       "      <td>0.929343</td>\n",
       "      <td>0.931371</td>\n",
       "      <td>0.933174</td>\n",
       "      <td>0.934645</td>\n",
       "      <td>0.935784</td>\n",
       "      <td>0.936482</td>\n",
       "      <td>0.936842</td>\n",
       "      <td>0.936786</td>\n",
       "      <td>0.936738</td>\n",
       "      <td>0.936358</td>\n",
       "    </tr>\n",
       "    <tr>\n",
       "      <th>云南曲靖-02</th>\n",
       "      <td>0.308121</td>\n",
       "      <td>0.308068</td>\n",
       "      <td>0.308186</td>\n",
       "      <td>0.308081</td>\n",
       "      <td>0.308051</td>\n",
       "      <td>0.308106</td>\n",
       "      <td>0.308199</td>\n",
       "      <td>0.308066</td>\n",
       "      <td>0.308027</td>\n",
       "      <td>0.307928</td>\n",
       "      <td>...</td>\n",
       "      <td>0.929947</td>\n",
       "      <td>0.932067</td>\n",
       "      <td>0.933817</td>\n",
       "      <td>0.935204</td>\n",
       "      <td>0.936287</td>\n",
       "      <td>0.937051</td>\n",
       "      <td>0.937421</td>\n",
       "      <td>0.937363</td>\n",
       "      <td>0.937367</td>\n",
       "      <td>0.937001</td>\n",
       "    </tr>\n",
       "  </tbody>\n",
       "</table>\n",
       "<p>2 rows × 1557 columns</p>\n",
       "</div>"
      ],
      "text/plain": [
       "Wavenumber (cm-1)  10001.028320  9997.171387   9993.314453   9989.457520   \\\n",
       "云南曲靖-01                0.308914      0.308805      0.308864      0.308807   \n",
       "云南曲靖-02                0.308121      0.308068      0.308186      0.308081   \n",
       "\n",
       "Wavenumber (cm-1)  9985.600587   9981.743653   9977.886720   9974.029786   \\\n",
       "云南曲靖-01                0.308800      0.308688      0.308625      0.308547   \n",
       "云南曲靖-02                0.308051      0.308106      0.308199      0.308066   \n",
       "\n",
       "Wavenumber (cm-1)  9970.172853   9966.315919       ...       4034.352294   \\\n",
       "云南曲靖-01                0.308563      0.308531      ...           0.929343   \n",
       "云南曲靖-02                0.308027      0.307928      ...           0.929947   \n",
       "\n",
       "Wavenumber (cm-1)  4030.495360   4026.638427   4022.781493   4018.924560   \\\n",
       "云南曲靖-01                0.931371      0.933174      0.934645      0.935784   \n",
       "云南曲靖-02                0.932067      0.933817      0.935204      0.936287   \n",
       "\n",
       "Wavenumber (cm-1)  4015.067626   4011.210693   4007.353759   4003.496826   \\\n",
       "云南曲靖-01                0.936482      0.936842      0.936786      0.936738   \n",
       "云南曲靖-02                0.937051      0.937421      0.937363      0.937367   \n",
       "\n",
       "Wavenumber (cm-1)  3999.639893   \n",
       "云南曲靖-01                0.936358  \n",
       "云南曲靖-02                0.937001  \n",
       "\n",
       "[2 rows x 1557 columns]"
      ]
     },
     "execution_count": 4,
     "metadata": {},
     "output_type": "execute_result"
    }
   ],
   "source": [
    "print('{1}个样本,{0}个光谱变量'.format(*gg.shape))\n",
    "gg.T.head(2)"
   ]
  },
  {
   "cell_type": "markdown",
   "metadata": {},
   "source": [
    "# data description"
   ]
  },
  {
   "cell_type": "code",
   "execution_count": 5,
   "metadata": {},
   "outputs": [
    {
     "data": {
      "text/html": [
       "<div>\n",
       "<style>\n",
       "    .dataframe thead tr:only-child th {\n",
       "        text-align: right;\n",
       "    }\n",
       "\n",
       "    .dataframe thead th {\n",
       "        text-align: left;\n",
       "    }\n",
       "\n",
       "    .dataframe tbody tr th {\n",
       "        vertical-align: top;\n",
       "    }\n",
       "</style>\n",
       "<table border=\"1\" class=\"dataframe\">\n",
       "  <thead>\n",
       "    <tr style=\"text-align: right;\">\n",
       "      <th></th>\n",
       "      <th>云南柴葛</th>\n",
       "      <th>四川粉葛</th>\n",
       "      <th>安徽柴葛</th>\n",
       "      <th>安徽粉葛</th>\n",
       "      <th>广西粉葛</th>\n",
       "      <th>恩典粉葛</th>\n",
       "      <th>柳州粉葛</th>\n",
       "      <th>湖北粉葛</th>\n",
       "      <th>湖南柴葛</th>\n",
       "      <th>重庆粉葛</th>\n",
       "    </tr>\n",
       "  </thead>\n",
       "  <tbody>\n",
       "    <tr>\n",
       "      <th>label count</th>\n",
       "      <td>20</td>\n",
       "      <td>10</td>\n",
       "      <td>10</td>\n",
       "      <td>10</td>\n",
       "      <td>20</td>\n",
       "      <td>10</td>\n",
       "      <td>10</td>\n",
       "      <td>10</td>\n",
       "      <td>10</td>\n",
       "      <td>10</td>\n",
       "    </tr>\n",
       "  </tbody>\n",
       "</table>\n",
       "</div>"
      ],
      "text/plain": [
       "             云南柴葛  四川粉葛  安徽柴葛  安徽粉葛  广西粉葛  恩典粉葛  柳州粉葛  湖北粉葛  湖南柴葛  重庆粉葛\n",
       "label count    20    10    10    10    20    10    10    10    10    10"
      ]
     },
     "execution_count": 5,
     "metadata": {},
     "output_type": "execute_result"
    }
   ],
   "source": [
    "pd.DataFrame(labels,columns=['label count']).groupby(labels).count().T"
   ]
  },
  {
   "cell_type": "markdown",
   "metadata": {},
   "source": [
    "# data visualizaiton"
   ]
  },
  {
   "cell_type": "markdown",
   "metadata": {},
   "source": [
    "- visualizing the distribution(categorical)\n",
    "- countplot"
   ]
  },
  {
   "cell_type": "code",
   "execution_count": 13,
   "metadata": {},
   "outputs": [
    {
     "data": {
      "image/png": "[encoded data removed]",
      "text/plain": [
       "<matplotlib.figure.Figure at 0x2097b818d30>"
      ]
     },
     "metadata": {},
     "output_type": "display_data"
    }
   ],
   "source": [
    "plt.rcParams['figure.figsize']=(10,5)\n",
    "sns.countplot(labels)\n",
    "plt.ylabel('样品数')\n",
    "plt.savefig('葛根种类地点.png',dpi=300)"
   ]
  },
  {
   "cell_type": "code",
   "execution_count": 16,
   "metadata": {},
   "outputs": [
    {
     "data": {
      "image/png": "[encoded data removed]",
      "text/plain": [
       "<matplotlib.figure.Figure at 0x20900d3ec50>"
      ]
     },
     "metadata": {},
     "output_type": "display_data"
    }
   ],
   "source": [
    "plt.rcParams['figure.figsize']=(6,3)\n",
    "sns.countplot(cats)\n",
    "plt.ylabel('样品数')\n",
    "plt.savefig('葛根种类.png',dpi=300)"
   ]
  },
  {
   "cell_type": "code",
   "execution_count": null,
   "metadata": {
    "collapsed": true
   },
   "outputs": [],
   "source": [
    "plt.rcParams['figure.figsize']=5,10\n",
    "plt.subplot(3,1,3)\n",
    "sns.countplot(labels)\n",
    "plt.subplot(3,1,1)\n",
    "sns.countplot(locations)\n",
    "plt.subplot(3,1,2)\n",
    "sns.countplot(cats)"
   ]
  },
  {
   "cell_type": "markdown",
   "metadata": {},
   "source": [
    "- 共90个样本\n",
    "- 1557个光谱变量"
   ]
  },
  {
   "cell_type": "code",
   "execution_count": null,
   "metadata": {
    "collapsed": true
   },
   "outputs": [],
   "source": [
    "plt.rcParams['figure.figsize']=10,5\n",
    "gg.plot(legend=False)\n",
    "plt.ylabel('log(1/R)') #R: reflectance"
   ]
  },
  {
   "cell_type": "markdown",
   "metadata": {},
   "source": [
    "# 建模\n",
    "## 对地点建模"
   ]
  },
  {
   "cell_type": "code",
   "execution_count": null,
   "metadata": {
    "collapsed": true
   },
   "outputs": [],
   "source": [
    "#决策树-地点分类\n",
    "DT = DecisionTreeClassifier()"
   ]
  },
  {
   "cell_type": "code",
   "execution_count": null,
   "metadata": {
    "collapsed": true
   },
   "outputs": [],
   "source": [
    "clf = train_and_evaluate(gg.T,locations)"
   ]
  },
  {
   "cell_type": "markdown",
   "metadata": {},
   "source": [
    "## refit模型比交叉验证模型的预测效果好算是过拟合吗？\n",
    "- train_test_split\n",
    "- train: cross_validation ==> refit\n",
    "- test: predict"
   ]
  },
  {
   "cell_type": "markdown",
   "metadata": {},
   "source": [
    "## 种类建模"
   ]
  },
  {
   "cell_type": "code",
   "execution_count": null,
   "metadata": {
    "collapsed": true
   },
   "outputs": [],
   "source": [
    "clf = train_and_evaluate(gg.T,cats)"
   ]
  },
  {
   "cell_type": "markdown",
   "metadata": {},
   "source": [
    "## 地点+种类建模"
   ]
  },
  {
   "cell_type": "code",
   "execution_count": null,
   "metadata": {
    "collapsed": true,
    "scrolled": true
   },
   "outputs": [],
   "source": [
    "clf_labels = train_and_evaluate(gg.T,labels)"
   ]
  },
  {
   "cell_type": "code",
   "execution_count": null,
   "metadata": {
    "collapsed": true
   },
   "outputs": [],
   "source": [
    "from Chemometrics.basic import  psave\n",
    "psave({'IR':gg,'locations':locations,'categories':cats,'labels':labels},'葛根.p')"
   ]
  }
 ],
 "metadata": {
  "kernelspec": {
   "display_name": "Python 3",
   "language": "python",
   "name": "python3"
  },
  "language_info": {
   "codemirror_mode": {
    "name": "ipython",
    "version": 3
   },
   "file_extension": ".py",
   "mimetype": "text/x-python",
   "name": "python",
   "nbconvert_exporter": "python",
   "pygments_lexer": "ipython3",
   "version": "3.6.1"
  }
 },
 "nbformat": 4,
 "nbformat_minor": 2
}
