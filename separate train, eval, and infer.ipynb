{
 "cells": [
  {
   "cell_type": "code",
   "execution_count": 2,
   "metadata": {},
   "outputs": [],
   "source": [
    "# import tensorflow as tf"
   ]
  },
  {
   "cell_type": "code",
   "execution_count": 8,
   "metadata": {},
   "outputs": [
    {
     "ename": "AttributeError",
     "evalue": "'int' object has no attribute 'Graph'",
     "output_type": "error",
     "traceback": [
      "\u001b[1;31m---------------------------------------------------------------------------\u001b[0m",
      "\u001b[1;31mAttributeError\u001b[0m                            Traceback (most recent call last)",
      "\u001b[1;32m<ipython-input-8-de22d341fffa>\u001b[0m in \u001b[0;36m<module>\u001b[1;34m()\u001b[0m\n\u001b[0;32m      1\u001b[0m \u001b[0mtf\u001b[0m\u001b[1;33m=\u001b[0m \u001b[1;36m1\u001b[0m\u001b[1;33m\u001b[0m\u001b[0m\n\u001b[1;32m----> 2\u001b[1;33m \u001b[0mtrain_graph\u001b[0m \u001b[1;33m=\u001b[0m \u001b[0mtf\u001b[0m\u001b[1;33m.\u001b[0m\u001b[0mGraph\u001b[0m\u001b[1;33m(\u001b[0m\u001b[1;33m)\u001b[0m\u001b[1;33m\u001b[0m\u001b[0m\n\u001b[0m\u001b[0;32m      3\u001b[0m \u001b[0meval_graph\u001b[0m \u001b[1;33m=\u001b[0m \u001b[0mtf\u001b[0m\u001b[1;33m.\u001b[0m\u001b[0mGraph\u001b[0m\u001b[1;33m(\u001b[0m\u001b[1;33m)\u001b[0m\u001b[1;33m\u001b[0m\u001b[0m\n\u001b[0;32m      4\u001b[0m \u001b[0minfer_graph\u001b[0m \u001b[1;33m=\u001b[0m \u001b[0mtf\u001b[0m\u001b[1;33m.\u001b[0m\u001b[0mGraph\u001b[0m\u001b[1;33m(\u001b[0m\u001b[1;33m)\u001b[0m\u001b[1;33m\u001b[0m\u001b[0m\n\u001b[0;32m      5\u001b[0m \u001b[1;33m\u001b[0m\u001b[0m\n",
      "\u001b[1;31mAttributeError\u001b[0m: 'int' object has no attribute 'Graph'"
     ]
    }
   ],
   "source": [
    "train_graph = tf.Graph()\n",
    "eval_graph = tf.Graph()\n",
    "infer_graph = tf.Graph()\n",
    "\n",
    "# build graphs\n",
    "with train_graph.as_defualt():\n",
    "    train_iter = ...\n",
    "    train_model = build_TrainModel(train_iter)\n",
    "    initializer = tf.global_variables_initializer()\n",
    "    \n",
    "with eval_graph.as_defualt():\n",
    "    eval_iter = ...\n",
    "    eval_model = build_EvalModel(eval_iter)\n",
    "\n",
    "with infer_graph.as_defualt():\n",
    "    infer_iter = ...\n",
    "    infer_model = build_InferModel(infer_iter)\n",
    "    \n",
    "checkpoints_path = \"/tmp/model/checkpoints\"\n",
    "train_sess = tf.Session(graph=train_graph)\n",
    "eval_sess = tf.Session(graph=eval_graph)\n",
    "infer_sess = tf.Session(graph=infer_graph)\n",
    "train_sess.run(initializer)\n",
    "train_sess.run(train_iter.initializer)\n",
    "\n",
    "for i in itertools.count():\n",
    "    train_model.train(train_sess)\n",
    "    \n",
    "    if i % EVAL_STEPS == 0:\n",
    "        checkpoint_path = train_model.saver.save(train_sess, \n",
    "                                                 checkpoints_path, \n",
    "                                                 global_step=i)\n",
    "        eval_model.saver.restore(eval_sess, checkpoint_path)\n",
    "        eval_sess.run(eval_iter.initializer)\n",
    "        while data_to_eval:\n",
    "            eval_model.eval(eval_sess)\n",
    "        \n",
    "    if i % INFER_STEPS == 0:\n",
    "        checkpoint_path = train_model.saver.save(train_sess, \n",
    "                                                 checkpoints_path,\n",
    "                                                 global_step=i)\n",
    "        infer_model.saver.restore(infer_sess, checkpoint_path)\n",
    "        iner_sess.run(infer_iter.initializer, \n",
    "                      feed_dict={infer_inputs: infer_input_data})\n",
    "        while data_to_infer:\n",
    "            infer_model.infer(infer_sess)"
   ]
  },
  {
   "cell_type": "code",
   "execution_count": null,
   "metadata": {},
   "outputs": [],
   "source": []
  }
 ],
 "metadata": {
  "kernelspec": {
   "display_name": "Python 3",
   "language": "python",
   "name": "python3"
  },
  "language_info": {
   "codemirror_mode": {
    "name": "ipython",
    "version": 3
   },
   "file_extension": ".py",
   "mimetype": "text/x-python",
   "name": "python",
   "nbconvert_exporter": "python",
   "pygments_lexer": "ipython3",
   "version": "3.6.0"
  }
 },
 "nbformat": 4,
 "nbformat_minor": 2
}
