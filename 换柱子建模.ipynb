{
 "cells": [
  {
   "cell_type": "code",
   "execution_count": 13,
   "metadata": {
    "collapsed": true
   },
   "outputs": [],
   "source": [
    "from Chemometrics.import_common import *\n",
    "from sklearn.neighbors import KNeighborsClassifier\n",
    "from sklearn.pipeline import make_pipeline\n",
    "from sklearn.preprocessing import FunctionTransformer, StandardScaler, Normalizer\n",
    "from sklearn.model_selection import GridSearchCV\n",
    "from sklearn.decomposition import PCA\n",
    "from sklearn.metrics import classification_report\n",
    "from sklearn.model_selection import cross_val_predict\n",
    "\n",
    "plt.rcParams['font.sans-serif'] = 'SimHei'\n",
    "%matplotlib inline"
   ]
  },
  {
   "cell_type": "code",
   "execution_count": 2,
   "metadata": {
    "collapsed": true
   },
   "outputs": [],
   "source": [
    "Xy = pload('./洋河2018换柱子后Xy.p')\n",
    "X_train, X_test, y_train, y_test = Xy['X_train'], Xy['X_test'], Xy['y_train'], Xy['y_test']"
   ]
  },
  {
   "cell_type": "markdown",
   "metadata": {},
   "source": [
    "## 方案\n",
    "1. 根据m/z差距（小于一定阈值归为一组）进行分组，并合并(m/z: mean, intensity: sum)\n",
    "2. 建模。\n",
    "    -  base: LR\n",
    "    -  KNN\n",
    "    -  SVM"
   ]
  },
  {
   "cell_type": "markdown",
   "metadata": {},
   "source": [
    "## KNN 方案\n",
    "1. loger-normalizer-standardscaler-PCA-KNN  \n",
    "  loger, normalizer, standardscaler, PCA 可选"
   ]
  },
  {
   "cell_type": "code",
   "execution_count": 45,
   "metadata": {
    "collapsed": true
   },
   "outputs": [],
   "source": [
    "def pipe_report(pipe, param_grid, X_train, y_train, X_test, y_test, verbose=True):\n",
    "    grid = GridSearchCV(pipe, param_grid=param_grid)\n",
    "    with timer(\"train\"):\n",
    "        grid.fit(X_train, y_train)\n",
    "    #交叉验证效果\n",
    "    ypred_cv = cross_val_predict(grid, X_train, y_train)\n",
    "    if verbose:\n",
    "        print(classification_report(y_train, ypred_cv))\n",
    "    return grid"
   ]
  },
  {
   "cell_type": "code",
   "execution_count": 46,
   "metadata": {
    "collapsed": true
   },
   "outputs": [],
   "source": [
    "def _loger(x):\n",
    "    return np.log(1+x)\n",
    "loger = FunctionTransformer(_loger)\n",
    "pipe = make_pipeline(loger, \n",
    "                      Normalizer(), \n",
    "                      StandardScaler(), \n",
    "                      PCA(n_components=.99), \n",
    "                      KNeighborsClassifier())\n",
    "param_grid = dict(kneighborsclassifier__n_neighbors=np.arange(2,11),\n",
    "                  pca=[None, PCA(.99)],\n",
    "                  functiontransformer=[None,loger],\n",
    "                  normalizer=[None, Normalizer()],\n",
    "                  standardscaler=[None,StandardScaler()])"
   ]
  },
  {
   "cell_type": "code",
   "execution_count": 48,
   "metadata": {
    "scrolled": false
   },
   "outputs": [
    {
     "name": "stdout",
     "output_type": "stream",
     "text": [
      "train done in 2.99s\n",
      "             precision    recall  f1-score   support\n",
      "\n",
      "         优绵       0.56      0.69      0.62        13\n",
      "         优降       0.60      0.46      0.52        13\n",
      "\n",
      "avg / total       0.58      0.58      0.57        26\n",
      "\n"
     ]
    }
   ],
   "source": [
    "KNN = pipe_report(pipe, param_grid, X_train, y_train, verbose=True)"
   ]
  },
  {
   "cell_type": "markdown",
   "metadata": {},
   "source": [
    "### SVM方案\n",
    "Normalizer - StandardScaler - PCA(n_components=.99)- SVM  \n",
    "SVM前面步骤可选"
   ]
  },
  {
   "cell_type": "code",
   "execution_count": 74,
   "metadata": {},
   "outputs": [
    {
     "name": "stdout",
     "output_type": "stream",
     "text": [
      "train done in 2.86s\n",
      "             precision    recall  f1-score   support\n",
      "\n",
      "         优绵       0.70      0.54      0.61        13\n",
      "         优降       0.62      0.77      0.69        13\n",
      "\n",
      "avg / total       0.66      0.65      0.65        26\n",
      "\n"
     ]
    }
   ],
   "source": [
    "from sklearn.svm import SVC\n",
    "svc_pipe = make_pipeline(Normalizer(), \n",
    "                      StandardScaler(), \n",
    "                      PCA(n_components=.99), \n",
    "                      SVC())\n",
    "param_grid = dict(pca=[None, PCA(.99)],\n",
    "                  normalizer=[None, Normalizer()],\n",
    "                  standardscaler=[None, StandardScaler()],\n",
    "                  svc__C=np.power(2.0, np.arange(-10,10)))\n",
    "SVM = pipe_report(svc_pipe, param_grid, X_train, y_train, verbose=True)"
   ]
  },
  {
   "cell_type": "code",
   "execution_count": null,
   "metadata": {
    "collapsed": true
   },
   "outputs": [],
   "source": []
  }
 ],
 "metadata": {
  "kernelspec": {
   "display_name": "Python 3",
   "language": "python",
   "name": "python3"
  },
  "language_info": {
   "codemirror_mode": {
    "name": "ipython",
    "version": 3
   },
   "file_extension": ".py",
   "mimetype": "text/x-python",
   "name": "python",
   "nbconvert_exporter": "python",
   "pygments_lexer": "ipython3",
   "version": "3.6.6"
  }
 },
 "nbformat": 4,
 "nbformat_minor": 2
}
