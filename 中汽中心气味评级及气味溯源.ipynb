{
 "cells": [
  {
   "cell_type": "code",
   "execution_count": 1,
   "metadata": {
    "collapsed": true
   },
   "outputs": [],
   "source": [
    "import pandas as pd\n",
    "import numpy as np\n",
    "import string\n",
    "import matplotlib.pyplot as plt\n",
    "from matplotlib.pyplot import plot\n",
    "from collections import Counter\n",
    "from Chemometrics.basic import psave,pload,train_and_evaluate\n",
    "%matplotlib inline\n",
    "\n",
    "plt.rcParams['font.sans-serif'] = ['SimHei']  # 用来正常显示中文标签\n",
    "plt.rcParams['axes.unicode_minus'] = False  # 用来正常显示负号"
   ]
  },
  {
   "cell_type": "code",
   "execution_count": 2,
   "metadata": {},
   "outputs": [
    {
     "ename": "FileNotFoundError",
     "evalue": "[Errno 2] No such file or directory: './中汽15个部件各组分浓度.p'",
     "output_type": "error",
     "traceback": [
      "\u001b[1;31m---------------------------------------------------------------------------\u001b[0m",
      "\u001b[1;31mFileNotFoundError\u001b[0m                         Traceback (most recent call last)",
      "\u001b[1;32m<ipython-input-2-e29bd032a5e1>\u001b[0m in \u001b[0;36m<module>\u001b[1;34m()\u001b[0m\n\u001b[1;32m----> 1\u001b[1;33m \u001b[0mX\u001b[0m \u001b[1;33m=\u001b[0m \u001b[0mpload\u001b[0m\u001b[1;33m(\u001b[0m\u001b[1;34m'./中汽15个部件各组分浓度.p'\u001b[0m\u001b[1;33m)\u001b[0m\u001b[1;33m.\u001b[0m\u001b[0mfillna\u001b[0m\u001b[1;33m(\u001b[0m\u001b[1;36m0\u001b[0m\u001b[1;33m)\u001b[0m\u001b[1;33m\u001b[0m\u001b[0m\n\u001b[0m\u001b[0;32m      2\u001b[0m \u001b[0my\u001b[0m \u001b[1;33m=\u001b[0m \u001b[0mpload\u001b[0m\u001b[1;33m(\u001b[0m\u001b[1;34m'./零部件气味等级.p'\u001b[0m\u001b[1;33m)\u001b[0m\u001b[1;33m\u001b[0m\u001b[0m\n\u001b[0;32m      3\u001b[0m \u001b[0mto\u001b[0m \u001b[1;33m=\u001b[0m \u001b[0mpload\u001b[0m\u001b[1;33m(\u001b[0m\u001b[1;34m'./整车数据.p'\u001b[0m\u001b[1;33m)\u001b[0m\u001b[1;33m\u001b[0m\u001b[0m\n",
      "\u001b[1;32mC:\\Users\\litao\\Documents\\Python Scripts\\Chemometrics\\basic.py\u001b[0m in \u001b[0;36mpload\u001b[1;34m(file_name)\u001b[0m\n\u001b[0;32m     36\u001b[0m \u001b[1;32mdef\u001b[0m \u001b[0mpload\u001b[0m\u001b[1;33m(\u001b[0m\u001b[0mfile_name\u001b[0m\u001b[1;33m=\u001b[0m\u001b[1;32mNone\u001b[0m\u001b[1;33m)\u001b[0m\u001b[1;33m:\u001b[0m\u001b[1;33m\u001b[0m\u001b[0m\n\u001b[0;32m     37\u001b[0m     \u001b[1;31m# 读取数据\u001b[0m\u001b[1;33m\u001b[0m\u001b[1;33m\u001b[0m\u001b[0m\n\u001b[1;32m---> 38\u001b[1;33m     \u001b[1;32mwith\u001b[0m \u001b[0mopen\u001b[0m\u001b[1;33m(\u001b[0m\u001b[0mfile_name\u001b[0m\u001b[1;33m,\u001b[0m \u001b[1;34m'rb'\u001b[0m\u001b[1;33m)\u001b[0m \u001b[1;32mas\u001b[0m \u001b[0mf\u001b[0m\u001b[1;33m:\u001b[0m\u001b[1;33m\u001b[0m\u001b[0m\n\u001b[0m\u001b[0;32m     39\u001b[0m         \u001b[1;32mreturn\u001b[0m \u001b[0mpickle\u001b[0m\u001b[1;33m.\u001b[0m\u001b[0mload\u001b[0m\u001b[1;33m(\u001b[0m\u001b[0mf\u001b[0m\u001b[1;33m)\u001b[0m\u001b[1;33m\u001b[0m\u001b[0m\n\u001b[0;32m     40\u001b[0m \u001b[1;33m\u001b[0m\u001b[0m\n",
      "\u001b[1;31mFileNotFoundError\u001b[0m: [Errno 2] No such file or directory: './中汽15个部件各组分浓度.p'"
     ]
    }
   ],
   "source": [
    "X = pload('./中汽15个部件各组分浓度.p').fillna(0)\n",
    "y = pload('./零部件气味等级.p')\n",
    "to = pload('./整车数据.p')"
   ]
  },
  {
   "cell_type": "code",
   "execution_count": null,
   "metadata": {
    "collapsed": true
   },
   "outputs": [],
   "source": [
    "import codecs"
   ]
  },
  {
   "cell_type": "code",
   "execution_count": null,
   "metadata": {},
   "outputs": [],
   "source": [
    "_ = X.iloc[[1,2],[2,3]]\n",
    "_.index.name='部件名称'\n",
    "X_json = _.to_json(orient='table',force_ascii=False)\n",
    "X_json"
   ]
  },
  {
   "cell_type": "code",
   "execution_count": null,
   "metadata": {
    "collapsed": true
   },
   "outputs": [],
   "source": [
    "with open('y.json','w',encoding='utf-8') as file:\n",
    "    y.to_json(file,orient='table',force_ascii=False)"
   ]
  },
  {
   "cell_type": "code",
   "execution_count": null,
   "metadata": {},
   "outputs": [],
   "source": [
    "import json\n",
    "json.dumps(json.loads(y.to_json(orient='table',force_ascii=False)),ensure_ascii=False)"
   ]
  },
  {
   "cell_type": "code",
   "execution_count": null,
   "metadata": {
    "collapsed": true
   },
   "outputs": [],
   "source": [
    "json.dumps?"
   ]
  },
  {
   "cell_type": "markdown",
   "metadata": {},
   "source": [
    "# 气味相图"
   ]
  },
  {
   "cell_type": "code",
   "execution_count": null,
   "metadata": {},
   "outputs": [],
   "source": [
    "np.random.seed(0)\n",
    "ts = np.sort(abs(np.random.randn(10))).reshape(2,-1).T\n",
    "i = iter(string.ascii_lowercase[:len(ts)])\n",
    "ts1 = pd.DataFrame(ts,index=i,columns=['log(odt)','log(npt)'])\n",
    "ts1"
   ]
  },
  {
   "cell_type": "code",
   "execution_count": null,
   "metadata": {
    "collapsed": true
   },
   "outputs": [],
   "source": [
    "with open('ts1.json','w') as file:\n",
    "    ts1.to_json(file,orient='table',force_ascii=False)"
   ]
  },
  {
   "cell_type": "code",
   "execution_count": null,
   "metadata": {},
   "outputs": [],
   "source": [
    "json.loads(ts1.to_json(orient='table',force_ascii=False))['schema']"
   ]
  },
  {
   "cell_type": "code",
   "execution_count": null,
   "metadata": {},
   "outputs": [],
   "source": [
    "k = 8/np.diff(ts1[['log(odt)','log(npt)']],axis=1)#斜率\n",
    "b = 1-ts1['log(odt)']*k.flatten() #截距\n",
    "ts1['k'] = k\n",
    "ts1['b'] =b\n",
    "ts1"
   ]
  },
  {
   "cell_type": "code",
   "execution_count": null,
   "metadata": {},
   "outputs": [],
   "source": [
    "# 气味相图\n",
    "lines = plot(np.array([1,9]*5).reshape(-1,2).T,ts1[['log(odt)','log(npt)']].values.T,'o-')\n",
    "plt.legend(lines, ts1.index.values.tolist())"
   ]
  },
  {
   "cell_type": "code",
   "execution_count": null,
   "metadata": {},
   "outputs": [],
   "source": [
    "import numpy as np\n",
    "np.array([1,9]*5).reshape(-1,2).T"
   ]
  },
  {
   "cell_type": "markdown",
   "metadata": {},
   "source": [
    "# 部件名称不对应"
   ]
  },
  {
   "cell_type": "markdown",
   "metadata": {
    "collapsed": true
   },
   "source": [
    "~~~py\n",
    "# 对应\n",
    "yi = ['仪表板',\n",
    " '前围隔音垫',\n",
    " '前排座椅',\n",
    " '后围内饰板',\n",
    " '后排座椅',\n",
    " '前地板隔音垫',\n",
    " '地毯',\n",
    " '密封条',\n",
    " '空调主机',\n",
    " '行李厢地毯',\n",
    " '行李舱左右装饰板',\n",
    " '行李厢隔板装饰板',\n",
    " '车门内饰板',\n",
    " '遮阳板',\n",
    " '顶棚']\n",
    "y.sort_index(inplace=True)\n",
    "y.index = yi\n",
    "psave(y,'./零部件气味等级.p')\n",
    "~~~"
   ]
  },
  {
   "cell_type": "code",
   "execution_count": null,
   "metadata": {
    "collapsed": true
   },
   "outputs": [],
   "source": [
    "y = pload('./零部件气味等级.p')\n",
    "X = X.sort_index()\n",
    "y = y.sort_index()"
   ]
  },
  {
   "cell_type": "markdown",
   "metadata": {},
   "source": [
    "# 等级预测"
   ]
  },
  {
   "cell_type": "code",
   "execution_count": null,
   "metadata": {
    "collapsed": true
   },
   "outputs": [],
   "source": [
    "from sklearn.metrics import r2_score\n",
    "from sklearn.model_selection import cross_val_score\n",
    "from sklearn.tree import DecisionTreeRegressor\n",
    "from sklearn.svm import SVR\n",
    "from sklearn.cross_decomposition import PLSRegression"
   ]
  },
  {
   "cell_type": "code",
   "execution_count": null,
   "metadata": {
    "collapsed": true
   },
   "outputs": [],
   "source": [
    "from sklearn.model_selection import train_test_split\n",
    "X_train, X_test, y_train, y_test = train_test_split(\n",
    "        X, y, test_size=0.33)"
   ]
  },
  {
   "cell_type": "code",
   "execution_count": null,
   "metadata": {
    "collapsed": true
   },
   "outputs": [],
   "source": [
    "from sklearn.model_selection import GridSearchCV"
   ]
  },
  {
   "cell_type": "code",
   "execution_count": null,
   "metadata": {
    "collapsed": true
   },
   "outputs": [],
   "source": [
    "parts = []\n",
    "parts += [car['partsTree']['CurrentPart']]\n",
    "parts"
   ]
  },
  {
   "cell_type": "code",
   "execution_count": null,
   "metadata": {
    "collapsed": true
   },
   "outputs": [],
   "source": [
    "'CurrentPart' in car.keys()"
   ]
  },
  {
   "cell_type": "code",
   "execution_count": null,
   "metadata": {
    "collapsed": true
   },
   "outputs": [],
   "source": [
    "car_json = json.dumps(car)\n",
    "part = json.loads(car_json)\n",
    "def tree2parts(part,parts=[]):\n",
    "    \"\"\"\n",
    "    遍历递归整车树，找到所有的部件\n",
    "    \"\"\"\n",
    "    if 'CurrentPart' in part.keys():\n",
    "        parts += [part['CurrentPart']]\n",
    "        if 'Children' in part.keys():\n",
    "            part = part['Children']\n",
    "            parts = tree2parts(part,parts)\n",
    "    return parts        \n",
    "pd.DataFrame(tree2parts(part['partsTree']))"
   ]
  },
  {
   "cell_type": "code",
   "execution_count": null,
   "metadata": {
    "collapsed": true
   },
   "outputs": [],
   "source": [
    "pd.DataFrame(tree2parts(part['partsTree']))"
   ]
  },
  {
   "cell_type": "code",
   "execution_count": null,
   "metadata": {
    "collapsed": true
   },
   "outputs": [],
   "source": [
    "params = {'n_components':range(2,5)}"
   ]
  },
  {
   "cell_type": "code",
   "execution_count": null,
   "metadata": {
    "collapsed": true
   },
   "outputs": [],
   "source": [
    "regor = GridSearchCV(PLSRegression(),params,cv=10)\n",
    "regor.fit(X_train,y_train)"
   ]
  },
  {
   "cell_type": "code",
   "execution_count": null,
   "metadata": {
    "collapsed": true
   },
   "outputs": [],
   "source": [
    "a = pd.DataFrame([y_test.values,regor.predict(X_test).reshape(-1)]).T.set_index(y_test.index)\n",
    "a.columns = ['真实值','模型预测值']\n",
    "a"
   ]
  },
  {
   "cell_type": "code",
   "execution_count": null,
   "metadata": {
    "collapsed": true
   },
   "outputs": [],
   "source": [
    "import seaborn as sns\n",
    "sns.regplot(y_test,regor.predict(X_test).reshape(-1))\n",
    "plt.xlabel('measured')\n",
    "plt.ylabel('predicted')"
   ]
  },
  {
   "cell_type": "markdown",
   "metadata": {},
   "source": [
    "# 气味溯源"
   ]
  },
  {
   "cell_type": "code",
   "execution_count": null,
   "metadata": {
    "collapsed": true
   },
   "outputs": [],
   "source": [
    "plt.bar(range(len(to)),to.sort_values(ascending=False))"
   ]
  },
  {
   "cell_type": "code",
   "execution_count": null,
   "metadata": {
    "collapsed": true
   },
   "outputs": [],
   "source": [
    "# 零部件\n",
    "a = X.T.iloc[:,0]\n",
    "a = a[to.index]\n",
    "plt.bar(range(len(a)),a)"
   ]
  },
  {
   "cell_type": "code",
   "execution_count": null,
   "metadata": {
    "collapsed": true
   },
   "outputs": [],
   "source": [
    "def find_source(total,parts,by,is_plot=True):\n",
    "    \"\"\"\n",
    "    找出total的by在各parts中的来源\n",
    "    \"\"\"\n",
    "    by = total.index[total.index.isin(by)]\n",
    "    influence = total/total.sum()\n",
    "    not_in = by[~by.isin(parts.columns)].tolist()\n",
    "    print('所有部件中不存在'+str(not_in))\n",
    "    res = parts.loc[:,by].fillna(0).dot(influence[by]).sort_values(ascending=False)\n",
    "    if is_plot:\n",
    "        sns.barplot(res,res.index,orient='h')\n",
    "    return res"
   ]
  },
  {
   "cell_type": "code",
   "execution_count": null,
   "metadata": {
    "collapsed": true
   },
   "outputs": [],
   "source": [
    "a = find_source(to,X,sr)"
   ]
  },
  {
   "cell_type": "markdown",
   "metadata": {},
   "source": [
    "# 整车有的组分，所有零部件中都没有"
   ]
  }
 ],
 "metadata": {
  "kernelspec": {
   "display_name": "Python 3",
   "language": "python",
   "name": "python3"
  },
  "language_info": {
   "codemirror_mode": {
    "name": "ipython",
    "version": 3
   },
   "file_extension": ".py",
   "mimetype": "text/x-python",
   "name": "python",
   "nbconvert_exporter": "python",
   "pygments_lexer": "ipython3",
   "version": "3.6.1"
  }
 },
 "nbformat": 4,
 "nbformat_minor": 2
}
