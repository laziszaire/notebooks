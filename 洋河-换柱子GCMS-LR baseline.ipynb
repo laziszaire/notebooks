{
 "cells": [
  {
   "cell_type": "code",
   "execution_count": 1,
   "metadata": {
    "collapsed": true
   },
   "outputs": [],
   "source": [
    "from Chemometrics.data_io import read_cdf\n",
    "from Chemometrics.import_common import *\n",
    "import glob\n",
    "import re\n",
    "import xarray as xr\n",
    "from sklearn.linear_model import LogisticRegression\n",
    "\n",
    "%matplotlib inline\n",
    "plt.rcParams['font.sans-serif'] = 'SimHei'\n",
    "import gc"
   ]
  },
  {
   "cell_type": "code",
   "execution_count": 2,
   "metadata": {
    "collapsed": true
   },
   "outputs": [],
   "source": [
    "files = glob.glob('./洋河2018新数据-换柱子/**/**/*.CDF')"
   ]
  },
  {
   "cell_type": "code",
   "execution_count": 3,
   "metadata": {},
   "outputs": [
    {
     "data": {
      "text/plain": [
       "343"
      ]
     },
     "execution_count": 3,
     "metadata": {},
     "output_type": "execute_result"
    },
    {
     "data": {
      "image/png": "[encoded data removed]",
      "text/plain": [
       "<matplotlib.figure.Figure at 0x20f8f370080>"
      ]
     },
     "metadata": {},
     "output_type": "display_data"
    }
   ],
   "source": [
    "plt.figure(figsize=(12,4))\n",
    "with read_cdf(files[0]) as f:\n",
    "    plt.plot(np.sort(f.mass_values.values))\n",
    "gc.collect()"
   ]
  },
  {
   "cell_type": "code",
   "execution_count": 4,
   "metadata": {
    "collapsed": true
   },
   "outputs": [],
   "source": [
    "# 提取目标信息"
   ]
  },
  {
   "cell_type": "code",
   "execution_count": 5,
   "metadata": {
    "collapsed": true
   },
   "outputs": [],
   "source": [
    "fh = np.vectorize(lambda x: re.search('(?<=A\\\\\\).+(?=\\\\\\sample)', x)[0])\n",
    "target = fh(files)\n",
    "sample_number = np.vectorize(lambda x: re.search('(?<=柱子\\\\\\\\).*(?=\\s)', x)[0] + re.search('sample.+(?=\\.CDF)', x)[0])\n",
    "SN = sample_number(files)"
   ]
  },
  {
   "cell_type": "code",
   "execution_count": 6,
   "metadata": {},
   "outputs": [
    {
     "data": {
      "text/plain": [
       "0    优绵\n",
       "1    优绵\n",
       "2    优绵\n",
       "3    优绵\n",
       "4    优绵\n",
       "Name: target, dtype: object"
      ]
     },
     "execution_count": 6,
     "metadata": {},
     "output_type": "execute_result"
    }
   ],
   "source": [
    "_y = pd.DataFrame({'target': target, 'SN': SN})\n",
    "y = _y.target\n",
    "y.head()"
   ]
  },
  {
   "cell_type": "code",
   "execution_count": 7,
   "metadata": {
    "collapsed": true
   },
   "outputs": [],
   "source": [
    "# 处理GCMS质谱数据"
   ]
  },
  {
   "cell_type": "code",
   "execution_count": 8,
   "metadata": {
    "collapsed": true
   },
   "outputs": [],
   "source": [
    "def agg_mz(gcms, shreshold=.1):\n",
    "    mz = gcms['mass_values']\n",
    "    _a = pd.DataFrame({'it': gcms['intensity_values'].values,\n",
    "             'mz': mz})\n",
    "    _as = _a.sort_values(by='mz')\n",
    "    gby = (_as.mz.diff() >  shreshold).cumsum()\n",
    "    mzit = _as.groupby(by=gby).agg({'it': 'sum', \n",
    "                                    'mz': 'mean'})\n",
    "    return mzit.set_index('mz')\n",
    "\n",
    "def reduce_mz(file, shreshold=.1):\n",
    "    gcms = read_cdf(file)\n",
    "    mzit = agg_mz(gcms, shreshold=shreshold)\n",
    "    return mzit"
   ]
  },
  {
   "cell_type": "code",
   "execution_count": 9,
   "metadata": {
    "collapsed": true
   },
   "outputs": [],
   "source": [
    "#pd.DataFrame([gcms['mass_values'], gcms['intensity_values']])"
   ]
  },
  {
   "cell_type": "code",
   "execution_count": 10,
   "metadata": {
    "collapsed": true
   },
   "outputs": [],
   "source": [
    "_amz = pd.concat([reduce_mz(file) for file in files], axis=1)\n",
    "_amz.columns = SN"
   ]
  },
  {
   "cell_type": "code",
   "execution_count": 11,
   "metadata": {
    "collapsed": true
   },
   "outputs": [],
   "source": [
    "_amz.fillna(0, inplace=True)"
   ]
  },
  {
   "cell_type": "code",
   "execution_count": 12,
   "metadata": {
    "collapsed": true
   },
   "outputs": [],
   "source": [
    "_gby = (pd.Series(_amz.index).diff()>.1).cumsum()"
   ]
  },
  {
   "cell_type": "code",
   "execution_count": 13,
   "metadata": {
    "collapsed": true
   },
   "outputs": [],
   "source": [
    "grp = _amz.reset_index().groupby(by=_gby)\n",
    "_idx = grp['mz'].mean()\n",
    "mzs = grp.sum()\n",
    "mzs.index = _idx\n",
    "mzs.drop('mz', axis=1, inplace=True)"
   ]
  },
  {
   "cell_type": "code",
   "execution_count": 14,
   "metadata": {
    "collapsed": true
   },
   "outputs": [],
   "source": [
    "SN_test = ['01sample-' + str(i) for i in range(13,20)]"
   ]
  },
  {
   "cell_type": "code",
   "execution_count": 35,
   "metadata": {},
   "outputs": [
    {
     "data": {
      "image/png": "[encoded data removed]",
      "text/plain": [
       "<matplotlib.figure.Figure at 0x20f9498c518>"
      ]
     },
     "metadata": {},
     "output_type": "display_data"
    }
   ],
   "source": [
    "plt.figure(figsize=(20,10))\n",
    "sns.heatmap(np.log(mzs+1), yticklabels=False, xticklabels=y_.values, cbar_kws={'label': 'log intensity'})\n",
    "plt.savefig('洋河GC-MS换柱子.png', dpi=300)"
   ]
  },
  {
   "cell_type": "code",
   "execution_count": 15,
   "metadata": {
    "collapsed": true
   },
   "outputs": [],
   "source": [
    "test_mask = mzs.columns.isin(SN_test)\n",
    "X_test = mzs.loc[:, test_mask].T\n",
    "X_train = mzs.loc[:, ~test_mask].T\n",
    "test_mask = _y.SN.isin(SN_test)\n",
    "y_ = _y.set_index('SN').target\n",
    "y_test = y_.loc[test_mask.values]\n",
    "y_train = y_.loc[~test_mask.values]"
   ]
  },
  {
   "cell_type": "code",
   "execution_count": 16,
   "metadata": {
    "collapsed": true
   },
   "outputs": [],
   "source": [
    "lr = LogisticRegression()"
   ]
  },
  {
   "cell_type": "code",
   "execution_count": 17,
   "metadata": {
    "collapsed": true
   },
   "outputs": [],
   "source": [
    "from sklearn.preprocessing import Normalizer, StandardScaler\n",
    "from sklearn.pipeline import Pipeline\n",
    "#预处理\n",
    "pipe = Pipeline(steps=[('normalizer', Normalizer()),\\\n",
    "                       ('standardscaler', StandardScaler()),\\\n",
    "                       ('clf', lr)])"
   ]
  },
  {
   "cell_type": "code",
   "execution_count": 18,
   "metadata": {
    "collapsed": true
   },
   "outputs": [],
   "source": [
    "from sklearn.model_selection import GridSearchCV\n",
    "params = dict(clf__C=np.logspace(-5, 0, 20))\n",
    "grid0 = GridSearchCV(pipe, param_grid=params, cv=5)"
   ]
  },
  {
   "cell_type": "code",
   "execution_count": 19,
   "metadata": {},
   "outputs": [
    {
     "name": "stdout",
     "output_type": "stream",
     "text": [
      "LR+preprocessing done in 0.58s\n"
     ]
    }
   ],
   "source": [
    "with timer('LR+preprocessing'):\n",
    "    grid0.fit(X_train, y_train)"
   ]
  },
  {
   "cell_type": "code",
   "execution_count": 20,
   "metadata": {},
   "outputs": [
    {
     "ename": "NameError",
     "evalue": "name 'grid' is not defined",
     "output_type": "error",
     "traceback": [
      "\u001b[1;31m---------------------------------------------------------------------------\u001b[0m",
      "\u001b[1;31mNameError\u001b[0m                                 Traceback (most recent call last)",
      "\u001b[1;32m<ipython-input-20-ec7758d90ec9>\u001b[0m in \u001b[0;36m<module>\u001b[1;34m()\u001b[0m\n\u001b[1;32m----> 1\u001b[1;33m \u001b[0m_cv\u001b[0m \u001b[1;33m=\u001b[0m \u001b[0mpd\u001b[0m\u001b[1;33m.\u001b[0m\u001b[0mDataFrame\u001b[0m\u001b[1;33m(\u001b[0m\u001b[0mdict\u001b[0m\u001b[1;33m(\u001b[0m\u001b[0mgrid\u001b[0m\u001b[1;33m.\u001b[0m\u001b[0mcv_results_\u001b[0m\u001b[1;33m)\u001b[0m\u001b[1;33m)\u001b[0m\u001b[1;33m\u001b[0m\u001b[0m\n\u001b[0m\u001b[0;32m      2\u001b[0m \u001b[0mplt\u001b[0m\u001b[1;33m.\u001b[0m\u001b[0mplot\u001b[0m\u001b[1;33m(\u001b[0m\u001b[0m_cv\u001b[0m\u001b[1;33m.\u001b[0m\u001b[0mparam_clf__C\u001b[0m\u001b[1;33m,\u001b[0m \u001b[0m_cv\u001b[0m\u001b[1;33m.\u001b[0m\u001b[0mmean_test_score\u001b[0m\u001b[1;33m,\u001b[0m \u001b[0mlabel\u001b[0m\u001b[1;33m=\u001b[0m\u001b[1;34m'test'\u001b[0m\u001b[1;33m)\u001b[0m\u001b[1;33m\u001b[0m\u001b[0m\n\u001b[0;32m      3\u001b[0m \u001b[0mplt\u001b[0m\u001b[1;33m.\u001b[0m\u001b[0mplot\u001b[0m\u001b[1;33m(\u001b[0m\u001b[0m_cv\u001b[0m\u001b[1;33m.\u001b[0m\u001b[0mparam_clf__C\u001b[0m\u001b[1;33m,\u001b[0m \u001b[0m_cv\u001b[0m\u001b[1;33m.\u001b[0m\u001b[0mmean_train_score\u001b[0m\u001b[1;33m,\u001b[0m \u001b[0mlabel\u001b[0m\u001b[1;33m=\u001b[0m\u001b[1;34m'train'\u001b[0m\u001b[1;33m)\u001b[0m\u001b[1;33m\u001b[0m\u001b[0m\n\u001b[0;32m      4\u001b[0m \u001b[0mplt\u001b[0m\u001b[1;33m.\u001b[0m\u001b[0mlegend\u001b[0m\u001b[1;33m(\u001b[0m\u001b[1;33m)\u001b[0m\u001b[1;33m\u001b[0m\u001b[0m\n\u001b[0;32m      5\u001b[0m \u001b[0mplt\u001b[0m\u001b[1;33m.\u001b[0m\u001b[0mtitle\u001b[0m\u001b[1;33m(\u001b[0m\u001b[1;34m'洋河GCMS-白酒等级训练-交叉验证调整超参数'\u001b[0m\u001b[1;33m)\u001b[0m\u001b[1;33m\u001b[0m\u001b[0m\n",
      "\u001b[1;31mNameError\u001b[0m: name 'grid' is not defined"
     ]
    }
   ],
   "source": [
    "_cv = pd.DataFrame(dict(grid.cv_results_))\n",
    "plt.plot(_cv.param_clf__C, _cv.mean_test_score, label='test')\n",
    "plt.plot(_cv.param_clf__C, _cv.mean_train_score, label='train')\n",
    "plt.legend()\n",
    "plt.title('洋河GCMS-白酒等级训练-交叉验证调整超参数')"
   ]
  },
  {
   "cell_type": "code",
   "execution_count": null,
   "metadata": {
    "collapsed": true
   },
   "outputs": [],
   "source": [
    "#模型效果\n",
    "from sklearn.model_selection import cross_val_predict, cross_val_score\n",
    "from sklearn.metrics import classification_report\n",
    "ypred_cv = cross_val_predict(grid.best_estimator_, X_train, y_train)\n",
    "scores_cv = cross_val_score(grid.best_estimator_, X_train, y_train)\n",
    "cm_cvpred = confusion_matrix(y_train, ypred_cv)\n",
    "plot_ConfusionMatrix(cm_cvpred, grid.classes_)\n",
    "plt.title('{sample-mz-concat-normalizer-standardscaler: LR}模型训练集预测效果')\n",
    "print(classification_report(y_train, ypred_cv, labels=grid.classes_))"
   ]
  },
  {
   "cell_type": "code",
   "execution_count": null,
   "metadata": {
    "collapsed": true
   },
   "outputs": [],
   "source": [
    "#test prediction\n",
    "ypred_test = grid.predict(X_test)\n",
    "print(classification_report(y_test, ypred_test))\n",
    "cm_test = confusion_matrix(y_test, ypred_test)\n",
    "plot_ConfusionMatrix(cm_test, grid.classes_)\n",
    "plt.title('{pipe: LR}模型测试集预测效果')"
   ]
  },
  {
   "cell_type": "code",
   "execution_count": null,
   "metadata": {
    "collapsed": true
   },
   "outputs": [],
   "source": [
    "psave({'X_train': X_train,\n",
    "      'X_test': X_test,\n",
    "      'y_train': y_train,\n",
    "      'y_test': y_test},\n",
    "     '洋河2018换柱子后Xy.p')"
   ]
  },
  {
   "cell_type": "code",
   "execution_count": null,
   "metadata": {
    "collapsed": true
   },
   "outputs": [],
   "source": [
    "gc.collect()"
   ]
  },
  {
   "cell_type": "code",
   "execution_count": null,
   "metadata": {
    "collapsed": true
   },
   "outputs": [],
   "source": [
    "# log transformation\n",
    "from sklearn.preprocessing import FunctionTransformer\n",
    "log1p = FunctionTransformer(np.log1p)\n",
    "pipe = Pipeline(steps=[ ('log1p', log1p),\n",
    "                        ('normalizer', Normalizer()),\n",
    "                       ('standardscaler', StandardScaler()),\n",
    "                       ('clf', lr)])\n",
    "params = dict(clf__C=np.logspace(-5, 0, 20))\n",
    "grid = GridSearchCV(pipe, param_grid=params, cv=5)"
   ]
  },
  {
   "cell_type": "code",
   "execution_count": null,
   "metadata": {
    "collapsed": true
   },
   "outputs": [],
   "source": [
    "grid.fit(X_train, y_train)"
   ]
  },
  {
   "cell_type": "code",
   "execution_count": null,
   "metadata": {
    "collapsed": true
   },
   "outputs": [],
   "source": [
    "_cv = pd.DataFrame(dict(grid.cv_results_))"
   ]
  },
  {
   "cell_type": "code",
   "execution_count": null,
   "metadata": {
    "collapsed": true
   },
   "outputs": [],
   "source": [
    "plt.plot(_cv.param_clf__C, _cv.mean_test_score, label='test')\n",
    "plt.plot(_cv.param_clf__C, _cv.mean_train_score, label='train')\n",
    "plt.legend()"
   ]
  },
  {
   "cell_type": "markdown",
   "metadata": {},
   "source": [
    "假设检验： 加入log1p转换后，效果有没有变化"
   ]
  },
  {
   "cell_type": "code",
   "execution_count": null,
   "metadata": {
    "collapsed": true
   },
   "outputs": [],
   "source": [
    "scores_h0 = cross_val_score(grid0.best_estimator_, X_train, y_train)\n",
    "scores_h1 = cross_val_score(grid.best_estimator_, X_train, y_train)"
   ]
  },
  {
   "cell_type": "code",
   "execution_count": null,
   "metadata": {
    "collapsed": true
   },
   "outputs": [],
   "source": [
    "grid, grid0"
   ]
  },
  {
   "cell_type": "code",
   "execution_count": null,
   "metadata": {
    "collapsed": true
   },
   "outputs": [],
   "source": [
    "stats.ttest_ind(scores_h0,scores_h1)"
   ]
  },
  {
   "cell_type": "code",
   "execution_count": null,
   "metadata": {
    "collapsed": true
   },
   "outputs": [],
   "source": [
    "stats.ttest_ind(scores_h0,scores_h1)"
   ]
  },
  {
   "cell_type": "markdown",
   "metadata": {},
   "source": [
    "pvalue =1, 说明两者均值没有区别"
   ]
  }
 ],
 "metadata": {
  "kernelspec": {
   "display_name": "Python 3",
   "language": "python",
   "name": "python3"
  },
  "language_info": {
   "codemirror_mode": {
    "name": "ipython",
    "version": 3
   },
   "file_extension": ".py",
   "mimetype": "text/x-python",
   "name": "python",
   "nbconvert_exporter": "python",
   "pygments_lexer": "ipython3",
   "version": "3.6.6"
  }
 },
 "nbformat": 4,
 "nbformat_minor": 2
}
