{
 "cells": [
  {
   "cell_type": "code",
   "execution_count": 1,
   "metadata": {},
   "outputs": [],
   "source": [
    "from pyteomics.mass.mass import isotopic_composition_abundance,isotopologues\n",
    "import matplotlib.pyplot as plt\n",
    "from Chemometrics.import_common import *\n",
    "%matplotlib inline\n",
    "from pyteomics.mass import mass\n",
    "from Chemometrics.mass_utils import *"
   ]
  },
  {
   "cell_type": "code",
   "execution_count": 2,
   "metadata": {},
   "outputs": [],
   "source": [
    "N = 20\n",
    "body_ = mass.Composition('C22H44O2')\n",
    "fac_ = mass.Composition('C2H4O1')\n",
    "isotopes = []\n",
    "for n in range(N):\n",
    "    formula = body_ + n*fac_\n",
    "    isotopes.append((i,isotopic_composition_abundance(iso)) for iso in isotopologues(formula))"
   ]
  },
  {
   "cell_type": "code",
   "execution_count": null,
   "metadata": {},
   "outputs": [],
   "source": []
  },
  {
   "cell_type": "code",
   "execution_count": 3,
   "metadata": {},
   "outputs": [],
   "source": [
    "#p = [(mass.calculate_mass(i),isotopic_composition_abundance(i)) for i in isotopologues(mass.Composition('C22H100'))]"
   ]
  },
  {
   "cell_type": "code",
   "execution_count": 5,
   "metadata": {},
   "outputs": [],
   "source": [
    "#formula = pd.read_excel('TW80分子式.xlsx')"
   ]
  },
  {
   "cell_type": "code",
   "execution_count": null,
   "metadata": {},
   "outputs": [],
   "source": [
    "formula.loc[:,'Na'] = 1\n",
    "formula.head()"
   ]
  },
  {
   "cell_type": "code",
   "execution_count": null,
   "metadata": {},
   "outputs": [],
   "source": [
    "a = molecule_isodist(formula.to_dict(orient='records')[1]).sort_values(by='relative_abundance', ascending=False)\n",
    "a.relative_abundance.plot.bar()"
   ]
  },
  {
   "cell_type": "markdown",
   "metadata": {},
   "source": [
    "# data distribution"
   ]
  },
  {
   "cell_type": "code",
   "execution_count": null,
   "metadata": {},
   "outputs": [],
   "source": [
    "data = read_mzxml('data010.mzXML')"
   ]
  },
  {
   "cell_type": "code",
   "execution_count": null,
   "metadata": {},
   "outputs": [],
   "source": [
    "from numba import jit\n",
    "\n",
    "@jit\n",
    "def _hit(top5_iso, threshold_=.00001):\n",
    "    hit_ = np.abs(data.mz.values - top5_iso.Mass.values[:, np.newaxis]) < threshold_\n",
    "    hit_ = np.any(hit_, axis=1)\n",
    "    return hit_"
   ]
  },
  {
   "cell_type": "code",
   "execution_count": null,
   "metadata": {
    "scrolled": true
   },
   "outputs": [],
   "source": [
    "_e = formula.to_dict(orient='records')\n",
    "top5_ = (molecule_isodist(x).sort_values(by='relative_abundance', ascending=False).head() for x in _e)\n",
    "a = (sum(_hit(x)) for x in top5_)"
   ]
  },
  {
   "cell_type": "code",
   "execution_count": null,
   "metadata": {},
   "outputs": [],
   "source": []
  }
 ],
 "metadata": {
  "kernelspec": {
   "display_name": "Python 3",
   "language": "python",
   "name": "python3"
  },
  "language_info": {
   "codemirror_mode": {
    "name": "ipython",
    "version": 3
   },
   "file_extension": ".py",
   "mimetype": "text/x-python",
   "name": "python",
   "nbconvert_exporter": "python",
   "pygments_lexer": "ipython3",
   "version": "3.6.0"
  }
 },
 "nbformat": 4,
 "nbformat_minor": 2
}
