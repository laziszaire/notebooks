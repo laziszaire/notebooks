{
 "cells": [
  {
   "cell_type": "code",
   "execution_count": 103,
   "metadata": {
    "collapsed": true
   },
   "outputs": [],
   "source": [
    "from Chemometrics.basic import pload,plot_ConfusionMatrix\n",
    "from sklearn.neighbors import KNeighborsClassifier\n",
    "from sklearn.model_selection import GridSearchCV,train_test_split,StratifiedKFold\n",
    "from sklearn.metrics import f1_score,confusion_matrix,accuracy_score\n",
    "import pandas as pd\n",
    "\n",
    "import matplotlib.pyplot as plt\n",
    "%matplotlib inline\n",
    "plt.rcParams['font.sans-serif'] = 'SimHei'"
   ]
  },
  {
   "cell_type": "code",
   "execution_count": 17,
   "metadata": {
    "collapsed": true
   },
   "outputs": [],
   "source": [
    "data = pload('./地沟油红外数据及标签.p')\n",
    "ir = data['IR']\n",
    "desc = data['descriptions']\n",
    "labels = desc['地沟油含量']\n",
    "label_ = ~labels.isnull()\n",
    "rseed = 1"
   ]
  },
  {
   "cell_type": "markdown",
   "metadata": {},
   "source": [
    "---\n",
    "- train_test_split"
   ]
  },
  {
   "cell_type": "code",
   "execution_count": 18,
   "metadata": {},
   "outputs": [],
   "source": [
    "X_train, X_test, y_train, y_test = train_test_split(\n",
    "                                   ir, label_, random_state=rseed)"
   ]
  },
  {
   "cell_type": "markdown",
   "metadata": {},
   "source": [
    "---\n",
    "- fit the model"
   ]
  },
  {
   "cell_type": "code",
   "execution_count": 19,
   "metadata": {
    "collapsed": true
   },
   "outputs": [],
   "source": [
    "params = {'n_neighbors':range(3,10)}\n",
    "clf = KNeighborsClassifier()\n",
    "grid = GridSearchCV(clf,param_grid=params,\n",
    "                    cv=StratifiedKFold(5,random_state=rseed)).fit(X_train,y_train)"
   ]
  },
  {
   "cell_type": "markdown",
   "metadata": {},
   "source": [
    "    - fitness"
   ]
  },
  {
   "cell_type": "code",
   "execution_count": 59,
   "metadata": {},
   "outputs": [
    {
     "name": "stdout",
     "output_type": "stream",
     "text": [
      "拟合F1 score为0.835820895522388\n"
     ]
    },
    {
     "data": {
      "image/png": "[encoded data removed]",
      "text/plain": [
       "<matplotlib.figure.Figure at 0x1bae1e6f320>"
      ]
     },
     "metadata": {},
     "output_type": "display_data"
    }
   ],
   "source": [
    "fits = grid.predict(X_train)\n",
    "cm_train = confusion_matrix(y_train,fits,y_train.unique())\n",
    "plot_ConfusionMatrix(cm_train,y_train.unique())\n",
    "plt.title('训练集拟合效果')\n",
    "f1_train = f1_score(y_train,fits)\n",
    "print('拟合F1 score为{}'.format(f1_train))"
   ]
  },
  {
   "cell_type": "markdown",
   "metadata": {
    "collapsed": true
   },
   "source": [
    "---\n",
    "- evaluate the model"
   ]
  },
  {
   "cell_type": "code",
   "execution_count": 36,
   "metadata": {},
   "outputs": [
    {
     "name": "stdout",
     "output_type": "stream",
     "text": [
      "F1 score为0.6399999999999999,准确率accuracy为0.7428571428571429\n"
     ]
    }
   ],
   "source": [
    "preds = grid.predict(X_test)\n",
    "f1 = f1_score(y_test,preds)\n",
    "cm = confusion_matrix(y_test,preds,y_test.unique())\n",
    "acc = accuracy_score(y_test,preds)\n",
    "print('F1 score为{},准确率accuracy为{}'.format(f1,acc))"
   ]
  },
  {
   "cell_type": "code",
   "execution_count": 60,
   "metadata": {},
   "outputs": [
    {
     "data": {
      "text/plain": [
       "<matplotlib.text.Text at 0x1bae1e75278>"
      ]
     },
     "execution_count": 60,
     "metadata": {},
     "output_type": "execute_result"
    },
    {
     "data": {
      "image/png": "[encoded data removed]",
      "text/plain": [
       "<matplotlib.figure.Figure at 0x1bae1eceda0>"
      ]
     },
     "metadata": {},
     "output_type": "display_data"
    }
   ],
   "source": [
    "plot_ConfusionMatrix(cm,y_test.unique())\n",
    "plt.title('测试集预测效果')"
   ]
  },
  {
   "cell_type": "markdown",
   "metadata": {},
   "source": [
    "# error analysis"
   ]
  },
  {
   "cell_type": "code",
   "execution_count": 44,
   "metadata": {},
   "outputs": [
    {
     "data": {
      "text/html": [
       "<div>\n",
       "<style>\n",
       "    .dataframe thead tr:only-child th {\n",
       "        text-align: right;\n",
       "    }\n",
       "\n",
       "    .dataframe thead th {\n",
       "        text-align: left;\n",
       "    }\n",
       "\n",
       "    .dataframe tbody tr th {\n",
       "        vertical-align: top;\n",
       "    }\n",
       "</style>\n",
       "<table border=\"1\" class=\"dataframe\">\n",
       "  <thead>\n",
       "    <tr style=\"text-align: right;\">\n",
       "      <th></th>\n",
       "      <th>品牌</th>\n",
       "      <th>分类</th>\n",
       "      <th>工艺</th>\n",
       "      <th>转基因</th>\n",
       "      <th>备注</th>\n",
       "      <th>种类</th>\n",
       "      <th>地沟油含量</th>\n",
       "    </tr>\n",
       "    <tr>\n",
       "      <th>编号</th>\n",
       "      <th></th>\n",
       "      <th></th>\n",
       "      <th></th>\n",
       "      <th></th>\n",
       "      <th></th>\n",
       "      <th></th>\n",
       "      <th></th>\n",
       "    </tr>\n",
       "  </thead>\n",
       "  <tbody>\n",
       "  </tbody>\n",
       "</table>\n",
       "</div>"
      ],
      "text/plain": [
       "Empty DataFrame\n",
       "Columns: [品牌, 分类, 工艺, 转基因, 备注, 种类, 地沟油含量]\n",
       "Index: []"
      ]
     },
     "execution_count": 44,
     "metadata": {},
     "output_type": "execute_result"
    }
   ],
   "source": [
    "#False negative预测不是地沟油，而实际是地沟油的样本\n",
    "desc.loc[y_test.index[(preds == False) & (y_test.values ==True)].unique(),:]"
   ]
  },
  {
   "cell_type": "code",
   "execution_count": 46,
   "metadata": {},
   "outputs": [
    {
     "data": {
      "text/html": [
       "<div>\n",
       "<style>\n",
       "    .dataframe thead tr:only-child th {\n",
       "        text-align: right;\n",
       "    }\n",
       "\n",
       "    .dataframe thead th {\n",
       "        text-align: left;\n",
       "    }\n",
       "\n",
       "    .dataframe tbody tr th {\n",
       "        vertical-align: top;\n",
       "    }\n",
       "</style>\n",
       "<table border=\"1\" class=\"dataframe\">\n",
       "  <thead>\n",
       "    <tr style=\"text-align: right;\">\n",
       "      <th></th>\n",
       "      <th>品牌</th>\n",
       "      <th>分类</th>\n",
       "      <th>工艺</th>\n",
       "      <th>转基因</th>\n",
       "      <th>备注</th>\n",
       "      <th>种类</th>\n",
       "      <th>地沟油含量</th>\n",
       "    </tr>\n",
       "    <tr>\n",
       "      <th>编号</th>\n",
       "      <th></th>\n",
       "      <th></th>\n",
       "      <th></th>\n",
       "      <th></th>\n",
       "      <th></th>\n",
       "      <th></th>\n",
       "      <th></th>\n",
       "    </tr>\n",
       "  </thead>\n",
       "  <tbody>\n",
       "    <tr>\n",
       "      <th>Y-322</th>\n",
       "      <td>鲁花</td>\n",
       "      <td>花生油</td>\n",
       "      <td>压榨</td>\n",
       "      <td>-</td>\n",
       "      <td>NaN</td>\n",
       "      <td>花生油</td>\n",
       "      <td>NaN</td>\n",
       "    </tr>\n",
       "    <tr>\n",
       "      <th>Y-322</th>\n",
       "      <td>鲁花</td>\n",
       "      <td>花生油</td>\n",
       "      <td>压榨</td>\n",
       "      <td>-</td>\n",
       "      <td>NaN</td>\n",
       "      <td>花生油</td>\n",
       "      <td>NaN</td>\n",
       "    </tr>\n",
       "    <tr>\n",
       "      <th>Y-322</th>\n",
       "      <td>鲁花</td>\n",
       "      <td>花生油</td>\n",
       "      <td>压榨</td>\n",
       "      <td>-</td>\n",
       "      <td>NaN</td>\n",
       "      <td>花生油</td>\n",
       "      <td>NaN</td>\n",
       "    </tr>\n",
       "    <tr>\n",
       "      <th>Y-084</th>\n",
       "      <td>NaN</td>\n",
       "      <td>玉米油-1</td>\n",
       "      <td>NaN</td>\n",
       "      <td>NaN</td>\n",
       "      <td>NaN</td>\n",
       "      <td>玉米油</td>\n",
       "      <td>NaN</td>\n",
       "    </tr>\n",
       "    <tr>\n",
       "      <th>Y-084</th>\n",
       "      <td>NaN</td>\n",
       "      <td>玉米油-1</td>\n",
       "      <td>NaN</td>\n",
       "      <td>NaN</td>\n",
       "      <td>NaN</td>\n",
       "      <td>玉米油</td>\n",
       "      <td>NaN</td>\n",
       "    </tr>\n",
       "    <tr>\n",
       "      <th>Y-084</th>\n",
       "      <td>NaN</td>\n",
       "      <td>玉米油-1</td>\n",
       "      <td>NaN</td>\n",
       "      <td>NaN</td>\n",
       "      <td>NaN</td>\n",
       "      <td>玉米油</td>\n",
       "      <td>NaN</td>\n",
       "    </tr>\n",
       "    <tr>\n",
       "      <th>Y-252</th>\n",
       "      <td>NaN</td>\n",
       "      <td>玉米油-2</td>\n",
       "      <td>NaN</td>\n",
       "      <td>NaN</td>\n",
       "      <td>NaN</td>\n",
       "      <td>玉米油</td>\n",
       "      <td>NaN</td>\n",
       "    </tr>\n",
       "    <tr>\n",
       "      <th>Y-252</th>\n",
       "      <td>NaN</td>\n",
       "      <td>玉米油-2</td>\n",
       "      <td>NaN</td>\n",
       "      <td>NaN</td>\n",
       "      <td>NaN</td>\n",
       "      <td>玉米油</td>\n",
       "      <td>NaN</td>\n",
       "    </tr>\n",
       "    <tr>\n",
       "      <th>Y-252</th>\n",
       "      <td>NaN</td>\n",
       "      <td>玉米油-2</td>\n",
       "      <td>NaN</td>\n",
       "      <td>NaN</td>\n",
       "      <td>NaN</td>\n",
       "      <td>玉米油</td>\n",
       "      <td>NaN</td>\n",
       "    </tr>\n",
       "    <tr>\n",
       "      <th>Y-065</th>\n",
       "      <td>NaN</td>\n",
       "      <td>大豆油-1</td>\n",
       "      <td>NaN</td>\n",
       "      <td>NaN</td>\n",
       "      <td>NaN</td>\n",
       "      <td>大豆油</td>\n",
       "      <td>NaN</td>\n",
       "    </tr>\n",
       "    <tr>\n",
       "      <th>Y-065</th>\n",
       "      <td>NaN</td>\n",
       "      <td>大豆油-1</td>\n",
       "      <td>NaN</td>\n",
       "      <td>NaN</td>\n",
       "      <td>NaN</td>\n",
       "      <td>大豆油</td>\n",
       "      <td>NaN</td>\n",
       "    </tr>\n",
       "    <tr>\n",
       "      <th>Y-065</th>\n",
       "      <td>NaN</td>\n",
       "      <td>大豆油-1</td>\n",
       "      <td>NaN</td>\n",
       "      <td>NaN</td>\n",
       "      <td>NaN</td>\n",
       "      <td>大豆油</td>\n",
       "      <td>NaN</td>\n",
       "    </tr>\n",
       "    <tr>\n",
       "      <th>Y-224</th>\n",
       "      <td>NaN</td>\n",
       "      <td>花生油-1</td>\n",
       "      <td>NaN</td>\n",
       "      <td>NaN</td>\n",
       "      <td>NaN</td>\n",
       "      <td>花生油</td>\n",
       "      <td>NaN</td>\n",
       "    </tr>\n",
       "    <tr>\n",
       "      <th>Y-224</th>\n",
       "      <td>NaN</td>\n",
       "      <td>花生油-1</td>\n",
       "      <td>NaN</td>\n",
       "      <td>NaN</td>\n",
       "      <td>NaN</td>\n",
       "      <td>花生油</td>\n",
       "      <td>NaN</td>\n",
       "    </tr>\n",
       "    <tr>\n",
       "      <th>Y-224</th>\n",
       "      <td>NaN</td>\n",
       "      <td>花生油-1</td>\n",
       "      <td>NaN</td>\n",
       "      <td>NaN</td>\n",
       "      <td>NaN</td>\n",
       "      <td>花生油</td>\n",
       "      <td>NaN</td>\n",
       "    </tr>\n",
       "  </tbody>\n",
       "</table>\n",
       "</div>"
      ],
      "text/plain": [
       "        品牌     分类   工艺  转基因   备注   种类  地沟油含量\n",
       "编号                                          \n",
       "Y-322   鲁花    花生油   压榨    -  NaN  花生油    NaN\n",
       "Y-322   鲁花    花生油   压榨    -  NaN  花生油    NaN\n",
       "Y-322   鲁花    花生油   压榨    -  NaN  花生油    NaN\n",
       "Y-084  NaN  玉米油-1  NaN  NaN  NaN  玉米油    NaN\n",
       "Y-084  NaN  玉米油-1  NaN  NaN  NaN  玉米油    NaN\n",
       "Y-084  NaN  玉米油-1  NaN  NaN  NaN  玉米油    NaN\n",
       "Y-252  NaN  玉米油-2  NaN  NaN  NaN  玉米油    NaN\n",
       "Y-252  NaN  玉米油-2  NaN  NaN  NaN  玉米油    NaN\n",
       "Y-252  NaN  玉米油-2  NaN  NaN  NaN  玉米油    NaN\n",
       "Y-065  NaN  大豆油-1  NaN  NaN  NaN  大豆油    NaN\n",
       "Y-065  NaN  大豆油-1  NaN  NaN  NaN  大豆油    NaN\n",
       "Y-065  NaN  大豆油-1  NaN  NaN  NaN  大豆油    NaN\n",
       "Y-224  NaN  花生油-1  NaN  NaN  NaN  花生油    NaN\n",
       "Y-224  NaN  花生油-1  NaN  NaN  NaN  花生油    NaN\n",
       "Y-224  NaN  花生油-1  NaN  NaN  NaN  花生油    NaN"
      ]
     },
     "execution_count": 46,
     "metadata": {},
     "output_type": "execute_result"
    }
   ],
   "source": [
    "# False positive 预测为地沟油，而实不是地沟油的样本\n",
    "desc.loc[y_test.index[(preds == True) & (y_test.values ==False)].unique(),:]"
   ]
  },
  {
   "cell_type": "markdown",
   "metadata": {},
   "source": [
    "---\n",
    "- 盲样的正确率"
   ]
  },
  {
   "cell_type": "code",
   "execution_count": 80,
   "metadata": {},
   "outputs": [],
   "source": [
    "blinds = desc[desc['品牌'].isnull()]"
   ]
  },
  {
   "cell_type": "code",
   "execution_count": 165,
   "metadata": {},
   "outputs": [
    {
     "name": "stdout",
     "output_type": "stream",
     "text": [
      "F1 score为0.6956521739130436,准确率accuracy为0.5882352941176471\n"
     ]
    },
    {
     "data": {
      "text/plain": [
       "<matplotlib.text.Text at 0x1bae7e57780>"
      ]
     },
     "execution_count": 165,
     "metadata": {},
     "output_type": "execute_result"
    },
    {
     "data": {
      "image/png": "[encoded data removed]",
      "text/plain": [
       "<matplotlib.figure.Figure at 0x1bae7cf8748>"
      ]
     },
     "metadata": {},
     "output_type": "display_data"
    }
   ],
   "source": [
    "blinds_test = y_test[y_test.index.isin(blinds.index)]\n",
    "blinds_test_preds = preds[y_test.index.isin(blinds.index)]\n",
    "f1 = f1_score(blinds_test,blinds_test_preds)\n",
    "cm = confusion_matrix(blinds_test,blinds_test_preds,blinds_test.unique())\n",
    "acc = accuracy_score(blinds_test,blinds_test_preds)\n",
    "print('F1 score为{},准确率accuracy为{}'.format(f1,acc))\n",
    "plt.rcParams['figure.figsize'] = 10,4\n",
    "plt.subplot(121)\n",
    "plot_ConfusionMatrix(cm,blinds_test.unique())\n",
    "a = pd.DataFrame([blinds_test.values,blinds_test_preds],columns=blinds_test.index,index=['测试值','预测值'])\n",
    "a = a.T\n",
    "plt.subplot(122)\n",
    "for col in a.columns:\n",
    "    plt.hist(a[col],alpha=.5, label=col)\n",
    "plt.legend()\n",
    "plt.title('盲样中的预测效果')"
   ]
  },
  {
   "cell_type": "markdown",
   "metadata": {},
   "source": [
    "- 盲样拟合效果"
   ]
  },
  {
   "cell_type": "code",
   "execution_count": 166,
   "metadata": {},
   "outputs": [
    {
     "name": "stdout",
     "output_type": "stream",
     "text": [
      "F1 score为0.8750000000000001,准确率accuracy为0.7837837837837838\n"
     ]
    },
    {
     "data": {
      "text/plain": [
       "<matplotlib.text.Text at 0x1bae80580f0>"
      ]
     },
     "execution_count": 166,
     "metadata": {},
     "output_type": "execute_result"
    },
    {
     "data": {
      "image/png": "[encoded data removed]",
      "text/plain": [
       "<matplotlib.figure.Figure at 0x1bae6df3358>"
      ]
     },
     "metadata": {},
     "output_type": "display_data"
    }
   ],
   "source": [
    "y_test = y_train\n",
    "preds= fits\n",
    "blinds_test = y_test[y_test.index.isin(blinds.index)]\n",
    "blinds_test_preds = preds[y_test.index.isin(blinds.index)]\n",
    "f1 = f1_score(blinds_test,blinds_test_preds)\n",
    "cm = confusion_matrix(blinds_test,blinds_test_preds,blinds_test.unique())\n",
    "acc = accuracy_score(blinds_test,blinds_test_preds)\n",
    "print('F1 score为{},准确率accuracy为{}'.format(f1,acc))\n",
    "plt.rcParams['figure.figsize'] = 10,4\n",
    "plt.subplot(121)\n",
    "plot_ConfusionMatrix(cm,blinds_test.unique())\n",
    "a = pd.DataFrame([blinds_test.values,blinds_test_preds],columns=blinds_test.index,index=['测试值','预测值'])\n",
    "a = a.T\n",
    "plt.subplot(122)\n",
    "for col in a.columns:\n",
    "    plt.hist(a[col],alpha=.5, label=col)\n",
    "plt.legend()\n",
    "plt.title('盲样中的预测效果')"
   ]
  },
  {
   "cell_type": "markdown",
   "metadata": {},
   "source": [
    "- 盲样和地沟油样的相关度"
   ]
  },
  {
   "cell_type": "code",
   "execution_count": 226,
   "metadata": {},
   "outputs": [
    {
     "name": "stdout",
     "output_type": "stream",
     "text": [
      "盲样中地沟油比例为66.67%\n"
     ]
    }
   ],
   "source": [
    "from  collections import Counter\n",
    "pct = sum(~blinds['地沟油含量'].isnull())/len(blinds)\n",
    "print('盲样中地沟油比例为{}%'.format(round(pct*100,2)))"
   ]
  }
 ],
 "metadata": {
  "kernelspec": {
   "display_name": "Python 3",
   "language": "python",
   "name": "python3"
  },
  "language_info": {
   "codemirror_mode": {
    "name": "ipython",
    "version": 3
   },
   "file_extension": ".py",
   "mimetype": "text/x-python",
   "name": "python",
   "nbconvert_exporter": "python",
   "pygments_lexer": "ipython3",
   "version": "3.6.1"
  }
 },
 "nbformat": 4,
 "nbformat_minor": 2
}
