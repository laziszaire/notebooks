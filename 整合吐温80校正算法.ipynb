{
 "cells": [
  {
   "cell_type": "code",
   "execution_count": 1,
   "metadata": {
    "collapsed": true
   },
   "outputs": [],
   "source": [
    "import re\n",
    "import pandas as pd\n",
    "import glob\n",
    "import numpy as np\n",
    "from Chemometrics.basic import read_mzxml,psave,pload\n",
    "from mass_simple import filter0, rt_correction, match_df, result2excel,ppm,mzs\n",
    "from mass_simple import avg_mass,rt_real,irons\n",
    "import matplotlib.pyplot as plt\n",
    "%matplotlib inline\n",
    "%load_ext line_profiler"
   ]
  },
  {
   "cell_type": "code",
   "execution_count": 2,
   "metadata": {},
   "outputs": [
    {
     "data": {
      "text/plain": [
       "'../data\\\\data010.mzXML'"
      ]
     },
     "execution_count": 2,
     "metadata": {},
     "output_type": "execute_result"
    }
   ],
   "source": [
    "allfiles = glob.glob(\"../data/*.mzxml\")\n",
    "f = allfiles[0]\n",
    "f"
   ]
  },
  {
   "cell_type": "code",
   "execution_count": 3,
   "metadata": {
    "collapsed": true
   },
   "outputs": [],
   "source": [
    "df = read_mzxml(f)"
   ]
  },
  {
   "cell_type": "code",
   "execution_count": 4,
   "metadata": {
    "collapsed": true
   },
   "outputs": [],
   "source": [
    "def EIC(target_mz,df,error_theshold=20*ppm):\n",
    "    # 提取EIC\n",
    "    mzs = df.mz\n",
    "    target_mask = abs(mzs-target_mz)<target_mz*error_theshold\n",
    "    EIC = df[target_mask]\n",
    "    return EIC"
   ]
  },
  {
   "cell_type": "code",
   "execution_count": 5,
   "metadata": {
    "collapsed": true
   },
   "outputs": [],
   "source": [
    "def Eretention_time(EIC):\n",
    "    Ert = EIC.rt[EIC.intensity.idxmax()]\n",
    "    return Ert"
   ]
  },
  {
   "cell_type": "markdown",
   "metadata": {},
   "source": [
    "~~~py\n",
    "mzrt = pd.concat(pd.read_excel('./保留时间线性校正数据.xlsx',sheetname=None).values())\n",
    "mzrt.columns =['n','mz','rt']\n",
    "psave(mzrt,'保留时间线性校正数据.p')\n",
    "~~~"
   ]
  },
  {
   "cell_type": "code",
   "execution_count": 59,
   "metadata": {
    "collapsed": true
   },
   "outputs": [],
   "source": [
    "mzrt = pload('保留时间线性校正数据.p')"
   ]
  },
  {
   "cell_type": "code",
   "execution_count": 60,
   "metadata": {
    "collapsed": true
   },
   "outputs": [],
   "source": [
    "measured_rt = [Eretention_time(EIC(mz,df)) for mz in mzrt.mz]"
   ]
  },
  {
   "cell_type": "code",
   "execution_count": 61,
   "metadata": {
    "collapsed": true
   },
   "outputs": [],
   "source": [
    "mzrt['实测rt'] = measured_rt"
   ]
  },
  {
   "cell_type": "code",
   "execution_count": 79,
   "metadata": {
    "collapsed": true
   },
   "outputs": [],
   "source": [
    "from mass_simple import leastsq_correction_line"
   ]
  },
  {
   "cell_type": "code",
   "execution_count": 87,
   "metadata": {
    "collapsed": true
   },
   "outputs": [],
   "source": [
    "line = leastsq_correction_line(mzrt.实测rt,mzrt.rt)"
   ]
  },
  {
   "cell_type": "code",
   "execution_count": 88,
   "metadata": {
    "collapsed": true
   },
   "outputs": [],
   "source": [
    "mzrt['校正后'] = line(mzrt.实测rt)\n",
    "mzrt = mzrt.sort_values('rt')"
   ]
  },
  {
   "cell_type": "code",
   "execution_count": 90,
   "metadata": {},
   "outputs": [
    {
     "data": {
      "text/plain": [
       "<matplotlib.legend.Legend at 0x176849f5048>"
      ]
     },
     "execution_count": 90,
     "metadata": {},
     "output_type": "execute_result"
    },
    {
     "data": {
      "image/png": "[encoded data removed]",
      "text/plain": [
       "<matplotlib.figure.Figure at 0x176847ff2e8>"
      ]
     },
     "metadata": {},
     "output_type": "display_data"
    }
   ],
   "source": [
    "from sklearn.metrics import r2_score\n",
    "plt.scatter(mzrt.实测rt,mzrt.rt,label='理论')\n",
    "plt.scatter(mzrt.实测rt,mzrt.校正后,label='校正后')\n",
    "plt.xlabel('实测')\n",
    "plt.legend()"
   ]
  },
  {
   "cell_type": "code",
   "execution_count": null,
   "metadata": {
    "collapsed": true
   },
   "outputs": [],
   "source": [
    "def rt_line_correction(mass_measured, mzrt_theoretical=mzrt):\n",
    "    \"\"\"\n",
    "    线性保留时间校正\n",
    "    \"\"\"\n",
    "\n",
    "    rt_measured = [Eretention_time(EIC(mz,mass_measured)) for mz in mzrt_theoretical.mz]\n",
    "    line = leastsq_correction_line(rt_measured,mzrt_theoretical.rt)\n",
    "    rt_correct = line(mass_measured.rt)\n",
    "    return rt_correct"
   ]
  }
 ],
 "metadata": {
  "kernelspec": {
   "display_name": "Python 3",
   "language": "python",
   "name": "python3"
  },
  "language_info": {
   "codemirror_mode": {
    "name": "ipython",
    "version": 3
   },
   "file_extension": ".py",
   "mimetype": "text/x-python",
   "name": "python",
   "nbconvert_exporter": "python",
   "pygments_lexer": "ipython3",
   "version": "3.6.1"
  }
 },
 "nbformat": 4,
 "nbformat_minor": 2
}
