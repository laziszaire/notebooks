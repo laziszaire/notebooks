{
 "cells": [
  {
   "cell_type": "markdown",
   "metadata": {},
   "source": [
    "<center>吐温80保留时间漂移程度</center>\n",
    "\n",
    "m/z|theoretical retention time(min)|measured retention time(min)|delta(theoretical-measured\n",
    ":-:|:-:|:-:|:-:\n",
    "100.001|1|2|-1\n",
    "200.12|8|11|-3\n",
    "\n",
    "- 实测保留时间到理论保留时间的映射 \n",
    "- measured ==> theoretical\n",
    "- 函数"
   ]
  },
  {
   "cell_type": "code",
   "execution_count": 1,
   "metadata": {
    "collapsed": true
   },
   "outputs": [],
   "source": [
    "import numpy as np\n",
    "import pandas as pd\n",
    "import matplotlib.pyplot as plt\n",
    "from scipy.optimize import leastsq\n",
    "from  functools import partial\n",
    "plt.rcParams['font.sans-serif']=['SimHei'] #用来正常显示中文标签\n",
    "plt.rcParams['axes.unicode_minus']=False #用来正常显示负号\n",
    "\n",
    "%matplotlib inline"
   ]
  },
  {
   "cell_type": "code",
   "execution_count": 2,
   "metadata": {},
   "outputs": [
    {
     "data": {
      "text/html": [
       "<div>\n",
       "<style>\n",
       "    .dataframe thead tr:only-child th {\n",
       "        text-align: right;\n",
       "    }\n",
       "\n",
       "    .dataframe thead th {\n",
       "        text-align: left;\n",
       "    }\n",
       "\n",
       "    .dataframe tbody tr th {\n",
       "        vertical-align: top;\n",
       "    }\n",
       "</style>\n",
       "<table border=\"1\" class=\"dataframe\">\n",
       "  <thead>\n",
       "    <tr style=\"text-align: right;\">\n",
       "      <th></th>\n",
       "      <th>实测</th>\n",
       "      <th>理论</th>\n",
       "    </tr>\n",
       "    <tr>\n",
       "      <th>m/z</th>\n",
       "      <th></th>\n",
       "      <th></th>\n",
       "    </tr>\n",
       "  </thead>\n",
       "  <tbody>\n",
       "    <tr>\n",
       "      <th>9</th>\n",
       "      <td>3.425889</td>\n",
       "      <td>2.493704</td>\n",
       "    </tr>\n",
       "    <tr>\n",
       "      <th>8</th>\n",
       "      <td>3.651644</td>\n",
       "      <td>3.190391</td>\n",
       "    </tr>\n",
       "    <tr>\n",
       "      <th>1</th>\n",
       "      <td>4.769180</td>\n",
       "      <td>6.117564</td>\n",
       "    </tr>\n",
       "    <tr>\n",
       "      <th>2</th>\n",
       "      <td>5.587472</td>\n",
       "      <td>5.281718</td>\n",
       "    </tr>\n",
       "    <tr>\n",
       "      <th>7</th>\n",
       "      <td>7.595417</td>\n",
       "      <td>7.612069</td>\n",
       "    </tr>\n",
       "    <tr>\n",
       "      <th>4</th>\n",
       "      <td>10.753253</td>\n",
       "      <td>8.654076</td>\n",
       "    </tr>\n",
       "    <tr>\n",
       "      <th>3</th>\n",
       "      <td>11.518600</td>\n",
       "      <td>10.729686</td>\n",
       "    </tr>\n",
       "    <tr>\n",
       "      <th>6</th>\n",
       "      <td>19.120501</td>\n",
       "      <td>17.448118</td>\n",
       "    </tr>\n",
       "    <tr>\n",
       "      <th>0</th>\n",
       "      <td>19.429907</td>\n",
       "      <td>16.243454</td>\n",
       "    </tr>\n",
       "    <tr>\n",
       "      <th>5</th>\n",
       "      <td>24.317034</td>\n",
       "      <td>23.015387</td>\n",
       "    </tr>\n",
       "  </tbody>\n",
       "</table>\n",
       "</div>"
      ],
      "text/plain": [
       "            实测         理论\n",
       "m/z                      \n",
       "9     3.425889   2.493704\n",
       "8     3.651644   3.190391\n",
       "1     4.769180   6.117564\n",
       "2     5.587472   5.281718\n",
       "7     7.595417   7.612069\n",
       "4    10.753253   8.654076\n",
       "3    11.518600  10.729686\n",
       "6    19.120501  17.448118\n",
       "0    19.429907  16.243454\n",
       "5    24.317034  23.015387"
      ]
     },
     "execution_count": 2,
     "metadata": {},
     "output_type": "execute_result"
    }
   ],
   "source": [
    "np.random.seed(1) # random seed\n",
    "y = abs(np.random.randn(10))*10 #理论\n",
    "kt,bt = 1.1,.1 \n",
    "x = kt*y + bt+np.random.randn(10) #实测\n",
    "df = pd.DataFrame([x,y]).T\n",
    "df.columns = ['实测','理论']\n",
    "df.index.name='m/z'\n",
    "df.sort_values('实测')"
   ]
  },
  {
   "cell_type": "code",
   "execution_count": 3,
   "metadata": {
    "collapsed": true
   },
   "outputs": [],
   "source": [
    "def line_(p,x):\n",
    "    # 直线方程x:实测；p:参数\n",
    "    k,b = p\n",
    "    y_hat = k*x+b\n",
    "    return y_hat"
   ]
  },
  {
   "cell_type": "code",
   "execution_count": 4,
   "metadata": {
    "collapsed": true
   },
   "outputs": [],
   "source": [
    "def error(p,x,y):\n",
    "    \"\"\"\n",
    "    p：  待调参数parameters\n",
    "    x,y： 固定参数args\n",
    "    return：error 1Darray\n",
    "    \"\"\"\n",
    "    # 待拟合函数\n",
    "    y_hat = line_(p,x)\n",
    "    # error\n",
    "    error = y_hat - y\n",
    "    return error"
   ]
  },
  {
   "cell_type": "code",
   "execution_count": 5,
   "metadata": {
    "collapsed": true
   },
   "outputs": [],
   "source": [
    "# 最小二乘优化error\n",
    "p0 = (1,1) #初始化参数\n",
    "res = leastsq(error,p0,args=(x,y))\n",
    "line = partial(line_,res[0])"
   ]
  },
  {
   "cell_type": "code",
   "execution_count": 6,
   "metadata": {
    "collapsed": true
   },
   "outputs": [],
   "source": [
    "# mean square error\n",
    "MSE = lambda y,y_hat:np.mean((y-y_hat)**2)"
   ]
  },
  {
   "cell_type": "code",
   "execution_count": 7,
   "metadata": {
    "collapsed": true
   },
   "outputs": [],
   "source": [
    "y_hat = line(x)\n",
    "df['校正后'] = y_hat"
   ]
  },
  {
   "cell_type": "code",
   "execution_count": 8,
   "metadata": {
    "collapsed": true
   },
   "outputs": [],
   "source": [
    "def linear_correction(rt_theoretical,rt_measured):\n",
    "\n",
    "    p0 = (1,1) #初始化参数\n",
    "    res = leastsq(error,p0,args=(rt_measured,rt_theoretical))\n",
    "    line = partial(func,res[0])\n",
    "    rt_corrected = line(rt_measured)\n",
    "    return rt_corrected"
   ]
  },
  {
   "cell_type": "code",
   "execution_count": 9,
   "metadata": {},
   "outputs": [
    {
     "data": {
      "text/plain": [
       "<matplotlib.legend.Legend at 0x2a94945d908>"
      ]
     },
     "execution_count": 9,
     "metadata": {},
     "output_type": "execute_result"
    },
    {
     "data": {
      "image/png": "[encoded data removed]",
      "text/plain": [
       "<matplotlib.figure.Figure at 0x2a9473c6668>"
      ]
     },
     "metadata": {},
     "output_type": "display_data"
    }
   ],
   "source": [
    "plt.scatter(x,y,label='理论')\n",
    "plt.scatter(x,y_hat,label='校正后')\n",
    "plt.legend()"
   ]
  },
  {
   "cell_type": "code",
   "execution_count": 10,
   "metadata": {},
   "outputs": [
    {
     "data": {
      "text/html": [
       "<div>\n",
       "<style>\n",
       "    .dataframe thead tr:only-child th {\n",
       "        text-align: right;\n",
       "    }\n",
       "\n",
       "    .dataframe thead th {\n",
       "        text-align: left;\n",
       "    }\n",
       "\n",
       "    .dataframe tbody tr th {\n",
       "        vertical-align: top;\n",
       "    }\n",
       "</style>\n",
       "<table border=\"1\" class=\"dataframe\">\n",
       "  <thead>\n",
       "    <tr style=\"text-align: right;\">\n",
       "      <th></th>\n",
       "      <th>实测</th>\n",
       "      <th>理论</th>\n",
       "      <th>校正后</th>\n",
       "    </tr>\n",
       "    <tr>\n",
       "      <th>m/z</th>\n",
       "      <th></th>\n",
       "      <th></th>\n",
       "      <th></th>\n",
       "    </tr>\n",
       "  </thead>\n",
       "  <tbody>\n",
       "    <tr>\n",
       "      <th>9</th>\n",
       "      <td>3.425889</td>\n",
       "      <td>2.493704</td>\n",
       "      <td>3.296054</td>\n",
       "    </tr>\n",
       "    <tr>\n",
       "      <th>8</th>\n",
       "      <td>3.651644</td>\n",
       "      <td>3.190391</td>\n",
       "      <td>3.497765</td>\n",
       "    </tr>\n",
       "    <tr>\n",
       "      <th>1</th>\n",
       "      <td>4.769180</td>\n",
       "      <td>6.117564</td>\n",
       "      <td>4.496284</td>\n",
       "    </tr>\n",
       "    <tr>\n",
       "      <th>2</th>\n",
       "      <td>5.587472</td>\n",
       "      <td>5.281718</td>\n",
       "      <td>5.227429</td>\n",
       "    </tr>\n",
       "    <tr>\n",
       "      <th>7</th>\n",
       "      <td>7.595417</td>\n",
       "      <td>7.612069</td>\n",
       "      <td>7.021529</td>\n",
       "    </tr>\n",
       "    <tr>\n",
       "      <th>4</th>\n",
       "      <td>10.753253</td>\n",
       "      <td>8.654076</td>\n",
       "      <td>9.843057</td>\n",
       "    </tr>\n",
       "    <tr>\n",
       "      <th>3</th>\n",
       "      <td>11.518600</td>\n",
       "      <td>10.729686</td>\n",
       "      <td>10.526895</td>\n",
       "    </tr>\n",
       "    <tr>\n",
       "      <th>6</th>\n",
       "      <td>19.120501</td>\n",
       "      <td>17.448118</td>\n",
       "      <td>17.319198</td>\n",
       "    </tr>\n",
       "    <tr>\n",
       "      <th>0</th>\n",
       "      <td>19.429907</td>\n",
       "      <td>16.243454</td>\n",
       "      <td>17.595652</td>\n",
       "    </tr>\n",
       "    <tr>\n",
       "      <th>5</th>\n",
       "      <td>24.317034</td>\n",
       "      <td>23.015387</td>\n",
       "      <td>21.962303</td>\n",
       "    </tr>\n",
       "  </tbody>\n",
       "</table>\n",
       "</div>"
      ],
      "text/plain": [
       "            实测         理论        校正后\n",
       "m/z                                 \n",
       "9     3.425889   2.493704   3.296054\n",
       "8     3.651644   3.190391   3.497765\n",
       "1     4.769180   6.117564   4.496284\n",
       "2     5.587472   5.281718   5.227429\n",
       "7     7.595417   7.612069   7.021529\n",
       "4    10.753253   8.654076   9.843057\n",
       "3    11.518600  10.729686  10.526895\n",
       "6    19.120501  17.448118  17.319198\n",
       "0    19.429907  16.243454  17.595652\n",
       "5    24.317034  23.015387  21.962303"
      ]
     },
     "execution_count": 10,
     "metadata": {},
     "output_type": "execute_result"
    }
   ],
   "source": [
    "df.sort_values('实测')"
   ]
  },
  {
   "cell_type": "code",
   "execution_count": 11,
   "metadata": {},
   "outputs": [
    {
     "data": {
      "text/html": [
       "<div>\n",
       "<style>\n",
       "    .dataframe thead tr:only-child th {\n",
       "        text-align: right;\n",
       "    }\n",
       "\n",
       "    .dataframe thead th {\n",
       "        text-align: left;\n",
       "    }\n",
       "\n",
       "    .dataframe tbody tr th {\n",
       "        vertical-align: top;\n",
       "    }\n",
       "</style>\n",
       "<table border=\"1\" class=\"dataframe\">\n",
       "  <thead>\n",
       "    <tr style=\"text-align: right;\">\n",
       "      <th></th>\n",
       "      <th>校正前</th>\n",
       "      <th>校正后</th>\n",
       "    </tr>\n",
       "  </thead>\n",
       "  <tbody>\n",
       "    <tr>\n",
       "      <th>MSE</th>\n",
       "      <td>2.26672</td>\n",
       "      <td>0.812732</td>\n",
       "    </tr>\n",
       "  </tbody>\n",
       "</table>\n",
       "</div>"
      ],
      "text/plain": [
       "         校正前       校正后\n",
       "MSE  2.26672  0.812732"
      ]
     },
     "execution_count": 11,
     "metadata": {},
     "output_type": "execute_result"
    }
   ],
   "source": [
    "pd.DataFrame([MSE(df['实测'],df['理论']),MSE(df['校正后'],df['理论'])],\n",
    "             index=['校正前','校正后'],columns=['MSE']).T"
   ]
  },
  {
   "cell_type": "code",
   "execution_count": 12,
   "metadata": {
    "collapsed": true
   },
   "outputs": [],
   "source": [
    "from scipy.optimize import leastsq"
   ]
  },
  {
   "cell_type": "markdown",
   "metadata": {},
   "source": [
    "- 校正后MSE变小了"
   ]
  }
 ],
 "metadata": {
  "kernelspec": {
   "display_name": "Python 3",
   "language": "python",
   "name": "python3"
  },
  "language_info": {
   "codemirror_mode": {
    "name": "ipython",
    "version": 3
   },
   "file_extension": ".py",
   "mimetype": "text/x-python",
   "name": "python",
   "nbconvert_exporter": "python",
   "pygments_lexer": "ipython3",
   "version": "3.6.6"
  }
 },
 "nbformat": 4,
 "nbformat_minor": 2
}
