{
 "cells": [
  {
   "cell_type": "markdown",
   "metadata": {},
   "source": [
    "## 生成数据\n",
    "- cs: 各样品的化合物数据\n",
    "- level: 样品气味等级"
   ]
  },
  {
   "cell_type": "code",
   "execution_count": 1,
   "metadata": {},
   "outputs": [],
   "source": [
    "run gen_data.py"
   ]
  },
  {
   "cell_type": "code",
   "execution_count": 2,
   "metadata": {},
   "outputs": [
    {
     "data": {
      "text/html": [
       "<div>\n",
       "<style>\n",
       "    .dataframe thead tr:only-child th {\n",
       "        text-align: right;\n",
       "    }\n",
       "\n",
       "    .dataframe thead th {\n",
       "        text-align: left;\n",
       "    }\n",
       "\n",
       "    .dataframe tbody tr th {\n",
       "        vertical-align: top;\n",
       "    }\n",
       "</style>\n",
       "<table border=\"1\" class=\"dataframe\">\n",
       "  <thead>\n",
       "    <tr style=\"text-align: right;\">\n",
       "      <th></th>\n",
       "      <th>000066-25-1</th>\n",
       "      <th>000067-64-1</th>\n",
       "      <th>000068-12-2</th>\n",
       "      <th>000071-36-3</th>\n",
       "      <th>000071-43-2</th>\n",
       "      <th>000078-83-1</th>\n",
       "      <th>000078-87-5</th>\n",
       "      <th>000078-93-3</th>\n",
       "      <th>000079-01-6</th>\n",
       "      <th>000090-05-1</th>\n",
       "      <th>...</th>\n",
       "      <th>000105-46-4</th>\n",
       "      <th>001003-03-9</th>\n",
       "      <th>054774-91-3</th>\n",
       "      <th>1000401-12-0</th>\n",
       "      <th>1000338-85-1</th>\n",
       "      <th>001560-92-5</th>\n",
       "      <th>000057-10-3</th>\n",
       "      <th>000629-54-9</th>\n",
       "      <th>000301-02-0</th>\n",
       "      <th>000131-20-4</th>\n",
       "    </tr>\n",
       "  </thead>\n",
       "  <tbody>\n",
       "    <tr>\n",
       "      <th>0</th>\n",
       "      <td>0.000000</td>\n",
       "      <td>0.000000</td>\n",
       "      <td>401.108756</td>\n",
       "      <td>0.000000</td>\n",
       "      <td>0.000000</td>\n",
       "      <td>0.000000</td>\n",
       "      <td>0.000000</td>\n",
       "      <td>0.000000</td>\n",
       "      <td>0.000000</td>\n",
       "      <td>0.000000</td>\n",
       "      <td>...</td>\n",
       "      <td>0.0</td>\n",
       "      <td>0.0</td>\n",
       "      <td>0.0</td>\n",
       "      <td>0.0</td>\n",
       "      <td>0.0</td>\n",
       "      <td>0.0</td>\n",
       "      <td>0.0</td>\n",
       "      <td>0.0</td>\n",
       "      <td>0.0</td>\n",
       "      <td>0.0</td>\n",
       "    </tr>\n",
       "    <tr>\n",
       "      <th>1</th>\n",
       "      <td>34.797467</td>\n",
       "      <td>0.000000</td>\n",
       "      <td>0.000000</td>\n",
       "      <td>0.000000</td>\n",
       "      <td>0.000000</td>\n",
       "      <td>0.000000</td>\n",
       "      <td>58.072099</td>\n",
       "      <td>0.000000</td>\n",
       "      <td>0.000000</td>\n",
       "      <td>0.000000</td>\n",
       "      <td>...</td>\n",
       "      <td>0.0</td>\n",
       "      <td>0.0</td>\n",
       "      <td>0.0</td>\n",
       "      <td>0.0</td>\n",
       "      <td>0.0</td>\n",
       "      <td>0.0</td>\n",
       "      <td>0.0</td>\n",
       "      <td>0.0</td>\n",
       "      <td>0.0</td>\n",
       "      <td>0.0</td>\n",
       "    </tr>\n",
       "    <tr>\n",
       "      <th>2</th>\n",
       "      <td>0.000000</td>\n",
       "      <td>35.783815</td>\n",
       "      <td>40.357139</td>\n",
       "      <td>269.434443</td>\n",
       "      <td>0.000000</td>\n",
       "      <td>0.000000</td>\n",
       "      <td>0.000000</td>\n",
       "      <td>0.000000</td>\n",
       "      <td>0.000000</td>\n",
       "      <td>0.000000</td>\n",
       "      <td>...</td>\n",
       "      <td>0.0</td>\n",
       "      <td>0.0</td>\n",
       "      <td>0.0</td>\n",
       "      <td>0.0</td>\n",
       "      <td>0.0</td>\n",
       "      <td>0.0</td>\n",
       "      <td>0.0</td>\n",
       "      <td>0.0</td>\n",
       "      <td>0.0</td>\n",
       "      <td>0.0</td>\n",
       "    </tr>\n",
       "    <tr>\n",
       "      <th>3</th>\n",
       "      <td>30.546434</td>\n",
       "      <td>16.646600</td>\n",
       "      <td>0.000000</td>\n",
       "      <td>17.979392</td>\n",
       "      <td>0.000000</td>\n",
       "      <td>0.000000</td>\n",
       "      <td>0.000000</td>\n",
       "      <td>10.881342</td>\n",
       "      <td>0.000000</td>\n",
       "      <td>63.280306</td>\n",
       "      <td>...</td>\n",
       "      <td>0.0</td>\n",
       "      <td>0.0</td>\n",
       "      <td>0.0</td>\n",
       "      <td>0.0</td>\n",
       "      <td>0.0</td>\n",
       "      <td>0.0</td>\n",
       "      <td>0.0</td>\n",
       "      <td>0.0</td>\n",
       "      <td>0.0</td>\n",
       "      <td>0.0</td>\n",
       "    </tr>\n",
       "    <tr>\n",
       "      <th>4</th>\n",
       "      <td>0.000000</td>\n",
       "      <td>0.000000</td>\n",
       "      <td>0.000000</td>\n",
       "      <td>0.000000</td>\n",
       "      <td>24.137012</td>\n",
       "      <td>20.378954</td>\n",
       "      <td>0.000000</td>\n",
       "      <td>0.000000</td>\n",
       "      <td>36.242135</td>\n",
       "      <td>0.000000</td>\n",
       "      <td>...</td>\n",
       "      <td>0.0</td>\n",
       "      <td>0.0</td>\n",
       "      <td>0.0</td>\n",
       "      <td>0.0</td>\n",
       "      <td>0.0</td>\n",
       "      <td>0.0</td>\n",
       "      <td>0.0</td>\n",
       "      <td>0.0</td>\n",
       "      <td>0.0</td>\n",
       "      <td>0.0</td>\n",
       "    </tr>\n",
       "  </tbody>\n",
       "</table>\n",
       "<p>5 rows × 280 columns</p>\n",
       "</div>"
      ],
      "text/plain": [
       "   000066-25-1  000067-64-1  000068-12-2  000071-36-3  000071-43-2  \\\n",
       "0     0.000000     0.000000   401.108756     0.000000     0.000000   \n",
       "1    34.797467     0.000000     0.000000     0.000000     0.000000   \n",
       "2     0.000000    35.783815    40.357139   269.434443     0.000000   \n",
       "3    30.546434    16.646600     0.000000    17.979392     0.000000   \n",
       "4     0.000000     0.000000     0.000000     0.000000    24.137012   \n",
       "\n",
       "   000078-83-1  000078-87-5  000078-93-3  000079-01-6  000090-05-1  \\\n",
       "0     0.000000     0.000000     0.000000     0.000000     0.000000   \n",
       "1     0.000000    58.072099     0.000000     0.000000     0.000000   \n",
       "2     0.000000     0.000000     0.000000     0.000000     0.000000   \n",
       "3     0.000000     0.000000    10.881342     0.000000    63.280306   \n",
       "4    20.378954     0.000000     0.000000    36.242135     0.000000   \n",
       "\n",
       "      ...       000105-46-4  001003-03-9  054774-91-3  1000401-12-0  \\\n",
       "0     ...               0.0          0.0          0.0           0.0   \n",
       "1     ...               0.0          0.0          0.0           0.0   \n",
       "2     ...               0.0          0.0          0.0           0.0   \n",
       "3     ...               0.0          0.0          0.0           0.0   \n",
       "4     ...               0.0          0.0          0.0           0.0   \n",
       "\n",
       "   1000338-85-1  001560-92-5  000057-10-3  000629-54-9  000301-02-0  \\\n",
       "0           0.0          0.0          0.0          0.0          0.0   \n",
       "1           0.0          0.0          0.0          0.0          0.0   \n",
       "2           0.0          0.0          0.0          0.0          0.0   \n",
       "3           0.0          0.0          0.0          0.0          0.0   \n",
       "4           0.0          0.0          0.0          0.0          0.0   \n",
       "\n",
       "   000131-20-4  \n",
       "0          0.0  \n",
       "1          0.0  \n",
       "2          0.0  \n",
       "3          0.0  \n",
       "4          0.0  \n",
       "\n",
       "[5 rows x 280 columns]"
      ]
     },
     "execution_count": 2,
     "metadata": {},
     "output_type": "execute_result"
    }
   ],
   "source": [
    "import matplotlib.pyplot as plt\n",
    "import seaborn as sns\n",
    "%matplotlib inline\n",
    "plt.rcParams['font.sans-serif'] = 'SimHei'\n",
    "cs = cs.reset_index(drop=True)\n",
    "cs.head()"
   ]
  },
  {
   "cell_type": "code",
   "execution_count": 3,
   "metadata": {},
   "outputs": [
    {
     "data": {
      "text/plain": [
       "(5.0, 5.0, 4.0, 6.0, 5.0, 5.0, 4.0, 3.0, 5.0, 5.0, 5.0, 5.0, 5.0, 5.0, 3.0)"
      ]
     },
     "execution_count": 3,
     "metadata": {},
     "output_type": "execute_result"
    }
   ],
   "source": [
    "levels"
   ]
  },
  {
   "cell_type": "markdown",
   "metadata": {},
   "source": [
    "---"
   ]
  },
  {
   "cell_type": "markdown",
   "metadata": {},
   "source": [
    "1.  PCA"
   ]
  },
  {
   "cell_type": "code",
   "execution_count": 4,
   "metadata": {},
   "outputs": [
    {
     "data": {
      "text/plain": [
       "(15, 15)"
      ]
     },
     "execution_count": 4,
     "metadata": {},
     "output_type": "execute_result"
    }
   ],
   "source": [
    "from sklearn.decomposition import PCA\n",
    "from sklearn.preprocessing import MinMaxScaler\n",
    "cs = MinMaxScaler().fit_transform(cs) # 有预处理正对变量均一化\n",
    "pca = PCA()\n",
    "score = pca.fit_transform(cs)\n",
    "score.shape"
   ]
  },
  {
   "cell_type": "code",
   "execution_count": 32,
   "metadata": {},
   "outputs": [
    {
     "data": {
      "text/plain": [
       "<matplotlib.text.Text at 0x18041f12160>"
      ]
     },
     "execution_count": 32,
     "metadata": {},
     "output_type": "execute_result"
    },
    {
     "data": {
      "image/png": "[encoded data removed]",
      "text/plain": [
       "<matplotlib.figure.Figure at 0x18041eae5f8>"
      ]
     },
     "metadata": {},
     "output_type": "display_data"
    }
   ],
   "source": [
    "plt.scatter(score[:,0],score[:,1], c=levels, cmap=plt.cm.Blues)\n",
    "plt.title('第一第二主成分投影图')\n",
    "evr = pca.explained_variance_ratio_\n",
    "plt.xlabel('PC1({}%)'.format(np.round(evr[0]*100, 2)))\n",
    "plt.ylabel('PC2({}%)'.format(np.round(evr[1]*100, 2)))"
   ]
  },
  {
   "cell_type": "markdown",
   "metadata": {},
   "source": [
    "2.PLSR"
   ]
  },
  {
   "cell_type": "code",
   "execution_count": 6,
   "metadata": {},
   "outputs": [
    {
     "data": {
      "text/plain": [
       "PLSRegression(copy=True, max_iter=500, n_components=1, scale=True, tol=1e-06)"
      ]
     },
     "execution_count": 6,
     "metadata": {},
     "output_type": "execute_result"
    }
   ],
   "source": [
    "from sklearn.cross_decomposition import PLSRegression\n",
    "plsr=PLSRegression(n_components=1)\n",
    "plsr.fit(cs, levels)"
   ]
  },
  {
   "cell_type": "code",
   "execution_count": 19,
   "metadata": {},
   "outputs": [
    {
     "data": {
      "text/plain": [
       "<matplotlib.text.Text at 0x18041ae4e48>"
      ]
     },
     "execution_count": 19,
     "metadata": {},
     "output_type": "execute_result"
    },
    {
     "data": {
      "image/png": "[encoded data removed]",
      "text/plain": [
       "<matplotlib.figure.Figure at 0x18041bb8780>"
      ]
     },
     "metadata": {},
     "output_type": "display_data"
    }
   ],
   "source": [
    "y_pred_plsr = plsr.predict(cs).flatten()\n",
    "sns.regplot(np.asarray(levels),y_pred_plsr)\n",
    "plt.title('气味等级PLSR模型预测散点图')\n",
    "plt.ylabel('气味等级预测值')\n",
    "plt.xlabel('气味等级实际值')"
   ]
  },
  {
   "cell_type": "code",
   "execution_count": 20,
   "metadata": {},
   "outputs": [
    {
     "name": "stdout",
     "output_type": "stream",
     "text": [
      "PSLR模型决定系数为 0.85\n"
     ]
    }
   ],
   "source": [
    "# 决定系数\n",
    "from sklearn.metrics import r2_score\n",
    "print('PSLR模型决定系数为 {}'.format(round(r2_score(levels, y_pred_plsr),2)))"
   ]
  },
  {
   "cell_type": "markdown",
   "metadata": {},
   "source": [
    "- kNN"
   ]
  },
  {
   "cell_type": "code",
   "execution_count": 25,
   "metadata": {
    "collapsed": true
   },
   "outputs": [],
   "source": [
    "from sklearn.neighbors import KNeighborsRegressor\n",
    "knn = KNeighborsRegressor(n_neighbors=1)\n",
    "knn.fit(cs,levels)\n",
    "y_pred_knn = knn.predict(cs)"
   ]
  },
  {
   "cell_type": "code",
   "execution_count": 26,
   "metadata": {},
   "outputs": [
    {
     "data": {
      "text/plain": [
       "<matplotlib.text.Text at 0x18041c7df28>"
      ]
     },
     "execution_count": 26,
     "metadata": {},
     "output_type": "execute_result"
    },
    {
     "data": {
      "image/png": "[encoded data removed]",
      "text/plain": [
       "<matplotlib.figure.Figure at 0x18041db52e8>"
      ]
     },
     "metadata": {},
     "output_type": "display_data"
    }
   ],
   "source": [
    "sns.regplot(np.asarray(levels), y_pred_knn.flatten())\n",
    "plt.title('kNN预测散点图')\n",
    "plt.xlabel('实测等级')\n",
    "plt.ylabel('预测等级')"
   ]
  },
  {
   "cell_type": "code",
   "execution_count": 27,
   "metadata": {},
   "outputs": [
    {
     "name": "stdout",
     "output_type": "stream",
     "text": [
      "PSLR模型决定系数为 1.0\n"
     ]
    }
   ],
   "source": [
    "print('PSLR模型决定系数为 {}'.format(round(r2_score(levels, y_pred_knn),2)))"
   ]
  },
  {
   "cell_type": "markdown",
   "metadata": {},
   "source": [
    "todo 欧氏距离"
   ]
  }
 ],
 "metadata": {
  "kernelspec": {
   "display_name": "Python 3",
   "language": "python",
   "name": "python3"
  },
  "language_info": {
   "codemirror_mode": {
    "name": "ipython",
    "version": 3
   },
   "file_extension": ".py",
   "mimetype": "text/x-python",
   "name": "python",
   "nbconvert_exporter": "python",
   "pygments_lexer": "ipython3",
   "version": "3.6.1"
  }
 },
 "nbformat": 4,
 "nbformat_minor": 2
}
