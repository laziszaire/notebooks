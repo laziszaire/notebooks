{
 "cells": [
  {
   "cell_type": "code",
   "execution_count": 1,
   "metadata": {
    "collapsed": true
   },
   "outputs": [],
   "source": [
    "from pyteomics import mass"
   ]
  },
  {
   "cell_type": "code",
   "execution_count": 2,
   "metadata": {},
   "outputs": [
    {
     "data": {
      "text/plain": [
       "44.02621474784"
      ]
     },
     "execution_count": 2,
     "metadata": {},
     "output_type": "execute_result"
    }
   ],
   "source": [
    "mass.calculate_mass(composition={'C':2,'H':4, 'O':1})\n",
    "44.02621474784"
   ]
  },
  {
   "cell_type": "code",
   "execution_count": null,
   "metadata": {
    "collapsed": true
   },
   "outputs": [],
   "source": [
    "mass.calculate_mass(composition={'C':2,'H':4, 'O':1})"
   ]
  },
  {
   "cell_type": "code",
   "execution_count": 4,
   "metadata": {
    "collapsed": true
   },
   "outputs": [],
   "source": [
    "import pandas as pd"
   ]
  },
  {
   "cell_type": "code",
   "execution_count": 13,
   "metadata": {
    "collapsed": true
   },
   "outputs": [],
   "source": [
    "df = pd.read_excel('../1.xlsx',header=None,index_col=0)"
   ]
  },
  {
   "cell_type": "code",
   "execution_count": 34,
   "metadata": {
    "collapsed": true
   },
   "outputs": [],
   "source": [
    "a = pd.read_excel('../1.xlsx',header=None,index_col=0).applymap(lambda x:mass.calculate_mass(formula=str(x)))"
   ]
  },
  {
   "cell_type": "code",
   "execution_count": 42,
   "metadata": {
    "collapsed": true
   },
   "outputs": [],
   "source": [
    "a['Na1'] = a.loc[:,1]+a.loc['一个钠',1]"
   ]
  },
  {
   "cell_type": "code",
   "execution_count": 44,
   "metadata": {
    "collapsed": true
   },
   "outputs": [],
   "source": [
    "a['Na2'] = a.loc[:,1]+a.loc['一个钠',1]*2"
   ]
  },
  {
   "cell_type": "code",
   "execution_count": 50,
   "metadata": {},
   "outputs": [
    {
     "data": {
      "text/html": [
       "<div>\n",
       "<style>\n",
       "    .dataframe thead tr:only-child th {\n",
       "        text-align: right;\n",
       "    }\n",
       "\n",
       "    .dataframe thead th {\n",
       "        text-align: left;\n",
       "    }\n",
       "\n",
       "    .dataframe tbody tr th {\n",
       "        vertical-align: top;\n",
       "    }\n",
       "</style>\n",
       "<table border=\"1\" class=\"dataframe\">\n",
       "  <thead>\n",
       "    <tr style=\"text-align: right;\">\n",
       "      <th></th>\n",
       "      <th>1</th>\n",
       "      <th>Na1</th>\n",
       "      <th>Na2</th>\n",
       "    </tr>\n",
       "    <tr>\n",
       "      <th>0</th>\n",
       "      <th></th>\n",
       "      <th></th>\n",
       "      <th></th>\n",
       "    </tr>\n",
       "  </thead>\n",
       "  <tbody>\n",
       "    <tr>\n",
       "      <th>A-1</th>\n",
       "      <td>164.068473</td>\n",
       "      <td>187.058243</td>\n",
       "      <td>210.048012</td>\n",
       "    </tr>\n",
       "    <tr>\n",
       "      <th>A-2</th>\n",
       "      <td>190.084124</td>\n",
       "      <td>213.073893</td>\n",
       "      <td>236.063662</td>\n",
       "    </tr>\n",
       "    <tr>\n",
       "      <th>B</th>\n",
       "      <td>428.313789</td>\n",
       "      <td>451.303558</td>\n",
       "      <td>474.293328</td>\n",
       "    </tr>\n",
       "    <tr>\n",
       "      <th>C</th>\n",
       "      <td>454.329439</td>\n",
       "      <td>477.319208</td>\n",
       "      <td>500.308978</td>\n",
       "    </tr>\n",
       "    <tr>\n",
       "      <th>D</th>\n",
       "      <td>691.551280</td>\n",
       "      <td>714.541049</td>\n",
       "      <td>737.530818</td>\n",
       "    </tr>\n",
       "    <tr>\n",
       "      <th>E</th>\n",
       "      <td>718.574755</td>\n",
       "      <td>741.564524</td>\n",
       "      <td>764.554293</td>\n",
       "    </tr>\n",
       "    <tr>\n",
       "      <th>F</th>\n",
       "      <td>692.559105</td>\n",
       "      <td>715.548874</td>\n",
       "      <td>738.538643</td>\n",
       "    </tr>\n",
       "    <tr>\n",
       "      <th>G</th>\n",
       "      <td>956.804420</td>\n",
       "      <td>979.794190</td>\n",
       "      <td>1002.783959</td>\n",
       "    </tr>\n",
       "    <tr>\n",
       "      <th>单体</th>\n",
       "      <td>44.026215</td>\n",
       "      <td>67.015984</td>\n",
       "      <td>90.005753</td>\n",
       "    </tr>\n",
       "    <tr>\n",
       "      <th>一个钠</th>\n",
       "      <td>22.989769</td>\n",
       "      <td>45.979539</td>\n",
       "      <td>68.969308</td>\n",
       "    </tr>\n",
       "  </tbody>\n",
       "</table>\n",
       "</div>"
      ],
      "text/plain": [
       "              1         Na1          Na2\n",
       "0                                       \n",
       "A-1  164.068473  187.058243   210.048012\n",
       "A-2  190.084124  213.073893   236.063662\n",
       "B    428.313789  451.303558   474.293328\n",
       "C    454.329439  477.319208   500.308978\n",
       "D    691.551280  714.541049   737.530818\n",
       "E    718.574755  741.564524   764.554293\n",
       "F    692.559105  715.548874   738.538643\n",
       "G    956.804420  979.794190  1002.783959\n",
       "单体    44.026215   67.015984    90.005753\n",
       "一个钠   22.989769   45.979539    68.969308"
      ]
     },
     "execution_count": 50,
     "metadata": {},
     "output_type": "execute_result"
    }
   ],
   "source": [
    "a"
   ]
  },
  {
   "cell_type": "code",
   "execution_count": 55,
   "metadata": {},
   "outputs": [
    {
     "ename": "SyntaxError",
     "evalue": "invalid character in identifier (<ipython-input-55-5f099460b041>, line 2)",
     "output_type": "error",
     "traceback": [
      "\u001b[1;36m  File \u001b[1;32m\"<ipython-input-55-5f099460b041>\"\u001b[1;36m, line \u001b[1;32m2\u001b[0m\n\u001b[1;33m    a.loc['单体'，1]\u001b[0m\n\u001b[1;37m               ^\u001b[0m\n\u001b[1;31mSyntaxError\u001b[0m\u001b[1;31m:\u001b[0m invalid character in identifier\n"
     ]
    }
   ],
   "source": [
    "b = pd.read_excel('../1.xlsx',header=None,index_col=0).applymap(lambda x:mass.calculate_mass(formula=str(x)+'Na2'))/2"
   ]
  },
  {
   "cell_type": "code",
   "execution_count": 62,
   "metadata": {},
   "outputs": [],
   "source": [
    "b.to_excel('双电荷.xlsx')"
   ]
  },
  {
   "cell_type": "code",
   "execution_count": 60,
   "metadata": {},
   "outputs": [],
   "source": [
    "b.loc['单体'] = a.loc['单体',1]/2"
   ]
  }
 ],
 "metadata": {
  "kernelspec": {
   "display_name": "Python 3",
   "language": "python",
   "name": "python3"
  },
  "language_info": {
   "codemirror_mode": {
    "name": "ipython",
    "version": 3
   },
   "file_extension": ".py",
   "mimetype": "text/x-python",
   "name": "python",
   "nbconvert_exporter": "python",
   "pygments_lexer": "ipython3",
   "version": "3.6.1"
  }
 },
 "nbformat": 4,
 "nbformat_minor": 2
}
