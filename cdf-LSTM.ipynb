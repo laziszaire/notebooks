{
 "cells": [
  {
   "cell_type": "code",
   "execution_count": 1,
   "metadata": {},
   "outputs": [
    {
     "name": "stderr",
     "output_type": "stream",
     "text": [
      "C:\\ProgramData\\Anaconda3\\lib\\site-packages\\h5py\\__init__.py:34: FutureWarning: Conversion of the second argument of issubdtype from `float` to `np.floating` is deprecated. In future, it will be treated as `np.float64 == np.dtype(float).type`.\n",
      "  from ._conv import register_converters as _register_converters\n",
      "Using TensorFlow backend.\n"
     ]
    }
   ],
   "source": [
    "import keras\n",
    "from Chemometrics.import_common import *\n",
    "import xarray\n",
    "from keras.models import Sequential\n",
    "from keras.layers import Dense\n",
    "from keras.layers import LSTM, Dropout\n",
    "%matplotlib inline\n",
    "plt.rcParams['font.sans-serif'] = ['SimHei']"
   ]
  },
  {
   "cell_type": "markdown",
   "metadata": {
    "collapsed": true
   },
   "source": [
    "~~~py\n",
    "ds = xarray.open_dataset('./data/data-test/37454.cdf')\n",
    "pn = int(1+ds.actual_run_time_length/ds.actual_sampling_interval)\n",
    "pn == ds.dims['point_number']\n",
    "# point number 是actual_run_time_length/actual_sampling_interval +1\n",
    "~~~"
   ]
  },
  {
   "cell_type": "code",
   "execution_count": 2,
   "metadata": {
    "collapsed": true
   },
   "outputs": [],
   "source": [
    "#detection code encoder\n",
    "from sklearn.preprocessing import LabelEncoder,OneHotEncoder\n",
    "le = LabelEncoder().fit([b'B',b'V',b'F' b'M'])\n",
    "#le.transform(ds.peak_start_detection_code)\n",
    "#code1 = le.transform(ds.peak_start_detection_code)\n",
    "#code2 = le.transform(ds.peak_stop_detection_code)"
   ]
  },
  {
   "cell_type": "markdown",
   "metadata": {},
   "source": [
    "- first layer\n",
    "    - input shape  \n",
    "    LSTM : (batch_size, timesteps, input_dim)  \n",
    "    batch_size: number of observations  \n",
    "    timestep: length of chromagraph  \n",
    "    input_dim: number of features  "
   ]
  },
  {
   "cell_type": "code",
   "execution_count": 3,
   "metadata": {
    "collapsed": true
   },
   "outputs": [],
   "source": [
    "def get_peaks(file):\n",
    "    #feature value unit?\n",
    "    le = LabelEncoder().fit([b'B',b'V',b'F',b'M'])\n",
    "    ds = xarray.open_dataset(file)\n",
    "    if any(ds.peak_retention_time<1e-5):\n",
    "        return None\n",
    "    peaks = np.vstack([diff_rt(ds.peak_retention_time),\n",
    "                       ds.peak_asymmetry,\n",
    "                       ds.peak_area_percent,\n",
    "                      ds.peak_height/ds.peak_width,\n",
    "                      le.transform(ds.peak_start_detection_code),\n",
    "                      le.transform(ds.peak_stop_detection_code)])\n",
    "    return peaks.T"
   ]
  },
  {
   "cell_type": "code",
   "execution_count": 4,
   "metadata": {
    "collapsed": true
   },
   "outputs": [],
   "source": [
    "def diff_rt(peak_retention_time):\n",
    "    drt = np.concatenate([[peak_retention_time[0]],np.diff(peak_retention_time)])/60\n",
    "    return drt"
   ]
  },
  {
   "cell_type": "markdown",
   "metadata": {},
   "source": [
    "# data feed"
   ]
  },
  {
   "cell_type": "markdown",
   "metadata": {},
   "source": [
    "- target"
   ]
  },
  {
   "cell_type": "code",
   "execution_count": 5,
   "metadata": {
    "collapsed": true
   },
   "outputs": [],
   "source": [
    "import glob"
   ]
  },
  {
   "cell_type": "code",
   "execution_count": 6,
   "metadata": {
    "collapsed": true
   },
   "outputs": [],
   "source": [
    "fs = glob.glob('./data/**/优*.cdf',recursive=True)\n",
    "y = ['优降一' if '优降一' in f else '优' for f in fs ]\n",
    "ley = LabelEncoder()\n",
    "y = ley.fit_transform(y)"
   ]
  },
  {
   "cell_type": "markdown",
   "metadata": {},
   "source": [
    "- observation"
   ]
  },
  {
   "cell_type": "code",
   "execution_count": 7,
   "metadata": {
    "collapsed": true
   },
   "outputs": [],
   "source": [
    "chromagraphs,y = zip(*[(get_peaks(f),yi)  for f,yi in zip(fs,y) if get_peaks(f) is not None])"
   ]
  },
  {
   "cell_type": "code",
   "execution_count": 8,
   "metadata": {},
   "outputs": [
    {
     "data": {
      "text/plain": [
       "tuple"
      ]
     },
     "execution_count": 8,
     "metadata": {},
     "output_type": "execute_result"
    }
   ],
   "source": [
    "type(chromagraphs)"
   ]
  },
  {
   "cell_type": "code",
   "execution_count": 9,
   "metadata": {
    "collapsed": true
   },
   "outputs": [],
   "source": [
    "from keras.preprocessing import sequence"
   ]
  },
  {
   "cell_type": "code",
   "execution_count": 10,
   "metadata": {
    "collapsed": true
   },
   "outputs": [],
   "source": [
    "X = sequence.pad_sequences(chromagraphs,padding = 'post')"
   ]
  },
  {
   "cell_type": "code",
   "execution_count": 11,
   "metadata": {
    "collapsed": true
   },
   "outputs": [],
   "source": [
    "from sklearn.model_selection import train_test_split\n",
    "from imblearn.over_sampling import RandomOverSampler"
   ]
  },
  {
   "cell_type": "code",
   "execution_count": 12,
   "metadata": {
    "collapsed": true
   },
   "outputs": [],
   "source": [
    "X_train_, X_test_, y_train_, y_test_ = train_test_split(X,np.array(y),stratify=y)"
   ]
  },
  {
   "cell_type": "code",
   "execution_count": 13,
   "metadata": {
    "collapsed": true
   },
   "outputs": [],
   "source": [
    "#手动random-sample\n",
    "y_idx = np.where(y_train_>0)[0]\n",
    "X_ = X_train_[np.random.choice(y_idx,sum(y_train_==0)),:,:]\n",
    "Xp = X_train_[y_train_==0,:,:]\n",
    "Xros = np.concatenate([Xp,X_])\n",
    "yros = np.concatenate([y_train_[y_train_==0],np.ones(sum(y_train_==0))])"
   ]
  },
  {
   "cell_type": "code",
   "execution_count": 14,
   "metadata": {
    "collapsed": true
   },
   "outputs": [],
   "source": [
    "#add noise\n",
    "#Xros = (np.random.random(Xros.shape)*1e-3+Xros)"
   ]
  },
  {
   "cell_type": "code",
   "execution_count": 33,
   "metadata": {},
   "outputs": [
    {
     "name": "stdout",
     "output_type": "stream",
     "text": [
      "_________________________________________________________________\n",
      "Layer (type)                 Output Shape              Param #   \n",
      "=================================================================\n",
      "lstm_3 (LSTM)                (None, 30)                4440      \n",
      "_________________________________________________________________\n",
      "dropout_3 (Dropout)          (None, 30)                0         \n",
      "_________________________________________________________________\n",
      "dense_3 (Dense)              (None, 1)                 31        \n",
      "=================================================================\n",
      "Total params: 4,471\n",
      "Trainable params: 4,471\n",
      "Non-trainable params: 0\n",
      "_________________________________________________________________\n",
      "None\n"
     ]
    }
   ],
   "source": [
    "# build and compile\n",
    "np.random.seed(2)\n",
    "model = Sequential()\n",
    "model.add(LSTM(30,input_shape=(None,Xros[1].shape[1])))\n",
    "model.add(Dropout(0.5))\n",
    "model.add(Dense(1,activation='sigmoid'))\n",
    "model.compile(loss='binary_crossentropy',optimizer='adam',metrics = ['accuracy'])\n",
    "print(model.summary())\n",
    "earlyStopping=keras.callbacks.EarlyStopping(\n",
    "    monitor='loss', patience=3, verbose=0, mode='auto')"
   ]
  },
  {
   "cell_type": "code",
   "execution_count": 34,
   "metadata": {},
   "outputs": [
    {
     "name": "stdout",
     "output_type": "stream",
     "text": [
      "Train on 211 samples, validate on 53 samples\n",
      "Epoch 1/100\n",
      "211/211 [==============================] - 1s 6ms/step - loss: 0.6913 - acc: 0.5118 - val_loss: 0.7023 - val_acc: 0.1698\n",
      "Epoch 2/100\n",
      "211/211 [==============================] - 0s 1ms/step - loss: 0.6806 - acc: 0.6303 - val_loss: 0.7371 - val_acc: 0.0189\n",
      "Epoch 3/100\n",
      "211/211 [==============================] - 0s 1ms/step - loss: 0.6659 - acc: 0.6445 - val_loss: 0.7827 - val_acc: 0.0189\n",
      "Epoch 4/100\n",
      "211/211 [==============================] - 0s 1ms/step - loss: 0.6548 - acc: 0.6351 - val_loss: 0.8536 - val_acc: 0.0189\n",
      "Epoch 5/100\n",
      "211/211 [==============================] - 0s 2ms/step - loss: 0.6465 - acc: 0.6351 - val_loss: 0.9714 - val_acc: 0.0189\n",
      "Epoch 6/100\n",
      "211/211 [==============================] - 0s 1ms/step - loss: 0.6396 - acc: 0.6351 - val_loss: 1.0274 - val_acc: 0.0189\n",
      "Epoch 7/100\n",
      "211/211 [==============================] - 0s 1ms/step - loss: 0.6288 - acc: 0.6351 - val_loss: 0.9685 - val_acc: 0.0189\n",
      "Epoch 8/100\n",
      "211/211 [==============================] - 0s 1ms/step - loss: 0.6277 - acc: 0.6256 - val_loss: 0.9412 - val_acc: 0.0189\n",
      "Epoch 9/100\n",
      "211/211 [==============================] - 0s 1ms/step - loss: 0.6279 - acc: 0.6351 - val_loss: 0.9097 - val_acc: 0.0943\n",
      "Epoch 10/100\n",
      "211/211 [==============================] - 0s 1ms/step - loss: 0.6189 - acc: 0.6303 - val_loss: 0.9503 - val_acc: 0.0189\n",
      "Epoch 11/100\n",
      "211/211 [==============================] - 0s 2ms/step - loss: 0.6047 - acc: 0.6445 - val_loss: 0.9668 - val_acc: 0.0189\n",
      "Epoch 12/100\n",
      "211/211 [==============================] - 0s 1ms/step - loss: 0.6012 - acc: 0.6540 - val_loss: 0.8994 - val_acc: 0.0943\n",
      "Epoch 13/100\n",
      "211/211 [==============================] - 0s 1ms/step - loss: 0.5961 - acc: 0.6445 - val_loss: 0.9277 - val_acc: 0.0189\n",
      "Epoch 14/100\n",
      "211/211 [==============================] - 0s 2ms/step - loss: 0.5712 - acc: 0.6445 - val_loss: 0.8407 - val_acc: 0.2453\n",
      "Epoch 15/100\n",
      "211/211 [==============================] - 0s 1ms/step - loss: 0.5525 - acc: 0.7204 - val_loss: 0.8762 - val_acc: 0.3208\n",
      "Epoch 16/100\n",
      "211/211 [==============================] - 0s 1ms/step - loss: 0.5404 - acc: 0.7630 - val_loss: 0.7555 - val_acc: 0.6792\n",
      "Epoch 17/100\n",
      "211/211 [==============================] - 0s 1ms/step - loss: 0.5131 - acc: 0.7678 - val_loss: 0.7784 - val_acc: 0.5849\n",
      "Epoch 18/100\n",
      "211/211 [==============================] - 0s 2ms/step - loss: 0.4898 - acc: 0.7678 - val_loss: 0.6906 - val_acc: 0.6604\n",
      "Epoch 19/100\n",
      "211/211 [==============================] - 0s 1ms/step - loss: 0.4618 - acc: 0.7820 - val_loss: 0.8874 - val_acc: 0.5283\n",
      "Epoch 20/100\n",
      "211/211 [==============================] - 0s 1ms/step - loss: 0.4608 - acc: 0.7773 - val_loss: 0.6651 - val_acc: 0.6604\n",
      "Epoch 21/100\n",
      "211/211 [==============================] - 0s 1ms/step - loss: 0.4332 - acc: 0.8152 - val_loss: 0.8356 - val_acc: 0.5849\n",
      "Epoch 22/100\n",
      "211/211 [==============================] - 0s 1ms/step - loss: 0.4027 - acc: 0.8199 - val_loss: 0.7130 - val_acc: 0.7547\n",
      "Epoch 23/100\n",
      "211/211 [==============================] - 0s 2ms/step - loss: 0.3951 - acc: 0.8389 - val_loss: 0.6310 - val_acc: 0.7547\n",
      "Epoch 24/100\n",
      "211/211 [==============================] - 0s 1ms/step - loss: 0.3596 - acc: 0.8578 - val_loss: 0.6072 - val_acc: 0.7547\n",
      "Epoch 25/100\n",
      "211/211 [==============================] - 0s 2ms/step - loss: 0.3531 - acc: 0.8483 - val_loss: 0.4591 - val_acc: 0.9245\n",
      "Epoch 26/100\n",
      "211/211 [==============================] - 0s 2ms/step - loss: 0.3472 - acc: 0.8768 - val_loss: 0.5064 - val_acc: 0.8491\n",
      "Epoch 27/100\n",
      "211/211 [==============================] - 0s 1ms/step - loss: 0.3219 - acc: 0.8578 - val_loss: 0.4783 - val_acc: 0.9245\n",
      "Epoch 28/100\n",
      "211/211 [==============================] - 0s 1ms/step - loss: 0.3284 - acc: 0.8626 - val_loss: 0.4140 - val_acc: 1.0000\n",
      "Epoch 29/100\n",
      "211/211 [==============================] - 0s 1ms/step - loss: 0.2995 - acc: 0.8910 - val_loss: 0.5070 - val_acc: 0.8302\n",
      "Epoch 30/100\n",
      "211/211 [==============================] - 0s 1ms/step - loss: 0.2988 - acc: 0.9005 - val_loss: 0.3793 - val_acc: 0.9245\n",
      "Epoch 31/100\n",
      "211/211 [==============================] - 0s 1ms/step - loss: 0.2661 - acc: 0.9147 - val_loss: 0.3759 - val_acc: 0.9245\n",
      "Epoch 32/100\n",
      "211/211 [==============================] - 0s 1ms/step - loss: 0.2696 - acc: 0.8910 - val_loss: 0.3390 - val_acc: 1.0000\n",
      "Epoch 33/100\n",
      "211/211 [==============================] - 0s 1ms/step - loss: 0.2547 - acc: 0.9005 - val_loss: 0.3498 - val_acc: 1.0000\n",
      "Epoch 34/100\n",
      "211/211 [==============================] - 0s 1ms/step - loss: 0.2566 - acc: 0.9005 - val_loss: 0.3205 - val_acc: 1.0000\n",
      "Epoch 35/100\n",
      "211/211 [==============================] - 0s 1ms/step - loss: 0.2595 - acc: 0.9147 - val_loss: 0.3083 - val_acc: 1.0000\n",
      "Epoch 36/100\n",
      "211/211 [==============================] - 0s 1ms/step - loss: 0.2630 - acc: 0.8957 - val_loss: 0.3353 - val_acc: 0.9245\n"
     ]
    },
    {
     "data": {
      "text/plain": [
       "<keras.callbacks.History at 0x2205145dfd0>"
      ]
     },
     "execution_count": 34,
     "metadata": {},
     "output_type": "execute_result"
    }
   ],
   "source": [
    "model.fit(Xros,yros,epochs=100,shuffle=True,\n",
    "          validation_split=.2,callbacks=[earlyStopping],class_weight='auto')"
   ]
  },
  {
   "cell_type": "code",
   "execution_count": 35,
   "metadata": {},
   "outputs": [
    {
     "name": "stdout",
     "output_type": "stream",
     "text": [
      "50/50 [==============================] - 0s 421us/step\n"
     ]
    },
    {
     "data": {
      "text/plain": [
       "[0.8559419107437134, 0.7999999928474426]"
      ]
     },
     "execution_count": 35,
     "metadata": {},
     "output_type": "execute_result"
    }
   ],
   "source": [
    "scores = model.evaluate(X_test_,y_test_)\n",
    "scores"
   ]
  },
  {
   "cell_type": "code",
   "execution_count": 36,
   "metadata": {},
   "outputs": [
    {
     "data": {
      "image/png": "[encoded data removed]",
      "text/plain": [
       "<matplotlib.figure.Figure at 0x22051da7240>"
      ]
     },
     "metadata": {},
     "output_type": "display_data"
    }
   ],
   "source": [
    "yt_pred = model.predict_classes(X_train_)\n",
    "plot_ConfusionMatrix(confusion_matrix(y_train_,yt_pred),sorted_unique_labels=ley.classes_)"
   ]
  },
  {
   "cell_type": "code",
   "execution_count": 37,
   "metadata": {
    "collapsed": true
   },
   "outputs": [],
   "source": [
    "y_pred = model.predict_classes(X_test_)"
   ]
  },
  {
   "cell_type": "code",
   "execution_count": 39,
   "metadata": {},
   "outputs": [
    {
     "data": {
      "image/png": "[encoded data removed]",
      "text/plain": [
       "<matplotlib.figure.Figure at 0x2204c535048>"
      ]
     },
     "metadata": {},
     "output_type": "display_data"
    }
   ],
   "source": [
    "plot_ConfusionMatrix(confusion_matrix(y_test_,y_pred),sorted_unique_labels=ley.classes_)"
   ]
  }
 ],
 "metadata": {
  "kernelspec": {
   "display_name": "Python 3",
   "language": "python",
   "name": "python3"
  },
  "language_info": {
   "codemirror_mode": {
    "name": "ipython",
    "version": 3
   },
   "file_extension": ".py",
   "mimetype": "text/x-python",
   "name": "python",
   "nbconvert_exporter": "python",
   "pygments_lexer": "ipython3",
   "version": "3.6.0"
  }
 },
 "nbformat": 4,
 "nbformat_minor": 2
}
