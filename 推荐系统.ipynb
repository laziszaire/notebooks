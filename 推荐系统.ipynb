{
 "cells": [
  {
   "cell_type": "markdown",
   "metadata": {},
   "source": [
    "# 推荐系统\n",
    "- 排序Top"
   ]
  },
  {
   "cell_type": "markdown",
   "metadata": {},
   "source": [
    "# 非个性化推荐: Top 10"
   ]
  },
  {
   "cell_type": "code",
   "execution_count": 1,
   "metadata": {},
   "outputs": [],
   "source": [
    "import pandas as pd\n",
    "import numpy as np"
   ]
  },
  {
   "cell_type": "code",
   "execution_count": 2,
   "metadata": {},
   "outputs": [
    {
     "data": {
      "text/html": [
       "<div>\n",
       "<style scoped>\n",
       "    .dataframe tbody tr th:only-of-type {\n",
       "        vertical-align: middle;\n",
       "    }\n",
       "\n",
       "    .dataframe tbody tr th {\n",
       "        vertical-align: top;\n",
       "    }\n",
       "\n",
       "    .dataframe thead th {\n",
       "        text-align: right;\n",
       "    }\n",
       "</style>\n",
       "<table border=\"1\" class=\"dataframe\">\n",
       "  <thead>\n",
       "    <tr style=\"text-align: right;\">\n",
       "      <th></th>\n",
       "      <th>name</th>\n",
       "      <th>rating</th>\n",
       "      <th>popularity</th>\n",
       "    </tr>\n",
       "  </thead>\n",
       "  <tbody>\n",
       "    <tr>\n",
       "      <th>0</th>\n",
       "      <td>1.056924</td>\n",
       "      <td>0.883486</td>\n",
       "      <td>0.393006</td>\n",
       "    </tr>\n",
       "    <tr>\n",
       "      <th>1</th>\n",
       "      <td>0.072303</td>\n",
       "      <td>0.002932</td>\n",
       "      <td>-2.031575</td>\n",
       "    </tr>\n",
       "    <tr>\n",
       "      <th>2</th>\n",
       "      <td>-0.467000</td>\n",
       "      <td>0.124503</td>\n",
       "      <td>-1.538822</td>\n",
       "    </tr>\n",
       "    <tr>\n",
       "      <th>3</th>\n",
       "      <td>-1.473269</td>\n",
       "      <td>0.328989</td>\n",
       "      <td>1.353930</td>\n",
       "    </tr>\n",
       "    <tr>\n",
       "      <th>4</th>\n",
       "      <td>-0.130636</td>\n",
       "      <td>1.420773</td>\n",
       "      <td>0.787126</td>\n",
       "    </tr>\n",
       "  </tbody>\n",
       "</table>\n",
       "</div>"
      ],
      "text/plain": [
       "       name    rating  popularity\n",
       "0  1.056924  0.883486    0.393006\n",
       "1  0.072303  0.002932   -2.031575\n",
       "2 -0.467000  0.124503   -1.538822\n",
       "3 -1.473269  0.328989    1.353930\n",
       "4 -0.130636  1.420773    0.787126"
      ]
     },
     "execution_count": 2,
     "metadata": {},
     "output_type": "execute_result"
    }
   ],
   "source": [
    "df = pd.DataFrame(np.random.randn(5,3), \n",
    "                  columns=['name', 'rating', 'popularity'])\n",
    "df.head()"
   ]
  },
  {
   "cell_type": "code",
   "execution_count": 3,
   "metadata": {},
   "outputs": [
    {
     "data": {
      "text/html": [
       "<div>\n",
       "<style scoped>\n",
       "    .dataframe tbody tr th:only-of-type {\n",
       "        vertical-align: middle;\n",
       "    }\n",
       "\n",
       "    .dataframe tbody tr th {\n",
       "        vertical-align: top;\n",
       "    }\n",
       "\n",
       "    .dataframe thead th {\n",
       "        text-align: right;\n",
       "    }\n",
       "</style>\n",
       "<table border=\"1\" class=\"dataframe\">\n",
       "  <thead>\n",
       "    <tr style=\"text-align: right;\">\n",
       "      <th></th>\n",
       "      <th>name</th>\n",
       "      <th>rating</th>\n",
       "      <th>popularity</th>\n",
       "    </tr>\n",
       "  </thead>\n",
       "  <tbody>\n",
       "    <tr>\n",
       "      <th>4</th>\n",
       "      <td>-0.130636</td>\n",
       "      <td>1.420773</td>\n",
       "      <td>0.787126</td>\n",
       "    </tr>\n",
       "    <tr>\n",
       "      <th>0</th>\n",
       "      <td>1.056924</td>\n",
       "      <td>0.883486</td>\n",
       "      <td>0.393006</td>\n",
       "    </tr>\n",
       "    <tr>\n",
       "      <th>3</th>\n",
       "      <td>-1.473269</td>\n",
       "      <td>0.328989</td>\n",
       "      <td>1.353930</td>\n",
       "    </tr>\n",
       "    <tr>\n",
       "      <th>2</th>\n",
       "      <td>-0.467000</td>\n",
       "      <td>0.124503</td>\n",
       "      <td>-1.538822</td>\n",
       "    </tr>\n",
       "    <tr>\n",
       "      <th>1</th>\n",
       "      <td>0.072303</td>\n",
       "      <td>0.002932</td>\n",
       "      <td>-2.031575</td>\n",
       "    </tr>\n",
       "  </tbody>\n",
       "</table>\n",
       "</div>"
      ],
      "text/plain": [
       "       name    rating  popularity\n",
       "4 -0.130636  1.420773    0.787126\n",
       "0  1.056924  0.883486    0.393006\n",
       "3 -1.473269  0.328989    1.353930\n",
       "2 -0.467000  0.124503   -1.538822\n",
       "1  0.072303  0.002932   -2.031575"
      ]
     },
     "execution_count": 3,
     "metadata": {},
     "output_type": "execute_result"
    }
   ],
   "source": [
    "df.sort_values(['rating', 'popularity'], ascending=False)"
   ]
  },
  {
   "cell_type": "markdown",
   "metadata": {},
   "source": [
    "# 个性化推荐"
   ]
  },
  {
   "cell_type": "markdown",
   "metadata": {},
   "source": [
    "## [Content Based Filtering：基于内容的过滤](https://github.com/laziszaire/recommendation-system/blob/dev/content_based.py)\n",
    "推荐相似于用户喜欢过的东西的东西"
   ]
  },
  {
   "cell_type": "markdown",
   "metadata": {},
   "source": [
    "### 向量化：产品表征\n",
    "- TF-IDF\n",
    "- 多维数据的聚合\n",
    "\n",
    "### 相似性分析\n",
    "- cosine similarity"
   ]
  },
  {
   "cell_type": "markdown",
   "metadata": {},
   "source": [
    "## Collaborative Filtering: 协同过滤"
   ]
  },
  {
   "cell_type": "markdown",
   "metadata": {},
   "source": [
    "### 1. 基于用户相似度的协同过滤\n",
    "推荐相似用户喜欢过的东西"
   ]
  },
  {
   "cell_type": "markdown",
   "metadata": {},
   "source": [
    "- Jaccard公式：  \n",
    "$$w_{uv} = \\frac{|N(u)\\cap N(v)|}{|N(u)\\cup N(v)|}$$\n",
    "- 余弦相似度：  \n",
    "$$w_{uv} = \\frac{|N(u)\\cap N(v)|}{\\sqrt{|N(u)| \\times |N(v)|}}$$"
   ]
  },
  {
   "cell_type": "markdown",
   "metadata": {},
   "source": [
    "u对i的喜爱程度 = 和u相似的用户v对i的喜欢程度的加权平均, 权值为u和v的相似度  \n",
    "$p(u, i) =  w_{uv} \\times rvi$"
   ]
  },
  {
   "cell_type": "markdown",
   "metadata": {},
   "source": [
    "### 2. [SVD](https://github.com/laziszaire/recommendation-system/blob/dev/SVD.py)\n",
    "surprise"
   ]
  },
  {
   "cell_type": "markdown",
   "metadata": {},
   "source": [
    "- 利用矩阵分解进行重构reconstruct\n",
    "- missing value recover  \n",
    "不是凸的?"
   ]
  },
  {
   "cell_type": "markdown",
   "metadata": {},
   "source": [
    "召回策略"
   ]
  },
  {
   "cell_type": "markdown",
   "metadata": {},
   "source": [
    "# 怎么评价推荐系统的好坏？\n",
    "- 反馈\n",
    "- 目标： 点击率、阅读时间、点赞、评论、转发"
   ]
  },
  {
   "cell_type": "markdown",
   "metadata": {},
   "source": [
    "# 参考文献\n",
    "[1] [推荐系统的常用算法原理和实现](https://blog.csdn.net/xsl_bj/article/details/51120643)  \n",
    "[2] [今日头条推荐算法原理全文详解](https://36kr.com/p/5114077.html)  \n",
    "[3] [Understanding matrix factorization for recommendation (part 3) - SVD for recommendation](http://nicolas-hug.com/blog/matrix_facto_3)  \n",
    "[4] [CS168: SVD missing value recover notes](http://theory.stanford.edu/~tim/s15/l/l9.pdf)"
   ]
  }
 ],
 "metadata": {
  "kernelspec": {
   "display_name": "Python 3",
   "language": "python",
   "name": "python3"
  },
  "language_info": {
   "codemirror_mode": {
    "name": "ipython",
    "version": 3
   },
   "file_extension": ".py",
   "mimetype": "text/x-python",
   "name": "python",
   "nbconvert_exporter": "python",
   "pygments_lexer": "ipython3",
   "version": "3.6.0"
  }
 },
 "nbformat": 4,
 "nbformat_minor": 2
}
