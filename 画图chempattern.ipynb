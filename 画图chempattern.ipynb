{
 "cells": [
  {
   "cell_type": "code",
   "execution_count": 61,
   "metadata": {},
   "outputs": [],
   "source": [
    "import pandas as pd\n",
    "import seaborn as sns;sns.set(color_codes=True)\n",
    "import matplotlib.pyplot as plt\n",
    "import numpy as np\n",
    "%matplotlib inline"
   ]
  },
  {
   "cell_type": "code",
   "execution_count": 4,
   "metadata": {},
   "outputs": [],
   "source": [
    "mass = pd.read_excel('./香精香料色谱峰共有模式数据.xlsx')"
   ]
  },
  {
   "cell_type": "code",
   "execution_count": 62,
   "metadata": {},
   "outputs": [],
   "source": [
    "grp = pd.Series(np.array(range(len(mass)-1))+1)"
   ]
  },
  {
   "cell_type": "code",
   "execution_count": 68,
   "metadata": {},
   "outputs": [],
   "source": [
    "grp.loc[0:58] = 'A'\n",
    "grp.loc[59:107] = 'B'\n",
    "grp.loc[108:] =  'C'"
   ]
  },
  {
   "cell_type": "code",
   "execution_count": 6,
   "metadata": {},
   "outputs": [],
   "source": [
    "common = mass.loc[0]"
   ]
  },
  {
   "cell_type": "code",
   "execution_count": 13,
   "metadata": {},
   "outputs": [
    {
     "data": {
      "text/html": [
       "<div>\n",
       "<style>\n",
       "    .dataframe thead tr:only-child th {\n",
       "        text-align: right;\n",
       "    }\n",
       "\n",
       "    .dataframe thead th {\n",
       "        text-align: left;\n",
       "    }\n",
       "\n",
       "    .dataframe tbody tr th {\n",
       "        vertical-align: top;\n",
       "    }\n",
       "</style>\n",
       "<table border=\"1\" class=\"dataframe\">\n",
       "  <thead>\n",
       "    <tr style=\"text-align: right;\">\n",
       "      <th></th>\n",
       "      <th>1</th>\n",
       "      <th>2</th>\n",
       "      <th>3</th>\n",
       "      <th>4</th>\n",
       "      <th>5</th>\n",
       "      <th>6</th>\n",
       "      <th>7</th>\n",
       "      <th>8</th>\n",
       "      <th>9</th>\n",
       "      <th>10</th>\n",
       "      <th>11</th>\n",
       "      <th>12</th>\n",
       "      <th>13</th>\n",
       "      <th>14</th>\n",
       "      <th>15</th>\n",
       "      <th>16</th>\n",
       "      <th>17</th>\n",
       "      <th>18</th>\n",
       "      <th>19</th>\n",
       "      <th>20</th>\n",
       "    </tr>\n",
       "    <tr>\n",
       "      <th>样品</th>\n",
       "      <th></th>\n",
       "      <th></th>\n",
       "      <th></th>\n",
       "      <th></th>\n",
       "      <th></th>\n",
       "      <th></th>\n",
       "      <th></th>\n",
       "      <th></th>\n",
       "      <th></th>\n",
       "      <th></th>\n",
       "      <th></th>\n",
       "      <th></th>\n",
       "      <th></th>\n",
       "      <th></th>\n",
       "      <th></th>\n",
       "      <th></th>\n",
       "      <th></th>\n",
       "      <th></th>\n",
       "      <th></th>\n",
       "      <th></th>\n",
       "    </tr>\n",
       "  </thead>\n",
       "  <tbody>\n",
       "    <tr>\n",
       "      <th>20050157r01</th>\n",
       "      <td>2424580</td>\n",
       "      <td>28449800</td>\n",
       "      <td>0</td>\n",
       "      <td>3047820</td>\n",
       "      <td>0</td>\n",
       "      <td>0</td>\n",
       "      <td>0</td>\n",
       "      <td>0</td>\n",
       "      <td>0</td>\n",
       "      <td>2288770</td>\n",
       "      <td>1649840</td>\n",
       "      <td>3334070</td>\n",
       "      <td>1238340</td>\n",
       "      <td>0</td>\n",
       "      <td>8941170</td>\n",
       "      <td>1624750</td>\n",
       "      <td>9683580</td>\n",
       "      <td>4520930</td>\n",
       "      <td>11997100</td>\n",
       "      <td>4053890</td>\n",
       "    </tr>\n",
       "    <tr>\n",
       "      <th>20050157r02</th>\n",
       "      <td>2550510</td>\n",
       "      <td>29625100</td>\n",
       "      <td>0</td>\n",
       "      <td>3185880</td>\n",
       "      <td>0</td>\n",
       "      <td>0</td>\n",
       "      <td>0</td>\n",
       "      <td>0</td>\n",
       "      <td>0</td>\n",
       "      <td>2331120</td>\n",
       "      <td>1718410</td>\n",
       "      <td>3522900</td>\n",
       "      <td>1308950</td>\n",
       "      <td>0</td>\n",
       "      <td>8488620</td>\n",
       "      <td>1756240</td>\n",
       "      <td>10283500</td>\n",
       "      <td>4914310</td>\n",
       "      <td>14457800</td>\n",
       "      <td>4430760</td>\n",
       "    </tr>\n",
       "    <tr>\n",
       "      <th>20050157r03</th>\n",
       "      <td>2654240</td>\n",
       "      <td>31649600</td>\n",
       "      <td>0</td>\n",
       "      <td>3449900</td>\n",
       "      <td>0</td>\n",
       "      <td>0</td>\n",
       "      <td>0</td>\n",
       "      <td>0</td>\n",
       "      <td>0</td>\n",
       "      <td>2578510</td>\n",
       "      <td>1869320</td>\n",
       "      <td>3763510</td>\n",
       "      <td>1408770</td>\n",
       "      <td>0</td>\n",
       "      <td>11742200</td>\n",
       "      <td>1905500</td>\n",
       "      <td>10971400</td>\n",
       "      <td>5111580</td>\n",
       "      <td>11420200</td>\n",
       "      <td>4591100</td>\n",
       "    </tr>\n",
       "    <tr>\n",
       "      <th>20050211r01</th>\n",
       "      <td>2519540</td>\n",
       "      <td>29418800</td>\n",
       "      <td>0</td>\n",
       "      <td>3002040</td>\n",
       "      <td>0</td>\n",
       "      <td>0</td>\n",
       "      <td>0</td>\n",
       "      <td>0</td>\n",
       "      <td>0</td>\n",
       "      <td>2398620</td>\n",
       "      <td>1734050</td>\n",
       "      <td>3535080</td>\n",
       "      <td>1405090</td>\n",
       "      <td>0</td>\n",
       "      <td>9717440</td>\n",
       "      <td>1837060</td>\n",
       "      <td>10158000</td>\n",
       "      <td>4882060</td>\n",
       "      <td>12067800</td>\n",
       "      <td>4324000</td>\n",
       "    </tr>\n",
       "    <tr>\n",
       "      <th>20050211r02</th>\n",
       "      <td>2601330</td>\n",
       "      <td>31184500</td>\n",
       "      <td>0</td>\n",
       "      <td>3179720</td>\n",
       "      <td>0</td>\n",
       "      <td>0</td>\n",
       "      <td>0</td>\n",
       "      <td>0</td>\n",
       "      <td>0</td>\n",
       "      <td>2565980</td>\n",
       "      <td>1844650</td>\n",
       "      <td>3717840</td>\n",
       "      <td>1460450</td>\n",
       "      <td>0</td>\n",
       "      <td>9674020</td>\n",
       "      <td>1939540</td>\n",
       "      <td>10762800</td>\n",
       "      <td>5169070</td>\n",
       "      <td>13359200</td>\n",
       "      <td>4549030</td>\n",
       "    </tr>\n",
       "  </tbody>\n",
       "</table>\n",
       "</div>"
      ],
      "text/plain": [
       "                  1         2   3        4   5   6   7   8   9        10  \\\n",
       "样品                                                                         \n",
       "20050157r01  2424580  28449800   0  3047820   0   0   0   0   0  2288770   \n",
       "20050157r02  2550510  29625100   0  3185880   0   0   0   0   0  2331120   \n",
       "20050157r03  2654240  31649600   0  3449900   0   0   0   0   0  2578510   \n",
       "20050211r01  2519540  29418800   0  3002040   0   0   0   0   0  2398620   \n",
       "20050211r02  2601330  31184500   0  3179720   0   0   0   0   0  2565980   \n",
       "\n",
       "                  11       12       13  14        15       16        17  \\\n",
       "样品                                                                        \n",
       "20050157r01  1649840  3334070  1238340   0   8941170  1624750   9683580   \n",
       "20050157r02  1718410  3522900  1308950   0   8488620  1756240  10283500   \n",
       "20050157r03  1869320  3763510  1408770   0  11742200  1905500  10971400   \n",
       "20050211r01  1734050  3535080  1405090   0   9717440  1837060  10158000   \n",
       "20050211r02  1844650  3717840  1460450   0   9674020  1939540  10762800   \n",
       "\n",
       "                  18        19       20  \n",
       "样品                                       \n",
       "20050157r01  4520930  11997100  4053890  \n",
       "20050157r02  4914310  14457800  4430760  \n",
       "20050157r03  5111580  11420200  4591100  \n",
       "20050211r01  4882060  12067800  4324000  \n",
       "20050211r02  5169070  13359200  4549030  "
      ]
     },
     "execution_count": 13,
     "metadata": {},
     "output_type": "execute_result"
    }
   ],
   "source": [
    "sample = mass.loc[mass.index!=0].set_index('样品')\n",
    "sample.head()"
   ]
  },
  {
   "cell_type": "code",
   "execution_count": 16,
   "metadata": {},
   "outputs": [],
   "source": [
    "from sklearn.preprocessing import minmax_scale"
   ]
  },
  {
   "cell_type": "code",
   "execution_count": 72,
   "metadata": {},
   "outputs": [],
   "source": [
    "sample_scaled = minmax_scale(sample)\n",
    "sample_scaled = pd.DataFrame(sample_scaled,index=grp.values)"
   ]
  },
  {
   "cell_type": "code",
   "execution_count": 76,
   "metadata": {},
   "outputs": [
    {
     "data": {
      "text/plain": [
       "{'A': 'r', 'B': 'g', 'C': 'b'}"
      ]
     },
     "execution_count": 76,
     "metadata": {},
     "output_type": "execute_result"
    }
   ],
   "source": [
    "rowcolor"
   ]
  },
  {
   "cell_type": "code",
   "execution_count": 82,
   "metadata": {},
   "outputs": [
    {
     "name": "stderr",
     "output_type": "stream",
     "text": [
      "C:\\ProgramData\\Anaconda3\\lib\\site-packages\\matplotlib\\cbook.py:136: MatplotlibDeprecationWarning: The axisbg attribute was deprecated in version 2.0. Use facecolor instead.\n",
      "  warnings.warn(message, mplDeprecation, stacklevel=1)\n"
     ]
    },
    {
     "data": {
      "image/png": "[encoded data removed]",
      "text/plain": [
       "<matplotlib.figure.Figure at 0x186504eb630>"
      ]
     },
     "metadata": {},
     "output_type": "display_data"
    }
   ],
   "source": [
    "g = sns.clustermap(sample_scaled.T, cmap='Blues',robust=True,figsize=(20,10))\n",
    "g.savefig('香精香料聚类热图')"
   ]
  }
 ],
 "metadata": {
  "kernelspec": {
   "display_name": "Python 3",
   "language": "python",
   "name": "python3"
  },
  "language_info": {
   "codemirror_mode": {
    "name": "ipython",
    "version": 3
   },
   "file_extension": ".py",
   "mimetype": "text/x-python",
   "name": "python",
   "nbconvert_exporter": "python",
   "pygments_lexer": "ipython3",
   "version": "3.6.1"
  }
 },
 "nbformat": 4,
 "nbformat_minor": 2
}
