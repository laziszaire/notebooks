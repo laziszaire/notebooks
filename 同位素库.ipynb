{
 "cells": [
  {
   "cell_type": "code",
   "execution_count": 101,
   "metadata": {
    "collapsed": true
   },
   "outputs": [],
   "source": [
    "from Chemometrics.mass_utils import iso_dist,composition2formula\n",
    "from Chemometrics.basic import to_sheets, psave\n",
    "from pyteomics.mass.mass import Composition,nist_mass,calculate_mass\n",
    "import glob\n",
    "import heapq\n",
    "import inspect\n",
    "import pandas as pd\n",
    "from functools import reduce\n",
    "import matplotlib.pyplot as plt\n",
    "import Chemometrics\n",
    "%matplotlib inline\n",
    "plt.rcParams['font.sans-serif']=['SimHei']"
   ]
  },
  {
   "cell_type": "code",
   "execution_count": 45,
   "metadata": {},
   "outputs": [
    {
     "name": "stdout",
     "output_type": "stream",
     "text": [
      "def filter_nist(isotopes, threshold=1e-5):\n",
      "    \"\"\"\n",
      "    过滤prob小于threshold（1e-4）的元素同位素\n",
      "    \"\"\"\n",
      "\n",
      "    _isotopes = {isotopes[m] for m in isotopes if m > 0 and isotopes[m][1] > threshold}\n",
      "    return _isotopes\n",
      "\n"
     ]
    }
   ],
   "source": [
    "print(inspect.getsource(Chemometrics.mass_utils.filter_nist))"
   ]
  },
  {
   "cell_type": "code",
   "execution_count": 107,
   "metadata": {},
   "outputs": [
    {
     "data": {
      "image/png": "[encoded data removed]",
      "text/plain": [
       "<Figure size 576x288 with 1 Axes>"
      ]
     },
     "metadata": {},
     "output_type": "display_data"
    }
   ],
   "source": [
    "a = pd.Series(iso_dist(Composition('H2O'), k=20, ethresshold=0)).reset_index()\n",
    "plt.figure(figsize=(8,4))\n",
    "plt.bar(a.loc[:,'index'], a.loc[:, 0])\n",
    "plt.xlim((10,30))\n",
    "plt.title('H2O同位素分布')\n",
    "plt.xlabel('mass')\n",
    "plt.ylabel('prob')\n",
    "plt.savefig('H2O.png', dpi=300)"
   ]
  },
  {
   "cell_type": "code",
   "execution_count": 52,
   "metadata": {},
   "outputs": [
    {
     "data": {
      "text/plain": [
       "({(15.99491461956, 0.99757), (16.9991317, 0.00038), (17.999161, 0.00205)},\n",
       " {(1.00782503207, 0.999885), (2.0141017778, 0.000115)})"
      ]
     },
     "execution_count": 52,
     "metadata": {},
     "output_type": "execute_result"
    }
   ],
   "source": [
    "Chemometrics.mass_utils.filter_nist(nist_mass['O']), Chemometrics.mass_utils.filter_nist(nist_mass['H'])"
   ]
  },
  {
   "cell_type": "code",
   "execution_count": 8,
   "metadata": {
    "collapsed": true
   },
   "outputs": [],
   "source": [
    "Na = nist_mass['Na'][0][0]\n",
    "def e_formula(str_formula):\n",
    "    \"\"\"\n",
    "    将formula表示为元素数目， 而不是其他code\n",
    "    :param str_formula:\n",
    "    :return:\n",
    "    \"\"\"\n",
    "    any_digit = any(c.isdigit() for c in str_formula)\n",
    "    if not any_digit:\n",
    "        str_formula += '1'\n",
    "    return str_formula\n",
    "def topk_value(dict_, k=5):\n",
    "    \"\"\"\n",
    "    取出dict中较大的k个元素\n",
    "    \"\"\"\n",
    "    mw_prob = ((m, dict_[m]) for m in heapq.nlargest(k, dict_, key=dict_.get))\n",
    "    return mw_prob\n",
    "def _charge_add(mw_prob, num_adds=(1,2), add=Na, charge_add=1):\n",
    "    \"\"\"\n",
    "    多电荷\n",
    "    columns = ('m'+str(m)+'z'+str(z) for z in range(1,3) for m in range(1,6))\n",
    "    \"\"\"\n",
    "    mw, prob = zip(*mw_prob)\n",
    "    _mw = (tuple(map(lambda x: (n * add + x)/(n * charge_add), mw)) for n in num_adds) #vectorization, conceptially clear, python single thread\n",
    "    _mw = reduce(lambda x, y: x+y, _mw)\n",
    "    prob = tuple(p/prob[0] for p in prob)\n",
    "    return _mw + prob\n",
    "    \n",
    "def _iso_k(formula, k=5):\n",
    "    _iso_dist = iso_dist(Composition(e_formula(formula)))\n",
    "    _iso_dist_avg = avg_iso(_iso_dist).sort_values(ascending=False).to_dict()\n",
    "    entry = _charge_add(topk_value(_iso_dist_avg, k))\n",
    "    return entry\n",
    "def avg_iso(iso_dist):\n",
    "    \"\"\"\n",
    "    iso_dist: dict\n",
    "    \"\"\"\n",
    "    a = pd.Series(iso_dist)\n",
    "    _result = a.groupby(a.index.values.round()).apply(_weight_mean).reset_index().drop(['level_0'], axis=1).set_index('level_1').loc[:,0]\n",
    "    #_result = _result.sort_values(ascending=False)\n",
    "    return _result\n",
    "def _weight_mean(x):\n",
    "    mz = x.index.values\n",
    "    w = x.values\n",
    "    w_sum = w.sum()\n",
    "    w = w/w_sum\n",
    "    _mz = mz.dot(w)\n",
    "    return pd.Series([w_sum], index=[_mz])"
   ]
  },
  {
   "cell_type": "code",
   "execution_count": 3,
   "metadata": {
    "collapsed": true
   },
   "outputs": [],
   "source": [
    "columns = ['m'+str(m)+'z'+str(z) for z in range(1,3) for m in range(1,6)] + ['p'+str(p) for p in range(1,6)]\n",
    "def _iso(df):\n",
    "    _dict = df.to_dict(orient='index')\n",
    "    _isos ={n: _iso_k(composition2formula(_dict[n])) for n in _dict}\n",
    "    _df = pd.DataFrame.from_dict(_isos, orient='index')\n",
    "    _df.columns = columns\n",
    "    _df = df.reset_index().merge(_df, how='right', left_on='聚合度n', right_index=True)\n",
    "    return _df"
   ]
  },
  {
   "cell_type": "code",
   "execution_count": 14,
   "metadata": {},
   "outputs": [
    {
     "data": {
      "text/html": [
       "<div>\n",
       "<style>\n",
       "    .dataframe thead tr:only-child th {\n",
       "        text-align: right;\n",
       "    }\n",
       "\n",
       "    .dataframe thead th {\n",
       "        text-align: left;\n",
       "    }\n",
       "\n",
       "    .dataframe tbody tr th {\n",
       "        vertical-align: top;\n",
       "    }\n",
       "</style>\n",
       "<table border=\"1\" class=\"dataframe\">\n",
       "  <thead>\n",
       "    <tr style=\"text-align: right;\">\n",
       "      <th></th>\n",
       "      <th>聚合度n</th>\n",
       "      <th>C</th>\n",
       "      <th>H</th>\n",
       "      <th>O</th>\n",
       "      <th>m1z1</th>\n",
       "      <th>m2z1</th>\n",
       "      <th>m3z1</th>\n",
       "      <th>m4z1</th>\n",
       "      <th>m5z1</th>\n",
       "      <th>m1z2</th>\n",
       "      <th>m2z2</th>\n",
       "      <th>m3z2</th>\n",
       "      <th>m4z2</th>\n",
       "      <th>m5z2</th>\n",
       "      <th>p1</th>\n",
       "      <th>p2</th>\n",
       "      <th>p3</th>\n",
       "      <th>p4</th>\n",
       "      <th>p5</th>\n",
       "    </tr>\n",
       "  </thead>\n",
       "  <tbody>\n",
       "    <tr>\n",
       "      <th>57</th>\n",
       "      <td>57</td>\n",
       "      <td>120</td>\n",
       "      <td>240</td>\n",
       "      <td>62</td>\n",
       "      <td>2697.555913</td>\n",
       "      <td>2698.559021</td>\n",
       "      <td>2696.552483</td>\n",
       "      <td>2699.561989</td>\n",
       "      <td>2700.564860</td>\n",
       "      <td>1360.272841</td>\n",
       "      <td>1360.774395</td>\n",
       "      <td>1359.771126</td>\n",
       "      <td>1361.275879</td>\n",
       "      <td>1361.777315</td>\n",
       "      <td>1.0</td>\n",
       "      <td>0.763762</td>\n",
       "      <td>0.741231</td>\n",
       "      <td>0.423683</td>\n",
       "      <td>0.188629</td>\n",
       "    </tr>\n",
       "    <tr>\n",
       "      <th>58</th>\n",
       "      <td>58</td>\n",
       "      <td>122</td>\n",
       "      <td>244</td>\n",
       "      <td>63</td>\n",
       "      <td>2741.582128</td>\n",
       "      <td>2742.585240</td>\n",
       "      <td>2740.578698</td>\n",
       "      <td>2743.588213</td>\n",
       "      <td>2744.591089</td>\n",
       "      <td>1382.285949</td>\n",
       "      <td>1382.787505</td>\n",
       "      <td>1381.784234</td>\n",
       "      <td>1383.288991</td>\n",
       "      <td>1383.790429</td>\n",
       "      <td>1.0</td>\n",
       "      <td>0.774954</td>\n",
       "      <td>0.729086</td>\n",
       "      <td>0.435816</td>\n",
       "      <td>0.196591</td>\n",
       "    </tr>\n",
       "    <tr>\n",
       "      <th>59</th>\n",
       "      <td>59</td>\n",
       "      <td>124</td>\n",
       "      <td>248</td>\n",
       "      <td>64</td>\n",
       "      <td>2785.608343</td>\n",
       "      <td>2786.611460</td>\n",
       "      <td>2784.604913</td>\n",
       "      <td>2787.614437</td>\n",
       "      <td>2788.617318</td>\n",
       "      <td>1404.299056</td>\n",
       "      <td>1404.800614</td>\n",
       "      <td>1403.797341</td>\n",
       "      <td>1405.302103</td>\n",
       "      <td>1405.803544</td>\n",
       "      <td>1.0</td>\n",
       "      <td>0.786145</td>\n",
       "      <td>0.717333</td>\n",
       "      <td>0.448117</td>\n",
       "      <td>0.204768</td>\n",
       "    </tr>\n",
       "    <tr>\n",
       "      <th>60</th>\n",
       "      <td>60</td>\n",
       "      <td>126</td>\n",
       "      <td>252</td>\n",
       "      <td>65</td>\n",
       "      <td>2829.634557</td>\n",
       "      <td>2830.637679</td>\n",
       "      <td>2828.631128</td>\n",
       "      <td>2831.640661</td>\n",
       "      <td>2832.643546</td>\n",
       "      <td>1426.312163</td>\n",
       "      <td>1426.813724</td>\n",
       "      <td>1425.810448</td>\n",
       "      <td>1427.315215</td>\n",
       "      <td>1427.816658</td>\n",
       "      <td>1.0</td>\n",
       "      <td>0.797339</td>\n",
       "      <td>0.705953</td>\n",
       "      <td>0.460584</td>\n",
       "      <td>0.213165</td>\n",
       "    </tr>\n",
       "    <tr>\n",
       "      <th>61</th>\n",
       "      <td>61</td>\n",
       "      <td>128</td>\n",
       "      <td>256</td>\n",
       "      <td>66</td>\n",
       "      <td>2873.660772</td>\n",
       "      <td>2874.663898</td>\n",
       "      <td>2872.657342</td>\n",
       "      <td>2875.666885</td>\n",
       "      <td>2876.669774</td>\n",
       "      <td>1448.325271</td>\n",
       "      <td>1448.826834</td>\n",
       "      <td>1447.823556</td>\n",
       "      <td>1449.328327</td>\n",
       "      <td>1449.829772</td>\n",
       "      <td>1.0</td>\n",
       "      <td>0.808534</td>\n",
       "      <td>0.694928</td>\n",
       "      <td>0.473217</td>\n",
       "      <td>0.221782</td>\n",
       "    </tr>\n",
       "  </tbody>\n",
       "</table>\n",
       "</div>"
      ],
      "text/plain": [
       "    聚合度n    C    H   O         m1z1         m2z1         m3z1         m4z1  \\\n",
       "57    57  120  240  62  2697.555913  2698.559021  2696.552483  2699.561989   \n",
       "58    58  122  244  63  2741.582128  2742.585240  2740.578698  2743.588213   \n",
       "59    59  124  248  64  2785.608343  2786.611460  2784.604913  2787.614437   \n",
       "60    60  126  252  65  2829.634557  2830.637679  2828.631128  2831.640661   \n",
       "61    61  128  256  66  2873.660772  2874.663898  2872.657342  2875.666885   \n",
       "\n",
       "           m5z1         m1z2         m2z2         m3z2         m4z2  \\\n",
       "57  2700.564860  1360.272841  1360.774395  1359.771126  1361.275879   \n",
       "58  2744.591089  1382.285949  1382.787505  1381.784234  1383.288991   \n",
       "59  2788.617318  1404.299056  1404.800614  1403.797341  1405.302103   \n",
       "60  2832.643546  1426.312163  1426.813724  1425.810448  1427.315215   \n",
       "61  2876.669774  1448.325271  1448.826834  1447.823556  1449.328327   \n",
       "\n",
       "           m5z2   p1        p2        p3        p4        p5  \n",
       "57  1361.777315  1.0  0.763762  0.741231  0.423683  0.188629  \n",
       "58  1383.790429  1.0  0.774954  0.729086  0.435816  0.196591  \n",
       "59  1405.803544  1.0  0.786145  0.717333  0.448117  0.204768  \n",
       "60  1427.816658  1.0  0.797339  0.705953  0.460584  0.213165  \n",
       "61  1449.829772  1.0  0.808534  0.694928  0.473217  0.221782  "
      ]
     },
     "execution_count": 14,
     "metadata": {},
     "output_type": "execute_result"
    }
   ],
   "source": [
    "#test\n",
    "files = glob.glob('TW*分子式_数值版.xlsx')\n",
    "dfs = pd.read_excel(files[0], index_col='聚合度n', sheetname=None)\n",
    "_iso(dfs['TW20_A-1']).tail()"
   ]
  },
  {
   "cell_type": "code",
   "execution_count": 5,
   "metadata": {
    "collapsed": true
   },
   "outputs": [],
   "source": [
    "files = glob.glob('TW*分子式_数值版.xlsx')\n",
    "for f in files:\n",
    "    dfs = pd.read_excel(f, index_col='聚合度n', sheetname=None)\n",
    "    df_dict = {df: _iso(dfs[df]) for df in dfs}\n",
    "    to_sheets(df_dict, '_'+f)"
   ]
  },
  {
   "cell_type": "code",
   "execution_count": 20,
   "metadata": {
    "collapsed": true
   },
   "outputs": [],
   "source": [
    "psave(df_dict, '同位素库.p')"
   ]
  }
 ],
 "metadata": {
  "kernelspec": {
   "display_name": "Python 3",
   "language": "python",
   "name": "python3"
  },
  "language_info": {
   "codemirror_mode": {
    "name": "ipython",
    "version": 3
   },
   "file_extension": ".py",
   "mimetype": "text/x-python",
   "name": "python",
   "nbconvert_exporter": "python",
   "pygments_lexer": "ipython3",
   "version": "3.6.6"
  }
 },
 "nbformat": 4,
 "nbformat_minor": 2
}
