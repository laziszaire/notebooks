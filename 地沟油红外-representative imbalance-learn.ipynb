{
 "cells": [
  {
   "cell_type": "code",
   "execution_count": 1,
   "metadata": {
    "collapsed": true
   },
   "outputs": [],
   "source": [
    "from Chemometrics.basic import pload,plot_ConfusionMatrix,build_clf,cal_pct\n",
    "from sklearn.neighbors import KNeighborsClassifier\n",
    "from sklearn.model_selection import GridSearchCV,train_test_split,StratifiedKFold,GroupShuffleSplit,StratifiedShuffleSplit\n",
    "from sklearn.metrics import f1_score,confusion_matrix,accuracy_score\n",
    "import pandas as pd\n",
    "import numpy as np\n",
    "\n",
    "import matplotlib.pyplot as plt\n",
    "%matplotlib inline\n",
    "plt.rcParams['font.sans-serif'] = 'SimHei'"
   ]
  },
  {
   "cell_type": "markdown",
   "metadata": {},
   "source": [
    "# representative 样本"
   ]
  },
  {
   "cell_type": "code",
   "execution_count": 2,
   "metadata": {
    "collapsed": true
   },
   "outputs": [],
   "source": [
    "data = pload('./地沟油红外数据及标签.p')\n",
    "ir = data['IR']\n",
    "desc = data['descriptions']\n",
    "labels = desc['地沟油含量']\n",
    "label_ = ~labels.isnull()\n",
    "rseed = 1\n",
    "cond1 = ((~desc['品牌'].isnull()) & (desc['备注'].isnull()))\n",
    "cond2 = np.isclose(desc['地沟油含量'],1)\n",
    "cond3 = (desc['地沟油含量'].isnull() & desc['品牌'].isnull())\n",
    "representatives = (cond1 | cond2 )| cond3\n",
    "ir_n = ir[~representatives]\n",
    "label_n = label_[~representatives]\n",
    "ir = ir[representatives]\n",
    "label = label_[representatives]\n",
    "desc = desc[~desc.index.duplicated(keep='first')]"
   ]
  },
  {
   "cell_type": "markdown",
   "metadata": {},
   "source": [
    "# group stratified split"
   ]
  },
  {
   "cell_type": "code",
   "execution_count": 3,
   "metadata": {
    "collapsed": true
   },
   "outputs": [],
   "source": [
    "# train test split\n",
    "# stratified group split\n",
    "train,test= train_test_split(label.index.unique(),test_size=.25,random_state=2)\n",
    "X_train,X_test = ir[ir.index.isin(train)],ir[ir.index.isin(test)]\n",
    "y_train,y_test = label[label.index.isin(train)],label[label.index.isin(test)]"
   ]
  },
  {
   "cell_type": "markdown",
   "metadata": {},
   "source": [
    "# imbalanced learn  \n",
    "- resampling to balance"
   ]
  },
  {
   "cell_type": "code",
   "execution_count": 4,
   "metadata": {
    "collapsed": true
   },
   "outputs": [],
   "source": [
    "# RandomOverSampler"
   ]
  },
  {
   "cell_type": "code",
   "execution_count": 5,
   "metadata": {
    "collapsed": true
   },
   "outputs": [],
   "source": [
    "from imblearn.over_sampling import RandomOverSampler\n",
    "ros = RandomOverSampler(random_state=rseed)"
   ]
  },
  {
   "cell_type": "code",
   "execution_count": 6,
   "metadata": {
    "collapsed": true
   },
   "outputs": [],
   "source": [
    "X_resampled, y_resampled = ros.fit_sample(X_train, y_train)"
   ]
  },
  {
   "cell_type": "code",
   "execution_count": 7,
   "metadata": {
    "collapsed": true
   },
   "outputs": [],
   "source": [
    "cv = GroupShuffleSplit(random_state=rseed).split(X_train,y_train,y_train.index)"
   ]
  },
  {
   "cell_type": "code",
   "execution_count": 8,
   "metadata": {
    "collapsed": true
   },
   "outputs": [],
   "source": [
    "clf = build_clf(X_resampled,y_resampled,cv=cv)"
   ]
  },
  {
   "cell_type": "code",
   "execution_count": 18,
   "metadata": {},
   "outputs": [
    {
     "data": {
      "text/plain": [
       "1.0"
      ]
     },
     "execution_count": 18,
     "metadata": {},
     "output_type": "execute_result"
    },
    {
     "data": {
      "image/png": "[encoded data removed]",
      "text/plain": [
       "<matplotlib.figure.Figure at 0x1de2cee09e8>"
      ]
     },
     "metadata": {},
     "output_type": "display_data"
    }
   ],
   "source": [
    "ptr = clf.predict(X_train)\n",
    "cm_train = confusion_matrix(y_train,ptr,y_train.unique())\n",
    "plot_ConfusionMatrix(cm_train,y_train.unique())\n",
    "f1_score(ptr,y_train)"
   ]
  },
  {
   "cell_type": "code",
   "execution_count": 10,
   "metadata": {},
   "outputs": [
    {
     "data": {
      "text/html": [
       "<div>\n",
       "<style>\n",
       "    .dataframe thead tr:only-child th {\n",
       "        text-align: right;\n",
       "    }\n",
       "\n",
       "    .dataframe thead th {\n",
       "        text-align: left;\n",
       "    }\n",
       "\n",
       "    .dataframe tbody tr th {\n",
       "        vertical-align: top;\n",
       "    }\n",
       "</style>\n",
       "<table border=\"1\" class=\"dataframe\">\n",
       "  <thead>\n",
       "    <tr style=\"text-align: right;\">\n",
       "      <th></th>\n",
       "      <th>品牌</th>\n",
       "      <th>分类</th>\n",
       "      <th>工艺</th>\n",
       "      <th>转基因</th>\n",
       "      <th>备注</th>\n",
       "      <th>种类</th>\n",
       "      <th>地沟油含量</th>\n",
       "    </tr>\n",
       "    <tr>\n",
       "      <th>编号</th>\n",
       "      <th></th>\n",
       "      <th></th>\n",
       "      <th></th>\n",
       "      <th></th>\n",
       "      <th></th>\n",
       "      <th></th>\n",
       "      <th></th>\n",
       "    </tr>\n",
       "  </thead>\n",
       "  <tbody>\n",
       "  </tbody>\n",
       "</table>\n",
       "</div>"
      ],
      "text/plain": [
       "Empty DataFrame\n",
       "Columns: [品牌, 分类, 工艺, 转基因, 备注, 种类, 地沟油含量]\n",
       "Index: []"
      ]
     },
     "execution_count": 10,
     "metadata": {},
     "output_type": "execute_result"
    }
   ],
   "source": [
    "desc[desc.index.isin(y_train.index[ptr!= y_train])]"
   ]
  },
  {
   "cell_type": "code",
   "execution_count": 17,
   "metadata": {},
   "outputs": [
    {
     "data": {
      "text/plain": [
       "0.15384615384615383"
      ]
     },
     "execution_count": 17,
     "metadata": {},
     "output_type": "execute_result"
    },
    {
     "data": {
      "image/png": "[encoded data removed]",
      "text/plain": [
       "<matplotlib.figure.Figure at 0x1de2cde85c0>"
      ]
     },
     "metadata": {},
     "output_type": "display_data"
    }
   ],
   "source": [
    "pt = clf.predict(X_test)\n",
    "cm = confusion_matrix(y_test,pt,label_.unique())\n",
    "plot_ConfusionMatrix(cm,label_.unique())\n",
    "f1_score(pt,y_test)"
   ]
  },
  {
   "cell_type": "code",
   "execution_count": 12,
   "metadata": {},
   "outputs": [
    {
     "data": {
      "text/html": [
       "<div>\n",
       "<style>\n",
       "    .dataframe thead tr:only-child th {\n",
       "        text-align: right;\n",
       "    }\n",
       "\n",
       "    .dataframe thead th {\n",
       "        text-align: left;\n",
       "    }\n",
       "\n",
       "    .dataframe tbody tr th {\n",
       "        vertical-align: top;\n",
       "    }\n",
       "</style>\n",
       "<table border=\"1\" class=\"dataframe\">\n",
       "  <thead>\n",
       "    <tr style=\"text-align: right;\">\n",
       "      <th></th>\n",
       "      <th>品牌</th>\n",
       "      <th>分类</th>\n",
       "      <th>工艺</th>\n",
       "      <th>转基因</th>\n",
       "      <th>备注</th>\n",
       "      <th>种类</th>\n",
       "      <th>地沟油含量</th>\n",
       "    </tr>\n",
       "    <tr>\n",
       "      <th>编号</th>\n",
       "      <th></th>\n",
       "      <th></th>\n",
       "      <th></th>\n",
       "      <th></th>\n",
       "      <th></th>\n",
       "      <th></th>\n",
       "      <th></th>\n",
       "    </tr>\n",
       "  </thead>\n",
       "  <tbody>\n",
       "    <tr>\n",
       "      <th>Y-025</th>\n",
       "      <td>NaN</td>\n",
       "      <td>花生油-2</td>\n",
       "      <td>NaN</td>\n",
       "      <td>NaN</td>\n",
       "      <td>NaN</td>\n",
       "      <td>花生油</td>\n",
       "      <td>NaN</td>\n",
       "    </tr>\n",
       "    <tr>\n",
       "      <th>Y-116</th>\n",
       "      <td>NaN</td>\n",
       "      <td>花生提-1</td>\n",
       "      <td>NaN</td>\n",
       "      <td>NaN</td>\n",
       "      <td>NaN</td>\n",
       "      <td>花生提</td>\n",
       "      <td>1.0</td>\n",
       "    </tr>\n",
       "    <tr>\n",
       "      <th>Y-301</th>\n",
       "      <td>胡姬花</td>\n",
       "      <td>古法花生油</td>\n",
       "      <td>压榨</td>\n",
       "      <td>-</td>\n",
       "      <td>NaN</td>\n",
       "      <td>花生油</td>\n",
       "      <td>NaN</td>\n",
       "    </tr>\n",
       "    <tr>\n",
       "      <th>Y-355</th>\n",
       "      <td>欧丽薇兰</td>\n",
       "      <td>橄榄油</td>\n",
       "      <td>冷榨</td>\n",
       "      <td>-</td>\n",
       "      <td>NaN</td>\n",
       "      <td>橄榄油</td>\n",
       "      <td>NaN</td>\n",
       "    </tr>\n",
       "    <tr>\n",
       "      <th>Y-402</th>\n",
       "      <td>贝蒂斯</td>\n",
       "      <td>橄榄油</td>\n",
       "      <td>压榨</td>\n",
       "      <td>-</td>\n",
       "      <td>NaN</td>\n",
       "      <td>橄榄油</td>\n",
       "      <td>NaN</td>\n",
       "    </tr>\n",
       "  </tbody>\n",
       "</table>\n",
       "</div>"
      ],
      "text/plain": [
       "         品牌     分类   工艺  转基因   备注   种类  地沟油含量\n",
       "编号                                           \n",
       "Y-025   NaN  花生油-2  NaN  NaN  NaN  花生油    NaN\n",
       "Y-116   NaN  花生提-1  NaN  NaN  NaN  花生提    1.0\n",
       "Y-301   胡姬花  古法花生油   压榨    -  NaN  花生油    NaN\n",
       "Y-355  欧丽薇兰    橄榄油   冷榨    -  NaN  橄榄油    NaN\n",
       "Y-402   贝蒂斯    橄榄油   压榨    -  NaN  橄榄油    NaN"
      ]
     },
     "execution_count": 12,
     "metadata": {},
     "output_type": "execute_result"
    }
   ],
   "source": [
    "desc[desc.index.isin(y_test.index[pt!= y_test])]"
   ]
  },
  {
   "cell_type": "code",
   "execution_count": 13,
   "metadata": {
    "collapsed": true
   },
   "outputs": [],
   "source": [
    "# non representative sample prediction"
   ]
  },
  {
   "cell_type": "code",
   "execution_count": 14,
   "metadata": {
    "collapsed": true
   },
   "outputs": [],
   "source": [
    "pn = clf.predict(ir_n)"
   ]
  },
  {
   "cell_type": "code",
   "execution_count": 15,
   "metadata": {},
   "outputs": [
    {
     "data": {
      "image/png": "[encoded data removed]",
      "text/plain": [
       "<matplotlib.figure.Figure at 0x1de2ccde2e8>"
      ]
     },
     "metadata": {},
     "output_type": "display_data"
    }
   ],
   "source": [
    "f1_score(label_n,pn)\n",
    "ul = np.unique(pn)\n",
    "cm = confusion_matrix(label_n,pn,ul)\n",
    "plot_ConfusionMatrix(cm,ul)"
   ]
  },
  {
   "cell_type": "code",
   "execution_count": 16,
   "metadata": {},
   "outputs": [
    {
     "data": {
      "text/html": [
       "<div>\n",
       "<style>\n",
       "    .dataframe thead tr:only-child th {\n",
       "        text-align: right;\n",
       "    }\n",
       "\n",
       "    .dataframe thead th {\n",
       "        text-align: left;\n",
       "    }\n",
       "\n",
       "    .dataframe tbody tr th {\n",
       "        vertical-align: top;\n",
       "    }\n",
       "</style>\n",
       "<table border=\"1\" class=\"dataframe\">\n",
       "  <thead>\n",
       "    <tr style=\"text-align: right;\">\n",
       "      <th></th>\n",
       "      <th>品牌</th>\n",
       "      <th>分类</th>\n",
       "      <th>工艺</th>\n",
       "      <th>转基因</th>\n",
       "      <th>备注</th>\n",
       "      <th>种类</th>\n",
       "      <th>地沟油含量</th>\n",
       "    </tr>\n",
       "    <tr>\n",
       "      <th>编号</th>\n",
       "      <th></th>\n",
       "      <th></th>\n",
       "      <th></th>\n",
       "      <th></th>\n",
       "      <th></th>\n",
       "      <th></th>\n",
       "      <th></th>\n",
       "    </tr>\n",
       "  </thead>\n",
       "  <tbody>\n",
       "    <tr>\n",
       "      <th>Y-172</th>\n",
       "      <td>NaN</td>\n",
       "      <td>玉米混-20-1</td>\n",
       "      <td>NaN</td>\n",
       "      <td>NaN</td>\n",
       "      <td>NaN</td>\n",
       "      <td>玉米混</td>\n",
       "      <td>0.2</td>\n",
       "    </tr>\n",
       "    <tr>\n",
       "      <th>Y-182</th>\n",
       "      <td>NaN</td>\n",
       "      <td>花生混-60-1</td>\n",
       "      <td>NaN</td>\n",
       "      <td>NaN</td>\n",
       "      <td>NaN</td>\n",
       "      <td>花生混</td>\n",
       "      <td>0.6</td>\n",
       "    </tr>\n",
       "    <tr>\n",
       "      <th>Y-217</th>\n",
       "      <td>NaN</td>\n",
       "      <td>花生混-20-1</td>\n",
       "      <td>NaN</td>\n",
       "      <td>NaN</td>\n",
       "      <td>NaN</td>\n",
       "      <td>花生混</td>\n",
       "      <td>0.2</td>\n",
       "    </tr>\n",
       "    <tr>\n",
       "      <th>Y-369</th>\n",
       "      <td>雪梨花</td>\n",
       "      <td>大豆油</td>\n",
       "      <td>浸出</td>\n",
       "      <td>是</td>\n",
       "      <td>1、昌平水屯粮油市场；</td>\n",
       "      <td>大豆油</td>\n",
       "      <td>NaN</td>\n",
       "    </tr>\n",
       "  </tbody>\n",
       "</table>\n",
       "</div>"
      ],
      "text/plain": [
       "        品牌        分类   工艺  转基因           备注   种类  地沟油含量\n",
       "编号                                                     \n",
       "Y-172  NaN  玉米混-20-1  NaN  NaN          NaN  玉米混    0.2\n",
       "Y-182  NaN  花生混-60-1  NaN  NaN          NaN  花生混    0.6\n",
       "Y-217  NaN  花生混-20-1  NaN  NaN          NaN  花生混    0.2\n",
       "Y-369  雪梨花       大豆油   浸出    是  1、昌平水屯粮油市场；  大豆油    NaN"
      ]
     },
     "execution_count": 16,
     "metadata": {},
     "output_type": "execute_result"
    }
   ],
   "source": [
    "desc[desc.index.isin(label_n.index[pn!=label_n])]"
   ]
  },
  {
   "cell_type": "code",
   "execution_count": 26,
   "metadata": {
    "collapsed": true
   },
   "outputs": [],
   "source": [
    "#ROC 曲线\n",
    "from sklearn.metrics import roc_curve\n",
    "score = clf.predict_proba(ir_n)"
   ]
  },
  {
   "cell_type": "code",
   "execution_count": 29,
   "metadata": {
    "collapsed": true
   },
   "outputs": [],
   "source": [
    " fpr, tpr,threshold = roc_curve(label_n,score[:,1])"
   ]
  },
  {
   "cell_type": "code",
   "execution_count": 30,
   "metadata": {
    "collapsed": true
   },
   "outputs": [],
   "source": [
    "plt.style.use('ggplot')"
   ]
  },
  {
   "cell_type": "code",
   "execution_count": 38,
   "metadata": {},
   "outputs": [
    {
     "data": {
      "text/plain": [
       "<matplotlib.text.Text at 0x1de2cc1b080>"
      ]
     },
     "execution_count": 38,
     "metadata": {},
     "output_type": "execute_result"
    },
    {
     "data": {
      "image/png": "[encoded data removed]",
      "text/plain": [
       "<matplotlib.figure.Figure at 0x1de2cfc6e80>"
      ]
     },
     "metadata": {},
     "output_type": "display_data"
    }
   ],
   "source": [
    "plt.plot(fpr,tpr)\n",
    "plt.plot([0,1],[0,1],'--')\n",
    "plt.xlabel('False positive rate')\n",
    "plt.ylabel('True positive rate - recall')\n",
    "plt.title('ROC - receiver operating characteristic')"
   ]
  },
  {
   "cell_type": "code",
   "execution_count": null,
   "metadata": {
    "collapsed": true
   },
   "outputs": [],
   "source": [
    "from sklearn.mod"
   ]
  }
 ],
 "metadata": {
  "kernelspec": {
   "display_name": "Python 3",
   "language": "python",
   "name": "python3"
  },
  "language_info": {
   "codemirror_mode": {
    "name": "ipython",
    "version": 3
   },
   "file_extension": ".py",
   "mimetype": "text/x-python",
   "name": "python",
   "nbconvert_exporter": "python",
   "pygments_lexer": "ipython3",
   "version": "3.6.1"
  }
 },
 "nbformat": 4,
 "nbformat_minor": 2
}
