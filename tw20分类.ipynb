{
 "cells": [
  {
   "cell_type": "code",
   "execution_count": 2,
   "metadata": {
    "collapsed": true
   },
   "outputs": [],
   "source": [
    "import pandas as pd\n",
    "import numpy as np\n",
    "import matplotlib.pyplot as plt\n",
    "import pickle\n",
    "from Chemometrics.basic import psave,pload\n",
    "import opusFC #读取IR数据\n",
    "import re\n",
    "import graphviz\n",
    "plt.rcParams['font.sans-serif']=['SimHei'] #用来正常显示中文标签\n",
    "plt.rcParams['axes.unicode_minus']=False #用来正常显示负号\n",
    "%matplotlib inline"
   ]
  },
  {
   "cell_type": "code",
   "execution_count": 3,
   "metadata": {},
   "outputs": [
    {
     "data": {
      "text/html": [
       "<div>\n",
       "<style>\n",
       "    .dataframe thead tr:only-child th {\n",
       "        text-align: right;\n",
       "    }\n",
       "\n",
       "    .dataframe thead th {\n",
       "        text-align: left;\n",
       "    }\n",
       "\n",
       "    .dataframe tbody tr th {\n",
       "        vertical-align: top;\n",
       "    }\n",
       "</style>\n",
       "<table border=\"1\" class=\"dataframe\">\n",
       "  <thead>\n",
       "    <tr style=\"text-align: right;\">\n",
       "      <th></th>\n",
       "      <th>Compound name</th>\n",
       "      <th>Accepted Description</th>\n",
       "      <th>Retention time (min)</th>\n",
       "      <th>m/z</th>\n",
       "      <th>Charge</th>\n",
       "      <th>Adducts</th>\n",
       "    </tr>\n",
       "    <tr>\n",
       "      <th>Compound ID</th>\n",
       "      <th></th>\n",
       "      <th></th>\n",
       "      <th></th>\n",
       "      <th></th>\n",
       "      <th></th>\n",
       "      <th></th>\n",
       "    </tr>\n",
       "  </thead>\n",
       "  <tbody>\n",
       "    <tr>\n",
       "      <th>1</th>\n",
       "      <td>聚氧乙烯山梨醇酐（PS）</td>\n",
       "      <td>Tween20_PS_14</td>\n",
       "      <td>18.406033</td>\n",
       "      <td>798.470106</td>\n",
       "      <td>1</td>\n",
       "      <td>M+NH4</td>\n",
       "    </tr>\n",
       "    <tr>\n",
       "      <th>2</th>\n",
       "      <td>聚氧乙烯山梨醇酐（PS）</td>\n",
       "      <td>Tween20_PS_15</td>\n",
       "      <td>18.990433</td>\n",
       "      <td>842.495603</td>\n",
       "      <td>1</td>\n",
       "      <td>M+NH4, M+2NH4</td>\n",
       "    </tr>\n",
       "    <tr>\n",
       "      <th>3</th>\n",
       "      <td>聚氧乙烯山梨醇酐（PS）</td>\n",
       "      <td>Tween20_PS_16</td>\n",
       "      <td>19.546250</td>\n",
       "      <td>886.521321</td>\n",
       "      <td>1</td>\n",
       "      <td>M+H, M+2H, M+NH4, M+2NH4</td>\n",
       "    </tr>\n",
       "    <tr>\n",
       "      <th>4</th>\n",
       "      <td>聚氧乙烯山梨醇酐（PS）</td>\n",
       "      <td>Tween20_PS_17</td>\n",
       "      <td>20.152067</td>\n",
       "      <td>930.547731</td>\n",
       "      <td>1</td>\n",
       "      <td>M+NH4, M+Na</td>\n",
       "    </tr>\n",
       "    <tr>\n",
       "      <th>5</th>\n",
       "      <td>聚氧乙烯山梨醇酐（PS）</td>\n",
       "      <td>Tween20_PS_18</td>\n",
       "      <td>20.701467</td>\n",
       "      <td>974.573679</td>\n",
       "      <td>1</td>\n",
       "      <td>M+NH4, M+Na</td>\n",
       "    </tr>\n",
       "  </tbody>\n",
       "</table>\n",
       "</div>"
      ],
      "text/plain": [
       "            Compound name Accepted Description  Retention time (min)  \\\n",
       "Compound ID                                                            \n",
       "1            聚氧乙烯山梨醇酐（PS）        Tween20_PS_14             18.406033   \n",
       "2            聚氧乙烯山梨醇酐（PS）        Tween20_PS_15             18.990433   \n",
       "3            聚氧乙烯山梨醇酐（PS）        Tween20_PS_16             19.546250   \n",
       "4            聚氧乙烯山梨醇酐（PS）        Tween20_PS_17             20.152067   \n",
       "5            聚氧乙烯山梨醇酐（PS）        Tween20_PS_18             20.701467   \n",
       "\n",
       "                    m/z  Charge                   Adducts  \n",
       "Compound ID                                                \n",
       "1            798.470106       1                     M+NH4  \n",
       "2            842.495603       1             M+NH4, M+2NH4  \n",
       "3            886.521321       1  M+H, M+2H, M+NH4, M+2NH4  \n",
       "4            930.547731       1               M+NH4, M+Na  \n",
       "5            974.573679       1               M+NH4, M+Na  "
      ]
     },
     "execution_count": 3,
     "metadata": {},
     "output_type": "execute_result"
    }
   ],
   "source": [
    "#IR\n",
    "avgIRdata = pload('tw20_IRavg.p')\n",
    "#mass\n",
    "tw20 = pload('tw20.p')\n",
    "raw_intensity = tw20.loc[:,'170627TW20_L1':'170627TW20_A2']\n",
    "pct_intensity = tw20.loc[:,'170627TW20_L1.1':]\n",
    "rt_mz_charge = tw20.loc[:,'Retention time (min)':'Charge']\n",
    "rest = tw20.loc[:,:'Adducts']\n",
    "rest.head()"
   ]
  },
  {
   "cell_type": "code",
   "execution_count": 4,
   "metadata": {
    "collapsed": true
   },
   "outputs": [],
   "source": [
    "def substr1(text,regexp):\n",
    "    m = re.search(regexp, text)\n",
    "    if m:\n",
    "        return m.group(0)\n",
    "l = pct_intensity.columns.tolist()\n",
    "regexp = '(?<=_).+(?=.1$)'\n",
    "pct_intensity.columns = [substr1(i,regexp) for i in l]"
   ]
  },
  {
   "cell_type": "markdown",
   "metadata": {},
   "source": [
    "# 质谱数据建模"
   ]
  },
  {
   "cell_type": "code",
   "execution_count": 6,
   "metadata": {},
   "outputs": [
    {
     "data": {
      "text/plain": [
       "['L', 'G', 'B', 'B', 'A', 'A', 'A', 'A', 'A']"
      ]
     },
     "execution_count": 6,
     "metadata": {},
     "output_type": "execute_result"
    }
   ],
   "source": [
    "labels = [i[0] for i in pct_intensity.columns.tolist()]\n",
    "labels"
   ]
  },
  {
   "cell_type": "code",
   "execution_count": 7,
   "metadata": {
    "collapsed": true
   },
   "outputs": [],
   "source": [
    "from sklearn.tree import DecisionTreeClassifier\n",
    "from sklearn.tree import export_graphviz\n",
    "from sklearn.model_selection import cross_val_score"
   ]
  },
  {
   "cell_type": "code",
   "execution_count": 8,
   "metadata": {
    "collapsed": true
   },
   "outputs": [],
   "source": [
    "clf = DecisionTreeClassifier(random_state=1)\n",
    "X = pct_intensity.T\n",
    "#scores = cross_val_score(clf,X,Y,cv=4) 交叉验证\n",
    "clf = clf.fit(X,labels)\n",
    "feature_names = tw20.loc[:,'Accepted Description'].tolist()#list\n",
    "dot_data = export_graphviz(clf, out_file=None,\n",
    "                          feature_names=feature_names,#list\n",
    "                          class_names=clf.classes_,#list\n",
    "                          filled=True, rounded=True,\n",
    "                          special_characters=True)\n",
    "graph = graphviz.Source(dot_data) "
   ]
  },
  {
   "cell_type": "markdown",
   "metadata": {},
   "source": [
    "~~~\n",
    "mask = tw20.loc[:,'Accepted Description']=='Tween20_PI_6'\n",
    "pct_intensity.loc[mask].T.iloc[:,0].sort_values()\n",
    "~~~"
   ]
  },
  {
   "cell_type": "markdown",
   "metadata": {
    "collapsed": true
   },
   "source": [
    "~~~\n",
    "export_graphviz(clf, out_file='tree.dot',\n",
    "                          feature_names=feature_names,#list\n",
    "                          class_names=clf.classes_,#list\n",
    "                          filled=True, rounded=True,\n",
    "                          special_characters=True)\n",
    "!dot -Tpng tree.dot -o mass_tree.png\n",
    "~~~"
   ]
  },
  {
   "cell_type": "markdown",
   "metadata": {},
   "source": [
    "# 光谱数据建模"
   ]
  },
  {
   "cell_type": "code",
   "execution_count": 11,
   "metadata": {
    "collapsed": true
   },
   "outputs": [],
   "source": [
    "avgIRdata\n",
    "labels_IR = [i[0] for i in avgIRdata.index.tolist()]"
   ]
  },
  {
   "cell_type": "code",
   "execution_count": 14,
   "metadata": {
    "collapsed": true
   },
   "outputs": [],
   "source": [
    "clf = DecisionTreeClassifier(random_state=2)\n",
    "X = avgIRdata\n",
    "#scores = cross_val_score(clf,X,Y,cv=4) 交叉验证\n",
    "clf_ir = clf.fit(X,labels_IR)\n",
    "feature_names = avgIRdata.columns.tolist()#list\n",
    "dot_data = export_graphviz(clf_ir, out_file=None,\n",
    "                          feature_names=feature_names,#list\n",
    "                          class_names=clf.classes_,#list\n",
    "                          filled=True, rounded=True,\n",
    "                          special_characters=True)\n",
    "graph = graphviz.Source(dot_data)"
   ]
  },
  {
   "cell_type": "markdown",
   "metadata": {
    "collapsed": true
   },
   "source": [
    "~~~\n",
    "export_graphviz(clf_ir, out_file='tree.dot',\n",
    "                          feature_names=feature_names,#list\n",
    "                          class_names=clf.classes_,#list\n",
    "                          filled=True, rounded=True,\n",
    "                          special_characters=True)\n",
    "!dot -Tpng tree.dot -o IR_tree.png\n",
    "~~~"
   ]
  },
  {
   "cell_type": "markdown",
   "metadata": {},
   "source": [
    "PCA+DecisionTreeClassifier"
   ]
  },
  {
   "cell_type": "code",
   "execution_count": 15,
   "metadata": {
    "collapsed": true
   },
   "outputs": [],
   "source": [
    "from sklearn.decomposition import PCA"
   ]
  },
  {
   "cell_type": "code",
   "execution_count": 72,
   "metadata": {
    "collapsed": true
   },
   "outputs": [],
   "source": [
    "pca = PCA(n_components=2,random_state=1).fit(X)"
   ]
  },
  {
   "cell_type": "code",
   "execution_count": 73,
   "metadata": {
    "collapsed": true
   },
   "outputs": [],
   "source": [
    "Xpca = pca.transform(X)"
   ]
  },
  {
   "cell_type": "code",
   "execution_count": 88,
   "metadata": {
    "collapsed": true
   },
   "outputs": [],
   "source": [
    "plt.rcParams['figure.figsize'] = (15,5)"
   ]
  },
  {
   "cell_type": "code",
   "execution_count": 94,
   "metadata": {
    "collapsed": true
   },
   "outputs": [],
   "source": [
    "labelA = ['not A' if l is not 'A' else l for l in labels_IR ]"
   ]
  },
  {
   "cell_type": "code",
   "execution_count": 85,
   "metadata": {
    "collapsed": true
   },
   "outputs": [],
   "source": [
    "clf_ir = clf.fit(Xpca,labels_IR)"
   ]
  },
  {
   "cell_type": "code",
   "execution_count": 79,
   "metadata": {
    "collapsed": true
   },
   "outputs": [],
   "source": [
    "dot_data = export_graphviz(clf_ir, out_file=None,\n",
    "                          #feature_names=feature_names,#list\n",
    "                          class_names=clf.classes_,#list\n",
    "                          filled=True, rounded=True,\n",
    "                          special_characters=True)\n",
    "graph = graphviz.Source(dot_data)"
   ]
  },
  {
   "cell_type": "code",
   "execution_count": 100,
   "metadata": {},
   "outputs": [
    {
     "data": {
      "text/plain": [
       "array([ 0.72727273,  0.90909091,  1.        ])"
      ]
     },
     "execution_count": 100,
     "metadata": {},
     "output_type": "execute_result"
    }
   ],
   "source": []
  }
 ],
 "metadata": {
  "kernelspec": {
   "display_name": "Python 3",
   "language": "python",
   "name": "python3"
  },
  "language_info": {
   "codemirror_mode": {
    "name": "ipython",
    "version": 3
   },
   "file_extension": ".py",
   "mimetype": "text/x-python",
   "name": "python",
   "nbconvert_exporter": "python",
   "pygments_lexer": "ipython3",
   "version": "3.6.1"
  }
 },
 "nbformat": 4,
 "nbformat_minor": 2
}
