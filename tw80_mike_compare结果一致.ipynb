{
 "cells": [
  {
   "cell_type": "code",
   "execution_count": 2,
   "metadata": {
    "collapsed": true
   },
   "outputs": [],
   "source": [
    "import re\n",
    "import pandas as pd\n",
    "import glob\n",
    "import numpy as np\n",
    "from Chemometrics.basic import read_mzxml,psave,pload\n",
    "from mass_simple import filter0, rt_correction, match_df, result2excel,ppm,mzs\n",
    "from mass_simple import avg_mass, irons\n",
    "import matplotlib.pyplot as plt\n",
    "\n",
    "%matplotlib inline\n",
    "%load_ext line_profiler"
   ]
  },
  {
   "cell_type": "code",
   "execution_count": 3,
   "metadata": {
    "collapsed": true
   },
   "outputs": [],
   "source": [
    "iron_lib_file = 'irons.p'\n",
    "iron_lib_file = 'irons.p'\n",
    "irons = pload(iron_lib_file)"
   ]
  },
  {
   "cell_type": "code",
   "execution_count": 4,
   "metadata": {},
   "outputs": [
    {
     "data": {
      "text/plain": [
       "'../data\\\\data010.mzXML'"
      ]
     },
     "execution_count": 4,
     "metadata": {},
     "output_type": "execute_result"
    }
   ],
   "source": [
    "allfiles = glob.glob(\"../data/*.mzxml\")\n",
    "f = allfiles[0]\n",
    "f"
   ]
  },
  {
   "cell_type": "code",
   "execution_count": 10,
   "metadata": {
    "collapsed": true
   },
   "outputs": [],
   "source": [
    "def tw80(data_file, out_file=None, out_type='zh'):\n",
    "    # 吐温80匹配操作整个流程\n",
    "\n",
    "    # 读取并初筛、清洗数据\n",
    "    df = read_mzxml(data_file)  # 读取mzxml\n",
    "    # df = df.round(5) # 保留5位小数\n",
    "    # df = filter0(df)  # m/z 初筛\n",
    "    df = rt_correction(df)  # 保留时间校正\n",
    "    # 匹配质谱库\n",
    "    avg_dfs = match_df(df)\n",
    "    out = avg_dfs.loc[avg_dfs.n.notnull()].sort_values(['grp', 'n'])\n",
    "    # 结果输出\n",
    "    if out_file:\n",
    "        result2excel(out, out_file, out_type=out_type)\n",
    "    return out"
   ]
  },
  {
   "cell_type": "code",
   "execution_count": 12,
   "metadata": {
    "collapsed": true
   },
   "outputs": [],
   "source": [
    "def rt_real(df, rtrange=(9.121, 11.774), mz=1331.8279, et=20*ppm, type_='max'):\n",
    "    \"\"\"\n",
    "    实测保留时间计算\n",
    "        eic最大强度处的保留时间\n",
    "    \"\"\"\n",
    "\n",
    "    # 选取大范围的样本点\n",
    "    df_rtrange = df.loc[df.rt.between(*rtrange)]\n",
    "    mask = abs(df_rtrange.mz - mz) < mz*et\n",
    "    eic = df_rtrange[mask]\n",
    "    rtmz_real = eic.rt[eic['intensity'].idxmax()]\n",
    "    return rtmz_real"
   ]
  },
  {
   "cell_type": "code",
   "execution_count": 13,
   "metadata": {},
   "outputs": [
    {
     "data": {
      "text/plain": [
       "0.0009499999999995623"
      ]
     },
     "execution_count": 13,
     "metadata": {},
     "output_type": "execute_result"
    }
   ],
   "source": [
    "df = read_mzxml(f)\n",
    "rtB = 10.91  \n",
    "rtB - rt_real(df)"
   ]
  },
  {
   "cell_type": "code",
   "execution_count": 5,
   "metadata": {
    "collapsed": true
   },
   "outputs": [],
   "source": [
    "#psave(df,'data010.p')"
   ]
  },
  {
   "cell_type": "code",
   "execution_count": 6,
   "metadata": {
    "collapsed": true
   },
   "outputs": [],
   "source": [
    "#df.to_excel('data010吐温80一级质谱库处理结果.xlsx')"
   ]
  },
  {
   "cell_type": "code",
   "execution_count": 7,
   "metadata": {
    "collapsed": true
   },
   "outputs": [],
   "source": [
    "#(['组别','聚合度（n=w+x+y+z）'，'质荷比（MS）'])\n",
    "#a1 = pd.read_excel('./mike吐温80c++结果.xlsx').ffill().drop('结构式',axis=1)"
   ]
  },
  {
   "cell_type": "code",
   "execution_count": 14,
   "metadata": {
    "collapsed": true
   },
   "outputs": [],
   "source": [
    "from mass_simple import rt_real,rtB"
   ]
  },
  {
   "cell_type": "code",
   "execution_count": 15,
   "metadata": {
    "collapsed": true
   },
   "outputs": [],
   "source": [
    "df = read_mzxml(f)  # 读取mzxml\n",
    "df = df.round(5) # 保留5位小数\n",
    "# df = filter0(df)  # m/z 初筛\n",
    "delta = rtB-rt_real(df)"
   ]
  },
  {
   "cell_type": "code",
   "execution_count": 16,
   "metadata": {},
   "outputs": [
    {
     "data": {
      "text/plain": [
       "0.0009499999999995623"
      ]
     },
     "execution_count": 16,
     "metadata": {},
     "output_type": "execute_result"
    }
   ],
   "source": [
    "delta"
   ]
  },
  {
   "cell_type": "markdown",
   "metadata": {},
   "source": [
    "不初筛，匹配条数变少了？"
   ]
  },
  {
   "cell_type": "code",
   "execution_count": 17,
   "metadata": {
    "collapsed": true
   },
   "outputs": [],
   "source": [
    "from mass_simple import rts_range\n",
    "categories = rts_range.index.tolist()"
   ]
  },
  {
   "cell_type": "code",
   "execution_count": 19,
   "metadata": {},
   "outputs": [
    {
     "data": {
      "text/plain": [
       "[93247, 93247, 435413, 573968, 526913, 781205, 322134, 205462]"
      ]
     },
     "execution_count": 19,
     "metadata": {},
     "output_type": "execute_result"
    }
   ],
   "source": [
    "#保留时间分组\n",
    "[len(df.loc[df.rt.between(*row)]) for _,row in rts_range.iterrows()]"
   ]
  },
  {
   "cell_type": "markdown",
   "metadata": {},
   "source": [
    "A：93247   \n",
    "B:435413  \n",
    "C:573968  \n",
    "D:526913  \n",
    "E:781205  \n",
    "F:322134   \n",
    "G:205462  "
   ]
  },
  {
   "cell_type": "code",
   "execution_count": 53,
   "metadata": {
    "collapsed": true
   },
   "outputs": [],
   "source": [
    "# 根据质荷比 在组内再次分组? 是平均质谱图？"
   ]
  },
  {
   "cell_type": "code",
   "execution_count": 54,
   "metadata": {},
   "outputs": [
    {
     "data": {
      "text/plain": [
       "[8103, 8103, 8872, 10299, 9074, 10655, 8713, 7635]"
      ]
     },
     "execution_count": 54,
     "metadata": {},
     "output_type": "execute_result"
    }
   ],
   "source": [
    "[len(avg_mass(df.loc[df.rt.between(*row)])) for _,row in rts_range.iterrows()]"
   ]
  },
  {
   "cell_type": "code",
   "execution_count": 20,
   "metadata": {
    "collapsed": true
   },
   "outputs": [],
   "source": [
    "res = tw80(f)"
   ]
  },
  {
   "cell_type": "code",
   "execution_count": 60,
   "metadata": {
    "collapsed": true
   },
   "outputs": [],
   "source": [
    "res.to_excel('finally.xls')"
   ]
  },
  {
   "cell_type": "markdown",
   "metadata": {},
   "source": [
    "---\n",
    "  和mike的C++结果一致"
   ]
  },
  {
   "cell_type": "markdown",
   "metadata": {},
   "source": [
    "---\n",
    "# 同位素匹配"
   ]
  },
  {
   "cell_type": "code",
   "execution_count": 29,
   "metadata": {},
   "outputs": [
    {
     "data": {
      "text/plain": [
       "['..\\\\_TW20_分子式_数值版.xlsx',\n",
       " '..\\\\_TW40_分子式_数值版.xlsx',\n",
       " '..\\\\_TW60_分子式_数值版.xlsx',\n",
       " '..\\\\_TW80_分子式_数值版.xlsx',\n",
       " '..\\\\_TW85_分子式_数值版.xlsx']"
      ]
     },
     "execution_count": 29,
     "metadata": {},
     "output_type": "execute_result"
    }
   ],
   "source": [
    "files = glob.glob('../_TW*分子式_数值版.xlsx')\n",
    "files"
   ]
  },
  {
   "cell_type": "code",
   "execution_count": 33,
   "metadata": {
    "collapsed": true
   },
   "outputs": [],
   "source": [
    "dfs_ = pd.read_excel('..\\\\_TW80_分子式_数值版.xlsx', sheetname=None)\n",
    "cat = [cat for cat in dfs_]\n",
    "df = read_mzxml(f)\n",
    "df = rt_correction(df)"
   ]
  },
  {
   "cell_type": "code",
   "execution_count": 62,
   "metadata": {
    "collapsed": true
   },
   "outputs": [],
   "source": [
    "def _match(mz_lib, avg, delta=20*ppm):\n",
    "    \"\"\"\n",
    "    质荷比匹配\n",
    "    \"\"\"\n",
    "    mz = avg.mz.values.reshape(-1, 1)\n",
    "    abs_error = np.abs(mz_lib - mz)\n",
    "    is_near = abs_error < mz_lib * delta\n",
    "    inten_ = []\n",
    "    for i in range(len(mz_lib)):\n",
    "        mask = is_near[:, i]\n",
    "        total_intensity = avg.intensity.loc[mask].sum()\n",
    "        inten_.append(total_intensity)  \n",
    "    return inten_"
   ]
  },
  {
   "cell_type": "code",
   "execution_count": 52,
   "metadata": {
    "collapsed": true
   },
   "outputs": [],
   "source": [
    "A_ = df.loc[df.rt.between(*rts_range.loc['A-1'])]\n",
    "A_avg = avg_mass(A_)\n",
    "mzs = dfs_[cat[0]].loc[:, dfs_[cat[0]].columns.str.startswith('m')]\n",
    "mzs_ = mzs.values.reshape(-1, 1).flatten()\n",
    "intes_ = np.reshape(_match(mzs_, A_avg), mzs.shape)\n",
    "intens_ = pd.DataFrame(intes_, columns=mzs.columns)"
   ]
  },
  {
   "cell_type": "code",
   "execution_count": 84,
   "metadata": {
    "collapsed": true
   },
   "outputs": [],
   "source": [
    "#匹配度计算公式\n",
    "def iso_matchness(isos, p):\n",
    "    #匹配度计算公式\n",
    "    isos = np.asarray(isos)\n",
    "    p = np.asarray(p)\n",
    "    #\n",
    "    if isos[0] == 0:\n",
    "        return None\n",
    "    else:\n",
    "        isos = isos/isos[0]\n",
    "    w = p/p.sum()\n",
    "    error = np.abs(isos - p).dot(w)\n",
    "    match = (1 - error) * 100\n",
    "    return match"
   ]
  },
  {
   "cell_type": "code",
   "execution_count": 159,
   "metadata": {
    "collapsed": true
   },
   "outputs": [],
   "source": [
    "def iso_match_vec(piso, p):\n",
    "    w = p.values/p.sum(axis=1).values.reshape(-1, 1)\n",
    "    match = (1- (np.abs(piso - p) * w).sum(axis=1).replace(0, np.nan))*100\n",
    "    return match\n",
    "\n",
    "def perspect(intens_):\n",
    "    a = intens_.replace(0, np.nan)\n",
    "    a = a.loc[:, a.columns.str.endswith('z1')]\n",
    "    a = a.values/a.iloc[:, 0].values.reshape(-1, 1)\n",
    "    a = pd.DataFrame(a).fillna(0)\n",
    "    return a"
   ]
  },
  {
   "cell_type": "code",
   "execution_count": 165,
   "metadata": {
    "collapsed": true
   },
   "outputs": [],
   "source": [
    "p = dfs_[cat[0]].loc[:, dfs_[cat[0]].columns.str.startswith('p')]\n",
    "piso = perspect(intens_)\n",
    "matchness = iso_match_vec(piso.values, p)"
   ]
  },
  {
   "cell_type": "code",
   "execution_count": 170,
   "metadata": {},
   "outputs": [
    {
     "data": {
      "text/plain": [
       "<matplotlib.axes._subplots.AxesSubplot at 0x1674ae9e278>"
      ]
     },
     "execution_count": 170,
     "metadata": {},
     "output_type": "execute_result"
    },
    {
     "data": {
      "image/png": "[encoded data removed]",
      "text/plain": [
       "<matplotlib.figure.Figure at 0x1674ae9da90>"
      ]
     },
     "metadata": {},
     "output_type": "display_data"
    }
   ],
   "source": [
    "matchness.hist()"
   ]
  },
  {
   "cell_type": "code",
   "execution_count": 5,
   "metadata": {},
   "outputs": [],
   "source": [
    "df = read_mzxml(f)"
   ]
  },
  {
   "cell_type": "code",
   "execution_count": 55,
   "metadata": {},
   "outputs": [
    {
     "data": {
      "text/html": [
       "<div>\n",
       "<style>\n",
       "    .dataframe thead tr:only-child th {\n",
       "        text-align: right;\n",
       "    }\n",
       "\n",
       "    .dataframe thead th {\n",
       "        text-align: left;\n",
       "    }\n",
       "\n",
       "    .dataframe tbody tr th {\n",
       "        vertical-align: top;\n",
       "    }\n",
       "</style>\n",
       "<table border=\"1\" class=\"dataframe\">\n",
       "  <thead>\n",
       "    <tr style=\"text-align: right;\">\n",
       "      <th></th>\n",
       "      <th>intensity</th>\n",
       "      <th>rt</th>\n",
       "      <th>mz</th>\n",
       "    </tr>\n",
       "  </thead>\n",
       "  <tbody>\n",
       "    <tr>\n",
       "      <th>0</th>\n",
       "      <td>693.519653</td>\n",
       "      <td>0.042633</td>\n",
       "      <td>100.075634</td>\n",
       "    </tr>\n",
       "    <tr>\n",
       "      <th>1</th>\n",
       "      <td>28543.634766</td>\n",
       "      <td>0.042633</td>\n",
       "      <td>102.127897</td>\n",
       "    </tr>\n",
       "    <tr>\n",
       "      <th>2</th>\n",
       "      <td>1133.792358</td>\n",
       "      <td>0.042633</td>\n",
       "      <td>102.147927</td>\n",
       "    </tr>\n",
       "    <tr>\n",
       "      <th>3</th>\n",
       "      <td>2317.931396</td>\n",
       "      <td>0.042633</td>\n",
       "      <td>103.131099</td>\n",
       "    </tr>\n",
       "    <tr>\n",
       "      <th>4</th>\n",
       "      <td>302.959198</td>\n",
       "      <td>0.042633</td>\n",
       "      <td>103.142371</td>\n",
       "    </tr>\n",
       "  </tbody>\n",
       "</table>\n",
       "</div>"
      ],
      "text/plain": [
       "      intensity        rt          mz\n",
       "0    693.519653  0.042633  100.075634\n",
       "1  28543.634766  0.042633  102.127897\n",
       "2   1133.792358  0.042633  102.147927\n",
       "3   2317.931396  0.042633  103.131099\n",
       "4    302.959198  0.042633  103.142371"
      ]
     },
     "execution_count": 55,
     "metadata": {},
     "output_type": "execute_result"
    }
   ],
   "source": [
    "df.head()"
   ]
  },
  {
   "cell_type": "code",
   "execution_count": 13,
   "metadata": {},
   "outputs": [],
   "source": [
    "_mz = df.mz.sort_values()"
   ]
  },
  {
   "cell_type": "code",
   "execution_count": 79,
   "metadata": {},
   "outputs": [
    {
     "data": {
      "text/html": [
       "<div>\n",
       "<style>\n",
       "    .dataframe thead tr:only-child th {\n",
       "        text-align: right;\n",
       "    }\n",
       "\n",
       "    .dataframe thead th {\n",
       "        text-align: left;\n",
       "    }\n",
       "\n",
       "    .dataframe tbody tr th {\n",
       "        vertical-align: top;\n",
       "    }\n",
       "</style>\n",
       "<table border=\"1\" class=\"dataframe\">\n",
       "  <thead>\n",
       "    <tr style=\"text-align: right;\">\n",
       "      <th></th>\n",
       "      <th>intensity</th>\n",
       "      <th>rt</th>\n",
       "      <th>mz</th>\n",
       "    </tr>\n",
       "  </thead>\n",
       "  <tbody>\n",
       "    <tr>\n",
       "      <th>598508</th>\n",
       "      <td>424.747406</td>\n",
       "      <td>10.323900</td>\n",
       "      <td>102.127677</td>\n",
       "    </tr>\n",
       "    <tr>\n",
       "      <th>759886</th>\n",
       "      <td>3315.907715</td>\n",
       "      <td>12.017517</td>\n",
       "      <td>102.127679</td>\n",
       "    </tr>\n",
       "    <tr>\n",
       "      <th>372029</th>\n",
       "      <td>2739.820068</td>\n",
       "      <td>9.442067</td>\n",
       "      <td>102.127679</td>\n",
       "    </tr>\n",
       "    <tr>\n",
       "      <th>739596</th>\n",
       "      <td>302.292999</td>\n",
       "      <td>11.642533</td>\n",
       "      <td>102.127681</td>\n",
       "    </tr>\n",
       "    <tr>\n",
       "      <th>1335910</th>\n",
       "      <td>223.916672</td>\n",
       "      <td>15.742667</td>\n",
       "      <td>102.127682</td>\n",
       "    </tr>\n",
       "  </tbody>\n",
       "</table>\n",
       "</div>"
      ],
      "text/plain": [
       "           intensity         rt          mz\n",
       "598508    424.747406  10.323900  102.127677\n",
       "759886   3315.907715  12.017517  102.127679\n",
       "372029   2739.820068   9.442067  102.127679\n",
       "739596    302.292999  11.642533  102.127681\n",
       "1335910   223.916672  15.742667  102.127682"
      ]
     },
     "execution_count": 79,
     "metadata": {},
     "output_type": "execute_result"
    }
   ],
   "source": [
    "a = df.sort_values(by=['mz','rt']).iloc[:2000]\n",
    "a.tail()"
   ]
  },
  {
   "cell_type": "code",
   "execution_count": 80,
   "metadata": {},
   "outputs": [
    {
     "data": {
      "text/plain": [
       "<matplotlib.axes._subplots.AxesSubplot at 0x1e8034d42e8>"
      ]
     },
     "execution_count": 80,
     "metadata": {},
     "output_type": "execute_result"
    },
    {
     "data": {
      "image/png": "[encoded data removed]",
      "text/plain": [
       "<matplotlib.figure.Figure at 0x1e803569748>"
      ]
     },
     "metadata": {},
     "output_type": "display_data"
    }
   ],
   "source": [
    "a.mz.reset_index(drop=True).plot()"
   ]
  },
  {
   "cell_type": "code",
   "execution_count": 85,
   "metadata": {},
   "outputs": [
    {
     "data": {
      "text/plain": [
       "<matplotlib.axes._subplots.AxesSubplot at 0x1e80366bf60>"
      ]
     },
     "execution_count": 85,
     "metadata": {},
     "output_type": "execute_result"
    },
    {
     "data": {
      "image/png": "[encoded data removed]",
      "text/plain": [
       "<matplotlib.figure.Figure at 0x1e8036b7cc0>"
      ]
     },
     "metadata": {},
     "output_type": "display_data"
    }
   ],
   "source": [
    "a.rt.sort_values().reset_index(drop=True).plot()"
   ]
  }
 ],
 "metadata": {
  "kernelspec": {
   "display_name": "Python 3",
   "language": "python",
   "name": "python3"
  },
  "language_info": {
   "codemirror_mode": {
    "name": "ipython",
    "version": 3
   },
   "file_extension": ".py",
   "mimetype": "text/x-python",
   "name": "python",
   "nbconvert_exporter": "python",
   "pygments_lexer": "ipython3",
   "version": "3.6.1"
  }
 },
 "nbformat": 4,
 "nbformat_minor": 2
}
