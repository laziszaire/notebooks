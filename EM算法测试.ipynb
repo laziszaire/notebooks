{
 "cells": [
  {
   "cell_type": "code",
   "execution_count": 1,
   "metadata": {},
   "outputs": [],
   "source": [
    "import numpy as np\n",
    "import matplotlib.pyplot as plt\n",
    "%matplotlib inline"
   ]
  },
  {
   "cell_type": "markdown",
   "metadata": {},
   "source": [
    "# EM算法example算法测试\n",
    "### [The EM algorithm](https://see.stanford.edu/materials/aimlcs229/cs229-notes8.pdf)"
   ]
  },
  {
   "cell_type": "markdown",
   "metadata": {},
   "source": [
    "## test1: mixture of gaussians\n",
    "### 1. data"
   ]
  },
  {
   "cell_type": "code",
   "execution_count": 2,
   "metadata": {},
   "outputs": [
    {
     "data": {
      "text/plain": [
       "<matplotlib.text.Text at 0x2740f522048>"
      ]
     },
     "execution_count": 2,
     "metadata": {},
     "output_type": "execute_result"
    },
    {
     "data": {
      "image/png": "[encoded data removed]",
      "text/plain": [
       "<matplotlib.figure.Figure at 0x2740d4c8dd8>"
      ]
     },
     "metadata": {},
     "output_type": "display_data"
    }
   ],
   "source": [
    "np.random.seed(1)\n",
    "x1 = np.random.normal(0, 1, 20)\n",
    "x2 = np.random.normal(4, 1, 20)\n",
    "y1 = np.zeros_like(x1)\n",
    "y2 = y1\n",
    "x = np.hstack([x1, x2])\n",
    "\n",
    "plt.plot(x1, y1, 'ro', label='cluster1')\n",
    "plt.plot(x2, y2, 'bo', label='cluster2')\n",
    "plt.title('gaussian mixture data')"
   ]
  },
  {
   "cell_type": "markdown",
   "metadata": {},
   "source": [
    "### 给定数据x， 即H潜变量可能取值[0, 1]\n",
    "求出参数的分布"
   ]
  },
  {
   "cell_type": "code",
   "execution_count": 3,
   "metadata": {},
   "outputs": [
    {
     "name": "stdout",
     "output_type": "stream",
     "text": [
      "all test pass.\n"
     ]
    }
   ],
   "source": [
    "def norm(x, u, sigma):\n",
    "    \"\"\"\n",
    "    正太分布函数\n",
    "    \"\"\"\n",
    "    f = 1/(sigma*np.sqrt(2*np.pi)) * np.exp(-(x-u)**2/(2*sigma**2))\n",
    "    \n",
    "    return f\n",
    "\n",
    "def log_norm(x, u,  sigma_square):\n",
    "    f = -.5*(np.log(sigma_square) \\\n",
    "        + np.log(2*np.pi) \\\n",
    "        + (x-u)**2/sigma_square)\n",
    "    \n",
    "    return f\n",
    "\n",
    "def grad_sigma_square(x, u, sigma_square):\n",
    "    \"\"\"\n",
    "    对数正太分布对sigma平方的梯度\n",
    "    \"\"\"\n",
    "    _g = -1/(2*sigma_square)*(1 - (x-u)**2/sigma_square)\n",
    "\n",
    "    return _g\n",
    "\n",
    "def grad_u(x, u, sigma_square):\n",
    "    \"\"\"对数正太分布对sigma平方的梯度\"\"\"\n",
    "    return (x-u)/sigma_square\n",
    "\n",
    "from scipy.stats import norm as _norm\n",
    "def test_norm():\n",
    "    x = 2\n",
    "    sigma = 1\n",
    "    u = 1\n",
    "    sigma_square = sigma**2\n",
    "    px = norm(x,u, sigma)\n",
    "    assert np.isclose(px, _norm(u, sigma).pdf(x))\n",
    "    log_px = log_norm(x, u, sigma_square)\n",
    "    assert np.log(px) == log_px\n",
    "    g_s = grad_sigma_square(x, u, sigma_square)\n",
    "    assert np.isclose(g_s, 0)\n",
    "    g_u = grad_u(x, u, sigma_square)\n",
    "    assert np.isclose(g_u, 1)\n",
    "    print('all test pass.')\n",
    "test_norm()"
   ]
  },
  {
   "cell_type": "markdown",
   "metadata": {},
   "source": [
    "### 初始化参数"
   ]
  },
  {
   "cell_type": "code",
   "execution_count": 4,
   "metadata": {},
   "outputs": [],
   "source": [
    "# init parameter\n",
    "def softmax(x):\n",
    "    \"\"\"\n",
    "    把每行(scores通常)变成prob\n",
    "    \"\"\"\n",
    "    shape = len(x.shape)\n",
    "    x = np.atleast_2d(x)\n",
    "    x -= x.max(axis=1, keepdims=True)\n",
    "    _exp = np.exp(x)\n",
    "    prob = _exp/_exp.sum(axis=1)\n",
    "    if shape == 1:\n",
    "        return prob.flatten()\n",
    "    return prob"
   ]
  },
  {
   "cell_type": "markdown",
   "metadata": {},
   "source": [
    "## E步:\n",
    "p(H|X) = p(X|H)p(H)/p(X)  \n",
    "其中 P(X) = sum_H(p(X|H)p(H)), 就是联合概率的归一化"
   ]
  },
  {
   "cell_type": "code",
   "execution_count": 5,
   "metadata": {},
   "outputs": [],
   "source": [
    "def Qi(_x, PH, PXH, log=True):\n",
    "    pxh = []\n",
    "    for h in range(len(PH)):\n",
    "        _ph = PH[h]\n",
    "        _u, _sigma_square = PXH[h,:]\n",
    "        _pxh = log_norm(_x, _u, _sigma_square)\n",
    "        pxh.append(np.log(_ph) + _pxh)\n",
    "    log_phx = np.asarray(pxh) - np.log(sum(np.exp(pxh)))\n",
    "    return log_phx\n",
    "\n",
    "def M_step(x, PH, PXH):\n",
    "    logphx = []\n",
    "    logpxh = []\n",
    "    for _x in x: \n",
    "        _logpxh = []\n",
    "        for h in range(len(PH)):\n",
    "            _ph = PH[h]\n",
    "            _u, _sigma_square = PXH[h,:]\n",
    "            _pxh = log_norm(_x, _u, _sigma_square)\n",
    "            _logpxh.append(np.log(_ph) + _pxh)\n",
    "        log_phx = np.asarray(_logpxh) - np.log(sum(np.exp(_logpxh)))\n",
    "        logphx.append(log_phx)\n",
    "        logpxh.append(_logpxh)\n",
    "    logphx = np.vstack(logphx)\n",
    "    w = np.exp(logphx)\n",
    "    logpxh = np.reshape(logpxh, [-1, len(PH)])\n",
    "    likelihood = np.sum(w*(logpxh - logphx))\n",
    "    return w, likelihood"
   ]
  },
  {
   "cell_type": "markdown",
   "metadata": {},
   "source": [
    "### 多个样本怎么处理？\n",
    "在计算Q时，样本与样本之间是独立可分，因此可以分开计算  \n",
    "M步时，样本集的对数似然是个样本的似然的和"
   ]
  },
  {
   "cell_type": "markdown",
   "metadata": {},
   "source": [
    "### M步：\n",
    "1. 写出似然函数\n",
    "2. 求各参数的梯度\n",
    "3. 另梯度=0，求极值"
   ]
  },
  {
   "cell_type": "markdown",
   "metadata": {},
   "source": [
    "待估计分布：\n",
    "- p(X|H) 是正太分布 [miu， sigma]\n",
    "- p(H) [p1, p2]"
   ]
  },
  {
   "cell_type": "code",
   "execution_count": 6,
   "metadata": {},
   "outputs": [],
   "source": [
    "def E_step(w, x):\n",
    "    PH = np.mean(w, axis=0)\n",
    "    us = (w*x[:,np.newaxis]).sum(axis=0)/w.sum(axis=0)\n",
    "    sigma_squares = np.sum(w*(x[:, np.newaxis] - us)**2, axis=0)/w.sum(axis=0)\n",
    "    PXH = np.vstack([us, sigma_squares]).T\n",
    "    return PH, PXH"
   ]
  },
  {
   "cell_type": "code",
   "execution_count": 7,
   "metadata": {},
   "outputs": [],
   "source": [
    "def mixture_gaussian(x, k):\n",
    "    PH = softmax(np.random.randn(k))\n",
    "    PXH = softmax(np.random.randn(2, k))\n",
    "    _likelihood = -1\n",
    "    epsilon = 1e-5\n",
    "    while True:\n",
    "        w, likelihood = M_step(x, PH, PXH)\n",
    "        delta = abs(likelihood - _likelihood)\n",
    "        if delta < epsilon:\n",
    "            break\n",
    "        _likelihood = likelihood\n",
    "        PH, PXH = E_step(w, x)\n",
    "    return PH, PXH\n",
    "PH, PXH = mixture_gaussian(x, 2)"
   ]
  },
  {
   "cell_type": "code",
   "execution_count": 8,
   "metadata": {},
   "outputs": [
    {
     "name": "stdout",
     "output_type": "stream",
     "text": [
      "gaussian mixture test pass\n"
     ]
    }
   ],
   "source": [
    "def clustering(x, PH, PXH):\n",
    "    \"\"\"\n",
    "    p(H|X)\n",
    "    \"\"\"\n",
    "    phx = np.vstack([Qi(_x, PH, PXH) for _x in x])\n",
    "    yhat = np.argmax(phx, axis=1)\n",
    "    return yhat\n",
    "\n",
    "def test_clustering():\n",
    "    assert sum(clustering(x, PH, PXH)) == len(x)//2\n",
    "    print('gaussian mixture test pass')\n",
    "test_clustering()"
   ]
  },
  {
   "cell_type": "markdown",
   "metadata": {},
   "source": [
    "# todo: HMM"
   ]
  }
 ],
 "metadata": {
  "kernelspec": {
   "display_name": "Python 3",
   "language": "python",
   "name": "python3"
  },
  "language_info": {
   "codemirror_mode": {
    "name": "ipython",
    "version": 3
   },
   "file_extension": ".py",
   "mimetype": "text/x-python",
   "name": "python",
   "nbconvert_exporter": "python",
   "pygments_lexer": "ipython3",
   "version": "3.6.0"
  }
 },
 "nbformat": 4,
 "nbformat_minor": 2
}
