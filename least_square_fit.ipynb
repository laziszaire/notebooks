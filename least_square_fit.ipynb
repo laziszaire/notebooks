{
 "cells": [
  {
   "cell_type": "code",
   "execution_count": 1,
   "metadata": {
    "collapsed": true
   },
   "outputs": [],
   "source": [
    "import numpy as np\n",
    "from scipy.optimize import leastsq"
   ]
  },
  {
   "cell_type": "code",
   "execution_count": 2,
   "metadata": {
    "collapsed": true
   },
   "outputs": [],
   "source": [
    "#待拟合函数\n",
    "def boltzmann(p,x):\n",
    "    #p 待拟合参数\n",
    "    A1,A2,x0,dx = p\n",
    "    y = (A1-A2)/(1+np.exp((x-x0)/dx))+A2 #待拟合函数\n",
    "    return y\n",
    "\n",
    "def error(p,x,y):\n",
    "    return boltzmann(p,x)-y\n",
    "\n",
    "# 待拟合数据    \n",
    "X = np.array(range(0,51,5))\n",
    "y = [112,135,145,201,298,365,472,556,634,646,615]\n",
    "y = np.array(y)\n",
    "#参数初始值    \n",
    "p0 = [1,3,2,1]\n",
    "p_fit,_ = leastsq(error,p0,args=(X,y))"
   ]
  },
  {
   "cell_type": "code",
   "execution_count": 3,
   "metadata": {
    "collapsed": true
   },
   "outputs": [],
   "source": [
    "from functools import partial"
   ]
  },
  {
   "cell_type": "code",
   "execution_count": 4,
   "metadata": {
    "collapsed": true
   },
   "outputs": [],
   "source": [
    "boltz_fit = partial(boltzmann,p=p_fit)"
   ]
  },
  {
   "cell_type": "code",
   "execution_count": 5,
   "metadata": {
    "collapsed": true
   },
   "outputs": [],
   "source": [
    "from Chemometrics.import_common import *\n",
    "%matplotlib inline"
   ]
  },
  {
   "cell_type": "code",
   "execution_count": 6,
   "metadata": {},
   "outputs": [
    {
     "data": {
      "text/plain": [
       "<matplotlib.legend.Legend at 0x1f88f756ac8>"
      ]
     },
     "execution_count": 6,
     "metadata": {},
     "output_type": "execute_result"
    },
    {
     "data": {
      "image/png": "[encoded data removed]",
      "text/plain": [
       "<matplotlib.figure.Figure at 0x1f88d081c18>"
      ]
     },
     "metadata": {},
     "output_type": "display_data"
    }
   ],
   "source": [
    "x_ = np.arange(0,51,.1)\n",
    "plt.plot(x_,boltz_fit(x=x_),'-',label='fitted_curve')\n",
    "plt.plot(X,y,'or',label='observation')\n",
    "plt.legend()"
   ]
  }
 ],
 "metadata": {
  "kernelspec": {
   "display_name": "Python 3",
   "language": "python",
   "name": "python3"
  },
  "language_info": {
   "codemirror_mode": {
    "name": "ipython",
    "version": 3
   },
   "file_extension": ".py",
   "mimetype": "text/x-python",
   "name": "python",
   "nbconvert_exporter": "python",
   "pygments_lexer": "ipython3",
   "version": "3.6.1"
  }
 },
 "nbformat": 4,
 "nbformat_minor": 2
}
