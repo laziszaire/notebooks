{
 "cells": [
  {
   "cell_type": "code",
   "execution_count": 1,
   "metadata": {
    "collapsed": true
   },
   "outputs": [],
   "source": [
    "import utils\n",
    "import pyteomics\n",
    "import pandas as pd\n",
    "import numpy as np\n",
    "import matplotlib.pyplot as plt\n",
    "from numpy import *\n",
    "%matplotlib inline"
   ]
  },
  {
   "cell_type": "code",
   "execution_count": 2,
   "metadata": {
    "collapsed": true
   },
   "outputs": [],
   "source": [
    "from pyteomics import mzxml,auxiliary\n",
    "with mzxml.read(\"./data010.mzXML\") as reader:\n",
    "    polarity = [spectrum['polarity'] for spectrum in reader]\n",
    "with mzxml.read(\"./data010.mzXML\") as reader:\n",
    "    spectrum1 = next(reader)"
   ]
  },
  {
   "cell_type": "code",
   "execution_count": 3,
   "metadata": {
    "collapsed": true
   },
   "outputs": [],
   "source": [
    "ppm = 1e-6"
   ]
  },
  {
   "cell_type": "code",
   "execution_count": 4,
   "metadata": {
    "collapsed": true
   },
   "outputs": [],
   "source": [
    "def avg_ppm(spectrum,ppm_num):\n",
    "    #平均质谱图\n",
    "    spectrum.sort_values(by='mz',inplace=True)\n",
    "    spectrum['grp'] = (spectrum.mz.diff()>spectrum.mz*ppm_num).cumsum()\n",
    "    grp = spectrum.groupby('grp')\n",
    "    mz = grp.apply(lambda x: x.mz.dot(x.intensity/x.intensity.sum()))\n",
    "    mz.name = 'mz'\n",
    "    intensity = grp['intensity'].mean()\n",
    "    avg = pd.concat([mz,intensity],axis=1)\n",
    "    avg.index.name = None\n",
    "    avg = avg.loc[:,['mz','intensity']]\n",
    "    avg['charge']=1\n",
    "    return avg"
   ]
  },
  {
   "cell_type": "code",
   "execution_count": 5,
   "metadata": {
    "collapsed": true
   },
   "outputs": [],
   "source": [
    "def isotope_mv(avgmass,isotype):\n",
    "    #选取同位素峰\n",
    "    avgmass.sort_values(by='mz',inplace = True)\n",
    "    avgmass['grp'] = (avgmass.mz.diff()-isotype>.01).cumsum()\n",
    "    grp = avgmass.groupby('grp')\n",
    "    charge_mask = grp['mz'].count()>1\n",
    "    isotopes = avgmass.loc[grp['intensity'].idxmax()]#强度最大的同位素峰组, 不是iloc\n",
    "    isotopes = isotopes.copy()\n",
    "    isotopes.loc[charge_mask.values,'charge']=1/isotype\n",
    "    isotopes = isotopes.loc[:,['mz','intensity','charge']]\n",
    "    return isotopes"
   ]
  },
  {
   "cell_type": "code",
   "execution_count": 6,
   "metadata": {
    "collapsed": true
   },
   "outputs": [],
   "source": [
    "def f1(s1,theshold=1e-3):\n",
    "    return isotope_mv(isotope_mv(avg_ppm(s1,theshold),.5),1)"
   ]
  },
  {
   "cell_type": "code",
   "execution_count": 7,
   "metadata": {
    "collapsed": true
   },
   "outputs": [],
   "source": [
    "def cov1(spectrum1):\n",
    "    s1 = pd.DataFrame(spectrum1).loc[:,['retentionTime','m/z array','intensity array']]\n",
    "    s1.columns = ['rt','mz','intensity']\n",
    "    return f1(s1)"
   ]
  },
  {
   "cell_type": "markdown",
   "metadata": {},
   "source": [
    "avgmass = a\n",
    "isotype = 1\n",
    "avgmass.sort_values(by='mz',inplace = True)\n",
    "avgmass['grp'] = (avgmass.mz.diff()-isotype>.01).cumsum()\n",
    "grp = avgmass.groupby('grp')\n",
    "charge_mask = grp['mz'].count()>1\n",
    "isotopes = avgmass.loc[grp['intensity'].idxmax()]#强度最大的同位素峰组\n",
    "isotopes = isotopes.copy()\n",
    "isotopes.loc[charge_mask.values,'charge']=1/isotype\n",
    "isotopes = isotopes.loc[:,['mz','intensity','charge']]"
   ]
  },
  {
   "cell_type": "markdown",
   "metadata": {},
   "source": [
    "# 去除噪音\n",
    "# 同位素 .5, 1"
   ]
  },
  {
   "cell_type": "code",
   "execution_count": null,
   "metadata": {
    "collapsed": true
   },
   "outputs": [],
   "source": [
    "with mzxml.read(\"./data010.mzXML\") as reader:\n",
    "    ss = [cov1(spectrum) for spectrum in reader]"
   ]
  }
 ],
 "metadata": {
  "kernelspec": {
   "display_name": "Python 3",
   "language": "python",
   "name": "python3"
  },
  "language_info": {
   "codemirror_mode": {
    "name": "ipython",
    "version": 3
   },
   "file_extension": ".py",
   "mimetype": "text/x-python",
   "name": "python",
   "nbconvert_exporter": "python",
   "pygments_lexer": "ipython3",
   "version": "3.6.1"
  }
 },
 "nbformat": 4,
 "nbformat_minor": 2
}
