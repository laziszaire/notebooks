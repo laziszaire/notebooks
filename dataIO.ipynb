{
 "cells": [
  {
   "cell_type": "code",
   "execution_count": 1,
   "metadata": {
    "collapsed": true
   },
   "outputs": [],
   "source": [
    "from data_io import *"
   ]
  },
  {
   "cell_type": "code",
   "execution_count": 2,
   "metadata": {},
   "outputs": [
    {
     "name": "stdout",
     "output_type": "stream",
     "text": [
      "all pass\n"
     ]
    }
   ],
   "source": [
    "jdx = read_jdx('./data/test_dataIO/ds-002-1-1.JDX')\n",
    "dx = read_dx('./data/test_dataIO/H2-1 TWEEN20.24.dx')\n",
    "spc = read_spc('./data/test_dataIO/安徽粉葛10#-10 .spc')\n",
    "mzxml = read_mzxml('./data/test_dataIO/data010.mzXML')\n",
    "cdf = read_cdf('./data/test_dataIO/s069_2017-6-2 1_50_27_020 - 570nm.cdf')\n",
    "with read_mzml('./data/test_dataIO/rt_9.mzML') as mzml:\n",
    "    print('all pass')"
   ]
  },
  {
   "cell_type": "code",
   "execution_count": 3,
   "metadata": {},
   "outputs": [],
   "source": [
    "nc = read_nc('./data/test_dataIO/Export for CDF - 1052.nc')"
   ]
  }
 ],
 "metadata": {
  "kernelspec": {
   "display_name": "Python 3",
   "language": "python",
   "name": "python3"
  },
  "language_info": {
   "codemirror_mode": {
    "name": "ipython",
    "version": 3
   },
   "file_extension": ".py",
   "mimetype": "text/x-python",
   "name": "python",
   "nbconvert_exporter": "python",
   "pygments_lexer": "ipython3",
   "version": "3.6.1"
  }
 },
 "nbformat": 4,
 "nbformat_minor": 2
}
