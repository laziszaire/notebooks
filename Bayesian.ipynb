{
 "cells": [
  {
   "cell_type": "markdown",
   "metadata": {},
   "source": [
    "# Bayesian"
   ]
  },
  {
   "cell_type": "markdown",
   "metadata": {},
   "source": [
    "## 1. classifier\n",
    "MAP"
   ]
  },
  {
   "cell_type": "markdown",
   "metadata": {},
   "source": [
    "### test problem"
   ]
  },
  {
   "cell_type": "code",
   "execution_count": 20,
   "metadata": {},
   "outputs": [],
   "source": [
    "from sklearn.datasets import make_classification\n",
    "from sklearn.decomposition import PCA"
   ]
  },
  {
   "cell_type": "code",
   "execution_count": null,
   "metadata": {},
   "outputs": [],
   "source": [
    "X, y = make_classification"
   ]
  },
  {
   "cell_type": "code",
   "execution_count": 17,
   "metadata": {},
   "outputs": [],
   "source": [
    "X, y = make_classification(n_samples=100, \n",
    "                           n_features=20,\n",
    "                           n_informative=3,\n",
    "                           n_redundant = 2,\n",
    "                           n_classes=2, \n",
    "                           n_clusters_per_class=2, random_state=1)"
   ]
  },
  {
   "cell_type": "code",
   "execution_count": 22,
   "metadata": {},
   "outputs": [],
   "source": [
    "pca = PCA(n_components=2)"
   ]
  },
  {
   "cell_type": "code",
   "execution_count": 23,
   "metadata": {},
   "outputs": [],
   "source": [
    "X_ = pca.fit_transform(X)"
   ]
  },
  {
   "cell_type": "code",
   "execution_count": 25,
   "metadata": {},
   "outputs": [],
   "source": [
    "import matplotlib.pyplot as plt"
   ]
  },
  {
   "cell_type": "code",
   "execution_count": 30,
   "metadata": {},
   "outputs": [
    {
     "data": {
      "text/plain": [
       "<matplotlib.text.Text at 0x21412276dd8>"
      ]
     },
     "execution_count": 30,
     "metadata": {},
     "output_type": "execute_result"
    },
    {
     "data": {
      "image/png": "[encoded data removed]",
      "text/plain": [
       "<matplotlib.figure.Figure at 0x21412204470>"
      ]
     },
     "metadata": {},
     "output_type": "display_data"
    }
   ],
   "source": [
    "plt.scatter(X_[y==0, 0], X_[y==0, 1], label='0')\n",
    "plt.scatter(X_[y==1, 0], X_[y==1, 1], label='0')\n",
    "plt.title('PCA score plots')\n",
    "plt.xlabel('PC1')\n",
    "plt.ylabel('PC2')"
   ]
  },
  {
   "cell_type": "code",
   "execution_count": 53,
   "metadata": {},
   "outputs": [],
   "source": [
    "from sklearn.base import BaseEstimator, ClassifierMixin\n",
    "from sklearn.metrics import accuracy_score\n",
    "import numpy as np"
   ]
  },
  {
   "cell_type": "code",
   "execution_count": 33,
   "metadata": {},
   "outputs": [],
   "source": [
    "class NaiveBayes(BaseEstimator, ClassifierMixin):\n",
    "    pass"
   ]
  },
  {
   "cell_type": "code",
   "execution_count": 50,
   "metadata": {},
   "outputs": [],
   "source": [
    "class GaussianNB(NaiveBayes):\n",
    "    \"\"\"\n",
    "    p(X|y) 是正态分布\n",
    "    \"\"\"\n",
    "    def __init__(self):\n",
    "        pass\n",
    "    \n",
    "    def fit(self, X, y):\n",
    "        self.classes_, _y = np.unique(y, return_inverse=True)\n",
    "        self.params = {}\n",
    "        for _class in self.classes_:\n",
    "            _X = X[y==_class, :]\n",
    "            mius, sigma2 = estimate_gaussian(_X)\n",
    "            self.params[_class] = np.vstack([mius, sigma2])\n",
    "        self.fitted_ = True\n",
    "        return self\n",
    "    \n",
    "    def predict_proba(self, X, y=None):\n",
    "        prob = []\n",
    "        for _class in self.classes_:\n",
    "            _params = self.params[_class]\n",
    "            mius, sigma2s = _params\n",
    "            _probs = log_norm(X, mius, sigma2s)\n",
    "            prob.append(np.sum(_probs, axis=1))\n",
    "        prob = np.vstack(prob).T\n",
    "        return prob\n",
    "    \n",
    "    def predict(self, X, y=None):\n",
    "        prob = self.predict_proba(X, y)#p(X|c), 假设先验p(c)是常数\n",
    "        yhat = self.classes_[np.argmax(prob, axis=1)]\n",
    "        return yhat\n",
    "    \n",
    "    def score(self, X, y):\n",
    "        yhat = self.predict(X, y)\n",
    "        return accuracy_score(y, yhat)\n",
    "           \n",
    "def log_norm(x, miu, sigma2):\n",
    "    logp = -.5*np.log(np.pi*2*sigma2) - .5*(x-miu)**2/sigma2\n",
    "    return logp\n",
    "\n",
    "def estimate_gaussian(x):\n",
    "    mius = np.mean(x, axis=0)\n",
    "    sigma2 = np.mean((x-mius)**2, axis=0)\n",
    "    return mius, sigma2"
   ]
  },
  {
   "cell_type": "code",
   "execution_count": 51,
   "metadata": {},
   "outputs": [],
   "source": [
    "def test_GaussianNB():\n",
    "    X, y = make_classification()\n",
    "    gnb = GaussianNB()\n",
    "    gnb.fit(X, y)\n",
    "    yhat = gnb.predict(X, y)\n",
    "    score = gnb.score(X, y)\n",
    "    print(score)"
   ]
  },
  {
   "cell_type": "code",
   "execution_count": 54,
   "metadata": {},
   "outputs": [
    {
     "name": "stdout",
     "output_type": "stream",
     "text": [
      "0.93\n"
     ]
    }
   ],
   "source": [
    "test_GaussianNB()"
   ]
  },
  {
   "cell_type": "markdown",
   "metadata": {},
   "source": [
    "## 参考文献\n",
    "1. [Naive Bayes](http://scikit-learn.org/stable/modules/naive_bayes.html)"
   ]
  },
  {
   "cell_type": "markdown",
   "metadata": {},
   "source": [
    "Gaussian Naive Bayes Classifier pass!"
   ]
  },
  {
   "cell_type": "markdown",
   "metadata": {},
   "source": [
    "## todo: Bayes clustering\n",
    "EM"
   ]
  }
 ],
 "metadata": {
  "kernelspec": {
   "display_name": "Python 3",
   "language": "python",
   "name": "python3"
  },
  "language_info": {
   "codemirror_mode": {
    "name": "ipython",
    "version": 3
   },
   "file_extension": ".py",
   "mimetype": "text/x-python",
   "name": "python",
   "nbconvert_exporter": "python",
   "pygments_lexer": "ipython3",
   "version": "3.6.0"
  }
 },
 "nbformat": 4,
 "nbformat_minor": 2
}
