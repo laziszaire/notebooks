{
 "cells": [
  {
   "cell_type": "markdown",
   "metadata": {},
   "source": [
    "# [三次样条插值/cubic spline interpolation](https://en.wikiversity.org/wiki/Cubic_Spline_Interpolation)"
   ]
  },
  {
   "cell_type": "code",
   "execution_count": 2,
   "metadata": {
    "collapsed": true
   },
   "outputs": [],
   "source": [
    "import numpy as np\n",
    "import matplotlib.pyplot as plt\n",
    "%matplotlib inline"
   ]
  },
  {
   "cell_type": "markdown",
   "metadata": {},
   "source": [
    "## 问题\n",
    "已知：\n",
    "x: (n+1)*1; a, b = min(x), max(x)\n",
    "y: (n+1)*1\n",
    "求S(x), 满足:\n",
    "  1. S(xi) = yi\n",
    "  2. S(x) = Ci(x) for $x >= x(i-1)$ and x <= x(i+1), i = 1,2,3,...    \n",
    " \n",
    "其中，$Ci(x) = ai + bi*x + ci*x^2 + di*x^3$，所以待确定参数有 n组，每组4个，共4n个参数\n",
    "限制条件有：\n",
    "1. 函数值：Ci(x(i-1)) = y(i-1), Ci(x(i)) = y(i) \n",
    "2. 一阶导数： C'i(xi) = C'(i+1)[xi]\n",
    "3. 二阶导数：C''i(xi) = C''(i+1)[xi]\n",
    "4. 边界点： C''(x0) = C''(xn) = 0\n",
    "一阶导数表示除端点外的所有点i属于C[i]又属于C[i+1], 这两个函数在这个点的一阶导数相等\n",
    "\n",
    "共n*2 + (n-1) + n-1 + 2 = 4n 个方程\n"
   ]
  },
  {
   "cell_type": "code",
   "execution_count": 12,
   "metadata": {},
   "outputs": [],
   "source": [
    "x = np.random.randn(10)\n",
    "x = np.sort(x)\n",
    "f = lambda x:x**2\n",
    "y = f(x)"
   ]
  },
  {
   "cell_type": "code",
   "execution_count": 14,
   "metadata": {
    "scrolled": true
   },
   "outputs": [
    {
     "data": {
      "text/plain": [
       "Text(0,0.5,'f')"
      ]
     },
     "execution_count": 14,
     "metadata": {},
     "output_type": "execute_result"
    },
    {
     "data": {
      "image/png": "[encoded data removed]",
      "text/plain": [
       "<Figure size 432x288 with 1 Axes>"
      ]
     },
     "metadata": {},
     "output_type": "display_data"
    }
   ],
   "source": [
    "plt.plot(x, y)\n",
    "plt.title('f(x) = x**2')\n",
    "plt.xlabel('x')\n",
    "plt.ylabel('f')"
   ]
  },
  {
   "cell_type": "markdown",
   "metadata": {},
   "source": [
    "## cubic spline"
   ]
  },
  {
   "cell_type": "code",
   "execution_count": null,
   "metadata": {
    "collapsed": true
   },
   "outputs": [],
   "source": []
  }
 ],
 "metadata": {
  "kernelspec": {
   "display_name": "Python 3",
   "language": "python",
   "name": "python3"
  },
  "language_info": {
   "codemirror_mode": {
    "name": "ipython",
    "version": 3
   },
   "file_extension": ".py",
   "mimetype": "text/x-python",
   "name": "python",
   "nbconvert_exporter": "python",
   "pygments_lexer": "ipython3",
   "version": "3.6.6"
  }
 },
 "nbformat": 4,
 "nbformat_minor": 2
}
