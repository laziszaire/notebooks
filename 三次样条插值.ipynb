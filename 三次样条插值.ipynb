{
 "cells": [
  {
   "cell_type": "markdown",
   "metadata": {},
   "source": [
    "# [三次样条插值/cubic spline interpolation](https://en.wikiversity.org/wiki/Cubic_Spline_Interpolation)"
   ]
  },
  {
   "cell_type": "code",
   "execution_count": 123,
   "metadata": {
    "collapsed": true
   },
   "outputs": [],
   "source": [
    "import numpy as np\n",
    "from scipy.linalg import solve_banded\n",
    "from bisect import bisect_left,bisect\n",
    "import matplotlib.pyplot as plt\n",
    "\n",
    "%matplotlib inline"
   ]
  },
  {
   "cell_type": "markdown",
   "metadata": {},
   "source": [
    "## 问题\n",
    "已知：\n",
    "x: (n+1)*1; a, b = min(x), max(x)\n",
    "y: (n+1)*1\n",
    "求S(x), 满足:\n",
    "  1. S(xi) = yi\n",
    "  2. S(x) = Ci(x) for $x >= x(i-1)$ and x <= x(i+1), i = 1,2,3,...    \n",
    " \n",
    "其中，$Ci(x) = ai + bi*x + ci*x^2 + di*x^3$，所以待确定参数有 n组，每组4个，共4n个参数\n",
    "限制条件有：\n",
    "1. 函数值：Ci(x(i-1)) = y(i-1), Ci(x(i)) = y(i) \n",
    "2. 一阶导数： C'i(xi) = C'(i+1)[xi]\n",
    "3. 二阶导数：C''i(xi) = C''(i+1)[xi]\n",
    "4. 边界点： C''(x0) = C''(xn) = 0\n",
    "一阶导数表示除端点外的所有点i属于C[i]又属于C[i+1], 这两个函数在这个点的一阶导数相等\n",
    "\n",
    "共n*2 + (n-1) + n-1 + 2 = 4n 个方程\n"
   ]
  },
  {
   "cell_type": "code",
   "execution_count": 184,
   "metadata": {
    "collapsed": true
   },
   "outputs": [],
   "source": [
    "x = [-1, 0, 3]\n",
    "x = np.sort(x)\n",
    "y = np.asarray([.5, 0, 3])"
   ]
  },
  {
   "cell_type": "code",
   "execution_count": 187,
   "metadata": {
    "scrolled": true
   },
   "outputs": [
    {
     "data": {
      "text/plain": [
       "Text(0,0.5,'f')"
      ]
     },
     "execution_count": 187,
     "metadata": {},
     "output_type": "execute_result"
    },
    {
     "data": {
      "image/png": "[encoded data removed]",
      "text/plain": [
       "<Figure size 432x288 with 1 Axes>"
      ]
     },
     "metadata": {},
     "output_type": "display_data"
    }
   ],
   "source": [
    "plt.scatter(x, y)\n",
    "plt.xlabel('x')\n",
    "plt.ylabel('f')"
   ]
  },
  {
   "cell_type": "code",
   "execution_count": 205,
   "metadata": {},
   "outputs": [],
   "source": [
    "c = CubicSpline(y, x)\n",
    "c._test()\n",
    "_x = [-.5,-.2, 0 ,.3,.6,1,2]\n",
    "_y = [c.interpolate(v) for v in _x]"
   ]
  },
  {
   "cell_type": "code",
   "execution_count": 213,
   "metadata": {},
   "outputs": [
    {
     "data": {
      "text/plain": [
       "<matplotlib.collections.PathCollection at 0x1bb207b4748>"
      ]
     },
     "execution_count": 213,
     "metadata": {},
     "output_type": "execute_result"
    },
    {
     "data": {
      "image/png": "[encoded data removed]",
      "text/plain": [
       "<Figure size 432x288 with 1 Axes>"
      ]
     },
     "metadata": {},
     "output_type": "display_data"
    }
   ],
   "source": [
    "plt.plot(_x, _y, '-bo')\n",
    "plt.scatter(x, y, c='r',marker='*')\n",
    "# 怎么是直线呢？"
   ]
  },
  {
   "cell_type": "code",
   "execution_count": 209,
   "metadata": {},
   "outputs": [],
   "source": [
    "class CubicSpline:\n",
    "    def __init__(self,y,x,alpha=0, beta=0):\n",
    "        # alpha 是min(x)处的二阶导数\n",
    "        # beta 是max(x)处的二阶导数\n",
    "        \n",
    "        self.y = y\n",
    "        self.x = x\n",
    "        self.alpha = alpha\n",
    "        self.beta = beta\n",
    "        self.h = np.diff(x)\n",
    "        Ms = self.cal_coef()\n",
    "\n",
    "    def cal_coef(self):\n",
    "        \n",
    "        _h = self.h\n",
    "        _h1 = _h[1:]\n",
    "        _h = _h[:-1]\n",
    "        _u = _h/(_h1 + _h)\n",
    "        _lambda = 1 - _u\n",
    "        _lambda = np.append(np.asarray([0]), _lambda)\n",
    "        _u = np.append(_u, 0)\n",
    "        self._u = _u\n",
    "        self._lambda = _lambda\n",
    "        d = np.zeros_like(self.x)\n",
    "        for i in range(len(self.x)-2):\n",
    "            d[i] = 6*_divi_dif(self.x[i:i+3], self.y[i:i+3])\n",
    "        d[0] = self.alpha\n",
    "        d[1] = self.beta\n",
    "        self._d = d\n",
    "        self.coef = tridiag(_u, 2*np.ones(len(self.x)), _lambda)\n",
    "        Ms = solve_banded((1,1), diagonal_form(self.coef), d)\n",
    "        self._Ms = Ms\n",
    "        return Ms\n",
    "        \n",
    "    def interpolate(self, x):\n",
    "        #Ms 为二阶导数值\n",
    "        _i = bisect_left(self.x, x)\n",
    "        m0, m1 = self._Ms[_i-1: _i+1]\n",
    "        x0, x1 = self.x[_i-1: _i+1]\n",
    "        y0, y1 = self.y[_i-1: _i+1]\n",
    "        h = x1 - x0\n",
    "        h6 = 6 * h\n",
    "        x1x = x1 - x\n",
    "        x0x = x - x0\n",
    "        Ci_x = m0*x1x**3/h6 + m1*x0x**3/h6 + \\\n",
    "        (y0 - m0*h**2)*x1x/h + (y1 - m1*h**2/h)*(x0x/h)\n",
    "        return Ci_x\n",
    "\n",
    "    def _test(self):\n",
    "        x = [-1, 0, 3]\n",
    "        y = np.asarray([.5, 0, 3])\n",
    "        c = CubicSpline(y, x)\n",
    "        _x = [-.5,-.2, 0 ,.3,.6,1,2]\n",
    "        _y = [c.interpolate(v) for v in _x]\n",
    "        assert c.interpolate(3) == 3\n",
    "        # todo other test\n",
    "\n",
    "def divi_dif(x, f):\n",
    "    \"\"\"\n",
    "    均差\n",
    "    \"\"\"\n",
    "    if len(x) == 1:\n",
    "        return f(x)\n",
    "    else:\n",
    "        _dif = (divi_dif(x[1:],f) - divi_dif(x[:-1], f))/(x[-1] - x[0])\n",
    "        return _dif\n",
    "\n",
    "def _divi_dif(x, y):\n",
    "    if len(x) == 1:\n",
    "        return y\n",
    "    else:\n",
    "        _dif = (_divi_dif(x[1:], y[1:]) - _divi_dif(x[:-1], y[:-1]))/(x[-1] - x[0])\n",
    "        return _dif\n",
    "\n",
    "def tridiag(a, b, c, k1=-1, k2=0, k3=1):\n",
    "    _a = np.diag(a, k1)\n",
    "    _b = np.diag(b, k2)\n",
    "    _c = np.diag(c, k3)\n",
    "    _d = _a + _b + _c\n",
    "    return _d\n",
    "\n",
    "def test_tridiag(verbose=True):\n",
    "    a = np.asarray([[2,3,0],[1,1,1], [0,2,1]])\n",
    "    b = tridiag([1,2], [2,1,1], [3,1])\n",
    "    if verbose:\n",
    "        print(a)\n",
    "        print('tridiag:')\n",
    "        print(b)\n",
    "    assert np.allclose(a,b)\n",
    "\n",
    "def test_divi_dif():\n",
    "    x = np.asarray([1,2,4])\n",
    "    x.sort()\n",
    "    y = x**3\n",
    "    return _divi_dif(x, y)\n",
    "\n",
    "test_divi_dif()\n",
    "test_tridiag(verbose=False)"
   ]
  },
  {
   "cell_type": "code",
   "execution_count": 121,
   "metadata": {},
   "outputs": [],
   "source": [
    "def diagonal_form(a, upper = 1, lower= 1):\n",
    "    \"\"\"\n",
    "    a is a numpy square matrix\n",
    "    this function converts a square matrix to diagonal ordered form\n",
    "    returned matrix in ab shape which can be used directly for scipy.linalg.solve_banded\n",
    "    \"\"\"\n",
    "    n = a.shape[1]\n",
    "    assert(np.all(a.shape ==(n,n)))\n",
    "    \n",
    "    ab = np.zeros((2*n-1, n))\n",
    "    \n",
    "    for i in range(n):\n",
    "        ab[i,(n-1)-i:] = np.diagonal(a,(n-1)-i)\n",
    "        \n",
    "    for i in range(n-1): \n",
    "        ab[(2*n-2)-i,:i+1] = np.diagonal(a,i-(n-1))\n",
    "\n",
    "    mid_row_inx = int(ab.shape[0]/2)\n",
    "    upper_rows = [mid_row_inx - i for i in range(1, upper+1)]\n",
    "    upper_rows.reverse()\n",
    "    upper_rows.append(mid_row_inx)\n",
    "    lower_rows = [mid_row_inx + i for i in range(1, lower+1)]\n",
    "    keep_rows = upper_rows+lower_rows\n",
    "    ab = ab[keep_rows,:]\n",
    "\n",
    "\n",
    "    return ab"
   ]
  },
  {
   "cell_type": "markdown",
   "metadata": {},
   "source": [
    "## cubic spline\n",
    "- 主要是推导，实现比较容易  \n",
    "divided difference\n",
    "\n",
    "\n",
    "- 积分（用到了二阶导数相关的限制条件),求常数。Lagrange interpolation  \n",
    "    得出C(x,M)的表达式\n",
    "- 斜率相等 + 边界条件  \n",
    "    得出M\n",
    "- 将M带入到C(x, M)得出C(x), partional"
   ]
  },
  {
   "cell_type": "markdown",
   "metadata": {
    "collapsed": true
   },
   "source": [
    "---\n",
    "## Lagrange interporlation/拉格朗日插值\n",
    "\n",
    "$$L_j(x) := \\sum\\limits_{j=0}^{k}y_jl_j(x)$$\n",
    "\n",
    "- 拉格朗日基本多项式\n",
    "lagrange basis polynomials\n",
    "\n",
    "$$l_j(x) := \\prod\\limits_{\\substack{i \\\\ i \\neq j}}^k \\frac{x - x_j}{x_j - x_i}$$\n",
    "\n",
    "不足：\n",
    "- 是k-1次\n",
    "- 不能增量计算。增加一个点需要重复计算所有$l_j(x)$， 可以cache?"
   ]
  },
  {
   "cell_type": "markdown",
   "metadata": {},
   "source": [
    "$l_j(x)$ 在x = $x_j$时取1，在$x\\neq x_j$时取0"
   ]
  }
 ],
 "metadata": {
  "kernelspec": {
   "display_name": "Python 3",
   "language": "python",
   "name": "python3"
  },
  "language_info": {
   "codemirror_mode": {
    "name": "ipython",
    "version": 3
   },
   "file_extension": ".py",
   "mimetype": "text/x-python",
   "name": "python",
   "nbconvert_exporter": "python",
   "pygments_lexer": "ipython3",
   "version": "3.6.6"
  }
 },
 "nbformat": 4,
 "nbformat_minor": 2
}
